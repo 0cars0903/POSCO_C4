{
 "cells": [
  {
   "cell_type": "code",
   "execution_count": 136,
   "id": "d2d98c41",
   "metadata": {},
   "outputs": [],
   "source": [
    "import pandas as pd\n",
    "import numpy as np\n",
    "import seaborn as sns\n",
    "\n",
    "import matplotlib\n",
    "import matplotlib.pyplot as plt\n",
    "\n",
    "from scipy import stats\n",
    "from statsmodels.stats.proportion import proportions_ztest\n",
    "\n",
    "import seaborn as sns\n",
    "\n",
    "import warnings\n",
    "warnings.filterwarnings('ignore')"
   ]
  },
  {
   "cell_type": "markdown",
   "id": "446fdeaa",
   "metadata": {},
   "source": [
    "# 실습과제 1 : 분석 계획 실습"
   ]
  },
  {
   "cell_type": "markdown",
   "id": "12b7f01b",
   "metadata": {},
   "source": [
    "## 1. 분석 구분별 간단한 분석 시나리오 및 가설 정의\n",
    "+ 혈당 산소 요구량(OXY)는 남자가 여자보다 높을 것이다.\n",
    "+ 혈당 산소 요구량(OXY)는 나이가 적을 수록 높을 것이다.\n",
    "\n",
    "## 2. 시나리오 및 가설 별 분석 기법 매핑\n",
    "\n",
    "|목적|분석방법|주요내용|\n",
    "|:------|:---|:---|\n",
    "|전체 데이터의 분포 특성 및 변수 간의 관련성을 확인|막대 그래프 분석|연속형 변수를 대상으로 데이터의 전체 분포를 확인|\n",
    "|       |Box Plot 분석|범주형 변수의 범주별로 데이터의 분포를 확인하여 목표변수의 영향도를 확인|\n",
    "|       |산점도 분석|전체 변수 간의 영향도를 사전에 확인|\n",
    "|영향 인자 확인|선형회귀분석|전통적인 통계기법을 바탕으로 영향을 주는 설명변수를 확인|\n",
    "|             |Box Plot 분석|이상치를 확인하여 처리|\n",
    "|전체적인 데이터의 층별화 특성을 확인|군집분석|전체의 데이터를 층별화하여 특성을 확인|\n",
    "|데이터 모델링을 통한 시사점 도출|SVM|이산형 목표변수를 잘 분류할 수 있는 모델 개발|\n",
    "\n",
    "## 3. 분석 계획의 타당성 검토\n",
    "+ 성별 간의 OXY의 상관관계를 어떠한 plot을 사용하여 분석한 결과 남자의 OXY가 높았다.\n",
    "+ 이를 ML 알고리즘을 통해 Test data를 이용하여 분석한 결과, 정확도가 높게 측정되었다. "
   ]
  },
  {
   "cell_type": "markdown",
   "id": "ccc256fb",
   "metadata": {},
   "source": [
    "# 실습과제 2: Titanic 생존 분석"
   ]
  },
  {
   "cell_type": "code",
   "execution_count": 12,
   "id": "07c20545",
   "metadata": {},
   "outputs": [
    {
     "name": "stdout",
     "output_type": "stream",
     "text": [
      "/usr/share/fonts: caching, new cache contents: 0 fonts, 6 dirs\n",
      "/usr/share/fonts/X11: caching, new cache contents: 0 fonts, 4 dirs\n",
      "/usr/share/fonts/X11/Type1: caching, new cache contents: 8 fonts, 0 dirs\n",
      "/usr/share/fonts/X11/encodings: caching, new cache contents: 0 fonts, 1 dirs\n",
      "/usr/share/fonts/X11/encodings/large: caching, new cache contents: 0 fonts, 0 dirs\n",
      "/usr/share/fonts/X11/misc: caching, new cache contents: 89 fonts, 0 dirs\n",
      "/usr/share/fonts/X11/util: caching, new cache contents: 0 fonts, 0 dirs\n",
      "/usr/share/fonts/cMap: caching, new cache contents: 0 fonts, 0 dirs\n",
      "/usr/share/fonts/cmap: caching, new cache contents: 0 fonts, 5 dirs\n",
      "/usr/share/fonts/cmap/adobe-cns1: caching, new cache contents: 0 fonts, 0 dirs\n",
      "/usr/share/fonts/cmap/adobe-gb1: caching, new cache contents: 0 fonts, 0 dirs\n",
      "/usr/share/fonts/cmap/adobe-japan1: caching, new cache contents: 0 fonts, 0 dirs\n",
      "/usr/share/fonts/cmap/adobe-japan2: caching, new cache contents: 0 fonts, 0 dirs\n",
      "/usr/share/fonts/cmap/adobe-korea1: caching, new cache contents: 0 fonts, 0 dirs\n",
      "/usr/share/fonts/opentype: caching, new cache contents: 0 fonts, 2 dirs\n",
      "/usr/share/fonts/opentype/malayalam: caching, new cache contents: 3 fonts, 0 dirs\n",
      "/usr/share/fonts/opentype/noto: caching, new cache contents: 73 fonts, 0 dirs\n",
      "/usr/share/fonts/truetype: caching, new cache contents: 0 fonts, 46 dirs\n",
      "/usr/share/fonts/truetype/Gargi: caching, new cache contents: 1 fonts, 0 dirs\n",
      "/usr/share/fonts/truetype/Gubbi: caching, new cache contents: 1 fonts, 0 dirs\n",
      "/usr/share/fonts/truetype/Nakula: caching, new cache contents: 1 fonts, 0 dirs\n",
      "/usr/share/fonts/truetype/Navilu: caching, new cache contents: 1 fonts, 0 dirs\n",
      "/usr/share/fonts/truetype/Sahadeva: caching, new cache contents: 1 fonts, 0 dirs\n",
      "/usr/share/fonts/truetype/Sarai: caching, new cache contents: 1 fonts, 0 dirs\n",
      "/usr/share/fonts/truetype/abyssinica: caching, new cache contents: 1 fonts, 0 dirs\n",
      "/usr/share/fonts/truetype/dejavu: caching, new cache contents: 6 fonts, 0 dirs\n",
      "/usr/share/fonts/truetype/droid: caching, new cache contents: 1 fonts, 0 dirs\n",
      "/usr/share/fonts/truetype/fonts-beng-extra: caching, new cache contents: 6 fonts, 0 dirs\n",
      "/usr/share/fonts/truetype/fonts-deva-extra: caching, new cache contents: 3 fonts, 0 dirs\n",
      "/usr/share/fonts/truetype/fonts-gujr-extra: caching, new cache contents: 5 fonts, 0 dirs\n",
      "/usr/share/fonts/truetype/fonts-guru-extra: caching, new cache contents: 1 fonts, 0 dirs\n",
      "/usr/share/fonts/truetype/fonts-kalapi: caching, new cache contents: 1 fonts, 0 dirs\n",
      "/usr/share/fonts/truetype/fonts-orya-extra: caching, new cache contents: 1 fonts, 0 dirs\n",
      "/usr/share/fonts/truetype/fonts-telu-extra: caching, new cache contents: 2 fonts, 0 dirs\n",
      "/usr/share/fonts/truetype/freefont: caching, new cache contents: 12 fonts, 0 dirs\n",
      "/usr/share/fonts/truetype/kacst: caching, new cache contents: 15 fonts, 0 dirs\n",
      "/usr/share/fonts/truetype/kacst-one: caching, new cache contents: 2 fonts, 0 dirs\n",
      "/usr/share/fonts/truetype/lao: caching, new cache contents: 1 fonts, 0 dirs\n",
      "/usr/share/fonts/truetype/liberation: caching, new cache contents: 16 fonts, 0 dirs\n",
      "/usr/share/fonts/truetype/liberation2: caching, new cache contents: 12 fonts, 0 dirs\n",
      "/usr/share/fonts/truetype/lohit-assamese: caching, new cache contents: 1 fonts, 0 dirs\n",
      "/usr/share/fonts/truetype/lohit-bengali: caching, new cache contents: 1 fonts, 0 dirs\n",
      "/usr/share/fonts/truetype/lohit-devanagari: caching, new cache contents: 1 fonts, 0 dirs\n",
      "/usr/share/fonts/truetype/lohit-gujarati: caching, new cache contents: 1 fonts, 0 dirs\n",
      "/usr/share/fonts/truetype/lohit-kannada: caching, new cache contents: 1 fonts, 0 dirs\n",
      "/usr/share/fonts/truetype/lohit-malayalam: caching, new cache contents: 1 fonts, 0 dirs\n",
      "/usr/share/fonts/truetype/lohit-oriya: caching, new cache contents: 1 fonts, 0 dirs\n",
      "/usr/share/fonts/truetype/lohit-punjabi: caching, new cache contents: 1 fonts, 0 dirs\n",
      "/usr/share/fonts/truetype/lohit-tamil: caching, new cache contents: 1 fonts, 0 dirs\n",
      "/usr/share/fonts/truetype/lohit-tamil-classical: caching, new cache contents: 1 fonts, 0 dirs\n",
      "/usr/share/fonts/truetype/lohit-telugu: caching, new cache contents: 1 fonts, 0 dirs\n",
      "/usr/share/fonts/truetype/malayalam: caching, new cache contents: 11 fonts, 0 dirs\n",
      "/usr/share/fonts/truetype/nanum: caching, new cache contents: 31 fonts, 0 dirs\n",
      "/usr/share/fonts/truetype/noto: caching, new cache contents: 2 fonts, 0 dirs\n",
      "/usr/share/fonts/truetype/openoffice: caching, new cache contents: 1 fonts, 0 dirs\n",
      "/usr/share/fonts/truetype/padauk: caching, new cache contents: 4 fonts, 0 dirs\n",
      "/usr/share/fonts/truetype/pagul: caching, new cache contents: 1 fonts, 0 dirs\n",
      "/usr/share/fonts/truetype/samyak: caching, new cache contents: 1 fonts, 0 dirs\n",
      "/usr/share/fonts/truetype/samyak-fonts: caching, new cache contents: 3 fonts, 0 dirs\n",
      "/usr/share/fonts/truetype/sinhala: caching, new cache contents: 1 fonts, 0 dirs\n",
      "/usr/share/fonts/truetype/tibetan-machine: caching, new cache contents: 1 fonts, 0 dirs\n",
      "/usr/share/fonts/truetype/tlwg: caching, new cache contents: 58 fonts, 0 dirs\n",
      "/usr/share/fonts/truetype/ttf-khmeros-core: caching, new cache contents: 2 fonts, 0 dirs\n",
      "/usr/share/fonts/truetype/ubuntu: caching, new cache contents: 13 fonts, 0 dirs\n",
      "/usr/share/fonts/type1: caching, new cache contents: 0 fonts, 1 dirs\n",
      "/usr/share/fonts/type1/gsfonts: caching, new cache contents: 35 fonts, 0 dirs\n",
      "/home/piai/anaconda3/fonts: skipping, no such directory\n",
      "/home/piai/.local/share/fonts: skipping, no such directory\n",
      "/home/piai/.fonts: skipping, no such directory\n",
      "/usr/share/fonts/X11: skipping, looped directory detected\n",
      "/usr/share/fonts/cMap: skipping, looped directory detected\n",
      "/usr/share/fonts/cmap: skipping, looped directory detected\n",
      "/usr/share/fonts/opentype: skipping, looped directory detected\n",
      "/usr/share/fonts/truetype: skipping, looped directory detected\n",
      "/usr/share/fonts/type1: skipping, looped directory detected\n",
      "/usr/share/fonts/X11/Type1: skipping, looped directory detected\n",
      "/usr/share/fonts/X11/encodings: skipping, looped directory detected\n",
      "/usr/share/fonts/X11/misc: skipping, looped directory detected\n",
      "/usr/share/fonts/X11/util: skipping, looped directory detected\n",
      "/usr/share/fonts/cmap/adobe-cns1: skipping, looped directory detected\n",
      "/usr/share/fonts/cmap/adobe-gb1: skipping, looped directory detected\n",
      "/usr/share/fonts/cmap/adobe-japan1: skipping, looped directory detected\n",
      "/usr/share/fonts/cmap/adobe-japan2: skipping, looped directory detected\n",
      "/usr/share/fonts/cmap/adobe-korea1: skipping, looped directory detected\n",
      "/usr/share/fonts/opentype/malayalam: skipping, looped directory detected\n",
      "/usr/share/fonts/opentype/noto: skipping, looped directory detected\n",
      "/usr/share/fonts/truetype/Gargi: skipping, looped directory detected\n",
      "/usr/share/fonts/truetype/Gubbi: skipping, looped directory detected\n",
      "/usr/share/fonts/truetype/Nakula: skipping, looped directory detected\n",
      "/usr/share/fonts/truetype/Navilu: skipping, looped directory detected\n",
      "/usr/share/fonts/truetype/Sahadeva: skipping, looped directory detected\n",
      "/usr/share/fonts/truetype/Sarai: skipping, looped directory detected\n",
      "/usr/share/fonts/truetype/abyssinica: skipping, looped directory detected\n",
      "/usr/share/fonts/truetype/dejavu: skipping, looped directory detected\n",
      "/usr/share/fonts/truetype/droid: skipping, looped directory detected\n",
      "/usr/share/fonts/truetype/fonts-beng-extra: skipping, looped directory detected\n",
      "/usr/share/fonts/truetype/fonts-deva-extra: skipping, looped directory detected\n",
      "/usr/share/fonts/truetype/fonts-gujr-extra: skipping, looped directory detected\n",
      "/usr/share/fonts/truetype/fonts-guru-extra: skipping, looped directory detected\n",
      "/usr/share/fonts/truetype/fonts-kalapi: skipping, looped directory detected\n",
      "/usr/share/fonts/truetype/fonts-orya-extra: skipping, looped directory detected\n",
      "/usr/share/fonts/truetype/fonts-telu-extra: skipping, looped directory detected\n",
      "/usr/share/fonts/truetype/freefont: skipping, looped directory detected\n",
      "/usr/share/fonts/truetype/kacst: skipping, looped directory detected\n",
      "/usr/share/fonts/truetype/kacst-one: skipping, looped directory detected\n",
      "/usr/share/fonts/truetype/lao: skipping, looped directory detected\n",
      "/usr/share/fonts/truetype/liberation: skipping, looped directory detected\n",
      "/usr/share/fonts/truetype/liberation2: skipping, looped directory detected\n",
      "/usr/share/fonts/truetype/lohit-assamese: skipping, looped directory detected\n",
      "/usr/share/fonts/truetype/lohit-bengali: skipping, looped directory detected\n",
      "/usr/share/fonts/truetype/lohit-devanagari: skipping, looped directory detected\n",
      "/usr/share/fonts/truetype/lohit-gujarati: skipping, looped directory detected\n",
      "/usr/share/fonts/truetype/lohit-kannada: skipping, looped directory detected\n",
      "/usr/share/fonts/truetype/lohit-malayalam: skipping, looped directory detected\n",
      "/usr/share/fonts/truetype/lohit-oriya: skipping, looped directory detected\n",
      "/usr/share/fonts/truetype/lohit-punjabi: skipping, looped directory detected\n",
      "/usr/share/fonts/truetype/lohit-tamil: skipping, looped directory detected\n",
      "/usr/share/fonts/truetype/lohit-tamil-classical: skipping, looped directory detected\n",
      "/usr/share/fonts/truetype/lohit-telugu: skipping, looped directory detected\n",
      "/usr/share/fonts/truetype/malayalam: skipping, looped directory detected\n",
      "/usr/share/fonts/truetype/nanum: skipping, looped directory detected\n",
      "/usr/share/fonts/truetype/noto: skipping, looped directory detected\n",
      "/usr/share/fonts/truetype/openoffice: skipping, looped directory detected\n",
      "/usr/share/fonts/truetype/padauk: skipping, looped directory detected\n",
      "/usr/share/fonts/truetype/pagul: skipping, looped directory detected\n",
      "/usr/share/fonts/truetype/samyak: skipping, looped directory detected\n",
      "/usr/share/fonts/truetype/samyak-fonts: skipping, looped directory detected\n",
      "/usr/share/fonts/truetype/sinhala: skipping, looped directory detected\n",
      "/usr/share/fonts/truetype/tibetan-machine: skipping, looped directory detected\n",
      "/usr/share/fonts/truetype/tlwg: skipping, looped directory detected\n",
      "/usr/share/fonts/truetype/ttf-khmeros-core: skipping, looped directory detected\n",
      "/usr/share/fonts/truetype/ubuntu: skipping, looped directory detected\n",
      "/usr/share/fonts/type1/gsfonts: skipping, looped directory detected\n",
      "/usr/share/fonts/X11/encodings/large: skipping, looped directory detected\n",
      "/home/piai/anaconda3/var/cache/fontconfig: cleaning cache directory\n",
      "/home/piai/.cache/fontconfig: cleaning cache directory\n",
      "/home/piai/.fontconfig: not cleaning non-existent cache directory\n"
     ]
    },
    {
     "name": "stdout",
     "output_type": "stream",
     "text": [
      "fc-cache: succeeded\r\n"
     ]
    },
    {
     "data": {
      "text/plain": [
       "['NanumGothic',\n",
       " 'NanumMyeongjo Eco',\n",
       " 'NanumSquareRound',\n",
       " 'Nanum Pen Script',\n",
       " 'NanumGothic',\n",
       " 'NanumBarunGothic',\n",
       " 'NanumMyeongjo',\n",
       " 'NanumSquareRound',\n",
       " 'NanumGothic Eco',\n",
       " 'NanumBarunGothic',\n",
       " 'NanumSquare',\n",
       " 'Nanum Brush Script',\n",
       " 'NanumGothic',\n",
       " 'NanumBarunpen',\n",
       " 'NanumGothicCoding',\n",
       " 'NanumMyeongjo Eco',\n",
       " 'NanumSquareRound',\n",
       " 'NanumGothic Eco',\n",
       " 'NanumGothicCoding',\n",
       " 'NanumMyeongjo Eco',\n",
       " 'NanumSquare',\n",
       " 'NanumSquareRound',\n",
       " 'NanumBarunGothic',\n",
       " 'NanumGothic Eco',\n",
       " 'NanumSquare',\n",
       " 'NanumGothic',\n",
       " 'NanumSquare',\n",
       " 'NanumBarunpen',\n",
       " 'NanumBarunGothic',\n",
       " 'NanumMyeongjo',\n",
       " 'NanumMyeongjo',\n",
       " 'NanumMyeongjo Eco',\n",
       " 'NanumSquareRound',\n",
       " 'NanumGothic',\n",
       " 'Nanum Pen Script',\n",
       " 'NanumBarunGothic',\n",
       " 'NanumBarunpen',\n",
       " 'NanumMyeongjo Eco',\n",
       " 'NanumBarunGothic',\n",
       " 'NanumBarunpen',\n",
       " 'NanumGothic',\n",
       " 'NanumSquare',\n",
       " 'NanumSquareRound',\n",
       " 'NanumSquareRound',\n",
       " 'NanumSquare',\n",
       " 'NanumMyeongjo',\n",
       " 'NanumMyeongjo Eco',\n",
       " 'NanumSquare',\n",
       " 'NanumSquare',\n",
       " 'NanumBarunGothic',\n",
       " 'NanumMyeongjo',\n",
       " 'Nanum Brush Script',\n",
       " 'NanumGothic Eco',\n",
       " 'NanumGothic',\n",
       " 'NanumGothic Eco',\n",
       " 'NanumGothic',\n",
       " 'NanumGothic Eco',\n",
       " 'NanumBarunGothic',\n",
       " 'NanumSquareRound',\n",
       " 'NanumGothicCoding',\n",
       " 'NanumMyeongjo',\n",
       " 'NanumGothicCoding']"
      ]
     },
     "execution_count": 12,
     "metadata": {},
     "output_type": "execute_result"
    }
   ],
   "source": [
    "# 한글 폰트 설정\n",
    "# !ls -l /usr/share/fonts/truetype/\n",
    "!rm -rf ~/.cache/matplotlib/*\n",
    "!fc-cache -fv\n",
    "\n",
    "import matplotlib    \n",
    "import matplotlib.font_manager\n",
    "\n",
    "[f.name for f in matplotlib.font_manager.fontManager.ttflist if 'Nanum' in f.name]"
   ]
  },
  {
   "cell_type": "code",
   "execution_count": 58,
   "id": "6a33f4e6",
   "metadata": {},
   "outputs": [],
   "source": [
    "import matplotlib as mpl\n",
    "import matplotlib.pyplot as plt\n",
    "\n",
    "# 유니코드 깨짐현상 해결\n",
    "mpl.rcParams['axes.unicode_minus'] = False\n",
    "\n",
    "# 나눔고딕 폰트 전체 적용\n",
    "plt.rcParams[\"font.family\"] = 'NanumMyeongjo'"
   ]
  },
  {
   "cell_type": "code",
   "execution_count": 80,
   "id": "3acae8ef",
   "metadata": {},
   "outputs": [],
   "source": [
    "df_titanic = pd.read_csv('/home/piai/Bigdata 실습과제/2. Big Data 분석/titanic.csv', encoding = 'euc-kr')"
   ]
  },
  {
   "cell_type": "markdown",
   "id": "2cd4ee1c",
   "metadata": {},
   "source": [
    "## 데이터 속성 및 기술 통계량 확인"
   ]
  },
  {
   "cell_type": "markdown",
   "id": "1cf6158c",
   "metadata": {},
   "source": [
    "### 데이터 확인"
   ]
  },
  {
   "cell_type": "code",
   "execution_count": 82,
   "id": "3cf956e9",
   "metadata": {},
   "outputs": [
    {
     "data": {
      "text/html": [
       "<div>\n",
       "<style scoped>\n",
       "    .dataframe tbody tr th:only-of-type {\n",
       "        vertical-align: middle;\n",
       "    }\n",
       "\n",
       "    .dataframe tbody tr th {\n",
       "        vertical-align: top;\n",
       "    }\n",
       "\n",
       "    .dataframe thead th {\n",
       "        text-align: right;\n",
       "    }\n",
       "</style>\n",
       "<table border=\"1\" class=\"dataframe\">\n",
       "  <thead>\n",
       "    <tr style=\"text-align: right;\">\n",
       "      <th></th>\n",
       "      <th>PassengerId</th>\n",
       "      <th>Survived</th>\n",
       "      <th>Pclass</th>\n",
       "      <th>Name</th>\n",
       "      <th>Sex</th>\n",
       "      <th>Age</th>\n",
       "      <th>SibSp</th>\n",
       "      <th>Parch</th>\n",
       "      <th>Ticket</th>\n",
       "      <th>Fare</th>\n",
       "      <th>Cabin</th>\n",
       "      <th>Embarked</th>\n",
       "    </tr>\n",
       "  </thead>\n",
       "  <tbody>\n",
       "    <tr>\n",
       "      <th>0</th>\n",
       "      <td>1</td>\n",
       "      <td>0</td>\n",
       "      <td>3</td>\n",
       "      <td>Braund, Mr. Owen Harris</td>\n",
       "      <td>male</td>\n",
       "      <td>22.0</td>\n",
       "      <td>1</td>\n",
       "      <td>0</td>\n",
       "      <td>A/5 21171</td>\n",
       "      <td>7.2500</td>\n",
       "      <td>NaN</td>\n",
       "      <td>S</td>\n",
       "    </tr>\n",
       "    <tr>\n",
       "      <th>1</th>\n",
       "      <td>2</td>\n",
       "      <td>1</td>\n",
       "      <td>1</td>\n",
       "      <td>Cumings, Mrs. John Bradley (Florence Briggs Th...</td>\n",
       "      <td>female</td>\n",
       "      <td>38.0</td>\n",
       "      <td>1</td>\n",
       "      <td>0</td>\n",
       "      <td>PC 17599</td>\n",
       "      <td>71.2833</td>\n",
       "      <td>C85</td>\n",
       "      <td>C</td>\n",
       "    </tr>\n",
       "    <tr>\n",
       "      <th>2</th>\n",
       "      <td>3</td>\n",
       "      <td>1</td>\n",
       "      <td>3</td>\n",
       "      <td>Heikkinen, Miss. Laina</td>\n",
       "      <td>female</td>\n",
       "      <td>26.0</td>\n",
       "      <td>0</td>\n",
       "      <td>0</td>\n",
       "      <td>STON/O2. 3101282</td>\n",
       "      <td>7.9250</td>\n",
       "      <td>NaN</td>\n",
       "      <td>S</td>\n",
       "    </tr>\n",
       "    <tr>\n",
       "      <th>3</th>\n",
       "      <td>4</td>\n",
       "      <td>1</td>\n",
       "      <td>1</td>\n",
       "      <td>Futrelle, Mrs. Jacques Heath (Lily May Peel)</td>\n",
       "      <td>female</td>\n",
       "      <td>35.0</td>\n",
       "      <td>1</td>\n",
       "      <td>0</td>\n",
       "      <td>113803</td>\n",
       "      <td>53.1000</td>\n",
       "      <td>C123</td>\n",
       "      <td>S</td>\n",
       "    </tr>\n",
       "    <tr>\n",
       "      <th>4</th>\n",
       "      <td>5</td>\n",
       "      <td>0</td>\n",
       "      <td>3</td>\n",
       "      <td>Allen, Mr. William Henry</td>\n",
       "      <td>male</td>\n",
       "      <td>35.0</td>\n",
       "      <td>0</td>\n",
       "      <td>0</td>\n",
       "      <td>373450</td>\n",
       "      <td>8.0500</td>\n",
       "      <td>NaN</td>\n",
       "      <td>S</td>\n",
       "    </tr>\n",
       "  </tbody>\n",
       "</table>\n",
       "</div>"
      ],
      "text/plain": [
       "   PassengerId  Survived  Pclass  \\\n",
       "0            1         0       3   \n",
       "1            2         1       1   \n",
       "2            3         1       3   \n",
       "3            4         1       1   \n",
       "4            5         0       3   \n",
       "\n",
       "                                                Name     Sex   Age  SibSp  \\\n",
       "0                            Braund, Mr. Owen Harris    male  22.0      1   \n",
       "1  Cumings, Mrs. John Bradley (Florence Briggs Th...  female  38.0      1   \n",
       "2                             Heikkinen, Miss. Laina  female  26.0      0   \n",
       "3       Futrelle, Mrs. Jacques Heath (Lily May Peel)  female  35.0      1   \n",
       "4                           Allen, Mr. William Henry    male  35.0      0   \n",
       "\n",
       "   Parch            Ticket     Fare Cabin Embarked  \n",
       "0      0         A/5 21171   7.2500   NaN        S  \n",
       "1      0          PC 17599  71.2833   C85        C  \n",
       "2      0  STON/O2. 3101282   7.9250   NaN        S  \n",
       "3      0            113803  53.1000  C123        S  \n",
       "4      0            373450   8.0500   NaN        S  "
      ]
     },
     "execution_count": 82,
     "metadata": {},
     "output_type": "execute_result"
    }
   ],
   "source": [
    "df_titanic.head()\n",
    "# Pclass : 승객 등급 1 2 3 등석\n",
    "# Name Sex Age\n",
    "# SlibSp : 함께 탑승한 형제, 배우자의 수\n",
    "# Parch : 함께 탑승한 자녀, 부모의 수\n",
    "# Ticket : 티켓 아이디\n",
    "# Fare :요금(파운드)\n",
    "# Cabin : 객실 번호\n",
    "# Embarked : 승객이 탑승한 곳\n",
    "## C(Cherbourg) \n",
    "## Q(Queenstown) \n",
    "## S(Southampton) "
   ]
  },
  {
   "cell_type": "code",
   "execution_count": 83,
   "id": "1678f69e",
   "metadata": {},
   "outputs": [
    {
     "data": {
      "text/html": [
       "<div>\n",
       "<style scoped>\n",
       "    .dataframe tbody tr th:only-of-type {\n",
       "        vertical-align: middle;\n",
       "    }\n",
       "\n",
       "    .dataframe tbody tr th {\n",
       "        vertical-align: top;\n",
       "    }\n",
       "\n",
       "    .dataframe thead th {\n",
       "        text-align: right;\n",
       "    }\n",
       "</style>\n",
       "<table border=\"1\" class=\"dataframe\">\n",
       "  <thead>\n",
       "    <tr style=\"text-align: right;\">\n",
       "      <th></th>\n",
       "      <th>PassengerId</th>\n",
       "      <th>Survived</th>\n",
       "      <th>Pclass</th>\n",
       "      <th>Age</th>\n",
       "      <th>SibSp</th>\n",
       "      <th>Parch</th>\n",
       "      <th>Fare</th>\n",
       "    </tr>\n",
       "  </thead>\n",
       "  <tbody>\n",
       "    <tr>\n",
       "      <th>count</th>\n",
       "      <td>891.000000</td>\n",
       "      <td>891.000000</td>\n",
       "      <td>891.000000</td>\n",
       "      <td>891.000000</td>\n",
       "      <td>891.000000</td>\n",
       "      <td>891.000000</td>\n",
       "      <td>891.000000</td>\n",
       "    </tr>\n",
       "    <tr>\n",
       "      <th>mean</th>\n",
       "      <td>446.000000</td>\n",
       "      <td>0.383838</td>\n",
       "      <td>2.308642</td>\n",
       "      <td>29.758889</td>\n",
       "      <td>0.523008</td>\n",
       "      <td>0.381594</td>\n",
       "      <td>32.204208</td>\n",
       "    </tr>\n",
       "    <tr>\n",
       "      <th>std</th>\n",
       "      <td>257.353842</td>\n",
       "      <td>0.486592</td>\n",
       "      <td>0.836071</td>\n",
       "      <td>13.002570</td>\n",
       "      <td>1.102743</td>\n",
       "      <td>0.806057</td>\n",
       "      <td>49.693429</td>\n",
       "    </tr>\n",
       "    <tr>\n",
       "      <th>min</th>\n",
       "      <td>1.000000</td>\n",
       "      <td>0.000000</td>\n",
       "      <td>1.000000</td>\n",
       "      <td>0.420000</td>\n",
       "      <td>0.000000</td>\n",
       "      <td>0.000000</td>\n",
       "      <td>0.000000</td>\n",
       "    </tr>\n",
       "    <tr>\n",
       "      <th>25%</th>\n",
       "      <td>223.500000</td>\n",
       "      <td>0.000000</td>\n",
       "      <td>2.000000</td>\n",
       "      <td>22.000000</td>\n",
       "      <td>0.000000</td>\n",
       "      <td>0.000000</td>\n",
       "      <td>7.910400</td>\n",
       "    </tr>\n",
       "    <tr>\n",
       "      <th>50%</th>\n",
       "      <td>446.000000</td>\n",
       "      <td>0.000000</td>\n",
       "      <td>3.000000</td>\n",
       "      <td>30.000000</td>\n",
       "      <td>0.000000</td>\n",
       "      <td>0.000000</td>\n",
       "      <td>14.454200</td>\n",
       "    </tr>\n",
       "    <tr>\n",
       "      <th>75%</th>\n",
       "      <td>668.500000</td>\n",
       "      <td>1.000000</td>\n",
       "      <td>3.000000</td>\n",
       "      <td>35.000000</td>\n",
       "      <td>1.000000</td>\n",
       "      <td>0.000000</td>\n",
       "      <td>31.000000</td>\n",
       "    </tr>\n",
       "    <tr>\n",
       "      <th>max</th>\n",
       "      <td>891.000000</td>\n",
       "      <td>1.000000</td>\n",
       "      <td>3.000000</td>\n",
       "      <td>80.000000</td>\n",
       "      <td>8.000000</td>\n",
       "      <td>6.000000</td>\n",
       "      <td>512.329200</td>\n",
       "    </tr>\n",
       "  </tbody>\n",
       "</table>\n",
       "</div>"
      ],
      "text/plain": [
       "       PassengerId    Survived      Pclass         Age       SibSp  \\\n",
       "count   891.000000  891.000000  891.000000  891.000000  891.000000   \n",
       "mean    446.000000    0.383838    2.308642   29.758889    0.523008   \n",
       "std     257.353842    0.486592    0.836071   13.002570    1.102743   \n",
       "min       1.000000    0.000000    1.000000    0.420000    0.000000   \n",
       "25%     223.500000    0.000000    2.000000   22.000000    0.000000   \n",
       "50%     446.000000    0.000000    3.000000   30.000000    0.000000   \n",
       "75%     668.500000    1.000000    3.000000   35.000000    1.000000   \n",
       "max     891.000000    1.000000    3.000000   80.000000    8.000000   \n",
       "\n",
       "            Parch        Fare  \n",
       "count  891.000000  891.000000  \n",
       "mean     0.381594   32.204208  \n",
       "std      0.806057   49.693429  \n",
       "min      0.000000    0.000000  \n",
       "25%      0.000000    7.910400  \n",
       "50%      0.000000   14.454200  \n",
       "75%      0.000000   31.000000  \n",
       "max      6.000000  512.329200  "
      ]
     },
     "execution_count": 83,
     "metadata": {},
     "output_type": "execute_result"
    }
   ],
   "source": [
    "df_titanic.describe()"
   ]
  },
  {
   "cell_type": "markdown",
   "id": "492def27",
   "metadata": {},
   "source": [
    "### 데이터 전처리 : 필요없는 필드 삭제"
   ]
  },
  {
   "cell_type": "code",
   "execution_count": 84,
   "id": "d7fa16c7",
   "metadata": {},
   "outputs": [],
   "source": [
    "df_titanic.drop([\"PassengerId\",\"Name\",\"Embarked\",\"Ticket\",\"Cabin\"], axis = 1, inplace = True)"
   ]
  },
  {
   "cell_type": "code",
   "execution_count": 85,
   "id": "4dd3d16f",
   "metadata": {},
   "outputs": [
    {
     "data": {
      "text/html": [
       "<div>\n",
       "<style scoped>\n",
       "    .dataframe tbody tr th:only-of-type {\n",
       "        vertical-align: middle;\n",
       "    }\n",
       "\n",
       "    .dataframe tbody tr th {\n",
       "        vertical-align: top;\n",
       "    }\n",
       "\n",
       "    .dataframe thead th {\n",
       "        text-align: right;\n",
       "    }\n",
       "</style>\n",
       "<table border=\"1\" class=\"dataframe\">\n",
       "  <thead>\n",
       "    <tr style=\"text-align: right;\">\n",
       "      <th></th>\n",
       "      <th>Survived</th>\n",
       "      <th>Pclass</th>\n",
       "      <th>Sex</th>\n",
       "      <th>Age</th>\n",
       "      <th>SibSp</th>\n",
       "      <th>Parch</th>\n",
       "      <th>Fare</th>\n",
       "    </tr>\n",
       "  </thead>\n",
       "  <tbody>\n",
       "    <tr>\n",
       "      <th>0</th>\n",
       "      <td>0</td>\n",
       "      <td>3</td>\n",
       "      <td>male</td>\n",
       "      <td>22.0</td>\n",
       "      <td>1</td>\n",
       "      <td>0</td>\n",
       "      <td>7.2500</td>\n",
       "    </tr>\n",
       "    <tr>\n",
       "      <th>1</th>\n",
       "      <td>1</td>\n",
       "      <td>1</td>\n",
       "      <td>female</td>\n",
       "      <td>38.0</td>\n",
       "      <td>1</td>\n",
       "      <td>0</td>\n",
       "      <td>71.2833</td>\n",
       "    </tr>\n",
       "    <tr>\n",
       "      <th>2</th>\n",
       "      <td>1</td>\n",
       "      <td>3</td>\n",
       "      <td>female</td>\n",
       "      <td>26.0</td>\n",
       "      <td>0</td>\n",
       "      <td>0</td>\n",
       "      <td>7.9250</td>\n",
       "    </tr>\n",
       "    <tr>\n",
       "      <th>3</th>\n",
       "      <td>1</td>\n",
       "      <td>1</td>\n",
       "      <td>female</td>\n",
       "      <td>35.0</td>\n",
       "      <td>1</td>\n",
       "      <td>0</td>\n",
       "      <td>53.1000</td>\n",
       "    </tr>\n",
       "    <tr>\n",
       "      <th>4</th>\n",
       "      <td>0</td>\n",
       "      <td>3</td>\n",
       "      <td>male</td>\n",
       "      <td>35.0</td>\n",
       "      <td>0</td>\n",
       "      <td>0</td>\n",
       "      <td>8.0500</td>\n",
       "    </tr>\n",
       "    <tr>\n",
       "      <th>...</th>\n",
       "      <td>...</td>\n",
       "      <td>...</td>\n",
       "      <td>...</td>\n",
       "      <td>...</td>\n",
       "      <td>...</td>\n",
       "      <td>...</td>\n",
       "      <td>...</td>\n",
       "    </tr>\n",
       "    <tr>\n",
       "      <th>886</th>\n",
       "      <td>0</td>\n",
       "      <td>2</td>\n",
       "      <td>male</td>\n",
       "      <td>27.0</td>\n",
       "      <td>0</td>\n",
       "      <td>0</td>\n",
       "      <td>13.0000</td>\n",
       "    </tr>\n",
       "    <tr>\n",
       "      <th>887</th>\n",
       "      <td>1</td>\n",
       "      <td>1</td>\n",
       "      <td>female</td>\n",
       "      <td>19.0</td>\n",
       "      <td>0</td>\n",
       "      <td>0</td>\n",
       "      <td>30.0000</td>\n",
       "    </tr>\n",
       "    <tr>\n",
       "      <th>888</th>\n",
       "      <td>0</td>\n",
       "      <td>3</td>\n",
       "      <td>female</td>\n",
       "      <td>30.0</td>\n",
       "      <td>1</td>\n",
       "      <td>2</td>\n",
       "      <td>23.4500</td>\n",
       "    </tr>\n",
       "    <tr>\n",
       "      <th>889</th>\n",
       "      <td>1</td>\n",
       "      <td>1</td>\n",
       "      <td>male</td>\n",
       "      <td>26.0</td>\n",
       "      <td>0</td>\n",
       "      <td>0</td>\n",
       "      <td>30.0000</td>\n",
       "    </tr>\n",
       "    <tr>\n",
       "      <th>890</th>\n",
       "      <td>0</td>\n",
       "      <td>3</td>\n",
       "      <td>male</td>\n",
       "      <td>32.0</td>\n",
       "      <td>0</td>\n",
       "      <td>0</td>\n",
       "      <td>7.7500</td>\n",
       "    </tr>\n",
       "  </tbody>\n",
       "</table>\n",
       "<p>891 rows × 7 columns</p>\n",
       "</div>"
      ],
      "text/plain": [
       "     Survived  Pclass     Sex   Age  SibSp  Parch     Fare\n",
       "0           0       3    male  22.0      1      0   7.2500\n",
       "1           1       1  female  38.0      1      0  71.2833\n",
       "2           1       3  female  26.0      0      0   7.9250\n",
       "3           1       1  female  35.0      1      0  53.1000\n",
       "4           0       3    male  35.0      0      0   8.0500\n",
       "..        ...     ...     ...   ...    ...    ...      ...\n",
       "886         0       2    male  27.0      0      0  13.0000\n",
       "887         1       1  female  19.0      0      0  30.0000\n",
       "888         0       3  female  30.0      1      2  23.4500\n",
       "889         1       1    male  26.0      0      0  30.0000\n",
       "890         0       3    male  32.0      0      0   7.7500\n",
       "\n",
       "[891 rows x 7 columns]"
      ]
     },
     "execution_count": 85,
     "metadata": {},
     "output_type": "execute_result"
    }
   ],
   "source": [
    "df_titanic"
   ]
  },
  {
   "cell_type": "markdown",
   "id": "56322947",
   "metadata": {},
   "source": [
    "## 변수의 분포 확인"
   ]
  },
  {
   "cell_type": "markdown",
   "id": "b899fe81",
   "metadata": {},
   "source": [
    "### 목표 변수의 분포"
   ]
  },
  {
   "cell_type": "code",
   "execution_count": 111,
   "id": "aa31d746",
   "metadata": {},
   "outputs": [
    {
     "data": {
      "text/plain": [
       "0    549\n",
       "1    342\n",
       "Name: Survived, dtype: int64"
      ]
     },
     "execution_count": 111,
     "metadata": {},
     "output_type": "execute_result"
    }
   ],
   "source": [
    "df_survived = df_titanic[\"Survived\"].value_counts()\n",
    "df_titanic[\"Survived\"].value_counts()\n",
    "\n",
    "# df_Pclass = df_titanic[\"Pclass\"].value_counts()\n",
    "# df_Sex = df_titanic[\"Sex\"].value_counts()\n",
    "# df_Age = df_titanic[\"Age\"].value_counts()\n",
    "# df_SibSp = df_titanic[\"SibSp\"].value_counts()\n",
    "# df_Parch = df_titanic[\"Parch\"].value_counts()\n",
    "# df_Fare = df_titanic[\"Fare\"].value_counts()"
   ]
  },
  {
   "cell_type": "code",
   "execution_count": 102,
   "id": "dd4c71cc",
   "metadata": {},
   "outputs": [
    {
     "data": {
      "text/plain": [
       "<AxesSubplot:>"
      ]
     },
     "execution_count": 102,
     "metadata": {},
     "output_type": "execute_result"
    },
    {
     "data": {
      "image/png": "[encoded data removed]",
      "text/plain": [
       "<Figure size 640x480 with 1 Axes>"
      ]
     },
     "metadata": {},
     "output_type": "display_data"
    }
   ],
   "source": [
    "df_survived.plot.bar()"
   ]
  },
  {
   "cell_type": "markdown",
   "id": "4834a92a",
   "metadata": {},
   "source": [
    "#### 분석결과 : 사망자(549명)가 생존자(342명)보다 많음. "
   ]
  },
  {
   "cell_type": "markdown",
   "id": "a02f67c0",
   "metadata": {},
   "source": [
    "### Class 변수 분포"
   ]
  },
  {
   "cell_type": "markdown",
   "id": "a019e7f9",
   "metadata": {},
   "source": [
    "+ 선실 등급별 인원 분포"
   ]
  },
  {
   "cell_type": "code",
   "execution_count": 113,
   "id": "ec7961e3",
   "metadata": {},
   "outputs": [
    {
     "data": {
      "text/plain": [
       "3    491\n",
       "1    216\n",
       "2    184\n",
       "Name: Pclass, dtype: int64"
      ]
     },
     "execution_count": 113,
     "metadata": {},
     "output_type": "execute_result"
    }
   ],
   "source": [
    "df_titanic[\"Pclass\"].value_counts()"
   ]
  },
  {
   "cell_type": "code",
   "execution_count": 106,
   "id": "946e50c1",
   "metadata": {},
   "outputs": [
    {
     "data": {
      "text/plain": [
       "<AxesSubplot:>"
      ]
     },
     "execution_count": 106,
     "metadata": {},
     "output_type": "execute_result"
    },
    {
     "data": {
      "image/png": "[encoded data removed]",
      "text/plain": [
       "<Figure size 640x480 with 1 Axes>"
      ]
     },
     "metadata": {},
     "output_type": "display_data"
    }
   ],
   "source": [
    "df_Pclass.plot.bar()"
   ]
  },
  {
   "cell_type": "markdown",
   "id": "5777991a",
   "metadata": {},
   "source": [
    "+ 분석결과 : 타이타닉에 타고 있던 인원들은 **대부분 3등급의 선실에 탑승하였다.**"
   ]
  },
  {
   "cell_type": "markdown",
   "id": "1f075aad",
   "metadata": {},
   "source": [
    "## 결측값 및 이상치 처리"
   ]
  },
  {
   "cell_type": "markdown",
   "id": "ab8110b3",
   "metadata": {},
   "source": [
    "### 결측값 제거"
   ]
  },
  {
   "cell_type": "code",
   "execution_count": 109,
   "id": "55e75858",
   "metadata": {},
   "outputs": [
    {
     "data": {
      "text/plain": [
       "Survived    0\n",
       "Pclass      0\n",
       "Sex         0\n",
       "Age         0\n",
       "SibSp       0\n",
       "Parch       0\n",
       "Fare        0\n",
       "dtype: int64"
      ]
     },
     "execution_count": 109,
     "metadata": {},
     "output_type": "execute_result"
    }
   ],
   "source": [
    "df_titanic.isnull().sum()"
   ]
  },
  {
   "cell_type": "markdown",
   "id": "6a25aaf1",
   "metadata": {},
   "source": [
    "+ 데이터 선별과정에서 결측값이 포함된 변수들은 제거되었음"
   ]
  },
  {
   "cell_type": "markdown",
   "id": "81791e6e",
   "metadata": {},
   "source": [
    "### 이상치 확인 및 처리"
   ]
  },
  {
   "cell_type": "markdown",
   "id": "43124e80",
   "metadata": {},
   "source": [
    "#### Age"
   ]
  },
  {
   "cell_type": "code",
   "execution_count": 120,
   "id": "679efe48",
   "metadata": {},
   "outputs": [
    {
     "data": {
      "text/plain": [
       "<AxesSubplot:>"
      ]
     },
     "execution_count": 120,
     "metadata": {},
     "output_type": "execute_result"
    },
    {
     "data": {
      "image/png": "[encoded data removed]",
      "text/plain": [
       "<Figure size 640x480 with 1 Axes>"
      ]
     },
     "metadata": {},
     "output_type": "display_data"
    }
   ],
   "source": [
    "df_titanic[\"Age\"].hist()"
   ]
  },
  {
   "cell_type": "markdown",
   "id": "87741268",
   "metadata": {},
   "source": [
    "+ 확인 결과 : 이상치는 없었으며, **대부분 20대~40대에 분포**하고 있다."
   ]
  },
  {
   "cell_type": "markdown",
   "id": "f8d20c0f",
   "metadata": {},
   "source": [
    "#### 함께 탑승한 형제, 배우자의 수(SibSp)"
   ]
  },
  {
   "cell_type": "code",
   "execution_count": 125,
   "id": "1134f34b",
   "metadata": {},
   "outputs": [
    {
     "data": {
      "text/plain": [
       "<AxesSubplot:>"
      ]
     },
     "execution_count": 125,
     "metadata": {},
     "output_type": "execute_result"
    },
    {
     "data": {
      "image/png": "[encoded data removed]",
      "text/plain": [
       "<Figure size 640x480 with 1 Axes>"
      ]
     },
     "metadata": {},
     "output_type": "display_data"
    }
   ],
   "source": [
    "df_titanic[\"SibSp\"].hist()"
   ]
  },
  {
   "cell_type": "markdown",
   "id": "80fb8e4b",
   "metadata": {},
   "source": [
    "+ 확인 결과 : 이상치는 없는 것으로 판단함"
   ]
  },
  {
   "cell_type": "markdown",
   "id": "8896bbdc",
   "metadata": {},
   "source": [
    "#### 함께 탑승한 자녀, 부모의 수(Parch)"
   ]
  },
  {
   "cell_type": "code",
   "execution_count": 127,
   "id": "d5cc34d1",
   "metadata": {},
   "outputs": [
    {
     "data": {
      "text/plain": [
       "<AxesSubplot:>"
      ]
     },
     "execution_count": 127,
     "metadata": {},
     "output_type": "execute_result"
    },
    {
     "data": {
      "image/png": "[encoded data removed]",
      "text/plain": [
       "<Figure size 640x480 with 1 Axes>"
      ]
     },
     "metadata": {},
     "output_type": "display_data"
    }
   ],
   "source": [
    "df_titanic[\"Parch\"].hist()"
   ]
  },
  {
   "cell_type": "markdown",
   "id": "da9b9b0a",
   "metadata": {},
   "source": [
    "+ 확인 결과 : 이상치는 없는 것으로 판단하였으며, __대부분 혼자 탑승했거나, 1명의 동반자와 함께 탑승하였다.__"
   ]
  },
  {
   "cell_type": "markdown",
   "id": "10b91b7e",
   "metadata": {},
   "source": [
    "## 그래프 분석을 통한 관계 확인"
   ]
  },
  {
   "cell_type": "markdown",
   "id": "48f93285",
   "metadata": {},
   "source": [
    "### 단일 변수분석"
   ]
  },
  {
   "cell_type": "markdown",
   "id": "e433b06a",
   "metadata": {},
   "source": [
    "#### 선실 등급별 생존자 비교"
   ]
  },
  {
   "cell_type": "code",
   "execution_count": 168,
   "id": "7a65c8d0",
   "metadata": {},
   "outputs": [
    {
     "data": {
      "text/plain": [
       "<AxesSubplot:xlabel='Pclass'>"
      ]
     },
     "execution_count": 168,
     "metadata": {},
     "output_type": "execute_result"
    },
    {
     "data": {
      "image/png": "[encoded data removed]",
      "text/plain": [
       "<Figure size 640x480 with 1 Axes>"
      ]
     },
     "metadata": {},
     "output_type": "display_data"
    }
   ],
   "source": [
    "df_Pclass_survived = df_titanic[df_titanic[\"Survived\"] == 1]\n",
    "df_count_Pclass_survived = df_Pclass_survived.groupby(by=[\"Pclass\"])[\"Survived\"].count()\n",
    "df_count_Pclass_survived.plot.bar()"
   ]
  },
  {
   "cell_type": "markdown",
   "id": "4c37330d",
   "metadata": {},
   "source": [
    "#### 선실 등급별 사망자 비교"
   ]
  },
  {
   "cell_type": "code",
   "execution_count": 170,
   "id": "54941126",
   "metadata": {},
   "outputs": [
    {
     "data": {
      "text/plain": [
       "<AxesSubplot:xlabel='Pclass'>"
      ]
     },
     "execution_count": 170,
     "metadata": {},
     "output_type": "execute_result"
    },
    {
     "data": {
      "image/png": "[encoded data removed]",
      "text/plain": [
       "<Figure size 640x480 with 1 Axes>"
      ]
     },
     "metadata": {},
     "output_type": "display_data"
    }
   ],
   "source": [
    "df_Pclass_survived = df_titanic[df_titanic[\"Survived\"] == 0]\n",
    "df_count_Pclass_survived = df_Pclass_survived.groupby(by=[\"Pclass\"])[\"Survived\"].count()\n",
    "df_count_Pclass_survived.plot.bar()"
   ]
  },
  {
   "cell_type": "markdown",
   "id": "139984d2",
   "metadata": {},
   "source": [
    "+ 분석결과 \n",
    "    + 생존자의 수는 차이가 적었다.\n",
    "    + 사망자의 경우, **등급이 낮은 선실에 타고 있던 인원들의 사망 확률이 높다**는 것을 확인할 수 있었다."
   ]
  },
  {
   "cell_type": "markdown",
   "id": "8f51d5b7",
   "metadata": {},
   "source": [
    "#### 남녀 생존자 비교"
   ]
  },
  {
   "cell_type": "code",
   "execution_count": 182,
   "id": "cb73f143",
   "metadata": {},
   "outputs": [
    {
     "data": {
      "text/plain": [
       "<AxesSubplot:xlabel='Sex'>"
      ]
     },
     "execution_count": 182,
     "metadata": {},
     "output_type": "execute_result"
    },
    {
     "data": {
      "image/png": "[encoded data removed]",
      "text/plain": [
       "<Figure size 640x480 with 1 Axes>"
      ]
     },
     "metadata": {},
     "output_type": "display_data"
    }
   ],
   "source": [
    "df_Sex_survived = df_titanic[df_titanic[\"Survived\"] == 1]\n",
    "df_count_Sex_survived = df_Sex_survived.groupby(by=[\"Sex\"])[\"Survived\"].count()\n",
    "df_count_Sex_survived \n",
    "df_count_Sex_survived.plot.bar()"
   ]
  },
  {
   "cell_type": "markdown",
   "id": "efa6e47a",
   "metadata": {},
   "source": [
    "#### 남녀 사망자 비교"
   ]
  },
  {
   "cell_type": "code",
   "execution_count": 184,
   "id": "a2fbfdc6",
   "metadata": {},
   "outputs": [
    {
     "data": {
      "text/plain": [
       "<AxesSubplot:xlabel='Sex'>"
      ]
     },
     "execution_count": 184,
     "metadata": {},
     "output_type": "execute_result"
    },
    {
     "data": {
      "image/png": "[encoded data removed]",
      "text/plain": [
       "<Figure size 640x480 with 1 Axes>"
      ]
     },
     "metadata": {},
     "output_type": "display_data"
    }
   ],
   "source": [
    "df_Sex_survived = df_titanic[df_titanic[\"Survived\"] == 0]\n",
    "df_count_Sex_survived = df_Sex_survived.groupby(by=[\"Sex\"])[\"Survived\"].count()\n",
    "df_count_Sex_survived\n",
    "df_count_Sex_survived.plot.bar()"
   ]
  },
  {
   "cell_type": "markdown",
   "id": "a08a1a75",
   "metadata": {},
   "source": [
    "+ 분석결과\n",
    "    + 여성의 경우 생존률이 높았다.\n",
    "    + 남성의 경우 사망률이 높았다.\n",
    "    + **남성이 여성보다 생존확률이 낮음을 확인할 수 있었다.**"
   ]
  },
  {
   "cell_type": "markdown",
   "id": "d691edcd",
   "metadata": {},
   "source": [
    "#### 연령별 생존자 비율"
   ]
  },
  {
   "cell_type": "code",
   "execution_count": 217,
   "id": "003b2da1",
   "metadata": {},
   "outputs": [],
   "source": [
    "### 나이 분류\n",
    "def age(x):\n",
    "    if x < 20:\n",
    "        return \"10대~20대\"\n",
    "    elif x < 40:\n",
    "        return \"20대~30대\"\n",
    "    elif x < 60:\n",
    "        return \"40대~60대\"\n",
    "    else:\n",
    "        return \"60대 이상\"\n",
    "df_titanic[\"age\"] = df_titanic[\"Age\"].apply(age)"
   ]
  },
  {
   "cell_type": "code",
   "execution_count": 218,
   "id": "260e2d26",
   "metadata": {},
   "outputs": [
    {
     "data": {
      "text/plain": [
       "<AxesSubplot:>"
      ]
     },
     "execution_count": 218,
     "metadata": {},
     "output_type": "execute_result"
    },
    {
     "data": {
      "image/png": "[encoded data removed]",
      "text/plain": [
       "<Figure size 640x480 with 1 Axes>"
      ]
     },
     "metadata": {},
     "output_type": "display_data"
    }
   ],
   "source": [
    "df_count_age_total = df_titanic[\"age\"].value_counts()\n",
    "df_age_survived = df_titanic[df_titanic[\"Survived\"] == 1]\n",
    "df_count_age_survived = df_age_survived.groupby(by=[\"age\"])[\"Survived\"].count()\n",
    "df_count_age_survived = (df_count_age_survived / df_count_age_total)*100\n",
    "df_count_age_survived.plot.bar()"
   ]
  },
  {
   "cell_type": "markdown",
   "id": "aed57f44",
   "metadata": {},
   "source": [
    "#### 연령별 사망자 비율"
   ]
  },
  {
   "cell_type": "code",
   "execution_count": 254,
   "id": "cc0b3e8f",
   "metadata": {},
   "outputs": [
    {
     "data": {
      "text/plain": [
       "<AxesSubplot:>"
      ]
     },
     "execution_count": 254,
     "metadata": {},
     "output_type": "execute_result"
    },
    {
     "data": {
      "image/png": "[encoded data removed]",
      "text/plain": [
       "<Figure size 640x480 with 1 Axes>"
      ]
     },
     "metadata": {},
     "output_type": "display_data"
    }
   ],
   "source": [
    "df_count_age_total = df_titanic[\"age\"].value_counts()\n",
    "df_age_survived = df_titanic[df_titanic[\"Survived\"] == 0]\n",
    "df_count_age_survived = df_age_survived.groupby(by=[\"age\"])[\"Survived\"].count()\n",
    "df_count_age_survived = (df_count_age_survived / df_count_age_total)*100\n",
    "df_count_age_survived.plot.bar()"
   ]
  },
  {
   "cell_type": "markdown",
   "id": "bdee2f0e",
   "metadata": {},
   "source": [
    "+ 분석결과\n",
    "    + 연령대가 증가함에 따라 생존률은 낮아지고 사망률은 증가하였다.\n",
    "    + 하지만 뚜렸한 변화는 찾지 못했다.\n",
    "    + **생존확률과 연령대는 큰 연관성은 보이지 않았다.**\n",
    "        + 이는 전체적으로 사망자의 비율이 높기 때문이라고 판단하였다."
   ]
  },
  {
   "cell_type": "markdown",
   "id": "2aec44cb",
   "metadata": {},
   "source": [
    "#### 형제 또는 배우자와 탑승 시 생존자 비율"
   ]
  },
  {
   "cell_type": "code",
   "execution_count": 255,
   "id": "76cf0722",
   "metadata": {},
   "outputs": [
    {
     "data": {
      "text/plain": [
       "<AxesSubplot:>"
      ]
     },
     "execution_count": 255,
     "metadata": {},
     "output_type": "execute_result"
    },
    {
     "data": {
      "image/png": "[encoded data removed]",
      "text/plain": [
       "<Figure size 640x480 with 1 Axes>"
      ]
     },
     "metadata": {},
     "output_type": "display_data"
    }
   ],
   "source": [
    "df_count_age_total = df_titanic[\"SibSp\"].value_counts()\n",
    "df_SibSp_survived = df_titanic[df_titanic[\"Survived\"] == 1]\n",
    "df_count_SibSp_survived = df_SibSp_survived.groupby(by=[\"SibSp\"])[\"Survived\"].count()\n",
    "df_count_SibSp_survived = (df_count_SibSp_survived / df_count_age_total)*100\n",
    "df_count_SibSp_survived.plot.bar()"
   ]
  },
  {
   "cell_type": "code",
   "execution_count": 257,
   "id": "2952097f",
   "metadata": {},
   "outputs": [
    {
     "data": {
      "text/plain": [
       "<AxesSubplot:>"
      ]
     },
     "execution_count": 257,
     "metadata": {},
     "output_type": "execute_result"
    },
    {
     "data": {
      "image/png": "[encoded data removed]",
      "text/plain": [
       "<Figure size 640x480 with 1 Axes>"
      ]
     },
     "metadata": {},
     "output_type": "display_data"
    }
   ],
   "source": [
    "df_count_age_total = df_titanic[\"SibSp\"].value_counts()\n",
    "df_SibSp_survived = df_titanic[df_titanic[\"Survived\"] == 0]\n",
    "df_count_SibSp_survived = df_SibSp_survived.groupby(by=[\"SibSp\"])[\"Survived\"].count()\n",
    "df_count_SibSp_survived = (df_count_SibSp_survived / df_count_age_total)*100\n",
    "df_count_SibSp_survived.plot.bar()"
   ]
  },
  {
   "cell_type": "markdown",
   "id": "f9dd6e20",
   "metadata": {},
   "source": [
    "+ 분석결과\n",
    "    + 동반 인원이 증가할 수록 생존자 비율은 감소하고, 사망자 비율은 증가한다.\n",
    "    + **형제 또는 배우자 동반 인원이 적을 수록 생존 확률이 증가**하는 것을 알 수 있다."
   ]
  },
  {
   "cell_type": "markdown",
   "id": "77113013",
   "metadata": {},
   "source": [
    "#### 자녀 또는 부모와 탑승 시 생존자 비율"
   ]
  },
  {
   "cell_type": "code",
   "execution_count": 280,
   "id": "de4ebd57",
   "metadata": {},
   "outputs": [
    {
     "data": {
      "text/plain": [
       "<AxesSubplot:>"
      ]
     },
     "execution_count": 280,
     "metadata": {},
     "output_type": "execute_result"
    },
    {
     "data": {
      "image/png": "[encoded data removed]",
      "text/plain": [
       "<Figure size 640x480 with 1 Axes>"
      ]
     },
     "metadata": {},
     "output_type": "display_data"
    }
   ],
   "source": [
    "df_count_age_total = df_titanic[\"Parch\"].value_counts()\n",
    "df_Parch_survived = df_titanic[df_titanic[\"Survived\"] == 1]\n",
    "df_count_Parch_survived = df_Parch_survived.groupby(by=[\"Parch\"])[\"Survived\"].count()\n",
    "df_count_Parch_survived = (df_count_Parch_survived / df_count_age_total)*100\n",
    "df_count_Parch_survived.plot.bar()"
   ]
  },
  {
   "cell_type": "markdown",
   "id": "41ccb88e",
   "metadata": {},
   "source": [
    "#### 자녀 또는 부모와 탑승 시 사망자 비율"
   ]
  },
  {
   "cell_type": "code",
   "execution_count": 279,
   "id": "d31b41ad",
   "metadata": {},
   "outputs": [
    {
     "data": {
      "text/plain": [
       "<AxesSubplot:>"
      ]
     },
     "execution_count": 279,
     "metadata": {},
     "output_type": "execute_result"
    },
    {
     "data": {
      "image/png": "[encoded data removed]",
      "text/plain": [
       "<Figure size 640x480 with 1 Axes>"
      ]
     },
     "metadata": {},
     "output_type": "display_data"
    }
   ],
   "source": [
    "df_count_age_total = df_titanic[\"Parch\"].value_counts()\n",
    "df_Parch_survived = df_titanic[df_titanic[\"Survived\"] == 0]\n",
    "df_count_Parch_survived = df_Parch_survived.groupby(by=[\"Parch\"])[\"Survived\"].count()\n",
    "df_count_Parch_survived = (df_count_Parch_survived / df_count_age_total)*100\n",
    "df_count_Parch_survived.plot.bar()"
   ]
  },
  {
   "cell_type": "markdown",
   "id": "5d4b7cf5",
   "metadata": {},
   "source": [
    "+ 분석결과\n",
    "    + 생존자 비율은 동반인원이 증가함에 따라 감소하는 경향을 보였다.\n",
    "    + 사망자 비율은 동반인원이 증가함에 따라 증가하는 경향을 보였다.\n",
    "    + **자녀 또는 부모 동반인원 증가에 따라 생존확률이 감소하지만, 큰 연관성은 없는 것**으로 판단하였다."
   ]
  },
  {
   "cell_type": "markdown",
   "id": "f52a4b6a",
   "metadata": {},
   "source": [
    "## 생존에 영향을 미치는 잠재 인자 도출"
   ]
  },
  {
   "cell_type": "markdown",
   "id": "ac9df53a",
   "metadata": {},
   "source": [
    "1. 등급이 높은 선실에 탑승한 경우 생존확률은 증가하였다.\n",
    "2. 남녀 간 비교에서는 남성의 생존확률이 여성의 생존확률보다 낮았다.\n",
    "3. 연령대별 생존확률은 나이가 증가할 수록 생존확률이 낮아졌지만, 전체적으로 사망자 비율이 높기 때문에 유의미한 변화 추이는 확인하지 못하였다.\n",
    "4. 형제, 배우자와 동반한 경우, 동반인원이 증가할수록 생존확률이 감소하였다.\n",
    "5. 자녀, 부모님과 동반한 경우, 동반인원이 증가할수록 생존확률이 감소하였지만, 유의미한 변화 추이는 확인하지 못하였다."
   ]
  },
  {
   "cell_type": "markdown",
   "id": "f672b32d",
   "metadata": {},
   "source": [
    "### 동반인원이 적거나,\n",
    "### 높은 등급의 선실에 탑승하거나,\n",
    "### 여성일 경우 생존확률이 증가한다."
   ]
  },
  {
   "cell_type": "markdown",
   "id": "48a02aa3",
   "metadata": {},
   "source": [
    "# 실습과제 3 : 기술통계 - 파이썬 코딩 및 결과 정리_2"
   ]
  },
  {
   "cell_type": "code",
   "execution_count": 8,
   "id": "5be4f1d2",
   "metadata": {},
   "outputs": [],
   "source": [
    "df_model = df_car[[\"model\", \"mpg\"]]\n",
    "# df_model.groupby('model').describe()"
   ]
  },
  {
   "cell_type": "code",
   "execution_count": 9,
   "id": "c3688de5",
   "metadata": {},
   "outputs": [
    {
     "data": {
      "text/html": [
       "<div>\n",
       "<style scoped>\n",
       "    .dataframe tbody tr th:only-of-type {\n",
       "        vertical-align: middle;\n",
       "    }\n",
       "\n",
       "    .dataframe tbody tr th {\n",
       "        vertical-align: top;\n",
       "    }\n",
       "\n",
       "    .dataframe thead tr th {\n",
       "        text-align: left;\n",
       "    }\n",
       "\n",
       "    .dataframe thead tr:last-of-type th {\n",
       "        text-align: right;\n",
       "    }\n",
       "</style>\n",
       "<table border=\"1\" class=\"dataframe\">\n",
       "  <thead>\n",
       "    <tr>\n",
       "      <th></th>\n",
       "      <th colspan=\"8\" halign=\"left\">mpg</th>\n",
       "    </tr>\n",
       "    <tr>\n",
       "      <th></th>\n",
       "      <th>count</th>\n",
       "      <th>mean</th>\n",
       "      <th>std</th>\n",
       "      <th>min</th>\n",
       "      <th>25%</th>\n",
       "      <th>50%</th>\n",
       "      <th>75%</th>\n",
       "      <th>max</th>\n",
       "    </tr>\n",
       "    <tr>\n",
       "      <th>model</th>\n",
       "      <th></th>\n",
       "      <th></th>\n",
       "      <th></th>\n",
       "      <th></th>\n",
       "      <th></th>\n",
       "      <th></th>\n",
       "      <th></th>\n",
       "      <th></th>\n",
       "    </tr>\n",
       "  </thead>\n",
       "  <tbody>\n",
       "    <tr>\n",
       "      <th>4runner 4wd</th>\n",
       "      <td>6.0</td>\n",
       "      <td>15.166667</td>\n",
       "      <td>0.752773</td>\n",
       "      <td>14.0</td>\n",
       "      <td>15.00</td>\n",
       "      <td>15.0</td>\n",
       "      <td>15.75</td>\n",
       "      <td>16.0</td>\n",
       "    </tr>\n",
       "    <tr>\n",
       "      <th>a4</th>\n",
       "      <td>7.0</td>\n",
       "      <td>18.857143</td>\n",
       "      <td>1.864454</td>\n",
       "      <td>16.0</td>\n",
       "      <td>18.00</td>\n",
       "      <td>18.0</td>\n",
       "      <td>20.50</td>\n",
       "      <td>21.0</td>\n",
       "    </tr>\n",
       "    <tr>\n",
       "      <th>a4 quattro</th>\n",
       "      <td>8.0</td>\n",
       "      <td>17.125000</td>\n",
       "      <td>1.807722</td>\n",
       "      <td>15.0</td>\n",
       "      <td>15.75</td>\n",
       "      <td>17.0</td>\n",
       "      <td>18.25</td>\n",
       "      <td>20.0</td>\n",
       "    </tr>\n",
       "    <tr>\n",
       "      <th>a6 quattro</th>\n",
       "      <td>3.0</td>\n",
       "      <td>16.000000</td>\n",
       "      <td>1.000000</td>\n",
       "      <td>15.0</td>\n",
       "      <td>15.50</td>\n",
       "      <td>16.0</td>\n",
       "      <td>16.50</td>\n",
       "      <td>17.0</td>\n",
       "    </tr>\n",
       "    <tr>\n",
       "      <th>altima</th>\n",
       "      <td>6.0</td>\n",
       "      <td>20.666667</td>\n",
       "      <td>1.966384</td>\n",
       "      <td>19.0</td>\n",
       "      <td>19.00</td>\n",
       "      <td>20.0</td>\n",
       "      <td>22.50</td>\n",
       "      <td>23.0</td>\n",
       "    </tr>\n",
       "  </tbody>\n",
       "</table>\n",
       "</div>"
      ],
      "text/plain": [
       "              mpg                                                     \n",
       "            count       mean       std   min    25%   50%    75%   max\n",
       "model                                                                 \n",
       "4runner 4wd   6.0  15.166667  0.752773  14.0  15.00  15.0  15.75  16.0\n",
       "a4            7.0  18.857143  1.864454  16.0  18.00  18.0  20.50  21.0\n",
       "a4 quattro    8.0  17.125000  1.807722  15.0  15.75  17.0  18.25  20.0\n",
       "a6 quattro    3.0  16.000000  1.000000  15.0  15.50  16.0  16.50  17.0\n",
       "altima        6.0  20.666667  1.966384  19.0  19.00  20.0  22.50  23.0"
      ]
     },
     "execution_count": 9,
     "metadata": {},
     "output_type": "execute_result"
    }
   ],
   "source": [
    "# 시내에서 연비 통계치 계산\n",
    "df_model.groupby('model').describe().head()"
   ]
  },
  {
   "cell_type": "code",
   "execution_count": 10,
   "id": "eb654bd8",
   "metadata": {},
   "outputs": [
    {
     "data": {
      "text/html": [
       "<div>\n",
       "<style scoped>\n",
       "    .dataframe tbody tr th:only-of-type {\n",
       "        vertical-align: middle;\n",
       "    }\n",
       "\n",
       "    .dataframe tbody tr th {\n",
       "        vertical-align: top;\n",
       "    }\n",
       "\n",
       "    .dataframe thead tr th {\n",
       "        text-align: left;\n",
       "    }\n",
       "\n",
       "    .dataframe thead tr:last-of-type th {\n",
       "        text-align: right;\n",
       "    }\n",
       "</style>\n",
       "<table border=\"1\" class=\"dataframe\">\n",
       "  <thead>\n",
       "    <tr>\n",
       "      <th></th>\n",
       "      <th colspan=\"8\" halign=\"left\">mpg</th>\n",
       "    </tr>\n",
       "    <tr>\n",
       "      <th></th>\n",
       "      <th>count</th>\n",
       "      <th>mean</th>\n",
       "      <th>std</th>\n",
       "      <th>min</th>\n",
       "      <th>25%</th>\n",
       "      <th>50%</th>\n",
       "      <th>75%</th>\n",
       "      <th>max</th>\n",
       "    </tr>\n",
       "    <tr>\n",
       "      <th>highway_mileage</th>\n",
       "      <th></th>\n",
       "      <th></th>\n",
       "      <th></th>\n",
       "      <th></th>\n",
       "      <th></th>\n",
       "      <th></th>\n",
       "      <th></th>\n",
       "      <th></th>\n",
       "    </tr>\n",
       "  </thead>\n",
       "  <tbody>\n",
       "    <tr>\n",
       "      <th>12</th>\n",
       "      <td>5.0</td>\n",
       "      <td>9.000000</td>\n",
       "      <td>0.000000</td>\n",
       "      <td>9.0</td>\n",
       "      <td>9.0</td>\n",
       "      <td>9.0</td>\n",
       "      <td>9.0</td>\n",
       "      <td>9.0</td>\n",
       "    </tr>\n",
       "    <tr>\n",
       "      <th>14</th>\n",
       "      <td>2.0</td>\n",
       "      <td>11.000000</td>\n",
       "      <td>0.000000</td>\n",
       "      <td>11.0</td>\n",
       "      <td>11.0</td>\n",
       "      <td>11.0</td>\n",
       "      <td>11.0</td>\n",
       "      <td>11.0</td>\n",
       "    </tr>\n",
       "    <tr>\n",
       "      <th>15</th>\n",
       "      <td>10.0</td>\n",
       "      <td>11.000000</td>\n",
       "      <td>0.000000</td>\n",
       "      <td>11.0</td>\n",
       "      <td>11.0</td>\n",
       "      <td>11.0</td>\n",
       "      <td>11.0</td>\n",
       "      <td>11.0</td>\n",
       "    </tr>\n",
       "    <tr>\n",
       "      <th>16</th>\n",
       "      <td>7.0</td>\n",
       "      <td>11.857143</td>\n",
       "      <td>0.899735</td>\n",
       "      <td>11.0</td>\n",
       "      <td>11.0</td>\n",
       "      <td>12.0</td>\n",
       "      <td>12.5</td>\n",
       "      <td>13.0</td>\n",
       "    </tr>\n",
       "    <tr>\n",
       "      <th>17</th>\n",
       "      <td>31.0</td>\n",
       "      <td>13.161290</td>\n",
       "      <td>1.185939</td>\n",
       "      <td>11.0</td>\n",
       "      <td>13.0</td>\n",
       "      <td>13.0</td>\n",
       "      <td>14.0</td>\n",
       "      <td>15.0</td>\n",
       "    </tr>\n",
       "  </tbody>\n",
       "</table>\n",
       "</div>"
      ],
      "text/plain": [
       "                  mpg                                                   \n",
       "                count       mean       std   min   25%   50%   75%   max\n",
       "highway_mileage                                                         \n",
       "12                5.0   9.000000  0.000000   9.0   9.0   9.0   9.0   9.0\n",
       "14                2.0  11.000000  0.000000  11.0  11.0  11.0  11.0  11.0\n",
       "15               10.0  11.000000  0.000000  11.0  11.0  11.0  11.0  11.0\n",
       "16                7.0  11.857143  0.899735  11.0  11.0  12.0  12.5  13.0\n",
       "17               31.0  13.161290  1.185939  11.0  13.0  13.0  14.0  15.0"
      ]
     },
     "execution_count": 10,
     "metadata": {},
     "output_type": "execute_result"
    }
   ],
   "source": [
    "# 고속도로에서 연비 계산\n",
    "df_model_highway = df_car[[\"highway_mileage\", \"mpg\"]]\n",
    "df_model_highway.groupby(\"highway_mileage\").describe().head()"
   ]
  },
  {
   "cell_type": "markdown",
   "id": "710a4ee1",
   "metadata": {},
   "source": [
    "## 연비 계산에 따른 비교 분석"
   ]
  },
  {
   "cell_type": "markdown",
   "id": "e1da65d2",
   "metadata": {},
   "source": [
    "# 실습과제 4 : 기술통계 - 파이썬 코딩 및 결과 정리_2"
   ]
  },
  {
   "cell_type": "code",
   "execution_count": 115,
   "id": "6c62020b",
   "metadata": {},
   "outputs": [],
   "source": [
    "ds_Exh_QC1 = pd.read_csv(\"/home/piai/Bigdata 실습과제/1 Big Data 분석 기초/mycars.csv\")\n",
    "df = ds_Exh_QC1[['model',\"automatic\"]]"
   ]
  },
  {
   "cell_type": "code",
   "execution_count": 113,
   "id": "0888ae10",
   "metadata": {},
   "outputs": [],
   "source": [
    "count_df = df['model'].value_counts().sort_index()\n",
    "cumcnt_df = np.cumsum(count_df)\n",
    "percent_df = count_df/sum(count_df)*100\n",
    "cumpct_df = np.cumsum(percent_df)"
   ]
  },
  {
   "cell_type": "code",
   "execution_count": 114,
   "id": "2d0ef0bf",
   "metadata": {},
   "outputs": [
    {
     "data": {
      "text/html": [
       "<div>\n",
       "<style scoped>\n",
       "    .dataframe tbody tr th:only-of-type {\n",
       "        vertical-align: middle;\n",
       "    }\n",
       "\n",
       "    .dataframe tbody tr th {\n",
       "        vertical-align: top;\n",
       "    }\n",
       "\n",
       "    .dataframe thead th {\n",
       "        text-align: right;\n",
       "    }\n",
       "</style>\n",
       "<table border=\"1\" class=\"dataframe\">\n",
       "  <thead>\n",
       "    <tr style=\"text-align: right;\">\n",
       "      <th></th>\n",
       "      <th>Count</th>\n",
       "      <th>CumCnt</th>\n",
       "      <th>Percent</th>\n",
       "      <th>CumPct</th>\n",
       "    </tr>\n",
       "  </thead>\n",
       "  <tbody>\n",
       "    <tr>\n",
       "      <th>4runner 4wd</th>\n",
       "      <td>6</td>\n",
       "      <td>6</td>\n",
       "      <td>2.564103</td>\n",
       "      <td>2.564103</td>\n",
       "    </tr>\n",
       "    <tr>\n",
       "      <th>a4</th>\n",
       "      <td>7</td>\n",
       "      <td>13</td>\n",
       "      <td>2.991453</td>\n",
       "      <td>5.555556</td>\n",
       "    </tr>\n",
       "    <tr>\n",
       "      <th>a4 quattro</th>\n",
       "      <td>8</td>\n",
       "      <td>21</td>\n",
       "      <td>3.418803</td>\n",
       "      <td>8.974359</td>\n",
       "    </tr>\n",
       "    <tr>\n",
       "      <th>a6 quattro</th>\n",
       "      <td>3</td>\n",
       "      <td>24</td>\n",
       "      <td>1.282051</td>\n",
       "      <td>10.256410</td>\n",
       "    </tr>\n",
       "    <tr>\n",
       "      <th>altima</th>\n",
       "      <td>6</td>\n",
       "      <td>30</td>\n",
       "      <td>2.564103</td>\n",
       "      <td>12.820513</td>\n",
       "    </tr>\n",
       "  </tbody>\n",
       "</table>\n",
       "</div>"
      ],
      "text/plain": [
       "             Count  CumCnt   Percent     CumPct\n",
       "4runner 4wd      6       6  2.564103   2.564103\n",
       "a4               7      13  2.991453   5.555556\n",
       "a4 quattro       8      21  3.418803   8.974359\n",
       "a6 quattro       3      24  1.282051  10.256410\n",
       "altima           6      30  2.564103  12.820513"
      ]
     },
     "execution_count": 114,
     "metadata": {},
     "output_type": "execute_result"
    }
   ],
   "source": [
    "count_data = pd.DataFrame({\n",
    "    'Count' : count_df, 'CumCnt' : cumcnt_df, 'Percent' : percent_df, 'CumPct': cumpct_df})\n",
    "count_data.head()"
   ]
  },
  {
   "cell_type": "markdown",
   "id": "b79acff6",
   "metadata": {},
   "source": [
    "# 실습과제 5 : 정규분포 1"
   ]
  },
  {
   "cell_type": "code",
   "execution_count": 77,
   "id": "5d4c02c9",
   "metadata": {},
   "outputs": [
    {
     "name": "stdout",
     "output_type": "stream",
     "text": [
      "나의 키가 180cm일 때 나는 84.13% 범위에 위치한다.\n"
     ]
    }
   ],
   "source": [
    "mu = 175\n",
    "sigma = 5\n",
    "x = 180\n",
    "prob = stats.norm.cdf(x, mu, sigma)\n",
    "print(\"나의 키가 {0}cm일 때 나는 {1:.2f}% 범위에 위치한다.\".format(x,prob*100))"
   ]
  },
  {
   "cell_type": "markdown",
   "id": "7982a503",
   "metadata": {},
   "source": [
    "# 실습과제 6 : 정규분포 2"
   ]
  },
  {
   "cell_type": "code",
   "execution_count": 82,
   "id": "056b91a9",
   "metadata": {},
   "outputs": [
    {
     "name": "stdout",
     "output_type": "stream",
     "text": [
      "1리터를 가지고 9km이상 15km 이하를 달릴 확률은 68.27% 이다.\n",
      "1리터를 가지고 15km 이상을 달릴 확률은 15.87% 이다.\n"
     ]
    }
   ],
   "source": [
    "mu = 12\n",
    "sigma = 3\n",
    "x1 = 9\n",
    "x2 = 15\n",
    "prob1 = stats.norm.cdf(x1, mu, sigma)\n",
    "prob2 = stats.norm.cdf(x2, mu, sigma)\n",
    "# 1. 1리터를 가지고 9km이상 15km 이하를 달릴 확률?\n",
    "print(\"1리터를 가지고 {0}km이상 {1}km 이하를 달릴 확률은 {2:.2f}% 이다.\".format(x1,x2,(prob2-prob1)*100))\n",
    "# 2. 1리터를 가지고 15km 이상을 달릴 확률?\n",
    "print(\"1리터를 가지고 {0}km 이상을 달릴 확률은 {1:.2f}% 이다.\".format(x2,(1-prob2)*100))"
   ]
  },
  {
   "cell_type": "markdown",
   "id": "af04fd9f",
   "metadata": {},
   "source": [
    "# 실습과제 7 : t 분포"
   ]
  },
  {
   "cell_type": "code",
   "execution_count": 72,
   "id": "78688202",
   "metadata": {},
   "outputs": [
    {
     "name": "stdout",
     "output_type": "stream",
     "text": [
      "P(T<F): 0.976\n"
     ]
    }
   ],
   "source": [
    "t = 2.0\n",
    "df = 100\n",
    "# 누적확률 계산\n",
    "prob = stats.t.cdf(t,df)\n",
    "print(\"P(T<F): {:.3f}\".format(prob))"
   ]
  },
  {
   "cell_type": "markdown",
   "id": "e4c27e62",
   "metadata": {},
   "source": [
    "# 실습과제 8 : 카이제곱"
   ]
  },
  {
   "cell_type": "code",
   "execution_count": 69,
   "id": "2203a1e5",
   "metadata": {},
   "outputs": [
    {
     "name": "stdout",
     "output_type": "stream",
     "text": [
      "P(X<=3.0): 0.0656\n"
     ]
    }
   ],
   "source": [
    "chisq = 3.0\n",
    "df = 8\n",
    "#누적 확률 계산\n",
    "prob = stats.chi2.cdf(chisq, df)\n",
    "print(\"P(X<={0}): {1:.4f}\".format(chisq,prob))"
   ]
  },
  {
   "cell_type": "markdown",
   "id": "00e261a6",
   "metadata": {},
   "source": [
    "# 실습과제 9 : F 분포"
   ]
  },
  {
   "cell_type": "code",
   "execution_count": 87,
   "id": "6b3911f3",
   "metadata": {},
   "outputs": [
    {
     "name": "stdout",
     "output_type": "stream",
     "text": [
      "P(X<=F): 0.850\n"
     ]
    }
   ],
   "source": [
    "f = 1.5\n",
    "dfnum = 10\n",
    "dfden = 100\n",
    "# 누적 확률 계산\n",
    "prob = stats.f.cdf(x=f, dfn = dfnum, dfd = dfden)\n",
    "print(\"P(X<=F): {0:.3f}\".format(prob))"
   ]
  },
  {
   "cell_type": "markdown",
   "id": "4399f45f",
   "metadata": {},
   "source": [
    "# 실습과제 10 : 이항분포"
   ]
  },
  {
   "cell_type": "code",
   "execution_count": 110,
   "id": "3fae2f2d",
   "metadata": {},
   "outputs": [
    {
     "name": "stdout",
     "output_type": "stream",
     "text": [
      "5대의 차량을 임의로 선택했을 때 불량 대수가 0대 나올 확률 : 0.168\n",
      "5대의 차량을 임의로 선택했을 때 불량 대수가 1대 나올 확률 : 0.360\n",
      "5대의 차량을 임의로 선택했을 때 불량 대수가 2대 나올 확률 : 0.309\n",
      "5대의 차량을 임의로 선택했을 때 불량 대수가 3대 나올 확률 : 0.132\n",
      "5대의 차량을 임의로 선택했을 때 불량 대수가 4대 나올 확률 : 0.028\n",
      "5대의 차량을 임의로 선택했을 때 불량 대수가 5대 나올 확률 : 0.002\n"
     ]
    }
   ],
   "source": [
    "# 광택도 불량률\n",
    "n = 5\n",
    "p = 0.3\n",
    "for i in range(n+1):\n",
    "    # 이항 분포 계산\n",
    "    prob = stats.binom.pmf(k = i, n = n, p = p)\n",
    "    print(\"5대의 차량을 임의로 선택했을 때 불량 대수가 {0}대 나올 확률 : {1:.3f}\".format(i,prob))"
   ]
  }
 ],
 "metadata": {
  "kernelspec": {
   "display_name": "Python 3 (ipykernel)",
   "language": "python",
   "name": "python3"
  },
  "language_info": {
   "codemirror_mode": {
    "name": "ipython",
    "version": 3
   },
   "file_extension": ".py",
   "mimetype": "text/x-python",
   "name": "python",
   "nbconvert_exporter": "python",
   "pygments_lexer": "ipython3",
   "version": "3.9.13"
  }
 },
 "nbformat": 4,
 "nbformat_minor": 5
}
