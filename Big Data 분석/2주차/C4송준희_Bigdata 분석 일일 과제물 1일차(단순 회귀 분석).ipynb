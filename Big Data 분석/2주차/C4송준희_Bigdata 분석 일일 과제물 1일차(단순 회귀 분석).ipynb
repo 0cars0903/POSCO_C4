{
 "cells": [
  {
   "cell_type": "code",
   "execution_count": 1,
   "id": "545f6fcf",
   "metadata": {},
   "outputs": [],
   "source": [
    "import pandas as pd\n",
    "import numpy as np\n",
    "import seaborn as sns\n",
    "\n",
    "import matplotlib as mpl\n",
    "import matplotlib.pyplot as plt\n",
    "%matplotlib inline\n",
    "import seaborn as sns\n",
    "\n",
    "import scipy\n",
    "from scipy import stats\n",
    "from statsmodels.stats.proportion import proportions_ztest\n",
    "\n",
    "# 회귀분석\n",
    "from statsmodels.formula.api import ols\n",
    "# 회귀분석 상수항 추가\n",
    "from statsmodels.api import qqplot, add_constant\n",
    "# 선형 모델 \n",
    "import statsmodels.formula.api as smf\n",
    "# 평가함수\n",
    "from statsmodels.tools.eval_measures import rmse\n",
    "from sklearn.metrics import r2_score\n",
    "\n",
    "# 다중공선성 확인\n",
    "from statsmodels.stats.outliers_influence import variance_inflation_factor\n",
    "# data split\n",
    "from sklearn.model_selection import train_test_split\n",
    "# 선형 회귀 모형\n",
    "from sklearn.linear_model import LinearRegression\n",
    "# 규제화 패키지\n",
    "from sklearn.linear_model import Ridge, Lasso, ElasticNet\n",
    "# 변수 선택법\n",
    "from sklearn.feature_selection import RFE\n",
    "# Scale 변환\n",
    "from sklearn.preprocessing import StandardScaler\n",
    "\n",
    "import warnings\n",
    "warnings.filterwarnings('ignore')"
   ]
  },
  {
   "cell_type": "code",
   "execution_count": 2,
   "id": "febfd109",
   "metadata": {},
   "outputs": [
    {
     "name": "stdout",
     "output_type": "stream",
     "text": [
      "/usr/share/fonts: caching, new cache contents: 0 fonts, 6 dirs\n",
      "/usr/share/fonts/X11: caching, new cache contents: 0 fonts, 4 dirs\n",
      "/usr/share/fonts/X11/Type1: caching, new cache contents: 8 fonts, 0 dirs\n",
      "/usr/share/fonts/X11/encodings: caching, new cache contents: 0 fonts, 1 dirs\n",
      "/usr/share/fonts/X11/encodings/large: caching, new cache contents: 0 fonts, 0 dirs\n",
      "/usr/share/fonts/X11/misc: caching, new cache contents: 89 fonts, 0 dirs\n",
      "/usr/share/fonts/X11/util: caching, new cache contents: 0 fonts, 0 dirs\n",
      "/usr/share/fonts/cMap: caching, new cache contents: 0 fonts, 0 dirs\n",
      "/usr/share/fonts/cmap: caching, new cache contents: 0 fonts, 5 dirs\n",
      "/usr/share/fonts/cmap/adobe-cns1: caching, new cache contents: 0 fonts, 0 dirs\n",
      "/usr/share/fonts/cmap/adobe-gb1: caching, new cache contents: 0 fonts, 0 dirs\n",
      "/usr/share/fonts/cmap/adobe-japan1: caching, new cache contents: 0 fonts, 0 dirs\n",
      "/usr/share/fonts/cmap/adobe-japan2: caching, new cache contents: 0 fonts, 0 dirs\n",
      "/usr/share/fonts/cmap/adobe-korea1: caching, new cache contents: 0 fonts, 0 dirs\n",
      "/usr/share/fonts/opentype: caching, new cache contents: 0 fonts, 2 dirs\n",
      "/usr/share/fonts/opentype/malayalam: caching, new cache contents: 3 fonts, 0 dirs\n",
      "/usr/share/fonts/opentype/noto: caching, new cache contents: 73 fonts, 0 dirs\n",
      "/usr/share/fonts/truetype: caching, new cache contents: 0 fonts, 46 dirs\n",
      "/usr/share/fonts/truetype/Gargi: caching, new cache contents: 1 fonts, 0 dirs\n",
      "/usr/share/fonts/truetype/Gubbi: caching, new cache contents: 1 fonts, 0 dirs\n",
      "/usr/share/fonts/truetype/Nakula: caching, new cache contents: 1 fonts, 0 dirs\n",
      "/usr/share/fonts/truetype/Navilu: caching, new cache contents: 1 fonts, 0 dirs\n",
      "/usr/share/fonts/truetype/Sahadeva: caching, new cache contents: 1 fonts, 0 dirs\n",
      "/usr/share/fonts/truetype/Sarai: caching, new cache contents: 1 fonts, 0 dirs\n",
      "/usr/share/fonts/truetype/abyssinica: caching, new cache contents: 1 fonts, 0 dirs\n",
      "/usr/share/fonts/truetype/dejavu: caching, new cache contents: 6 fonts, 0 dirs\n",
      "/usr/share/fonts/truetype/droid: caching, new cache contents: 1 fonts, 0 dirs\n",
      "/usr/share/fonts/truetype/fonts-beng-extra: caching, new cache contents: 6 fonts, 0 dirs\n",
      "/usr/share/fonts/truetype/fonts-deva-extra: caching, new cache contents: 3 fonts, 0 dirs\n",
      "/usr/share/fonts/truetype/fonts-gujr-extra: caching, new cache contents: 5 fonts, 0 dirs\n",
      "/usr/share/fonts/truetype/fonts-guru-extra: caching, new cache contents: 1 fonts, 0 dirs\n",
      "/usr/share/fonts/truetype/fonts-kalapi: caching, new cache contents: 1 fonts, 0 dirs\n",
      "/usr/share/fonts/truetype/fonts-orya-extra: caching, new cache contents: 1 fonts, 0 dirs\n",
      "/usr/share/fonts/truetype/fonts-telu-extra: caching, new cache contents: 2 fonts, 0 dirs\n",
      "/usr/share/fonts/truetype/freefont: caching, new cache contents: 12 fonts, 0 dirs\n",
      "/usr/share/fonts/truetype/kacst: caching, new cache contents: 15 fonts, 0 dirs\n",
      "/usr/share/fonts/truetype/kacst-one: caching, new cache contents: 2 fonts, 0 dirs\n",
      "/usr/share/fonts/truetype/lao: caching, new cache contents: 1 fonts, 0 dirs\n",
      "/usr/share/fonts/truetype/liberation: caching, new cache contents: 16 fonts, 0 dirs\n",
      "/usr/share/fonts/truetype/liberation2: caching, new cache contents: 12 fonts, 0 dirs\n",
      "/usr/share/fonts/truetype/lohit-assamese: caching, new cache contents: 1 fonts, 0 dirs\n",
      "/usr/share/fonts/truetype/lohit-bengali: caching, new cache contents: 1 fonts, 0 dirs\n",
      "/usr/share/fonts/truetype/lohit-devanagari: caching, new cache contents: 1 fonts, 0 dirs\n",
      "/usr/share/fonts/truetype/lohit-gujarati: caching, new cache contents: 1 fonts, 0 dirs\n",
      "/usr/share/fonts/truetype/lohit-kannada: caching, new cache contents: 1 fonts, 0 dirs\n",
      "/usr/share/fonts/truetype/lohit-malayalam: caching, new cache contents: 1 fonts, 0 dirs\n",
      "/usr/share/fonts/truetype/lohit-oriya: caching, new cache contents: 1 fonts, 0 dirs\n",
      "/usr/share/fonts/truetype/lohit-punjabi: caching, new cache contents: 1 fonts, 0 dirs\n",
      "/usr/share/fonts/truetype/lohit-tamil: caching, new cache contents: 1 fonts, 0 dirs\n",
      "/usr/share/fonts/truetype/lohit-tamil-classical: caching, new cache contents: 1 fonts, 0 dirs\n",
      "/usr/share/fonts/truetype/lohit-telugu: caching, new cache contents: 1 fonts, 0 dirs\n",
      "/usr/share/fonts/truetype/malayalam: caching, new cache contents: 11 fonts, 0 dirs\n",
      "/usr/share/fonts/truetype/nanum: caching, new cache contents: 31 fonts, 0 dirs\n",
      "/usr/share/fonts/truetype/noto: caching, new cache contents: 2 fonts, 0 dirs\n",
      "/usr/share/fonts/truetype/openoffice: caching, new cache contents: 1 fonts, 0 dirs\n",
      "/usr/share/fonts/truetype/padauk: caching, new cache contents: 4 fonts, 0 dirs\n",
      "/usr/share/fonts/truetype/pagul: caching, new cache contents: 1 fonts, 0 dirs\n",
      "/usr/share/fonts/truetype/samyak: caching, new cache contents: 1 fonts, 0 dirs\n",
      "/usr/share/fonts/truetype/samyak-fonts: caching, new cache contents: 3 fonts, 0 dirs\n",
      "/usr/share/fonts/truetype/sinhala: caching, new cache contents: 1 fonts, 0 dirs\n",
      "/usr/share/fonts/truetype/tibetan-machine: caching, new cache contents: 1 fonts, 0 dirs\n",
      "/usr/share/fonts/truetype/tlwg: caching, new cache contents: 58 fonts, 0 dirs\n",
      "/usr/share/fonts/truetype/ttf-khmeros-core: caching, new cache contents: 2 fonts, 0 dirs\n",
      "/usr/share/fonts/truetype/ubuntu: caching, new cache contents: 13 fonts, 0 dirs\n",
      "/usr/share/fonts/type1: caching, new cache contents: 0 fonts, 1 dirs\n",
      "/usr/share/fonts/type1/gsfonts: caching, new cache contents: 35 fonts, 0 dirs\n",
      "/home/piai/anaconda3/fonts: skipping, no such directory\n",
      "/home/piai/.local/share/fonts: skipping, no such directory\n",
      "/home/piai/.fonts: skipping, no such directory\n",
      "/usr/share/fonts/X11: skipping, looped directory detected\n",
      "/usr/share/fonts/cMap: skipping, looped directory detected\n",
      "/usr/share/fonts/cmap: skipping, looped directory detected\n",
      "/usr/share/fonts/opentype: skipping, looped directory detected\n",
      "/usr/share/fonts/truetype: skipping, looped directory detected\n",
      "/usr/share/fonts/type1: skipping, looped directory detected\n",
      "/usr/share/fonts/X11/Type1: skipping, looped directory detected\n",
      "/usr/share/fonts/X11/encodings: skipping, looped directory detected\n",
      "/usr/share/fonts/X11/misc: skipping, looped directory detected\n",
      "/usr/share/fonts/X11/util: skipping, looped directory detected\n",
      "/usr/share/fonts/cmap/adobe-cns1: skipping, looped directory detected\n",
      "/usr/share/fonts/cmap/adobe-gb1: skipping, looped directory detected\n",
      "/usr/share/fonts/cmap/adobe-japan1: skipping, looped directory detected\n",
      "/usr/share/fonts/cmap/adobe-japan2: skipping, looped directory detected\n",
      "/usr/share/fonts/cmap/adobe-korea1: skipping, looped directory detected\n",
      "/usr/share/fonts/opentype/malayalam: skipping, looped directory detected\n",
      "/usr/share/fonts/opentype/noto: skipping, looped directory detected\n",
      "/usr/share/fonts/truetype/Gargi: skipping, looped directory detected\n",
      "/usr/share/fonts/truetype/Gubbi: skipping, looped directory detected\n",
      "/usr/share/fonts/truetype/Nakula: skipping, looped directory detected\n",
      "/usr/share/fonts/truetype/Navilu: skipping, looped directory detected\n",
      "/usr/share/fonts/truetype/Sahadeva: skipping, looped directory detected\n",
      "/usr/share/fonts/truetype/Sarai: skipping, looped directory detected\n",
      "/usr/share/fonts/truetype/abyssinica: skipping, looped directory detected\n",
      "/usr/share/fonts/truetype/dejavu: skipping, looped directory detected\n",
      "/usr/share/fonts/truetype/droid: skipping, looped directory detected\n",
      "/usr/share/fonts/truetype/fonts-beng-extra: skipping, looped directory detected\n",
      "/usr/share/fonts/truetype/fonts-deva-extra: skipping, looped directory detected\n",
      "/usr/share/fonts/truetype/fonts-gujr-extra: skipping, looped directory detected\n",
      "/usr/share/fonts/truetype/fonts-guru-extra: skipping, looped directory detected\n",
      "/usr/share/fonts/truetype/fonts-kalapi: skipping, looped directory detected\n",
      "/usr/share/fonts/truetype/fonts-orya-extra: skipping, looped directory detected\n",
      "/usr/share/fonts/truetype/fonts-telu-extra: skipping, looped directory detected\n",
      "/usr/share/fonts/truetype/freefont: skipping, looped directory detected\n",
      "/usr/share/fonts/truetype/kacst: skipping, looped directory detected\n",
      "/usr/share/fonts/truetype/kacst-one: skipping, looped directory detected\n",
      "/usr/share/fonts/truetype/lao: skipping, looped directory detected\n",
      "/usr/share/fonts/truetype/liberation: skipping, looped directory detected\n",
      "/usr/share/fonts/truetype/liberation2: skipping, looped directory detected\n",
      "/usr/share/fonts/truetype/lohit-assamese: skipping, looped directory detected\n",
      "/usr/share/fonts/truetype/lohit-bengali: skipping, looped directory detected\n",
      "/usr/share/fonts/truetype/lohit-devanagari: skipping, looped directory detected\n",
      "/usr/share/fonts/truetype/lohit-gujarati: skipping, looped directory detected\n",
      "/usr/share/fonts/truetype/lohit-kannada: skipping, looped directory detected\n",
      "/usr/share/fonts/truetype/lohit-malayalam: skipping, looped directory detected\n",
      "/usr/share/fonts/truetype/lohit-oriya: skipping, looped directory detected\n",
      "/usr/share/fonts/truetype/lohit-punjabi: skipping, looped directory detected\n",
      "/usr/share/fonts/truetype/lohit-tamil: skipping, looped directory detected\n",
      "/usr/share/fonts/truetype/lohit-tamil-classical: skipping, looped directory detected\n",
      "/usr/share/fonts/truetype/lohit-telugu: skipping, looped directory detected\n",
      "/usr/share/fonts/truetype/malayalam: skipping, looped directory detected\n",
      "/usr/share/fonts/truetype/nanum: skipping, looped directory detected\n",
      "/usr/share/fonts/truetype/noto: skipping, looped directory detected\n",
      "/usr/share/fonts/truetype/openoffice: skipping, looped directory detected\n",
      "/usr/share/fonts/truetype/padauk: skipping, looped directory detected\n",
      "/usr/share/fonts/truetype/pagul: skipping, looped directory detected\n",
      "/usr/share/fonts/truetype/samyak: skipping, looped directory detected\n",
      "/usr/share/fonts/truetype/samyak-fonts: skipping, looped directory detected\n",
      "/usr/share/fonts/truetype/sinhala: skipping, looped directory detected\n",
      "/usr/share/fonts/truetype/tibetan-machine: skipping, looped directory detected\n",
      "/usr/share/fonts/truetype/tlwg: skipping, looped directory detected\n",
      "/usr/share/fonts/truetype/ttf-khmeros-core: skipping, looped directory detected\n",
      "/usr/share/fonts/truetype/ubuntu: skipping, looped directory detected\n",
      "/usr/share/fonts/type1/gsfonts: skipping, looped directory detected\n",
      "/usr/share/fonts/X11/encodings/large: skipping, looped directory detected\n",
      "/home/piai/anaconda3/var/cache/fontconfig: cleaning cache directory\n",
      "/home/piai/.cache/fontconfig: cleaning cache directory\n",
      "/home/piai/.fontconfig: not cleaning non-existent cache directory\n"
     ]
    },
    {
     "name": "stdout",
     "output_type": "stream",
     "text": [
      "fc-cache: succeeded\r\n"
     ]
    },
    {
     "data": {
      "text/plain": [
       "['NanumSquare',\n",
       " 'NanumGothic',\n",
       " 'NanumMyeongjo Eco',\n",
       " 'NanumSquare',\n",
       " 'NanumBarunGothic',\n",
       " 'NanumSquareRound',\n",
       " 'NanumMyeongjo',\n",
       " 'NanumBarunpen',\n",
       " 'Nanum Pen Script',\n",
       " 'NanumBarunpen',\n",
       " 'NanumSquareRound',\n",
       " 'NanumGothic',\n",
       " 'NanumSquareRound',\n",
       " 'NanumBarunGothic',\n",
       " 'NanumMyeongjo',\n",
       " 'NanumGothicCoding',\n",
       " 'NanumGothic',\n",
       " 'NanumSquare',\n",
       " 'NanumGothic',\n",
       " 'NanumMyeongjo Eco',\n",
       " 'NanumGothic Eco',\n",
       " 'NanumSquareRound',\n",
       " 'NanumMyeongjo',\n",
       " 'NanumSquare',\n",
       " 'NanumBarunGothic',\n",
       " 'NanumMyeongjo Eco',\n",
       " 'NanumGothic Eco',\n",
       " 'NanumGothicCoding',\n",
       " 'Nanum Brush Script',\n",
       " 'NanumGothic Eco',\n",
       " 'NanumBarunGothic',\n",
       " 'NanumGothic Eco',\n",
       " 'NanumGothic',\n",
       " 'Nanum Brush Script',\n",
       " 'NanumBarunGothic',\n",
       " 'NanumGothic',\n",
       " 'NanumMyeongjo Eco',\n",
       " 'NanumMyeongjo Eco',\n",
       " 'NanumGothic',\n",
       " 'Nanum Pen Script',\n",
       " 'NanumSquareRound',\n",
       " 'NanumMyeongjo',\n",
       " 'NanumBarunGothic',\n",
       " 'NanumMyeongjo',\n",
       " 'NanumGothic',\n",
       " 'NanumBarunGothic',\n",
       " 'NanumSquare',\n",
       " 'NanumSquare',\n",
       " 'NanumGothic Eco',\n",
       " 'NanumGothicCoding',\n",
       " 'NanumMyeongjo Eco',\n",
       " 'NanumSquareRound',\n",
       " 'NanumBarunpen',\n",
       " 'NanumSquareRound',\n",
       " 'NanumSquare',\n",
       " 'NanumGothicCoding',\n",
       " 'NanumSquare',\n",
       " 'NanumGothic Eco',\n",
       " 'NanumMyeongjo',\n",
       " 'NanumSquareRound',\n",
       " 'NanumBarunGothic',\n",
       " 'NanumBarunpen']"
      ]
     },
     "execution_count": 2,
     "metadata": {},
     "output_type": "execute_result"
    }
   ],
   "source": [
    "# 한글 폰트 설정\n",
    "# !ls -l /usr/share/fonts/truetype/\n",
    "!rm -rf ~/.cache/matplotlib/*\n",
    "!fc-cache -fv\n",
    "\n",
    "import matplotlib    \n",
    "import matplotlib.font_manager\n",
    "\n",
    "[f.name for f in matplotlib.font_manager.fontManager.ttflist if 'Nanum' in f.name]"
   ]
  },
  {
   "cell_type": "code",
   "execution_count": 4,
   "id": "ddbfb386",
   "metadata": {},
   "outputs": [],
   "source": [
    "# 유니코드 깨짐현상 해결\n",
    "mpl.rcParams['axes.unicode_minus'] = False\n",
    "\n",
    "# 나눔고딕 폰트 전체 적용\n",
    "plt.rcParams[\"font.family\"] = 'NanumMyeongjo'"
   ]
  },
  {
   "cell_type": "markdown",
   "id": "7438fd79",
   "metadata": {},
   "source": [
    "# 실습과제 1"
   ]
  },
  {
   "cell_type": "markdown",
   "id": "41492b7f",
   "metadata": {},
   "source": [
    "## 데이터 불러오기"
   ]
  },
  {
   "cell_type": "code",
   "execution_count": 5,
   "id": "3b27c039",
   "metadata": {},
   "outputs": [
    {
     "data": {
      "text/html": [
       "<div>\n",
       "<style scoped>\n",
       "    .dataframe tbody tr th:only-of-type {\n",
       "        vertical-align: middle;\n",
       "    }\n",
       "\n",
       "    .dataframe tbody tr th {\n",
       "        vertical-align: top;\n",
       "    }\n",
       "\n",
       "    .dataframe thead th {\n",
       "        text-align: right;\n",
       "    }\n",
       "</style>\n",
       "<table border=\"1\" class=\"dataframe\">\n",
       "  <thead>\n",
       "    <tr style=\"text-align: right;\">\n",
       "      <th></th>\n",
       "      <th>FAT</th>\n",
       "      <th>AGE</th>\n",
       "      <th>WEIGHT</th>\n",
       "      <th>HEIGHT</th>\n",
       "      <th>NECK</th>\n",
       "      <th>CHEST</th>\n",
       "      <th>ABDOMEN</th>\n",
       "      <th>HIP</th>\n",
       "      <th>THIGH</th>\n",
       "      <th>KNEE</th>\n",
       "      <th>ANKLE</th>\n",
       "      <th>BICEPS</th>\n",
       "      <th>FOREARM</th>\n",
       "      <th>WRIST</th>\n",
       "    </tr>\n",
       "  </thead>\n",
       "  <tbody>\n",
       "    <tr>\n",
       "      <th>0</th>\n",
       "      <td>35.2</td>\n",
       "      <td>46</td>\n",
       "      <td>363.15</td>\n",
       "      <td>72.25</td>\n",
       "      <td>51.2</td>\n",
       "      <td>136.2</td>\n",
       "      <td>148.1</td>\n",
       "      <td>147.7</td>\n",
       "      <td>87.3</td>\n",
       "      <td>49.1</td>\n",
       "      <td>29.6</td>\n",
       "      <td>45.0</td>\n",
       "      <td>29.0</td>\n",
       "      <td>21.4</td>\n",
       "    </tr>\n",
       "    <tr>\n",
       "      <th>1</th>\n",
       "      <td>11.8</td>\n",
       "      <td>27</td>\n",
       "      <td>168.00</td>\n",
       "      <td>71.25</td>\n",
       "      <td>38.1</td>\n",
       "      <td>93.0</td>\n",
       "      <td>79.1</td>\n",
       "      <td>94.5</td>\n",
       "      <td>57.3</td>\n",
       "      <td>36.2</td>\n",
       "      <td>24.5</td>\n",
       "      <td>29.0</td>\n",
       "      <td>30.0</td>\n",
       "      <td>18.8</td>\n",
       "    </tr>\n",
       "    <tr>\n",
       "      <th>2</th>\n",
       "      <td>22.2</td>\n",
       "      <td>69</td>\n",
       "      <td>177.75</td>\n",
       "      <td>68.50</td>\n",
       "      <td>38.7</td>\n",
       "      <td>102.0</td>\n",
       "      <td>95.0</td>\n",
       "      <td>98.3</td>\n",
       "      <td>55.0</td>\n",
       "      <td>38.3</td>\n",
       "      <td>21.8</td>\n",
       "      <td>30.8</td>\n",
       "      <td>25.7</td>\n",
       "      <td>18.8</td>\n",
       "    </tr>\n",
       "    <tr>\n",
       "      <th>3</th>\n",
       "      <td>10.6</td>\n",
       "      <td>57</td>\n",
       "      <td>147.75</td>\n",
       "      <td>65.75</td>\n",
       "      <td>35.2</td>\n",
       "      <td>99.6</td>\n",
       "      <td>86.4</td>\n",
       "      <td>90.1</td>\n",
       "      <td>53.0</td>\n",
       "      <td>35.0</td>\n",
       "      <td>21.3</td>\n",
       "      <td>31.7</td>\n",
       "      <td>27.3</td>\n",
       "      <td>16.9</td>\n",
       "    </tr>\n",
       "    <tr>\n",
       "      <th>4</th>\n",
       "      <td>47.5</td>\n",
       "      <td>51</td>\n",
       "      <td>219.00</td>\n",
       "      <td>64.00</td>\n",
       "      <td>41.2</td>\n",
       "      <td>119.8</td>\n",
       "      <td>122.1</td>\n",
       "      <td>112.8</td>\n",
       "      <td>62.5</td>\n",
       "      <td>36.9</td>\n",
       "      <td>23.6</td>\n",
       "      <td>34.7</td>\n",
       "      <td>29.1</td>\n",
       "      <td>18.4</td>\n",
       "    </tr>\n",
       "  </tbody>\n",
       "</table>\n",
       "</div>"
      ],
      "text/plain": [
       "    FAT  AGE  WEIGHT  HEIGHT  NECK  CHEST  ABDOMEN    HIP  THIGH  KNEE  ANKLE  \\\n",
       "0  35.2   46  363.15   72.25  51.2  136.2    148.1  147.7   87.3  49.1   29.6   \n",
       "1  11.8   27  168.00   71.25  38.1   93.0     79.1   94.5   57.3  36.2   24.5   \n",
       "2  22.2   69  177.75   68.50  38.7  102.0     95.0   98.3   55.0  38.3   21.8   \n",
       "3  10.6   57  147.75   65.75  35.2   99.6     86.4   90.1   53.0  35.0   21.3   \n",
       "4  47.5   51  219.00   64.00  41.2  119.8    122.1  112.8   62.5  36.9   23.6   \n",
       "\n",
       "   BICEPS  FOREARM  WRIST  \n",
       "0    45.0     29.0   21.4  \n",
       "1    29.0     30.0   18.8  \n",
       "2    30.8     25.7   18.8  \n",
       "3    31.7     27.3   16.9  \n",
       "4    34.7     29.1   18.4  "
      ]
     },
     "execution_count": 5,
     "metadata": {},
     "output_type": "execute_result"
    }
   ],
   "source": [
    "df = pd.read_csv('/home/piai/Bigdata 실습과제/2. Big Data 분석/체질검사.csv', encoding = 'utf-8')\n",
    "df.head()"
   ]
  },
  {
   "cell_type": "markdown",
   "id": "e1701b39",
   "metadata": {},
   "source": [
    "#### BMI 계산"
   ]
  },
  {
   "cell_type": "code",
   "execution_count": 6,
   "id": "24b4fa9f",
   "metadata": {},
   "outputs": [
    {
     "data": {
      "text/html": [
       "<div>\n",
       "<style scoped>\n",
       "    .dataframe tbody tr th:only-of-type {\n",
       "        vertical-align: middle;\n",
       "    }\n",
       "\n",
       "    .dataframe tbody tr th {\n",
       "        vertical-align: top;\n",
       "    }\n",
       "\n",
       "    .dataframe thead th {\n",
       "        text-align: right;\n",
       "    }\n",
       "</style>\n",
       "<table border=\"1\" class=\"dataframe\">\n",
       "  <thead>\n",
       "    <tr style=\"text-align: right;\">\n",
       "      <th></th>\n",
       "      <th>FAT</th>\n",
       "      <th>AGE</th>\n",
       "      <th>WEIGHT</th>\n",
       "      <th>HEIGHT</th>\n",
       "      <th>NECK</th>\n",
       "      <th>CHEST</th>\n",
       "      <th>ABDOMEN</th>\n",
       "      <th>HIP</th>\n",
       "      <th>THIGH</th>\n",
       "      <th>KNEE</th>\n",
       "      <th>ANKLE</th>\n",
       "      <th>BICEPS</th>\n",
       "      <th>FOREARM</th>\n",
       "      <th>WRIST</th>\n",
       "      <th>WEIGHT_KG</th>\n",
       "      <th>HEIGHT_M</th>\n",
       "      <th>BMI</th>\n",
       "    </tr>\n",
       "  </thead>\n",
       "  <tbody>\n",
       "    <tr>\n",
       "      <th>0</th>\n",
       "      <td>35.2</td>\n",
       "      <td>46</td>\n",
       "      <td>363.15</td>\n",
       "      <td>72.25</td>\n",
       "      <td>51.2</td>\n",
       "      <td>136.2</td>\n",
       "      <td>148.1</td>\n",
       "      <td>147.7</td>\n",
       "      <td>87.3</td>\n",
       "      <td>49.1</td>\n",
       "      <td>29.6</td>\n",
       "      <td>45.0</td>\n",
       "      <td>29.0</td>\n",
       "      <td>21.4</td>\n",
       "      <td>163.4175</td>\n",
       "      <td>1.83515</td>\n",
       "      <td>48.523870</td>\n",
       "    </tr>\n",
       "    <tr>\n",
       "      <th>1</th>\n",
       "      <td>11.8</td>\n",
       "      <td>27</td>\n",
       "      <td>168.00</td>\n",
       "      <td>71.25</td>\n",
       "      <td>38.1</td>\n",
       "      <td>93.0</td>\n",
       "      <td>79.1</td>\n",
       "      <td>94.5</td>\n",
       "      <td>57.3</td>\n",
       "      <td>36.2</td>\n",
       "      <td>24.5</td>\n",
       "      <td>29.0</td>\n",
       "      <td>30.0</td>\n",
       "      <td>18.8</td>\n",
       "      <td>75.6000</td>\n",
       "      <td>1.80975</td>\n",
       "      <td>23.082595</td>\n",
       "    </tr>\n",
       "    <tr>\n",
       "      <th>2</th>\n",
       "      <td>22.2</td>\n",
       "      <td>69</td>\n",
       "      <td>177.75</td>\n",
       "      <td>68.50</td>\n",
       "      <td>38.7</td>\n",
       "      <td>102.0</td>\n",
       "      <td>95.0</td>\n",
       "      <td>98.3</td>\n",
       "      <td>55.0</td>\n",
       "      <td>38.3</td>\n",
       "      <td>21.8</td>\n",
       "      <td>30.8</td>\n",
       "      <td>25.7</td>\n",
       "      <td>18.8</td>\n",
       "      <td>79.9875</td>\n",
       "      <td>1.73990</td>\n",
       "      <td>26.422478</td>\n",
       "    </tr>\n",
       "    <tr>\n",
       "      <th>3</th>\n",
       "      <td>10.6</td>\n",
       "      <td>57</td>\n",
       "      <td>147.75</td>\n",
       "      <td>65.75</td>\n",
       "      <td>35.2</td>\n",
       "      <td>99.6</td>\n",
       "      <td>86.4</td>\n",
       "      <td>90.1</td>\n",
       "      <td>53.0</td>\n",
       "      <td>35.0</td>\n",
       "      <td>21.3</td>\n",
       "      <td>31.7</td>\n",
       "      <td>27.3</td>\n",
       "      <td>16.9</td>\n",
       "      <td>66.4875</td>\n",
       "      <td>1.67005</td>\n",
       "      <td>23.838617</td>\n",
       "    </tr>\n",
       "    <tr>\n",
       "      <th>4</th>\n",
       "      <td>47.5</td>\n",
       "      <td>51</td>\n",
       "      <td>219.00</td>\n",
       "      <td>64.00</td>\n",
       "      <td>41.2</td>\n",
       "      <td>119.8</td>\n",
       "      <td>122.1</td>\n",
       "      <td>112.8</td>\n",
       "      <td>62.5</td>\n",
       "      <td>36.9</td>\n",
       "      <td>23.6</td>\n",
       "      <td>34.7</td>\n",
       "      <td>29.1</td>\n",
       "      <td>18.4</td>\n",
       "      <td>98.5500</td>\n",
       "      <td>1.62560</td>\n",
       "      <td>37.293165</td>\n",
       "    </tr>\n",
       "  </tbody>\n",
       "</table>\n",
       "</div>"
      ],
      "text/plain": [
       "    FAT  AGE  WEIGHT  HEIGHT  NECK  CHEST  ABDOMEN    HIP  THIGH  KNEE  ANKLE  \\\n",
       "0  35.2   46  363.15   72.25  51.2  136.2    148.1  147.7   87.3  49.1   29.6   \n",
       "1  11.8   27  168.00   71.25  38.1   93.0     79.1   94.5   57.3  36.2   24.5   \n",
       "2  22.2   69  177.75   68.50  38.7  102.0     95.0   98.3   55.0  38.3   21.8   \n",
       "3  10.6   57  147.75   65.75  35.2   99.6     86.4   90.1   53.0  35.0   21.3   \n",
       "4  47.5   51  219.00   64.00  41.2  119.8    122.1  112.8   62.5  36.9   23.6   \n",
       "\n",
       "   BICEPS  FOREARM  WRIST  WEIGHT_KG  HEIGHT_M        BMI  \n",
       "0    45.0     29.0   21.4   163.4175   1.83515  48.523870  \n",
       "1    29.0     30.0   18.8    75.6000   1.80975  23.082595  \n",
       "2    30.8     25.7   18.8    79.9875   1.73990  26.422478  \n",
       "3    31.7     27.3   16.9    66.4875   1.67005  23.838617  \n",
       "4    34.7     29.1   18.4    98.5500   1.62560  37.293165  "
      ]
     },
     "execution_count": 6,
     "metadata": {},
     "output_type": "execute_result"
    }
   ],
   "source": [
    "# 단위 변환\n",
    "df['WEIGHT_KG']=0.45*df['WEIGHT']\n",
    "df['HEIGHT_M']=((2.54)/100)*df['HEIGHT']\n",
    "df['BMI'] = 0.45*df['WEIGHT']/(((2.54)/100)*df['HEIGHT']*((2.54)/100)*df['HEIGHT'])\n",
    "df.head()"
   ]
  },
  {
   "cell_type": "code",
   "execution_count": 7,
   "id": "5bf71170",
   "metadata": {},
   "outputs": [
    {
     "data": {
      "text/html": [
       "<div>\n",
       "<style scoped>\n",
       "    .dataframe tbody tr th:only-of-type {\n",
       "        vertical-align: middle;\n",
       "    }\n",
       "\n",
       "    .dataframe tbody tr th {\n",
       "        vertical-align: top;\n",
       "    }\n",
       "\n",
       "    .dataframe thead th {\n",
       "        text-align: right;\n",
       "    }\n",
       "</style>\n",
       "<table border=\"1\" class=\"dataframe\">\n",
       "  <thead>\n",
       "    <tr style=\"text-align: right;\">\n",
       "      <th></th>\n",
       "      <th>WEIGHT_KG</th>\n",
       "      <th>HEIGHT_M</th>\n",
       "      <th>BMI</th>\n",
       "      <th>FAT</th>\n",
       "    </tr>\n",
       "  </thead>\n",
       "  <tbody>\n",
       "    <tr>\n",
       "      <th>0</th>\n",
       "      <td>163.4175</td>\n",
       "      <td>1.83515</td>\n",
       "      <td>48.523870</td>\n",
       "      <td>35.2</td>\n",
       "    </tr>\n",
       "    <tr>\n",
       "      <th>1</th>\n",
       "      <td>75.6000</td>\n",
       "      <td>1.80975</td>\n",
       "      <td>23.082595</td>\n",
       "      <td>11.8</td>\n",
       "    </tr>\n",
       "    <tr>\n",
       "      <th>2</th>\n",
       "      <td>79.9875</td>\n",
       "      <td>1.73990</td>\n",
       "      <td>26.422478</td>\n",
       "      <td>22.2</td>\n",
       "    </tr>\n",
       "    <tr>\n",
       "      <th>3</th>\n",
       "      <td>66.4875</td>\n",
       "      <td>1.67005</td>\n",
       "      <td>23.838617</td>\n",
       "      <td>10.6</td>\n",
       "    </tr>\n",
       "    <tr>\n",
       "      <th>4</th>\n",
       "      <td>98.5500</td>\n",
       "      <td>1.62560</td>\n",
       "      <td>37.293165</td>\n",
       "      <td>47.5</td>\n",
       "    </tr>\n",
       "  </tbody>\n",
       "</table>\n",
       "</div>"
      ],
      "text/plain": [
       "   WEIGHT_KG  HEIGHT_M        BMI   FAT\n",
       "0   163.4175   1.83515  48.523870  35.2\n",
       "1    75.6000   1.80975  23.082595  11.8\n",
       "2    79.9875   1.73990  26.422478  22.2\n",
       "3    66.4875   1.67005  23.838617  10.6\n",
       "4    98.5500   1.62560  37.293165  47.5"
      ]
     },
     "execution_count": 7,
     "metadata": {},
     "output_type": "execute_result"
    }
   ],
   "source": [
    "df_new = df.iloc[:,14:]\n",
    "df_new['FAT'] = df['FAT']\n",
    "df_new.head()"
   ]
  },
  {
   "cell_type": "markdown",
   "id": "444790d8",
   "metadata": {},
   "source": [
    "## 변수 간의 경향성 파악"
   ]
  },
  {
   "cell_type": "markdown",
   "id": "f1c7222f",
   "metadata": {},
   "source": [
    "### 산점도 분석"
   ]
  },
  {
   "cell_type": "code",
   "execution_count": 8,
   "id": "e4976854",
   "metadata": {
    "scrolled": true
   },
   "outputs": [
    {
     "data": {
      "text/plain": [
       "<seaborn.axisgrid.PairGrid at 0x7f18a68bda90>"
      ]
     },
     "execution_count": 8,
     "metadata": {},
     "output_type": "execute_result"
    },
    {
     "data": {
      "image/png": "[encoded data removed]",
      "text/plain": [
       "<Figure size 250x250 with 1 Axes>"
      ]
     },
     "metadata": {},
     "output_type": "display_data"
    }
   ],
   "source": [
    "sns.pairplot(df_new, y_vars = 'FAT', x_vars='BMI', kind='reg')"
   ]
  },
  {
   "cell_type": "markdown",
   "id": "3c46e559",
   "metadata": {},
   "source": [
    "* 이상치로 인해 경향성이 잘 나타나지 않는다."
   ]
  },
  {
   "cell_type": "markdown",
   "id": "c9159f62",
   "metadata": {},
   "source": [
    "#### 이상치 제거"
   ]
  },
  {
   "cell_type": "code",
   "execution_count": 9,
   "id": "fc749a32",
   "metadata": {},
   "outputs": [
    {
     "data": {
      "text/html": [
       "<div>\n",
       "<style scoped>\n",
       "    .dataframe tbody tr th:only-of-type {\n",
       "        vertical-align: middle;\n",
       "    }\n",
       "\n",
       "    .dataframe tbody tr th {\n",
       "        vertical-align: top;\n",
       "    }\n",
       "\n",
       "    .dataframe thead th {\n",
       "        text-align: right;\n",
       "    }\n",
       "</style>\n",
       "<table border=\"1\" class=\"dataframe\">\n",
       "  <thead>\n",
       "    <tr style=\"text-align: right;\">\n",
       "      <th></th>\n",
       "      <th>WEIGHT_KG</th>\n",
       "      <th>HEIGHT_M</th>\n",
       "      <th>BMI</th>\n",
       "      <th>FAT</th>\n",
       "    </tr>\n",
       "  </thead>\n",
       "  <tbody>\n",
       "    <tr>\n",
       "      <th>78</th>\n",
       "      <td>92.2500</td>\n",
       "      <td>0.74930</td>\n",
       "      <td>164.306562</td>\n",
       "      <td>32.9</td>\n",
       "    </tr>\n",
       "    <tr>\n",
       "      <th>0</th>\n",
       "      <td>163.4175</td>\n",
       "      <td>1.83515</td>\n",
       "      <td>48.523870</td>\n",
       "      <td>35.2</td>\n",
       "    </tr>\n",
       "    <tr>\n",
       "      <th>82</th>\n",
       "      <td>118.2375</td>\n",
       "      <td>1.74625</td>\n",
       "      <td>38.774160</td>\n",
       "      <td>34.5</td>\n",
       "    </tr>\n",
       "    <tr>\n",
       "      <th>4</th>\n",
       "      <td>98.5500</td>\n",
       "      <td>1.62560</td>\n",
       "      <td>37.293165</td>\n",
       "      <td>47.5</td>\n",
       "    </tr>\n",
       "    <tr>\n",
       "      <th>117</th>\n",
       "      <td>101.0250</td>\n",
       "      <td>1.73355</td>\n",
       "      <td>33.616780</td>\n",
       "      <td>35.0</td>\n",
       "    </tr>\n",
       "    <tr>\n",
       "      <th>...</th>\n",
       "      <td>...</td>\n",
       "      <td>...</td>\n",
       "      <td>...</td>\n",
       "      <td>...</td>\n",
       "    </tr>\n",
       "    <tr>\n",
       "      <th>17</th>\n",
       "      <td>63.0000</td>\n",
       "      <td>1.79070</td>\n",
       "      <td>19.646938</td>\n",
       "      <td>15.1</td>\n",
       "    </tr>\n",
       "    <tr>\n",
       "      <th>230</th>\n",
       "      <td>65.7000</td>\n",
       "      <td>1.83515</td>\n",
       "      <td>19.508426</td>\n",
       "      <td>10.1</td>\n",
       "    </tr>\n",
       "    <tr>\n",
       "      <th>53</th>\n",
       "      <td>64.6875</td>\n",
       "      <td>1.84150</td>\n",
       "      <td>19.075544</td>\n",
       "      <td>5.3</td>\n",
       "    </tr>\n",
       "    <tr>\n",
       "      <th>174</th>\n",
       "      <td>56.3625</td>\n",
       "      <td>1.72720</td>\n",
       "      <td>18.893177</td>\n",
       "      <td>7.7</td>\n",
       "    </tr>\n",
       "    <tr>\n",
       "      <th>21</th>\n",
       "      <td>53.3250</td>\n",
       "      <td>1.72720</td>\n",
       "      <td>17.874982</td>\n",
       "      <td>0.0</td>\n",
       "    </tr>\n",
       "  </tbody>\n",
       "</table>\n",
       "<p>252 rows × 4 columns</p>\n",
       "</div>"
      ],
      "text/plain": [
       "     WEIGHT_KG  HEIGHT_M         BMI   FAT\n",
       "78     92.2500   0.74930  164.306562  32.9\n",
       "0     163.4175   1.83515   48.523870  35.2\n",
       "82    118.2375   1.74625   38.774160  34.5\n",
       "4      98.5500   1.62560   37.293165  47.5\n",
       "117   101.0250   1.73355   33.616780  35.0\n",
       "..         ...       ...         ...   ...\n",
       "17     63.0000   1.79070   19.646938  15.1\n",
       "230    65.7000   1.83515   19.508426  10.1\n",
       "53     64.6875   1.84150   19.075544   5.3\n",
       "174    56.3625   1.72720   18.893177   7.7\n",
       "21     53.3250   1.72720   17.874982   0.0\n",
       "\n",
       "[252 rows x 4 columns]"
      ]
     },
     "execution_count": 9,
     "metadata": {},
     "output_type": "execute_result"
    }
   ],
   "source": [
    "df_new['BMI'].sort_index()\n",
    "df_new.sort_values(by = \"BMI\", ascending = False, inplace = True)\n",
    "df_new"
   ]
  },
  {
   "cell_type": "markdown",
   "id": "c4dceb8b",
   "metadata": {},
   "source": [
    "> 78번 data는 다른 data와 달리 키와 몸무게가 FAT지표와 잘 맞지 않는다  \n",
    "> 따라서 이상치로 판단하여 제거하였다."
   ]
  },
  {
   "cell_type": "code",
   "execution_count": 10,
   "id": "c0c3ca6c",
   "metadata": {},
   "outputs": [
    {
     "data": {
      "text/plain": [
       "164.30656245397523"
      ]
     },
     "execution_count": 10,
     "metadata": {},
     "output_type": "execute_result"
    }
   ],
   "source": [
    "df_new['BMI'][78]"
   ]
  },
  {
   "cell_type": "code",
   "execution_count": 11,
   "id": "8bede7e4",
   "metadata": {},
   "outputs": [],
   "source": [
    "df_new.drop([78], inplace = True)"
   ]
  },
  {
   "cell_type": "code",
   "execution_count": 12,
   "id": "377859ed",
   "metadata": {},
   "outputs": [
    {
     "data": {
      "text/html": [
       "<div>\n",
       "<style scoped>\n",
       "    .dataframe tbody tr th:only-of-type {\n",
       "        vertical-align: middle;\n",
       "    }\n",
       "\n",
       "    .dataframe tbody tr th {\n",
       "        vertical-align: top;\n",
       "    }\n",
       "\n",
       "    .dataframe thead th {\n",
       "        text-align: right;\n",
       "    }\n",
       "</style>\n",
       "<table border=\"1\" class=\"dataframe\">\n",
       "  <thead>\n",
       "    <tr style=\"text-align: right;\">\n",
       "      <th></th>\n",
       "      <th>index</th>\n",
       "      <th>WEIGHT_KG</th>\n",
       "      <th>HEIGHT_M</th>\n",
       "      <th>BMI</th>\n",
       "      <th>FAT</th>\n",
       "    </tr>\n",
       "  </thead>\n",
       "  <tbody>\n",
       "    <tr>\n",
       "      <th>0</th>\n",
       "      <td>0</td>\n",
       "      <td>163.4175</td>\n",
       "      <td>1.83515</td>\n",
       "      <td>48.523870</td>\n",
       "      <td>35.2</td>\n",
       "    </tr>\n",
       "    <tr>\n",
       "      <th>1</th>\n",
       "      <td>82</td>\n",
       "      <td>118.2375</td>\n",
       "      <td>1.74625</td>\n",
       "      <td>38.774160</td>\n",
       "      <td>34.5</td>\n",
       "    </tr>\n",
       "    <tr>\n",
       "      <th>2</th>\n",
       "      <td>4</td>\n",
       "      <td>98.5500</td>\n",
       "      <td>1.62560</td>\n",
       "      <td>37.293165</td>\n",
       "      <td>47.5</td>\n",
       "    </tr>\n",
       "    <tr>\n",
       "      <th>3</th>\n",
       "      <td>117</td>\n",
       "      <td>101.0250</td>\n",
       "      <td>1.73355</td>\n",
       "      <td>33.616780</td>\n",
       "      <td>35.0</td>\n",
       "    </tr>\n",
       "    <tr>\n",
       "      <th>4</th>\n",
       "      <td>31</td>\n",
       "      <td>102.7125</td>\n",
       "      <td>1.76530</td>\n",
       "      <td>32.959928</td>\n",
       "      <td>34.3</td>\n",
       "    </tr>\n",
       "    <tr>\n",
       "      <th>...</th>\n",
       "      <td>...</td>\n",
       "      <td>...</td>\n",
       "      <td>...</td>\n",
       "      <td>...</td>\n",
       "      <td>...</td>\n",
       "    </tr>\n",
       "    <tr>\n",
       "      <th>246</th>\n",
       "      <td>17</td>\n",
       "      <td>63.0000</td>\n",
       "      <td>1.79070</td>\n",
       "      <td>19.646938</td>\n",
       "      <td>15.1</td>\n",
       "    </tr>\n",
       "    <tr>\n",
       "      <th>247</th>\n",
       "      <td>230</td>\n",
       "      <td>65.7000</td>\n",
       "      <td>1.83515</td>\n",
       "      <td>19.508426</td>\n",
       "      <td>10.1</td>\n",
       "    </tr>\n",
       "    <tr>\n",
       "      <th>248</th>\n",
       "      <td>53</td>\n",
       "      <td>64.6875</td>\n",
       "      <td>1.84150</td>\n",
       "      <td>19.075544</td>\n",
       "      <td>5.3</td>\n",
       "    </tr>\n",
       "    <tr>\n",
       "      <th>249</th>\n",
       "      <td>174</td>\n",
       "      <td>56.3625</td>\n",
       "      <td>1.72720</td>\n",
       "      <td>18.893177</td>\n",
       "      <td>7.7</td>\n",
       "    </tr>\n",
       "    <tr>\n",
       "      <th>250</th>\n",
       "      <td>21</td>\n",
       "      <td>53.3250</td>\n",
       "      <td>1.72720</td>\n",
       "      <td>17.874982</td>\n",
       "      <td>0.0</td>\n",
       "    </tr>\n",
       "  </tbody>\n",
       "</table>\n",
       "<p>251 rows × 5 columns</p>\n",
       "</div>"
      ],
      "text/plain": [
       "     index  WEIGHT_KG  HEIGHT_M        BMI   FAT\n",
       "0        0   163.4175   1.83515  48.523870  35.2\n",
       "1       82   118.2375   1.74625  38.774160  34.5\n",
       "2        4    98.5500   1.62560  37.293165  47.5\n",
       "3      117   101.0250   1.73355  33.616780  35.0\n",
       "4       31   102.7125   1.76530  32.959928  34.3\n",
       "..     ...        ...       ...        ...   ...\n",
       "246     17    63.0000   1.79070  19.646938  15.1\n",
       "247    230    65.7000   1.83515  19.508426  10.1\n",
       "248     53    64.6875   1.84150  19.075544   5.3\n",
       "249    174    56.3625   1.72720  18.893177   7.7\n",
       "250     21    53.3250   1.72720  17.874982   0.0\n",
       "\n",
       "[251 rows x 5 columns]"
      ]
     },
     "execution_count": 12,
     "metadata": {},
     "output_type": "execute_result"
    }
   ],
   "source": [
    "df_new.reset_index(inplace = True)\n",
    "df_new"
   ]
  },
  {
   "cell_type": "markdown",
   "id": "7e3d7968",
   "metadata": {},
   "source": [
    "#### 제거 후 산점도 분석"
   ]
  },
  {
   "cell_type": "code",
   "execution_count": 13,
   "id": "a9b51466",
   "metadata": {},
   "outputs": [
    {
     "data": {
      "text/plain": [
       "<seaborn.axisgrid.PairGrid at 0x7f18a68bdc70>"
      ]
     },
     "execution_count": 13,
     "metadata": {},
     "output_type": "execute_result"
    },
    {
     "data": {
      "image/png": "[encoded data removed]",
      "text/plain": [
       "<Figure size 500x500 with 1 Axes>"
      ]
     },
     "metadata": {},
     "output_type": "display_data"
    }
   ],
   "source": [
    "sns.pairplot(df_new, y_vars = 'FAT', x_vars='BMI', kind='reg', height = 5)"
   ]
  },
  {
   "cell_type": "markdown",
   "id": "4e84d0e4",
   "metadata": {},
   "source": [
    "* 이상치 제거 후 산점도 분석 결과, 대부분의 표본과 거리가 먼 data 1개를 추가 식별하였고 추가로 제거하였다."
   ]
  },
  {
   "cell_type": "code",
   "execution_count": 14,
   "id": "8d421b2e",
   "metadata": {},
   "outputs": [
    {
     "data": {
      "text/html": [
       "<div>\n",
       "<style scoped>\n",
       "    .dataframe tbody tr th:only-of-type {\n",
       "        vertical-align: middle;\n",
       "    }\n",
       "\n",
       "    .dataframe tbody tr th {\n",
       "        vertical-align: top;\n",
       "    }\n",
       "\n",
       "    .dataframe thead th {\n",
       "        text-align: right;\n",
       "    }\n",
       "</style>\n",
       "<table border=\"1\" class=\"dataframe\">\n",
       "  <thead>\n",
       "    <tr style=\"text-align: right;\">\n",
       "      <th></th>\n",
       "      <th>index</th>\n",
       "      <th>WEIGHT_KG</th>\n",
       "      <th>HEIGHT_M</th>\n",
       "      <th>BMI</th>\n",
       "      <th>FAT</th>\n",
       "    </tr>\n",
       "  </thead>\n",
       "  <tbody>\n",
       "    <tr>\n",
       "      <th>0</th>\n",
       "      <td>0</td>\n",
       "      <td>163.4175</td>\n",
       "      <td>1.83515</td>\n",
       "      <td>48.523870</td>\n",
       "      <td>35.2</td>\n",
       "    </tr>\n",
       "    <tr>\n",
       "      <th>1</th>\n",
       "      <td>82</td>\n",
       "      <td>118.2375</td>\n",
       "      <td>1.74625</td>\n",
       "      <td>38.774160</td>\n",
       "      <td>34.5</td>\n",
       "    </tr>\n",
       "    <tr>\n",
       "      <th>2</th>\n",
       "      <td>4</td>\n",
       "      <td>98.5500</td>\n",
       "      <td>1.62560</td>\n",
       "      <td>37.293165</td>\n",
       "      <td>47.5</td>\n",
       "    </tr>\n",
       "    <tr>\n",
       "      <th>3</th>\n",
       "      <td>117</td>\n",
       "      <td>101.0250</td>\n",
       "      <td>1.73355</td>\n",
       "      <td>33.616780</td>\n",
       "      <td>35.0</td>\n",
       "    </tr>\n",
       "    <tr>\n",
       "      <th>4</th>\n",
       "      <td>31</td>\n",
       "      <td>102.7125</td>\n",
       "      <td>1.76530</td>\n",
       "      <td>32.959928</td>\n",
       "      <td>34.3</td>\n",
       "    </tr>\n",
       "  </tbody>\n",
       "</table>\n",
       "</div>"
      ],
      "text/plain": [
       "   index  WEIGHT_KG  HEIGHT_M        BMI   FAT\n",
       "0      0   163.4175   1.83515  48.523870  35.2\n",
       "1     82   118.2375   1.74625  38.774160  34.5\n",
       "2      4    98.5500   1.62560  37.293165  47.5\n",
       "3    117   101.0250   1.73355  33.616780  35.0\n",
       "4     31   102.7125   1.76530  32.959928  34.3"
      ]
     },
     "execution_count": 14,
     "metadata": {},
     "output_type": "execute_result"
    }
   ],
   "source": [
    "df_new['BMI'].sort_index()\n",
    "df_new.sort_values(by = \"BMI\", ascending = False, inplace = True)\n",
    "df_new.head()"
   ]
  },
  {
   "cell_type": "code",
   "execution_count": 15,
   "id": "815e5769",
   "metadata": {},
   "outputs": [],
   "source": [
    "df_new.drop(df.index[:3], inplace = True)"
   ]
  },
  {
   "cell_type": "code",
   "execution_count": 16,
   "id": "b667a0ae",
   "metadata": {},
   "outputs": [
    {
     "data": {
      "text/html": [
       "<div>\n",
       "<style scoped>\n",
       "    .dataframe tbody tr th:only-of-type {\n",
       "        vertical-align: middle;\n",
       "    }\n",
       "\n",
       "    .dataframe tbody tr th {\n",
       "        vertical-align: top;\n",
       "    }\n",
       "\n",
       "    .dataframe thead th {\n",
       "        text-align: right;\n",
       "    }\n",
       "</style>\n",
       "<table border=\"1\" class=\"dataframe\">\n",
       "  <thead>\n",
       "    <tr style=\"text-align: right;\">\n",
       "      <th></th>\n",
       "      <th>level_0</th>\n",
       "      <th>index</th>\n",
       "      <th>WEIGHT_KG</th>\n",
       "      <th>HEIGHT_M</th>\n",
       "      <th>BMI</th>\n",
       "      <th>FAT</th>\n",
       "    </tr>\n",
       "  </thead>\n",
       "  <tbody>\n",
       "    <tr>\n",
       "      <th>0</th>\n",
       "      <td>3</td>\n",
       "      <td>117</td>\n",
       "      <td>101.0250</td>\n",
       "      <td>1.73355</td>\n",
       "      <td>33.616780</td>\n",
       "      <td>35.0</td>\n",
       "    </tr>\n",
       "    <tr>\n",
       "      <th>1</th>\n",
       "      <td>4</td>\n",
       "      <td>31</td>\n",
       "      <td>102.7125</td>\n",
       "      <td>1.76530</td>\n",
       "      <td>32.959928</td>\n",
       "      <td>34.3</td>\n",
       "    </tr>\n",
       "    <tr>\n",
       "      <th>2</th>\n",
       "      <td>5</td>\n",
       "      <td>40</td>\n",
       "      <td>108.5625</td>\n",
       "      <td>1.81610</td>\n",
       "      <td>32.915490</td>\n",
       "      <td>29.9</td>\n",
       "    </tr>\n",
       "    <tr>\n",
       "      <th>3</th>\n",
       "      <td>6</td>\n",
       "      <td>188</td>\n",
       "      <td>100.3500</td>\n",
       "      <td>1.77165</td>\n",
       "      <td>31.971390</td>\n",
       "      <td>34.8</td>\n",
       "    </tr>\n",
       "    <tr>\n",
       "      <th>4</th>\n",
       "      <td>7</td>\n",
       "      <td>144</td>\n",
       "      <td>111.2625</td>\n",
       "      <td>1.86690</td>\n",
       "      <td>31.923221</td>\n",
       "      <td>32.3</td>\n",
       "    </tr>\n",
       "  </tbody>\n",
       "</table>\n",
       "</div>"
      ],
      "text/plain": [
       "   level_0  index  WEIGHT_KG  HEIGHT_M        BMI   FAT\n",
       "0        3    117   101.0250   1.73355  33.616780  35.0\n",
       "1        4     31   102.7125   1.76530  32.959928  34.3\n",
       "2        5     40   108.5625   1.81610  32.915490  29.9\n",
       "3        6    188   100.3500   1.77165  31.971390  34.8\n",
       "4        7    144   111.2625   1.86690  31.923221  32.3"
      ]
     },
     "execution_count": 16,
     "metadata": {},
     "output_type": "execute_result"
    }
   ],
   "source": [
    "df_new.reset_index(inplace = True)\n",
    "df_new.head()"
   ]
  },
  {
   "cell_type": "code",
   "execution_count": 17,
   "id": "90a33f89",
   "metadata": {},
   "outputs": [
    {
     "data": {
      "text/plain": [
       "<seaborn.axisgrid.PairGrid at 0x7f189df7b760>"
      ]
     },
     "execution_count": 17,
     "metadata": {},
     "output_type": "execute_result"
    },
    {
     "data": {
      "image/png": "[encoded data removed]",
      "text/plain": [
       "<Figure size 500x500 with 1 Axes>"
      ]
     },
     "metadata": {},
     "output_type": "display_data"
    }
   ],
   "source": [
    "sns.pairplot(df_new, y_vars = 'FAT', x_vars='BMI', kind='reg', height = 5)"
   ]
  },
  {
   "cell_type": "code",
   "execution_count": 18,
   "id": "72578d94",
   "metadata": {},
   "outputs": [],
   "source": [
    "df_new = df_new.iloc[:,4:]"
   ]
  },
  {
   "cell_type": "markdown",
   "id": "3a7a6cfe",
   "metadata": {},
   "source": [
    "### 상관분석"
   ]
  },
  {
   "cell_type": "code",
   "execution_count": 19,
   "id": "597bc600",
   "metadata": {},
   "outputs": [
    {
     "data": {
      "text/html": [
       "<div>\n",
       "<style scoped>\n",
       "    .dataframe tbody tr th:only-of-type {\n",
       "        vertical-align: middle;\n",
       "    }\n",
       "\n",
       "    .dataframe tbody tr th {\n",
       "        vertical-align: top;\n",
       "    }\n",
       "\n",
       "    .dataframe thead th {\n",
       "        text-align: right;\n",
       "    }\n",
       "</style>\n",
       "<table border=\"1\" class=\"dataframe\">\n",
       "  <thead>\n",
       "    <tr style=\"text-align: right;\">\n",
       "      <th></th>\n",
       "      <th>BMI</th>\n",
       "      <th>FAT</th>\n",
       "    </tr>\n",
       "  </thead>\n",
       "  <tbody>\n",
       "    <tr>\n",
       "      <th>BMI</th>\n",
       "      <td>1.000</td>\n",
       "      <td>0.731</td>\n",
       "    </tr>\n",
       "    <tr>\n",
       "      <th>FAT</th>\n",
       "      <td>0.731</td>\n",
       "      <td>1.000</td>\n",
       "    </tr>\n",
       "  </tbody>\n",
       "</table>\n",
       "</div>"
      ],
      "text/plain": [
       "       BMI    FAT\n",
       "BMI  1.000  0.731\n",
       "FAT  0.731  1.000"
      ]
     },
     "execution_count": 19,
     "metadata": {},
     "output_type": "execute_result"
    }
   ],
   "source": [
    "df_new.corr().round(3)"
   ]
  },
  {
   "cell_type": "markdown",
   "id": "d89d02a7",
   "metadata": {},
   "source": [
    "* BMI와 FAT의 상관계수가 0.731로 높은 선형 관계가 있다."
   ]
  },
  {
   "cell_type": "markdown",
   "id": "22828679",
   "metadata": {},
   "source": [
    "## 선형 회귀 모델 생성"
   ]
  },
  {
   "cell_type": "code",
   "execution_count": 20,
   "id": "4d554e8b",
   "metadata": {},
   "outputs": [
    {
     "name": "stdout",
     "output_type": "stream",
     "text": [
      "                            OLS Regression Results                            \n",
      "==============================================================================\n",
      "Dep. Variable:                    FAT   R-squared:                       0.585\n",
      "Model:                            OLS   Adj. R-squared:                  0.582\n",
      "Method:                 Least Squares   F-statistic:                     205.8\n",
      "Date:                Mon, 31 Oct 2022   Prob (F-statistic):           1.13e-29\n",
      "Time:                        19:14:26   Log-Likelihood:                -456.48\n",
      "No. Observations:                 148   AIC:                             917.0\n",
      "Df Residuals:                     146   BIC:                             923.0\n",
      "Df Model:                           1                                         \n",
      "Covariance Type:            nonrobust                                         \n",
      "==============================================================================\n",
      "                 coef    std err          t      P>|t|      [0.025      0.975]\n",
      "------------------------------------------------------------------------------\n",
      "Intercept    -29.9903      3.408     -8.800      0.000     -36.726     -23.255\n",
      "BMI            1.9461      0.136     14.345      0.000       1.678       2.214\n",
      "==============================================================================\n",
      "Omnibus:                        1.178   Durbin-Watson:                   1.951\n",
      "Prob(Omnibus):                  0.555   Jarque-Bera (JB):                1.116\n",
      "Skew:                          -0.061   Prob(JB):                        0.572\n",
      "Kurtosis:                       2.593   Cond. No.                         196.\n",
      "==============================================================================\n",
      "\n",
      "Notes:\n",
      "[1] Standard Errors assume that the covariance matrix of the errors is correctly specified.\n"
     ]
    }
   ],
   "source": [
    "# data split\n",
    "df_train, df_test = train_test_split(df_new, test_size = 0.4, random_state = 1234)\n",
    "\n",
    "# 선형 회귀 분석\n",
    "reg_model = smf.ols(formula = \"FAT ~ BMI\", data = df_train)\n",
    "\n",
    "# 적합\n",
    "reg_result = reg_model.fit()\n",
    "print(reg_result.summary())"
   ]
  },
  {
   "cell_type": "markdown",
   "id": "10f81c6d",
   "metadata": {},
   "source": [
    "* p-value : 0.05보다 매우 작기 때문에 회귀모델로서 유의\n",
    "* 설명력 : 58.2%"
   ]
  },
  {
   "cell_type": "markdown",
   "id": "47668231",
   "metadata": {},
   "source": [
    "## 오차의 기본가정 검토"
   ]
  },
  {
   "cell_type": "markdown",
   "id": "d7deb264",
   "metadata": {},
   "source": [
    "### 등분산성 검정"
   ]
  },
  {
   "cell_type": "code",
   "execution_count": 21,
   "id": "bf07c0cf",
   "metadata": {},
   "outputs": [
    {
     "data": {
      "text/plain": [
       "<matplotlib.lines.Line2D at 0x7f189df7b2e0>"
      ]
     },
     "execution_count": 21,
     "metadata": {},
     "output_type": "execute_result"
    },
    {
     "data": {
      "image/png": "[encoded data removed]",
      "text/plain": [
       "<Figure size 640x480 with 1 Axes>"
      ]
     },
     "metadata": {},
     "output_type": "display_data"
    }
   ],
   "source": [
    "plt.scatter(reg_result.fittedvalues, reg_result.resid)\n",
    "plt.xlabel(\"fitted  value\")\n",
    "plt.ylabel(\"residual\")\n",
    "plt.axhline(y = 0, linestyle = '--')"
   ]
  },
  {
   "cell_type": "markdown",
   "id": "b91336f1",
   "metadata": {},
   "source": [
    "* 잔차가 Y=0을 기준으로 random하게 산포되어 있어 등분산성을 만족하는 것으로 볼 수 있다."
   ]
  },
  {
   "cell_type": "markdown",
   "id": "1e51663b",
   "metadata": {},
   "source": [
    "### 정규성 검정"
   ]
  },
  {
   "cell_type": "code",
   "execution_count": 22,
   "id": "c320b6c2",
   "metadata": {},
   "outputs": [
    {
     "data": {
      "image/png": "[encoded data removed]",
      "text/plain": [
       "<Figure size 640x480 with 1 Axes>"
      ]
     },
     "execution_count": 22,
     "metadata": {},
     "output_type": "execute_result"
    },
    {
     "data": {
      "image/png": "[encoded data removed]",
      "text/plain": [
       "<Figure size 640x480 with 1 Axes>"
      ]
     },
     "metadata": {},
     "output_type": "display_data"
    }
   ],
   "source": [
    "qqplot(reg_result.resid, line = \"q\")"
   ]
  },
  {
   "cell_type": "markdown",
   "id": "90337a0f",
   "metadata": {},
   "source": [
    "* 정규분포 직선(적색 선)을 중심으로 분포하므로 정규분포를 따른다."
   ]
  },
  {
   "cell_type": "markdown",
   "id": "d35c29e5",
   "metadata": {},
   "source": [
    "### 독립성 검정"
   ]
  },
  {
   "cell_type": "code",
   "execution_count": 23,
   "id": "5b907988",
   "metadata": {},
   "outputs": [
    {
     "data": {
      "text/plain": [
       "<matplotlib.lines.Line2D at 0x7f189da008b0>"
      ]
     },
     "execution_count": 23,
     "metadata": {},
     "output_type": "execute_result"
    },
    {
     "data": {
      "image/png": "[encoded data removed]",
      "text/plain": [
       "<Figure size 640x480 with 1 Axes>"
      ]
     },
     "metadata": {},
     "output_type": "display_data"
    }
   ],
   "source": [
    "plt.scatter(df_train.index, reg_result.resid)\n",
    "plt.xlabel(\"data\")\n",
    "plt.ylabel('residual')\n",
    "plt.axhline(y=0, linestyle='-', label='CL')\n",
    "plt.axhline(y=3*np.std(reg_result.resid),linestyle='--', color = 'red', label='UCL')\n",
    "plt.axhline(y=-3*np.std(reg_result.resid),linestyle='--', color = 'red', label='LCL')"
   ]
  },
  {
   "cell_type": "markdown",
   "id": "2b166d7b",
   "metadata": {},
   "source": [
    "* 잔차가 y=0을 기준으로 관리상하한(UCL, LCL)을 벗어나지 않고 Random하게 산포되어 있어 독립성을 만족한다고 볼 수 있다."
   ]
  },
  {
   "cell_type": "markdown",
   "id": "d4e40ba9",
   "metadata": {},
   "source": [
    "## 결론"
   ]
  },
  {
   "cell_type": "markdown",
   "id": "ca9b68db",
   "metadata": {},
   "source": [
    "BMI와 FAT의 선형 회귀식  \n",
    "> Y[FAT] = 1.946*X[BMI] - 29.9903  \n",
    "> BMI 지수가 1단위 증가할 때마다 FAT(체내 지방함량)는 1.946kg 증가"
   ]
  },
  {
   "cell_type": "markdown",
   "id": "95bd90f1",
   "metadata": {},
   "source": [
    "(선형회귀식 적용 예시)  \n",
    "> 철수는 BMI 지수가 21이었다. 하지만 코로나 확진으로 운동을 소홀히 하여 BMI지수가 25까지 증가하였다.  \n",
    "> 이때 철수의 증가한 지방은 얼마나 되는가?  \n",
    "  \n",
    "> 코로나 확진 전 지방함량 추정치 = 10.876kg  \n",
    "> 코로나 확진 후 지방함량 추정치 = 18.660kg  \n",
    "> 운동 부족으로 인하여 체내에 7.78kg의 지방이 축적되었다."
   ]
  }
 ],
 "metadata": {
  "kernelspec": {
   "display_name": "Python 3 (ipykernel)",
   "language": "python",
   "name": "python3"
  },
  "language_info": {
   "codemirror_mode": {
    "name": "ipython",
    "version": 3
   },
   "file_extension": ".py",
   "mimetype": "text/x-python",
   "name": "python",
   "nbconvert_exporter": "python",
   "pygments_lexer": "ipython3",
   "version": "3.9.13"
  }
 },
 "nbformat": 4,
 "nbformat_minor": 5
}
