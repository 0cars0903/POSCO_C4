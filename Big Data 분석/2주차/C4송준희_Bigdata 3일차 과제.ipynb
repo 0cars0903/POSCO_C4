{
 "cells": [
  {
   "cell_type": "code",
   "execution_count": 1,
   "id": "6f16fbde",
   "metadata": {},
   "outputs": [],
   "source": [
    "import pandas as pd\n",
    "import numpy as np\n",
    "import seaborn as sns\n",
    "\n",
    "import matplotlib\n",
    "import matplotlib.pyplot as plt\n",
    "\n",
    "import scipy\n",
    "from scipy import stats\n",
    "from statsmodels.stats.proportion import proportions_ztest\n",
    "\n",
    "import seaborn as sns\n",
    "\n",
    "import warnings\n",
    "warnings.filterwarnings('ignore')"
   ]
  },
  {
   "cell_type": "code",
   "execution_count": 258,
   "id": "afe5e8c7",
   "metadata": {},
   "outputs": [
    {
     "name": "stdout",
     "output_type": "stream",
     "text": [
      "/usr/share/fonts: caching, new cache contents: 0 fonts, 6 dirs\n",
      "/usr/share/fonts/X11: caching, new cache contents: 0 fonts, 4 dirs\n",
      "/usr/share/fonts/X11/Type1: caching, new cache contents: 8 fonts, 0 dirs\n",
      "/usr/share/fonts/X11/encodings: caching, new cache contents: 0 fonts, 1 dirs\n",
      "/usr/share/fonts/X11/encodings/large: caching, new cache contents: 0 fonts, 0 dirs\n",
      "/usr/share/fonts/X11/misc: caching, new cache contents: 89 fonts, 0 dirs\n",
      "/usr/share/fonts/X11/util: caching, new cache contents: 0 fonts, 0 dirs\n",
      "/usr/share/fonts/cMap: caching, new cache contents: 0 fonts, 0 dirs\n",
      "/usr/share/fonts/cmap: caching, new cache contents: 0 fonts, 5 dirs\n",
      "/usr/share/fonts/cmap/adobe-cns1: caching, new cache contents: 0 fonts, 0 dirs\n",
      "/usr/share/fonts/cmap/adobe-gb1: caching, new cache contents: 0 fonts, 0 dirs\n",
      "/usr/share/fonts/cmap/adobe-japan1: caching, new cache contents: 0 fonts, 0 dirs\n",
      "/usr/share/fonts/cmap/adobe-japan2: caching, new cache contents: 0 fonts, 0 dirs\n",
      "/usr/share/fonts/cmap/adobe-korea1: caching, new cache contents: 0 fonts, 0 dirs\n",
      "/usr/share/fonts/opentype: caching, new cache contents: 0 fonts, 2 dirs\n",
      "/usr/share/fonts/opentype/malayalam: caching, new cache contents: 3 fonts, 0 dirs\n",
      "/usr/share/fonts/opentype/noto: caching, new cache contents: 73 fonts, 0 dirs\n",
      "/usr/share/fonts/truetype: caching, new cache contents: 0 fonts, 46 dirs\n",
      "/usr/share/fonts/truetype/Gargi: caching, new cache contents: 1 fonts, 0 dirs\n",
      "/usr/share/fonts/truetype/Gubbi: caching, new cache contents: 1 fonts, 0 dirs\n",
      "/usr/share/fonts/truetype/Nakula: caching, new cache contents: 1 fonts, 0 dirs\n",
      "/usr/share/fonts/truetype/Navilu: caching, new cache contents: 1 fonts, 0 dirs\n",
      "/usr/share/fonts/truetype/Sahadeva: caching, new cache contents: 1 fonts, 0 dirs\n",
      "/usr/share/fonts/truetype/Sarai: caching, new cache contents: 1 fonts, 0 dirs\n",
      "/usr/share/fonts/truetype/abyssinica: caching, new cache contents: 1 fonts, 0 dirs\n",
      "/usr/share/fonts/truetype/dejavu: caching, new cache contents: 6 fonts, 0 dirs\n",
      "/usr/share/fonts/truetype/droid: caching, new cache contents: 1 fonts, 0 dirs\n",
      "/usr/share/fonts/truetype/fonts-beng-extra: caching, new cache contents: 6 fonts, 0 dirs\n",
      "/usr/share/fonts/truetype/fonts-deva-extra: caching, new cache contents: 3 fonts, 0 dirs\n",
      "/usr/share/fonts/truetype/fonts-gujr-extra: caching, new cache contents: 5 fonts, 0 dirs\n",
      "/usr/share/fonts/truetype/fonts-guru-extra: caching, new cache contents: 1 fonts, 0 dirs\n",
      "/usr/share/fonts/truetype/fonts-kalapi: caching, new cache contents: 1 fonts, 0 dirs\n",
      "/usr/share/fonts/truetype/fonts-orya-extra: caching, new cache contents: 1 fonts, 0 dirs\n",
      "/usr/share/fonts/truetype/fonts-telu-extra: caching, new cache contents: 2 fonts, 0 dirs\n",
      "/usr/share/fonts/truetype/freefont: caching, new cache contents: 12 fonts, 0 dirs\n",
      "/usr/share/fonts/truetype/kacst: caching, new cache contents: 15 fonts, 0 dirs\n",
      "/usr/share/fonts/truetype/kacst-one: caching, new cache contents: 2 fonts, 0 dirs\n",
      "/usr/share/fonts/truetype/lao: caching, new cache contents: 1 fonts, 0 dirs\n",
      "/usr/share/fonts/truetype/liberation: caching, new cache contents: 16 fonts, 0 dirs\n",
      "/usr/share/fonts/truetype/liberation2: caching, new cache contents: 12 fonts, 0 dirs\n",
      "/usr/share/fonts/truetype/lohit-assamese: caching, new cache contents: 1 fonts, 0 dirs\n",
      "/usr/share/fonts/truetype/lohit-bengali: caching, new cache contents: 1 fonts, 0 dirs\n",
      "/usr/share/fonts/truetype/lohit-devanagari: caching, new cache contents: 1 fonts, 0 dirs\n",
      "/usr/share/fonts/truetype/lohit-gujarati: caching, new cache contents: 1 fonts, 0 dirs\n",
      "/usr/share/fonts/truetype/lohit-kannada: caching, new cache contents: 1 fonts, 0 dirs\n",
      "/usr/share/fonts/truetype/lohit-malayalam: caching, new cache contents: 1 fonts, 0 dirs\n",
      "/usr/share/fonts/truetype/lohit-oriya: caching, new cache contents: 1 fonts, 0 dirs\n",
      "/usr/share/fonts/truetype/lohit-punjabi: caching, new cache contents: 1 fonts, 0 dirs\n",
      "/usr/share/fonts/truetype/lohit-tamil: caching, new cache contents: 1 fonts, 0 dirs\n",
      "/usr/share/fonts/truetype/lohit-tamil-classical: caching, new cache contents: 1 fonts, 0 dirs\n",
      "/usr/share/fonts/truetype/lohit-telugu: caching, new cache contents: 1 fonts, 0 dirs\n",
      "/usr/share/fonts/truetype/malayalam: caching, new cache contents: 11 fonts, 0 dirs\n",
      "/usr/share/fonts/truetype/nanum: caching, new cache contents: 31 fonts, 0 dirs\n",
      "/usr/share/fonts/truetype/noto: caching, new cache contents: 2 fonts, 0 dirs\n",
      "/usr/share/fonts/truetype/openoffice: caching, new cache contents: 1 fonts, 0 dirs\n",
      "/usr/share/fonts/truetype/padauk: caching, new cache contents: 4 fonts, 0 dirs\n",
      "/usr/share/fonts/truetype/pagul: caching, new cache contents: 1 fonts, 0 dirs\n",
      "/usr/share/fonts/truetype/samyak: caching, new cache contents: 1 fonts, 0 dirs\n",
      "/usr/share/fonts/truetype/samyak-fonts: caching, new cache contents: 3 fonts, 0 dirs\n",
      "/usr/share/fonts/truetype/sinhala: caching, new cache contents: 1 fonts, 0 dirs\n",
      "/usr/share/fonts/truetype/tibetan-machine: caching, new cache contents: 1 fonts, 0 dirs\n",
      "/usr/share/fonts/truetype/tlwg: caching, new cache contents: 58 fonts, 0 dirs\n",
      "/usr/share/fonts/truetype/ttf-khmeros-core: caching, new cache contents: 2 fonts, 0 dirs\n",
      "/usr/share/fonts/truetype/ubuntu: caching, new cache contents: 13 fonts, 0 dirs\n",
      "/usr/share/fonts/type1: caching, new cache contents: 0 fonts, 1 dirs\n",
      "/usr/share/fonts/type1/gsfonts: caching, new cache contents: 35 fonts, 0 dirs\n",
      "/home/piai/anaconda3/fonts: skipping, no such directory\n",
      "/home/piai/.local/share/fonts: skipping, no such directory\n",
      "/home/piai/.fonts: skipping, no such directory\n",
      "/usr/share/fonts/X11: skipping, looped directory detected\n",
      "/usr/share/fonts/cMap: skipping, looped directory detected\n",
      "/usr/share/fonts/cmap: skipping, looped directory detected\n",
      "/usr/share/fonts/opentype: skipping, looped directory detected\n",
      "/usr/share/fonts/truetype: skipping, looped directory detected\n",
      "/usr/share/fonts/type1: skipping, looped directory detected\n",
      "/usr/share/fonts/X11/Type1: skipping, looped directory detected\n",
      "/usr/share/fonts/X11/encodings: skipping, looped directory detected\n",
      "/usr/share/fonts/X11/misc: skipping, looped directory detected\n",
      "/usr/share/fonts/X11/util: skipping, looped directory detected\n",
      "/usr/share/fonts/cmap/adobe-cns1: skipping, looped directory detected\n",
      "/usr/share/fonts/cmap/adobe-gb1: skipping, looped directory detected\n",
      "/usr/share/fonts/cmap/adobe-japan1: skipping, looped directory detected\n",
      "/usr/share/fonts/cmap/adobe-japan2: skipping, looped directory detected\n",
      "/usr/share/fonts/cmap/adobe-korea1: skipping, looped directory detected\n",
      "/usr/share/fonts/opentype/malayalam: skipping, looped directory detected\n",
      "/usr/share/fonts/opentype/noto: skipping, looped directory detected\n",
      "/usr/share/fonts/truetype/Gargi: skipping, looped directory detected\n",
      "/usr/share/fonts/truetype/Gubbi: skipping, looped directory detected\n",
      "/usr/share/fonts/truetype/Nakula: skipping, looped directory detected\n",
      "/usr/share/fonts/truetype/Navilu: skipping, looped directory detected\n",
      "/usr/share/fonts/truetype/Sahadeva: skipping, looped directory detected\n",
      "/usr/share/fonts/truetype/Sarai: skipping, looped directory detected\n",
      "/usr/share/fonts/truetype/abyssinica: skipping, looped directory detected\n",
      "/usr/share/fonts/truetype/dejavu: skipping, looped directory detected\n",
      "/usr/share/fonts/truetype/droid: skipping, looped directory detected\n",
      "/usr/share/fonts/truetype/fonts-beng-extra: skipping, looped directory detected\n",
      "/usr/share/fonts/truetype/fonts-deva-extra: skipping, looped directory detected\n",
      "/usr/share/fonts/truetype/fonts-gujr-extra: skipping, looped directory detected\n",
      "/usr/share/fonts/truetype/fonts-guru-extra: skipping, looped directory detected\n",
      "/usr/share/fonts/truetype/fonts-kalapi: skipping, looped directory detected\n",
      "/usr/share/fonts/truetype/fonts-orya-extra: skipping, looped directory detected\n",
      "/usr/share/fonts/truetype/fonts-telu-extra: skipping, looped directory detected\n",
      "/usr/share/fonts/truetype/freefont: skipping, looped directory detected\n",
      "/usr/share/fonts/truetype/kacst: skipping, looped directory detected\n",
      "/usr/share/fonts/truetype/kacst-one: skipping, looped directory detected\n",
      "/usr/share/fonts/truetype/lao: skipping, looped directory detected\n",
      "/usr/share/fonts/truetype/liberation: skipping, looped directory detected\n",
      "/usr/share/fonts/truetype/liberation2: skipping, looped directory detected\n",
      "/usr/share/fonts/truetype/lohit-assamese: skipping, looped directory detected\n",
      "/usr/share/fonts/truetype/lohit-bengali: skipping, looped directory detected\n",
      "/usr/share/fonts/truetype/lohit-devanagari: skipping, looped directory detected\n",
      "/usr/share/fonts/truetype/lohit-gujarati: skipping, looped directory detected\n",
      "/usr/share/fonts/truetype/lohit-kannada: skipping, looped directory detected\n",
      "/usr/share/fonts/truetype/lohit-malayalam: skipping, looped directory detected\n",
      "/usr/share/fonts/truetype/lohit-oriya: skipping, looped directory detected\n",
      "/usr/share/fonts/truetype/lohit-punjabi: skipping, looped directory detected\n",
      "/usr/share/fonts/truetype/lohit-tamil: skipping, looped directory detected\n",
      "/usr/share/fonts/truetype/lohit-tamil-classical: skipping, looped directory detected\n",
      "/usr/share/fonts/truetype/lohit-telugu: skipping, looped directory detected\n",
      "/usr/share/fonts/truetype/malayalam: skipping, looped directory detected\n",
      "/usr/share/fonts/truetype/nanum: skipping, looped directory detected\n",
      "/usr/share/fonts/truetype/noto: skipping, looped directory detected\n",
      "/usr/share/fonts/truetype/openoffice: skipping, looped directory detected\n",
      "/usr/share/fonts/truetype/padauk: skipping, looped directory detected\n",
      "/usr/share/fonts/truetype/pagul: skipping, looped directory detected\n",
      "/usr/share/fonts/truetype/samyak: skipping, looped directory detected\n",
      "/usr/share/fonts/truetype/samyak-fonts: skipping, looped directory detected\n",
      "/usr/share/fonts/truetype/sinhala: skipping, looped directory detected\n",
      "/usr/share/fonts/truetype/tibetan-machine: skipping, looped directory detected\n",
      "/usr/share/fonts/truetype/tlwg: skipping, looped directory detected\n",
      "/usr/share/fonts/truetype/ttf-khmeros-core: skipping, looped directory detected\n",
      "/usr/share/fonts/truetype/ubuntu: skipping, looped directory detected\n",
      "/usr/share/fonts/type1/gsfonts: skipping, looped directory detected\n",
      "/usr/share/fonts/X11/encodings/large: skipping, looped directory detected\n",
      "/home/piai/anaconda3/var/cache/fontconfig: cleaning cache directory\n",
      "/home/piai/.cache/fontconfig: cleaning cache directory\n",
      "/home/piai/.fontconfig: not cleaning non-existent cache directory\n"
     ]
    },
    {
     "name": "stdout",
     "output_type": "stream",
     "text": [
      "fc-cache: succeeded\r\n"
     ]
    }
   ],
   "source": [
    "# 한글 폰트 설정\n",
    "# !ls -l /usr/share/fonts/truetype/\n",
    "!rm -rf ~/.cache/matplotlib/*\n",
    "!fc-cache -fv\n",
    "\n",
    "# import matplotlib    \n",
    "# import matplotlib.font_manager\n",
    "\n",
    "# [f.name for f in matplotlib.font_manager.fontManager.ttflist if 'Nanum' in f.name]"
   ]
  },
  {
   "cell_type": "code",
   "execution_count": 157,
   "id": "aab878a4",
   "metadata": {},
   "outputs": [],
   "source": [
    "import matplotlib as mpl\n",
    "import matplotlib.pyplot as plt\n",
    "%matplotlib inline\n",
    "\n",
    "# 유니코드 깨짐현상 해결\n",
    "mpl.rcParams['axes.unicode_minus'] = False\n",
    "\n",
    "# 나눔고딕 폰트 전체 적용\n",
    "plt.rcParams[\"font.family\"] = 'NanumMyeongjo'"
   ]
  },
  {
   "cell_type": "markdown",
   "id": "87736cee",
   "metadata": {},
   "source": [
    "## 실습과제 1 : 정규성 검정"
   ]
  },
  {
   "cell_type": "code",
   "execution_count": 272,
   "id": "9e99f55a",
   "metadata": {},
   "outputs": [
    {
     "data": {
      "text/html": [
       "<div>\n",
       "<style scoped>\n",
       "    .dataframe tbody tr th:only-of-type {\n",
       "        vertical-align: middle;\n",
       "    }\n",
       "\n",
       "    .dataframe tbody tr th {\n",
       "        vertical-align: top;\n",
       "    }\n",
       "\n",
       "    .dataframe thead th {\n",
       "        text-align: right;\n",
       "    }\n",
       "</style>\n",
       "<table border=\"1\" class=\"dataframe\">\n",
       "  <thead>\n",
       "    <tr style=\"text-align: right;\">\n",
       "      <th></th>\n",
       "      <th>Mat_A</th>\n",
       "      <th>Mat_B</th>\n",
       "      <th>Total</th>\n",
       "      <th>Sub</th>\n",
       "    </tr>\n",
       "  </thead>\n",
       "  <tbody>\n",
       "    <tr>\n",
       "      <th>15</th>\n",
       "      <td>NaN</td>\n",
       "      <td>NaN</td>\n",
       "      <td>72.7</td>\n",
       "      <td>2</td>\n",
       "    </tr>\n",
       "    <tr>\n",
       "      <th>16</th>\n",
       "      <td>NaN</td>\n",
       "      <td>NaN</td>\n",
       "      <td>66.9</td>\n",
       "      <td>2</td>\n",
       "    </tr>\n",
       "    <tr>\n",
       "      <th>17</th>\n",
       "      <td>NaN</td>\n",
       "      <td>NaN</td>\n",
       "      <td>70.2</td>\n",
       "      <td>2</td>\n",
       "    </tr>\n",
       "    <tr>\n",
       "      <th>18</th>\n",
       "      <td>NaN</td>\n",
       "      <td>NaN</td>\n",
       "      <td>74.4</td>\n",
       "      <td>2</td>\n",
       "    </tr>\n",
       "    <tr>\n",
       "      <th>19</th>\n",
       "      <td>NaN</td>\n",
       "      <td>NaN</td>\n",
       "      <td>70.1</td>\n",
       "      <td>2</td>\n",
       "    </tr>\n",
       "  </tbody>\n",
       "</table>\n",
       "</div>"
      ],
      "text/plain": [
       "    Mat_A  Mat_B  Total  Sub\n",
       "15    NaN    NaN   72.7    2\n",
       "16    NaN    NaN   66.9    2\n",
       "17    NaN    NaN   70.2    2\n",
       "18    NaN    NaN   74.4    2\n",
       "19    NaN    NaN   70.1    2"
      ]
     },
     "execution_count": 272,
     "metadata": {},
     "output_type": "execute_result"
    }
   ],
   "source": [
    "df_sample = pd.read_csv('/home/piai/Bigdata 실습과제/1 Big Data 분석 기초/2sample_t_test.csv', encoding = 'euc-kr')\n",
    "df_sample.tail()"
   ]
  },
  {
   "cell_type": "code",
   "execution_count": 276,
   "id": "206ba208",
   "metadata": {},
   "outputs": [
    {
     "data": {
      "text/plain": [
       "Mat_A    10\n",
       "Mat_B    10\n",
       "Total     0\n",
       "Sub       0\n",
       "dtype: int64"
      ]
     },
     "execution_count": 276,
     "metadata": {},
     "output_type": "execute_result"
    }
   ],
   "source": [
    "df_sample.isnull().sum()"
   ]
  },
  {
   "cell_type": "markdown",
   "id": "fbc87bf8",
   "metadata": {},
   "source": [
    "### 결측값 처리(1) : 평균으로 대체"
   ]
  },
  {
   "cell_type": "code",
   "execution_count": 6,
   "id": "e9332e93",
   "metadata": {},
   "outputs": [
    {
     "data": {
      "text/html": [
       "<div>\n",
       "<style scoped>\n",
       "    .dataframe tbody tr th:only-of-type {\n",
       "        vertical-align: middle;\n",
       "    }\n",
       "\n",
       "    .dataframe tbody tr th {\n",
       "        vertical-align: top;\n",
       "    }\n",
       "\n",
       "    .dataframe thead th {\n",
       "        text-align: right;\n",
       "    }\n",
       "</style>\n",
       "<table border=\"1\" class=\"dataframe\">\n",
       "  <thead>\n",
       "    <tr style=\"text-align: right;\">\n",
       "      <th></th>\n",
       "      <th>Mat_A</th>\n",
       "      <th>Mat_B</th>\n",
       "      <th>Total</th>\n",
       "      <th>Sub</th>\n",
       "    </tr>\n",
       "  </thead>\n",
       "  <tbody>\n",
       "    <tr>\n",
       "      <th>15</th>\n",
       "      <td>74.81</td>\n",
       "      <td>71.08</td>\n",
       "      <td>72.7</td>\n",
       "      <td>2</td>\n",
       "    </tr>\n",
       "    <tr>\n",
       "      <th>16</th>\n",
       "      <td>74.81</td>\n",
       "      <td>71.08</td>\n",
       "      <td>66.9</td>\n",
       "      <td>2</td>\n",
       "    </tr>\n",
       "    <tr>\n",
       "      <th>17</th>\n",
       "      <td>74.81</td>\n",
       "      <td>71.08</td>\n",
       "      <td>70.2</td>\n",
       "      <td>2</td>\n",
       "    </tr>\n",
       "    <tr>\n",
       "      <th>18</th>\n",
       "      <td>74.81</td>\n",
       "      <td>71.08</td>\n",
       "      <td>74.4</td>\n",
       "      <td>2</td>\n",
       "    </tr>\n",
       "    <tr>\n",
       "      <th>19</th>\n",
       "      <td>74.81</td>\n",
       "      <td>71.08</td>\n",
       "      <td>70.1</td>\n",
       "      <td>2</td>\n",
       "    </tr>\n",
       "  </tbody>\n",
       "</table>\n",
       "</div>"
      ],
      "text/plain": [
       "    Mat_A  Mat_B  Total  Sub\n",
       "15  74.81  71.08   72.7    2\n",
       "16  74.81  71.08   66.9    2\n",
       "17  74.81  71.08   70.2    2\n",
       "18  74.81  71.08   74.4    2\n",
       "19  74.81  71.08   70.1    2"
      ]
     },
     "execution_count": 6,
     "metadata": {},
     "output_type": "execute_result"
    }
   ],
   "source": [
    "mean_A = df_sample[\"Mat_A\"].mean()\n",
    "mean_B = df_sample[\"Mat_B\"].mean()\n",
    "df_sample[\"Mat_A\"].fillna(mean_A , inplace = True)\n",
    "df_sample[\"Mat_B\"].fillna(mean_B , inplace = True)\n",
    "df_sample.tail()"
   ]
  },
  {
   "cell_type": "code",
   "execution_count": 7,
   "id": "cfbea8a2",
   "metadata": {},
   "outputs": [],
   "source": [
    "data1 = df_sample[\"Mat_A\"]\n",
    "data2 = df_sample[\"Mat_B\"]\n",
    "data3 = df_sample[\"Total\"]"
   ]
  },
  {
   "cell_type": "code",
   "execution_count": 8,
   "id": "81e724c2",
   "metadata": {},
   "outputs": [],
   "source": [
    "# 정규성 검정\n",
    "shatistic1, p1 = stats.shapiro(data1)\n",
    "shatistic2, p2 = stats.shapiro(data2)\n",
    "shatistic3, p3 = stats.shapiro(data3)"
   ]
  },
  {
   "cell_type": "code",
   "execution_count": 9,
   "id": "fd230d3c",
   "metadata": {},
   "outputs": [
    {
     "name": "stdout",
     "output_type": "stream",
     "text": [
      "Mat_A의 정규성 검정결과, Shapiro-Wilk Test : statistic=0.89227294921875, p-value=0.029614390805363655\n"
     ]
    }
   ],
   "source": [
    "print(\"Mat_A의 정규성 검정결과, Shapiro-Wilk Test : statistic={0}, p-value={1}\".format(shatistic1, p1))"
   ]
  },
  {
   "cell_type": "markdown",
   "id": "b903e174",
   "metadata": {},
   "source": [
    "+ 정규성 검정결과(95% 신뢰수준 사용) P값이 0.05보다 낮기에, 해당 데이터는 정규성을 충족한다는 귀무가설을 기각 가능하다."
   ]
  },
  {
   "cell_type": "code",
   "execution_count": 10,
   "id": "027a5001",
   "metadata": {},
   "outputs": [
    {
     "name": "stdout",
     "output_type": "stream",
     "text": [
      "Mat_B의 정규성 검정결과, Shapiro-Wilk Test : statistic=0.8450576066970825, p-value=0.004409835673868656\n"
     ]
    }
   ],
   "source": [
    "print(\"Mat_B의 정규성 검정결과, Shapiro-Wilk Test : statistic={0}, p-value={1}\".format(shatistic2, p2))"
   ]
  },
  {
   "cell_type": "markdown",
   "id": "ac0852b4",
   "metadata": {},
   "source": [
    "+ 정규성 검정결과(95% 신뢰수준 사용) P값이 0.05보다 낮기에, 해당 데이터는 정규성을 충족한다는 귀무가설을 기각 가능하다."
   ]
  },
  {
   "cell_type": "markdown",
   "id": "541bf969",
   "metadata": {},
   "source": [
    "### 결측값 처리(2) : 제거"
   ]
  },
  {
   "cell_type": "code",
   "execution_count": 11,
   "id": "abf6f6ec",
   "metadata": {},
   "outputs": [
    {
     "data": {
      "text/html": [
       "<div>\n",
       "<style scoped>\n",
       "    .dataframe tbody tr th:only-of-type {\n",
       "        vertical-align: middle;\n",
       "    }\n",
       "\n",
       "    .dataframe tbody tr th {\n",
       "        vertical-align: top;\n",
       "    }\n",
       "\n",
       "    .dataframe thead th {\n",
       "        text-align: right;\n",
       "    }\n",
       "</style>\n",
       "<table border=\"1\" class=\"dataframe\">\n",
       "  <thead>\n",
       "    <tr style=\"text-align: right;\">\n",
       "      <th></th>\n",
       "      <th>Mat_A</th>\n",
       "      <th>Mat_B</th>\n",
       "      <th>Total</th>\n",
       "      <th>Sub</th>\n",
       "    </tr>\n",
       "  </thead>\n",
       "  <tbody>\n",
       "    <tr>\n",
       "      <th>15</th>\n",
       "      <td>NaN</td>\n",
       "      <td>NaN</td>\n",
       "      <td>72.7</td>\n",
       "      <td>2</td>\n",
       "    </tr>\n",
       "    <tr>\n",
       "      <th>16</th>\n",
       "      <td>NaN</td>\n",
       "      <td>NaN</td>\n",
       "      <td>66.9</td>\n",
       "      <td>2</td>\n",
       "    </tr>\n",
       "    <tr>\n",
       "      <th>17</th>\n",
       "      <td>NaN</td>\n",
       "      <td>NaN</td>\n",
       "      <td>70.2</td>\n",
       "      <td>2</td>\n",
       "    </tr>\n",
       "    <tr>\n",
       "      <th>18</th>\n",
       "      <td>NaN</td>\n",
       "      <td>NaN</td>\n",
       "      <td>74.4</td>\n",
       "      <td>2</td>\n",
       "    </tr>\n",
       "    <tr>\n",
       "      <th>19</th>\n",
       "      <td>NaN</td>\n",
       "      <td>NaN</td>\n",
       "      <td>70.1</td>\n",
       "      <td>2</td>\n",
       "    </tr>\n",
       "  </tbody>\n",
       "</table>\n",
       "</div>"
      ],
      "text/plain": [
       "    Mat_A  Mat_B  Total  Sub\n",
       "15    NaN    NaN   72.7    2\n",
       "16    NaN    NaN   66.9    2\n",
       "17    NaN    NaN   70.2    2\n",
       "18    NaN    NaN   74.4    2\n",
       "19    NaN    NaN   70.1    2"
      ]
     },
     "execution_count": 11,
     "metadata": {},
     "output_type": "execute_result"
    }
   ],
   "source": [
    "df_sample = pd.read_csv('/home/piai/Bigdata 실습과제/1 Big Data 분석 기초/2sample_t_test.csv', encoding = 'euc-kr')\n",
    "df_sample.tail()"
   ]
  },
  {
   "cell_type": "code",
   "execution_count": 12,
   "id": "7cdc82d1",
   "metadata": {},
   "outputs": [
    {
     "data": {
      "text/html": [
       "<div>\n",
       "<style scoped>\n",
       "    .dataframe tbody tr th:only-of-type {\n",
       "        vertical-align: middle;\n",
       "    }\n",
       "\n",
       "    .dataframe tbody tr th {\n",
       "        vertical-align: top;\n",
       "    }\n",
       "\n",
       "    .dataframe thead th {\n",
       "        text-align: right;\n",
       "    }\n",
       "</style>\n",
       "<table border=\"1\" class=\"dataframe\">\n",
       "  <thead>\n",
       "    <tr style=\"text-align: right;\">\n",
       "      <th></th>\n",
       "      <th>Mat_A</th>\n",
       "      <th>Mat_B</th>\n",
       "      <th>Total</th>\n",
       "      <th>Sub</th>\n",
       "    </tr>\n",
       "  </thead>\n",
       "  <tbody>\n",
       "    <tr>\n",
       "      <th>5</th>\n",
       "      <td>71.5</td>\n",
       "      <td>72.7</td>\n",
       "      <td>71.5</td>\n",
       "      <td>1</td>\n",
       "    </tr>\n",
       "    <tr>\n",
       "      <th>6</th>\n",
       "      <td>74.5</td>\n",
       "      <td>66.9</td>\n",
       "      <td>74.5</td>\n",
       "      <td>1</td>\n",
       "    </tr>\n",
       "    <tr>\n",
       "      <th>7</th>\n",
       "      <td>77.5</td>\n",
       "      <td>70.2</td>\n",
       "      <td>77.5</td>\n",
       "      <td>1</td>\n",
       "    </tr>\n",
       "    <tr>\n",
       "      <th>8</th>\n",
       "      <td>76.4</td>\n",
       "      <td>74.4</td>\n",
       "      <td>76.4</td>\n",
       "      <td>1</td>\n",
       "    </tr>\n",
       "    <tr>\n",
       "      <th>9</th>\n",
       "      <td>77.7</td>\n",
       "      <td>70.1</td>\n",
       "      <td>77.7</td>\n",
       "      <td>1</td>\n",
       "    </tr>\n",
       "  </tbody>\n",
       "</table>\n",
       "</div>"
      ],
      "text/plain": [
       "   Mat_A  Mat_B  Total  Sub\n",
       "5   71.5   72.7   71.5    1\n",
       "6   74.5   66.9   74.5    1\n",
       "7   77.5   70.2   77.5    1\n",
       "8   76.4   74.4   76.4    1\n",
       "9   77.7   70.1   77.7    1"
      ]
     },
     "execution_count": 12,
     "metadata": {},
     "output_type": "execute_result"
    }
   ],
   "source": [
    "df_sample.dropna(0 , inplace = True)\n",
    "df_sample.tail()"
   ]
  },
  {
   "cell_type": "code",
   "execution_count": 13,
   "id": "d0df64b2",
   "metadata": {},
   "outputs": [],
   "source": [
    "data1 = df_sample[\"Mat_A\"]\n",
    "data2 = df_sample[\"Mat_B\"]\n",
    "data3 = df_sample[\"Total\"]"
   ]
  },
  {
   "cell_type": "code",
   "execution_count": 14,
   "id": "00fc9638",
   "metadata": {},
   "outputs": [],
   "source": [
    "# 정규성 검정\n",
    "shatistic1, p1 = stats.shapiro(data1)\n",
    "shatistic2, p2 = stats.shapiro(data2)\n",
    "shatistic3, p3 = stats.shapiro(data3)"
   ]
  },
  {
   "cell_type": "code",
   "execution_count": 15,
   "id": "b3c790cc",
   "metadata": {},
   "outputs": [
    {
     "name": "stdout",
     "output_type": "stream",
     "text": [
      "Mat_A의 정규성 검정결과, Shapiro-Wilk Test : statistic=0.906264066696167, p-value=0.2563020884990692\n"
     ]
    }
   ],
   "source": [
    "print(\"Mat_A의 정규성 검정결과, Shapiro-Wilk Test : statistic={0}, p-value={1}\".format(shatistic1, p1))"
   ]
  },
  {
   "cell_type": "markdown",
   "id": "62514051",
   "metadata": {},
   "source": [
    "+ 정규성 검정결과(95% 신뢰수준 사용) P값이 0.05보다 높기 때문에, 해당 데이터는 정규성을 충족한다는 귀무가설을 기각하지 못한다."
   ]
  },
  {
   "cell_type": "code",
   "execution_count": 16,
   "id": "d6f5f674",
   "metadata": {},
   "outputs": [
    {
     "name": "stdout",
     "output_type": "stream",
     "text": [
      "Mat_B의 정규성 검정결과, Shapiro-Wilk Test : statistic=0.9729753732681274, p-value=0.9169775247573853\n"
     ]
    }
   ],
   "source": [
    "print(\"Mat_B의 정규성 검정결과, Shapiro-Wilk Test : statistic={0}, p-value={1}\".format(shatistic2, p2))"
   ]
  },
  {
   "cell_type": "markdown",
   "id": "596c70a8",
   "metadata": {},
   "source": [
    "+ 정규성 검정결과(95% 신뢰수준 사용) P값이 0.05보다 높기 때문에, 해당 데이터는 정규성을 충족한다는 귀무가설을 기각하지 못한다."
   ]
  },
  {
   "cell_type": "markdown",
   "id": "253d316c",
   "metadata": {},
   "source": [
    "### 결론"
   ]
  },
  {
   "cell_type": "markdown",
   "id": "68b4f524",
   "metadata": {},
   "source": [
    "> 결측값으로 제거할 경우 귀무가설이 타당하다.  \n",
    "> 그러나 데이터의 수가 너무 적기 때문에 가설의 검정 과정에서 유의미한 결과를 얻지 못할 것으로 판단된다.  \n",
    "> 따라서 결측값을 평균으로 처리하여 데이터의 수가 충분한 상태에서 통계적 추론을 실시할 것으로 결정하였다."
   ]
  },
  {
   "cell_type": "markdown",
   "id": "6b3ec8aa",
   "metadata": {},
   "source": [
    "## 실습과제 2 : 모평균 구간 추정"
   ]
  },
  {
   "cell_type": "code",
   "execution_count": 277,
   "id": "871b7e8f",
   "metadata": {},
   "outputs": [
    {
     "name": "stdout",
     "output_type": "stream",
     "text": [
      "신뢰구간 : [17.83], [21.17]\n"
     ]
    }
   ],
   "source": [
    "dic = {'sample' : [18,18,20,21,20,23,19,18,17,21,22,20,20,21,20,19,19,18,17,19]}\n",
    "df = pd.DataFrame(dic)\n",
    "lower, upper = stats.norm.interval(0.95, loc = np.mean(df), scale = 3.8/np.sqrt(20))\n",
    "print(\"신뢰구간 : {0}, {1}\".format(lower.round(2), upper.round(2)))"
   ]
  },
  {
   "cell_type": "markdown",
   "id": "e0a751ac",
   "metadata": {},
   "source": [
    "### 결론 "
   ]
  },
  {
   "cell_type": "markdown",
   "id": "e9cfcbdb",
   "metadata": {},
   "source": [
    "> 감자의 품종 개발이 성공했다고 판단할 수 있는 척도로 신뢰구간을 계산하였다.    \n",
    "> 약 18 ~ 21 사이의 감자 Box들이 품종 개발이 성공한 Box로 에상할 수 있다."
   ]
  },
  {
   "cell_type": "markdown",
   "id": "918fe79d",
   "metadata": {},
   "source": [
    "## 실습과제 3 : 모평균 구간 추정(모표준편차를 모르는 경우)"
   ]
  },
  {
   "cell_type": "code",
   "execution_count": 18,
   "id": "a08235c9",
   "metadata": {},
   "outputs": [
    {
     "name": "stdout",
     "output_type": "stream",
     "text": [
      "신뢰구간 : [70.6], [72.4]\n"
     ]
    }
   ],
   "source": [
    "dic = {'sample' : [73,71,74,69,70,73,70,68,75,72,70,72,73,70,70,72,71,70,75,72]}\n",
    "df = pd.DataFrame(dic)\n",
    "lower, upper = stats.t.interval(0.95, len(df)-1, loc = np.mean(df), scale = scipy.stats.sem(df))\n",
    "print(\"신뢰구간 : {0}, {1}\".format(lower.round(2), upper.round(2)))"
   ]
  },
  {
   "cell_type": "markdown",
   "id": "3069ca4a",
   "metadata": {},
   "source": [
    "### 결론"
   ]
  },
  {
   "cell_type": "markdown",
   "id": "3ed91529",
   "metadata": {},
   "source": [
    " > 새로 개발된 강종의 평균 인장강도를 70Kg/mm^2으로 기대하고 있다.  \n",
    " 표본의 신뢰구간 안에 기대치가 포함되어 있기 때문에 개발이 성공하였다고 예측할 수 있다."
   ]
  },
  {
   "cell_type": "markdown",
   "id": "d9fe9ddc",
   "metadata": {},
   "source": [
    "## 실습과제 4 : 평균 검정 : 1 Sample t-test"
   ]
  },
  {
   "cell_type": "code",
   "execution_count": 27,
   "id": "b1b844da",
   "metadata": {},
   "outputs": [
    {
     "name": "stdout",
     "output_type": "stream",
     "text": [
      "statistic=0.9470749497413635, p-value=0.32486021518707275\n",
      "1-Sample t-test\n",
      "t 통계량 : [-12.03]\n",
      "p-value : [2.e-10]\n"
     ]
    }
   ],
   "source": [
    "u_before = 76.7\n",
    "dic_after = {\"sample\" : [76.7,81.2,73.8,82.0,76.3,75.7,80.2,76.7,77.9,82.8]}\n",
    "df_after = pd.DataFrame(dic)\n",
    "\n",
    "statistic, p = stats.shapiro(df['sample'])\n",
    "print(\"statistic={}, p-value={}\".format(statistic,p))\n",
    "\n",
    "t_result = stats.ttest_1samp(df,u_before)\n",
    "t, p = t_result.statistic.round(3), t_result.pvalue.round(10)\n",
    "\n",
    "print(\"1-Sample t-test\")\n",
    "print(\"t 통계량 : {}\".format(t))\n",
    "print(\"p-value : {}\".format(p))"
   ]
  },
  {
   "cell_type": "code",
   "execution_count": 39,
   "id": "bed81854",
   "metadata": {},
   "outputs": [],
   "source": [
    "u_before = 78.0\n",
    "dic_after = {\"sample\" : [85.0,79.0,79.1,79.9,81.6,78.6,85.4,83.4,78.1,79.2]}\n",
    "df_after = pd.DataFrame(dic)"
   ]
  },
  {
   "cell_type": "code",
   "execution_count": 281,
   "id": "41f45b20",
   "metadata": {},
   "outputs": [
    {
     "data": {
      "text/plain": [
       "<AxesSubplot:>"
      ]
     },
     "execution_count": 281,
     "metadata": {},
     "output_type": "execute_result"
    },
    {
     "data": {
      "image/png": "[encoded data removed]",
      "text/plain": [
       "<Figure size 640x480 with 1 Axes>"
      ]
     },
     "metadata": {},
     "output_type": "display_data"
    }
   ],
   "source": [
    "df.boxplot([\"sample\"])"
   ]
  },
  {
   "cell_type": "markdown",
   "id": "02a8b7f7",
   "metadata": {},
   "source": [
    "+ 이상치는 식별하지 못하였다."
   ]
  },
  {
   "cell_type": "code",
   "execution_count": 29,
   "id": "e057422f",
   "metadata": {},
   "outputs": [
    {
     "name": "stdout",
     "output_type": "stream",
     "text": [
      "statistic=0.9470749497413635, p-value=0.32486021518707275\n"
     ]
    }
   ],
   "source": [
    "statistic, p = stats.shapiro(df['sample'])\n",
    "print(\"statistic={}, p-value={}\".format(statistic,p))"
   ]
  },
  {
   "cell_type": "code",
   "execution_count": 30,
   "id": "2636f78a",
   "metadata": {},
   "outputs": [],
   "source": [
    "t_result = stats.ttest_1samp(df,u_before)\n",
    "t, p = t_result.statistic.round(3), t_result.pvalue.round(3)"
   ]
  },
  {
   "cell_type": "code",
   "execution_count": 31,
   "id": "14bf7251",
   "metadata": {},
   "outputs": [
    {
     "name": "stdout",
     "output_type": "stream",
     "text": [
      "1-Sample t-test\n",
      "t 통계량 : [-15.038]\n",
      "p-value : [0.]\n"
     ]
    }
   ],
   "source": [
    "print(\"1-Sample t-test\")\n",
    "print(\"t 통계량 : {}\".format(t))\n",
    "print(\"p-value : {}\".format(p))"
   ]
  },
  {
   "cell_type": "markdown",
   "id": "6f7a8af6",
   "metadata": {},
   "source": [
    "+ 유의 수준 5%에서 검정결과 P값이 매우 작기 때문에 개선활동이 고객만족도를 변화시켰다고 할 수 있다."
   ]
  },
  {
   "cell_type": "markdown",
   "id": "88b75c9b",
   "metadata": {},
   "source": [
    "## 실습과제 5 : 2 Sample t-test"
   ]
  },
  {
   "cell_type": "code",
   "execution_count": 283,
   "id": "13d2be51",
   "metadata": {},
   "outputs": [],
   "source": [
    "dic_supply = {\"sample_A\" : [1.883, 1.715, 1.799, 1.768, 1.711, 1.832, 1.427, 1.344],\n",
    "      \"sample_B\" : [1.435, 1.572, 1.486, 1.511, 1.457, 1.548, 1.404, 1.883]}\n",
    "df_supply = pd.DataFrame(dic_supply)"
   ]
  },
  {
   "cell_type": "markdown",
   "id": "57ecf234",
   "metadata": {},
   "source": [
    "#### 이상치 확인"
   ]
  },
  {
   "cell_type": "code",
   "execution_count": 284,
   "id": "89a075d7",
   "metadata": {},
   "outputs": [
    {
     "data": {
      "text/plain": [
       "<AxesSubplot:>"
      ]
     },
     "execution_count": 284,
     "metadata": {},
     "output_type": "execute_result"
    },
    {
     "data": {
      "image/png": "[encoded data removed]",
      "text/plain": [
       "<Figure size 640x480 with 1 Axes>"
      ]
     },
     "metadata": {},
     "output_type": "display_data"
    }
   ],
   "source": [
    "df_supply.boxplot([\"sample_A\",\"sample_B\"])"
   ]
  },
  {
   "cell_type": "markdown",
   "id": "943b9e5c",
   "metadata": {},
   "source": [
    "> Boxplot의 IQR(사분위 범위)를 근거로 이상치의 포함 여부를 확인하였다.  \n",
    "> Sample A의 최소값이 IQR 외부에 존재하여 이상치로 판단하였다.  \n",
    "> Sample B의 최대값이 IQR 외부에 존재하여 이상치로 판단하였다."
   ]
  },
  {
   "cell_type": "markdown",
   "id": "884775a3",
   "metadata": {},
   "source": [
    "#### 이상치 제거"
   ]
  },
  {
   "cell_type": "markdown",
   "id": "43c0d610",
   "metadata": {},
   "source": [
    "> 해당 이상치는 정규분포성을 저해하는 요소이므로 Sample이 정규분포를 나타낼 수 있도록 제거 하였다."
   ]
  },
  {
   "cell_type": "code",
   "execution_count": 285,
   "id": "b67279b6",
   "metadata": {},
   "outputs": [],
   "source": [
    "df_A = df_supply[\"sample_A\"].sort_index(ascending = False)\n",
    "df_supply[\"sample_B\"].sort_index()\n",
    "df_A.drop(7, inplace = True)"
   ]
  },
  {
   "cell_type": "markdown",
   "id": "fc3e1708",
   "metadata": {},
   "source": [
    "#### 정규성 검정 및 등분산 검정"
   ]
  },
  {
   "cell_type": "code",
   "execution_count": 48,
   "id": "11b22f93",
   "metadata": {},
   "outputs": [
    {
     "name": "stdout",
     "output_type": "stream",
     "text": [
      "statistic : 0.836285412311554, p-value : 0.09172070026397705\n"
     ]
    }
   ],
   "source": [
    "# 정규성 검정\n",
    "statistic_A, p_A = stats.shapiro(df_supply['sample_A'])\n",
    "print(\"statistic : {}, p-value : {}\".format(statistic_A, p_A))"
   ]
  },
  {
   "cell_type": "markdown",
   "id": "f75f5fb6",
   "metadata": {},
   "source": [
    "> sample A는 대략적으로 정규분포를 따른다고 할 수 있다."
   ]
  },
  {
   "cell_type": "code",
   "execution_count": 49,
   "id": "45dc13d9",
   "metadata": {},
   "outputs": [
    {
     "name": "stdout",
     "output_type": "stream",
     "text": [
      "statistic : 0.9755363464355469, p-value : 0.9352017641067505\n"
     ]
    }
   ],
   "source": [
    "statistic_B, p_B = stats.shapiro(df_supply['sample_B'])\n",
    "print(\"statistic : {}, p-value : {}\".format(statistic_B, p_B))"
   ]
  },
  {
   "cell_type": "markdown",
   "id": "5c3823f0",
   "metadata": {},
   "source": [
    "> sample B는 대략적으로 정규분포를 따른다고 할 수 있다."
   ]
  },
  {
   "cell_type": "code",
   "execution_count": 50,
   "id": "484fc538",
   "metadata": {},
   "outputs": [
    {
     "data": {
      "text/plain": [
       "BartlettResult(statistic=3.960394902992892, pvalue=0.04658277397613468)"
      ]
     },
     "execution_count": 50,
     "metadata": {},
     "output_type": "execute_result"
    }
   ],
   "source": [
    "# 등분산 검정\n",
    "stats.bartlett(df_supply['sample_A'],df_supply['sample_B'])"
   ]
  },
  {
   "cell_type": "code",
   "execution_count": 51,
   "id": "98a9e4a3",
   "metadata": {},
   "outputs": [],
   "source": [
    "# 두 집단의 평균 비교\n",
    "t_result = stats.ttest_ind(df_supply['sample_A'],df_supply['sample_B'])\n",
    "t, p = t_result.statistic.round(3), t_result.pvalue.round(3)"
   ]
  },
  {
   "cell_type": "code",
   "execution_count": 52,
   "id": "c4654a25",
   "metadata": {},
   "outputs": [
    {
     "name": "stdout",
     "output_type": "stream",
     "text": [
      "2-Sampel test\n",
      "t : 4.058\n",
      "p : 0.002\n"
     ]
    }
   ],
   "source": [
    "print(\"2-Sampel test\")\n",
    "print(\"t : {}\".format(t))\n",
    "print(\"p : {}\".format(p))"
   ]
  },
  {
   "cell_type": "markdown",
   "id": "a4bbe02c",
   "metadata": {},
   "source": [
    "### 결론"
   ]
  },
  {
   "cell_type": "markdown",
   "id": "32ecab88",
   "metadata": {},
   "source": [
    "> 유의수준 5%에서 검정결과 P값이 0.002이므로 공급자간에 제품의 차이가 있다고 할 수 있다."
   ]
  },
  {
   "cell_type": "markdown",
   "id": "dd4b9018",
   "metadata": {},
   "source": [
    "#### 차이가 있다면 어떤 방법이 더 효과적인가?\n"
   ]
  },
  {
   "cell_type": "markdown",
   "id": "745dc886",
   "metadata": {},
   "source": [
    "> A공급자의 제품의 두께가 평균적으로 더 두껍게 측정되었다.  \n",
    "> 따라서 두꺼운 제품을 필요로 할 경우, A공급자에게서 제품을 공급받아야 할 것이다."
   ]
  },
  {
   "cell_type": "markdown",
   "id": "f6cea6e6",
   "metadata": {},
   "source": [
    "## 실습 과제 6 : Paired t-test"
   ]
  },
  {
   "cell_type": "code",
   "execution_count": 288,
   "id": "427a177d",
   "metadata": {},
   "outputs": [],
   "source": [
    "# Data set\n",
    "df_before = pd.DataFrame({\"before\" : [720,589,780,648,720,589,780,648,780,648]})\n",
    "df_after = pd.DataFrame({\"after\" : [710,580,787,712,750,600,782,670,790,680]})"
   ]
  },
  {
   "cell_type": "markdown",
   "id": "b2532537",
   "metadata": {},
   "source": [
    "#### Paired t-test"
   ]
  },
  {
   "cell_type": "code",
   "execution_count": 287,
   "id": "0725b9e2",
   "metadata": {},
   "outputs": [
    {
     "name": "stdout",
     "output_type": "stream",
     "text": [
      "Paired test\n",
      "t : [-2.26607]\n",
      "p : [0.04968]\n"
     ]
    }
   ],
   "source": [
    "# Paired t-test\n",
    "t_result = stats.ttest_rel(df_before, df_after)\n",
    "# t, p \n",
    "t, p = t_result.statistic.round(5), t_result.pvalue.round(5)\n",
    "print(\"Paired test\")\n",
    "print(\"t : {}\".format(t))\n",
    "print(\"p : {}\".format(p))"
   ]
  },
  {
   "cell_type": "markdown",
   "id": "4a95cca4",
   "metadata": {},
   "source": [
    "### 결론"
   ]
  },
  {
   "cell_type": "markdown",
   "id": "bec815b0",
   "metadata": {},
   "source": [
    "> 유의수준 5% 차이에서 검정결과 P값이 0.4968 이므로 학원 수강 전후의 점수는 차이가 거의 없다고 할 수 있다."
   ]
  },
  {
   "cell_type": "markdown",
   "id": "7cbbc912",
   "metadata": {},
   "source": [
    "> 점수의 차이가 없다면, 그 이유를 찾아야 한다.  \n",
    "    - 학원 강사의 능력이 낮을 수가 있다.  \n",
    "    - 학생의 집중도가 낮을 수가 있다."
   ]
  },
  {
   "cell_type": "markdown",
   "id": "80a32b7c",
   "metadata": {},
   "source": [
    "## 실습 과제 7 : 1 Proportion test"
   ]
  },
  {
   "cell_type": "markdown",
   "id": "713b5875",
   "metadata": {},
   "source": [
    "#### 가설의 수립\n",
    "* H_0 : p = 0.5\n",
    "* H_1 : p != 0.5\n",
    "* p = 40/60"
   ]
  },
  {
   "cell_type": "markdown",
   "id": "2c4f86d1",
   "metadata": {},
   "source": [
    "#### Proportion test"
   ]
  },
  {
   "cell_type": "code",
   "execution_count": 54,
   "id": "e47ceb0b",
   "metadata": {},
   "outputs": [],
   "source": [
    "# 변수의 선언\n",
    "count_head = 40\n",
    "n_obs = 100\n",
    "value = 0.5\n",
    "# test \n",
    "stat, pval = proportions_ztest(count_head, n_obs, value)"
   ]
  },
  {
   "cell_type": "code",
   "execution_count": 55,
   "id": "09284455",
   "metadata": {},
   "outputs": [
    {
     "name": "stdout",
     "output_type": "stream",
     "text": [
      "1 Proportion test\n",
      "z: -2.041\n",
      "p: 0.041\n"
     ]
    }
   ],
   "source": [
    "# 결과 출력\n",
    "print(\"1 Proportion test\")\n",
    "print(\"z: {0:0.3f}\".format(stat))\n",
    "print(\"p: {0:0.3f}\".format(pval))"
   ]
  },
  {
   "cell_type": "markdown",
   "id": "ffdc51c4",
   "metadata": {},
   "source": [
    "### 결론"
   ]
  },
  {
   "cell_type": "markdown",
   "id": "bb5873a0",
   "metadata": {},
   "source": [
    "> 유의수준 5%에서 검정결과 P값이 0.041 이므로 동전은 정상적이지 않다고 할 수 있다.  \n",
    "> 해당 동전은 앞면 보다 뒷면이 더 많이 나올 가능성이 높다."
   ]
  },
  {
   "cell_type": "markdown",
   "id": "eb163fd4",
   "metadata": {},
   "source": [
    "## 실습 과제 8 : 2 Proportion test"
   ]
  },
  {
   "cell_type": "markdown",
   "id": "666d934a",
   "metadata": {},
   "source": [
    "#### 가설의 수립\n",
    "* H0 : p1 = p2\n",
    "* H1 : p1 != p2\n",
    "* p1_hat = 14 / 1200\n",
    "* p2_hat = 5 / 1200"
   ]
  },
  {
   "cell_type": "markdown",
   "id": "23d37544",
   "metadata": {},
   "source": [
    "#### Proportion test"
   ]
  },
  {
   "cell_type": "code",
   "execution_count": 56,
   "id": "423b890b",
   "metadata": {},
   "outputs": [],
   "source": [
    "# 변수 선언\n",
    "count = np.array([14,5])\n",
    "nobs = np.array([1200,1200])"
   ]
  },
  {
   "cell_type": "code",
   "execution_count": 57,
   "id": "3b629efc",
   "metadata": {},
   "outputs": [],
   "source": [
    "# test\n",
    "stat, pval = proportions_ztest(count, nobs)"
   ]
  },
  {
   "cell_type": "code",
   "execution_count": 58,
   "id": "b9739515",
   "metadata": {},
   "outputs": [
    {
     "name": "stdout",
     "output_type": "stream",
     "text": [
      "2 Proportion test\n",
      "z: 2.073\n",
      "p: 0.038\n"
     ]
    }
   ],
   "source": [
    "print(\"2 Proportion test\")\n",
    "print(\"z: {0:0.3f}\".format(stat))\n",
    "print(\"p: {0:0.3f}\".format(pval))"
   ]
  },
  {
   "cell_type": "markdown",
   "id": "e25e4ccd",
   "metadata": {},
   "source": [
    "### 결론"
   ]
  },
  {
   "cell_type": "markdown",
   "id": "bbc41be8",
   "metadata": {},
   "source": [
    "> 유의수준 5%에서 검정결과 P값이 0.038 이므로 두 공정의 불량률은 같다고 할 수 없다.  \n",
    "> 불량률이 적은 우수한 제품을 생산하는 공정은 B라고 판단할 수 있다."
   ]
  },
  {
   "cell_type": "markdown",
   "id": "81e1f5fc",
   "metadata": {},
   "source": [
    "## 실습 과제 9 : 카이제곱 검정"
   ]
  },
  {
   "cell_type": "code",
   "execution_count": 85,
   "id": "d2213867",
   "metadata": {},
   "outputs": [
    {
     "data": {
      "text/html": [
       "<div>\n",
       "<style scoped>\n",
       "    .dataframe tbody tr th:only-of-type {\n",
       "        vertical-align: middle;\n",
       "    }\n",
       "\n",
       "    .dataframe tbody tr th {\n",
       "        vertical-align: top;\n",
       "    }\n",
       "\n",
       "    .dataframe thead th {\n",
       "        text-align: right;\n",
       "    }\n",
       "</style>\n",
       "<table border=\"1\" class=\"dataframe\">\n",
       "  <thead>\n",
       "    <tr style=\"text-align: right;\">\n",
       "      <th></th>\n",
       "      <th>A</th>\n",
       "      <th>B</th>\n",
       "      <th>C</th>\n",
       "      <th>D</th>\n",
       "      <th>E</th>\n",
       "      <th>F</th>\n",
       "    </tr>\n",
       "  </thead>\n",
       "  <tbody>\n",
       "    <tr>\n",
       "      <th>A/S</th>\n",
       "      <td>18</td>\n",
       "      <td>8</td>\n",
       "      <td>4</td>\n",
       "      <td>4</td>\n",
       "      <td>3</td>\n",
       "      <td>3</td>\n",
       "    </tr>\n",
       "    <tr>\n",
       "      <th>가격</th>\n",
       "      <td>1</td>\n",
       "      <td>2</td>\n",
       "      <td>1</td>\n",
       "      <td>1</td>\n",
       "      <td>1</td>\n",
       "      <td>25</td>\n",
       "    </tr>\n",
       "    <tr>\n",
       "      <th>성능</th>\n",
       "      <td>8</td>\n",
       "      <td>14</td>\n",
       "      <td>3</td>\n",
       "      <td>2</td>\n",
       "      <td>3</td>\n",
       "      <td>8</td>\n",
       "    </tr>\n",
       "    <tr>\n",
       "      <th>확장성</th>\n",
       "      <td>7</td>\n",
       "      <td>5</td>\n",
       "      <td>4</td>\n",
       "      <td>3</td>\n",
       "      <td>1</td>\n",
       "      <td>10</td>\n",
       "    </tr>\n",
       "    <tr>\n",
       "      <th>디자인</th>\n",
       "      <td>10</td>\n",
       "      <td>5</td>\n",
       "      <td>9</td>\n",
       "      <td>2</td>\n",
       "      <td>1</td>\n",
       "      <td>2</td>\n",
       "    </tr>\n",
       "    <tr>\n",
       "      <th>안정성</th>\n",
       "      <td>9</td>\n",
       "      <td>9</td>\n",
       "      <td>5</td>\n",
       "      <td>7</td>\n",
       "      <td>1</td>\n",
       "      <td>1</td>\n",
       "    </tr>\n",
       "    <tr>\n",
       "      <th>기능성</th>\n",
       "      <td>10</td>\n",
       "      <td>4</td>\n",
       "      <td>4</td>\n",
       "      <td>3</td>\n",
       "      <td>1</td>\n",
       "      <td>7</td>\n",
       "    </tr>\n",
       "  </tbody>\n",
       "</table>\n",
       "</div>"
      ],
      "text/plain": [
       "      A   B  C  D  E   F\n",
       "A/S  18   8  4  4  3   3\n",
       "가격    1   2  1  1  1  25\n",
       "성능    8  14  3  2  3   8\n",
       "확장성   7   5  4  3  1  10\n",
       "디자인  10   5  9  2  1   2\n",
       "안정성   9   9  5  7  1   1\n",
       "기능성  10   4  4  3  1   7"
      ]
     },
     "execution_count": 85,
     "metadata": {},
     "output_type": "execute_result"
    }
   ],
   "source": [
    "index = ['A/S', '가격', '성능', '확장성', '디자인', '안정성', '기능성']\n",
    "dic = {'A' : [18,1,8,7,10,9,10], 'B' : [8,2,14,5,5,9,4], 'C' : [4,1,3,4,9,5,4], \n",
    "       'D' : [4,1,2,3,2,7,3], 'E' : [3,1,3,1,1,1,1], 'F' : [3,25,8,10,2,1,7]}\n",
    "df_notebook = pd.DataFrame(dic, index = index)\n",
    "df_notebook"
   ]
  },
  {
   "cell_type": "markdown",
   "id": "6a9124b6",
   "metadata": {},
   "source": [
    "#### 카이제곱 검정"
   ]
  },
  {
   "cell_type": "code",
   "execution_count": 87,
   "id": "f52b7b60",
   "metadata": {},
   "outputs": [],
   "source": [
    "# chi-square test\n",
    "chi, pval, dof, expected = stats.chi2_contingency(df_notebook)"
   ]
  },
  {
   "cell_type": "code",
   "execution_count": 93,
   "id": "278adb08",
   "metadata": {},
   "outputs": [
    {
     "name": "stdout",
     "output_type": "stream",
     "text": [
      "# chi-square test\n",
      "chisq : 98.274\n",
      "p-value : 0.0000000035\n",
      "degree pf freedom : 30.000\n",
      "expected value: \n",
      "[[11.004  8.21   5.24   3.843  1.921  9.782]\n",
      " [ 8.528  6.362  4.061  2.978  1.489  7.581]\n",
      " [10.454  7.799  4.978  3.651  1.825  9.293]\n",
      " [ 8.253  6.157  3.93   2.882  1.441  7.336]\n",
      " [ 7.978  5.952  3.799  2.786  1.393  7.092]\n",
      " [ 8.803  6.568  4.192  3.074  1.537  7.825]\n",
      " [ 7.978  5.952  3.799  2.786  1.393  7.092]]\n"
     ]
    }
   ],
   "source": [
    "# Print\n",
    "print(\"# chi-square test\")\n",
    "print(\"chisq : {0:0.3f}\".format(chi))\n",
    "print(\"p-value : {0:0.10f}\".format(pval))\n",
    "print(\"degree pf freedom : {0:0.3f}\".format(dof))\n",
    "print(\"expected value: \\n{}\".format(expected.round(3)))"
   ]
  },
  {
   "cell_type": "markdown",
   "id": "8e84b318",
   "metadata": {},
   "source": [
    "### 결론"
   ]
  },
  {
   "cell_type": "markdown",
   "id": "c588e219",
   "metadata": {},
   "source": [
    "> 유의수준 5%에서 검정결과 P값이 0.0000000035 이므로 제품별로 이미지 차이가 없다고 할 수 있다."
   ]
  },
  {
   "cell_type": "markdown",
   "id": "b9353fa0",
   "metadata": {},
   "source": [
    "#### 이미지 차이가 없다면 어떤 제품이 가장 좋은가?"
   ]
  },
  {
   "cell_type": "code",
   "execution_count": 266,
   "id": "fabe57f9",
   "metadata": {},
   "outputs": [],
   "source": [
    "df_Test = df_notebook.T\n",
    "# df_Test.sort_values(by = \"A/S\")\n",
    "# df_Test.sort_values(by = \"가격\")\n",
    "# df_Test.sort_values(by = \"성능\")\n",
    "# df_Test.sort_values(by = \"확장성\")\n",
    "# df_Test.sort_values(by = \"디자인\")\n",
    "# df_Test.sort_values(by = \"안정성\")\n",
    "# df_Test.sort_values(by = \"기능성\")"
   ]
  },
  {
   "cell_type": "markdown",
   "id": "13f2f61e",
   "metadata": {},
   "source": [
    "|평가지표|가장 우수한 제품|\n",
    "|:------|:---|\n",
    "|A/S|A|\n",
    "|가격|F|\n",
    "|성능|B|\n",
    "|확장성|F|\n",
    "|디자인|A|\n",
    "|안정성|A,B|\n",
    "|기능성|A|"
   ]
  },
  {
   "cell_type": "markdown",
   "id": "3caa244d",
   "metadata": {},
   "source": [
    "> 지표별 가장 우수한 제품을 선택한다면, A제품을 선택하는 것이 효율적이라고 할 수 있다."
   ]
  },
  {
   "cell_type": "markdown",
   "id": "669752ab",
   "metadata": {},
   "source": [
    "## 실습 과제 10 : 카이제곱 검정 "
   ]
  },
  {
   "cell_type": "code",
   "execution_count": 267,
   "id": "d29ba2c3",
   "metadata": {},
   "outputs": [
    {
     "data": {
      "text/plain": [
       "time        0\n",
       "charge      0\n",
       "gangjong    0\n",
       "type        0\n",
       "dtype: int64"
      ]
     },
     "execution_count": 267,
     "metadata": {},
     "output_type": "execute_result"
    }
   ],
   "source": [
    "df_ANOVA = pd.read_csv('/home/piai/Bigdata 실습과제/1 Big Data 분석 기초/ANOVA.csv', encoding = 'euc-kr')\n",
    "df_ANOVA.isnull().sum()"
   ]
  },
  {
   "cell_type": "code",
   "execution_count": 268,
   "id": "17bdf45d",
   "metadata": {},
   "outputs": [
    {
     "data": {
      "text/html": [
       "<div>\n",
       "<style scoped>\n",
       "    .dataframe tbody tr th:only-of-type {\n",
       "        vertical-align: middle;\n",
       "    }\n",
       "\n",
       "    .dataframe tbody tr th {\n",
       "        vertical-align: top;\n",
       "    }\n",
       "\n",
       "    .dataframe thead th {\n",
       "        text-align: right;\n",
       "    }\n",
       "</style>\n",
       "<table border=\"1\" class=\"dataframe\">\n",
       "  <thead>\n",
       "    <tr style=\"text-align: right;\">\n",
       "      <th></th>\n",
       "      <th>time</th>\n",
       "      <th>charge</th>\n",
       "      <th>gangjong</th>\n",
       "      <th>type</th>\n",
       "    </tr>\n",
       "  </thead>\n",
       "  <tbody>\n",
       "    <tr>\n",
       "      <th>0</th>\n",
       "      <td>32.2</td>\n",
       "      <td>A</td>\n",
       "      <td>a</td>\n",
       "      <td>a</td>\n",
       "    </tr>\n",
       "    <tr>\n",
       "      <th>1</th>\n",
       "      <td>30.4</td>\n",
       "      <td>B</td>\n",
       "      <td>a</td>\n",
       "      <td>a</td>\n",
       "    </tr>\n",
       "    <tr>\n",
       "      <th>2</th>\n",
       "      <td>33.6</td>\n",
       "      <td>C</td>\n",
       "      <td>a</td>\n",
       "      <td>a</td>\n",
       "    </tr>\n",
       "    <tr>\n",
       "      <th>3</th>\n",
       "      <td>36.4</td>\n",
       "      <td>D</td>\n",
       "      <td>a</td>\n",
       "      <td>a</td>\n",
       "    </tr>\n",
       "    <tr>\n",
       "      <th>4</th>\n",
       "      <td>33.9</td>\n",
       "      <td>E</td>\n",
       "      <td>a</td>\n",
       "      <td>a</td>\n",
       "    </tr>\n",
       "  </tbody>\n",
       "</table>\n",
       "</div>"
      ],
      "text/plain": [
       "   time charge gangjong type\n",
       "0  32.2      A        a    a\n",
       "1  30.4      B        a    a\n",
       "2  33.6      C        a    a\n",
       "3  36.4      D        a    a\n",
       "4  33.9      E        a    a"
      ]
     },
     "execution_count": 268,
     "metadata": {},
     "output_type": "execute_result"
    }
   ],
   "source": [
    "df_ANOVA.head()"
   ]
  },
  {
   "cell_type": "code",
   "execution_count": 269,
   "id": "f2a602c5",
   "metadata": {},
   "outputs": [
    {
     "data": {
      "text/html": [
       "<div>\n",
       "<style scoped>\n",
       "    .dataframe tbody tr th:only-of-type {\n",
       "        vertical-align: middle;\n",
       "    }\n",
       "\n",
       "    .dataframe tbody tr th {\n",
       "        vertical-align: top;\n",
       "    }\n",
       "\n",
       "    .dataframe thead th {\n",
       "        text-align: right;\n",
       "    }\n",
       "</style>\n",
       "<table border=\"1\" class=\"dataframe\">\n",
       "  <thead>\n",
       "    <tr style=\"text-align: right;\">\n",
       "      <th></th>\n",
       "      <th>time</th>\n",
       "      <th>gangjong</th>\n",
       "      <th>type</th>\n",
       "    </tr>\n",
       "  </thead>\n",
       "  <tbody>\n",
       "    <tr>\n",
       "      <th>0</th>\n",
       "      <td>32.2</td>\n",
       "      <td>a</td>\n",
       "      <td>a</td>\n",
       "    </tr>\n",
       "    <tr>\n",
       "      <th>1</th>\n",
       "      <td>30.4</td>\n",
       "      <td>a</td>\n",
       "      <td>a</td>\n",
       "    </tr>\n",
       "    <tr>\n",
       "      <th>2</th>\n",
       "      <td>33.6</td>\n",
       "      <td>a</td>\n",
       "      <td>a</td>\n",
       "    </tr>\n",
       "    <tr>\n",
       "      <th>3</th>\n",
       "      <td>36.4</td>\n",
       "      <td>a</td>\n",
       "      <td>a</td>\n",
       "    </tr>\n",
       "    <tr>\n",
       "      <th>4</th>\n",
       "      <td>33.9</td>\n",
       "      <td>a</td>\n",
       "      <td>a</td>\n",
       "    </tr>\n",
       "  </tbody>\n",
       "</table>\n",
       "</div>"
      ],
      "text/plain": [
       "   time gangjong type\n",
       "0  32.2        a    a\n",
       "1  30.4        a    a\n",
       "2  33.6        a    a\n",
       "3  36.4        a    a\n",
       "4  33.9        a    a"
      ]
     },
     "execution_count": 269,
     "metadata": {},
     "output_type": "execute_result"
    }
   ],
   "source": [
    "df_ANOVA.drop(['charge'], axis = 1, inplace=True)\n",
    "df_ANOVA.head()"
   ]
  },
  {
   "cell_type": "markdown",
   "id": "25629bcb",
   "metadata": {},
   "source": [
    "### 강종별 2차정련 시간의 차이가 있는 지 검정"
   ]
  },
  {
   "cell_type": "code",
   "execution_count": 234,
   "id": "1b49cbf5",
   "metadata": {},
   "outputs": [],
   "source": [
    "a = df_ANOVA['time'][df_ANOVA['gangjong'] == 'a']\n",
    "b = df_ANOVA['time'][df_ANOVA['gangjong'] == 'b'].reset_index(drop = True)\n",
    "c = df_ANOVA['time'][df_ANOVA['gangjong'] == 'c'].reset_index(drop = True)\n",
    "d = df_ANOVA['time'][df_ANOVA['gangjong'] == 'd'].reset_index(drop = True)"
   ]
  },
  {
   "cell_type": "code",
   "execution_count": 236,
   "id": "6f786f11",
   "metadata": {},
   "outputs": [
    {
     "data": {
      "text/html": [
       "<div>\n",
       "<style scoped>\n",
       "    .dataframe tbody tr th:only-of-type {\n",
       "        vertical-align: middle;\n",
       "    }\n",
       "\n",
       "    .dataframe tbody tr th {\n",
       "        vertical-align: top;\n",
       "    }\n",
       "\n",
       "    .dataframe thead th {\n",
       "        text-align: right;\n",
       "    }\n",
       "</style>\n",
       "<table border=\"1\" class=\"dataframe\">\n",
       "  <thead>\n",
       "    <tr style=\"text-align: right;\">\n",
       "      <th></th>\n",
       "      <th>a</th>\n",
       "      <th>b</th>\n",
       "      <th>c</th>\n",
       "      <th>d</th>\n",
       "    </tr>\n",
       "  </thead>\n",
       "  <tbody>\n",
       "    <tr>\n",
       "      <th>0</th>\n",
       "      <td>32.2</td>\n",
       "      <td>33.1</td>\n",
       "      <td>32.6</td>\n",
       "      <td>26.7</td>\n",
       "    </tr>\n",
       "    <tr>\n",
       "      <th>1</th>\n",
       "      <td>30.4</td>\n",
       "      <td>29.9</td>\n",
       "      <td>32.7</td>\n",
       "      <td>28.5</td>\n",
       "    </tr>\n",
       "    <tr>\n",
       "      <th>2</th>\n",
       "      <td>33.6</td>\n",
       "      <td>31.7</td>\n",
       "      <td>29.3</td>\n",
       "      <td>30.9</td>\n",
       "    </tr>\n",
       "    <tr>\n",
       "      <th>3</th>\n",
       "      <td>36.4</td>\n",
       "      <td>27.5</td>\n",
       "      <td>25.9</td>\n",
       "      <td>26.2</td>\n",
       "    </tr>\n",
       "    <tr>\n",
       "      <th>4</th>\n",
       "      <td>33.9</td>\n",
       "      <td>34.0</td>\n",
       "      <td>31.1</td>\n",
       "      <td>32.3</td>\n",
       "    </tr>\n",
       "    <tr>\n",
       "      <th>5</th>\n",
       "      <td>34.9</td>\n",
       "      <td>30.7</td>\n",
       "      <td>23.8</td>\n",
       "      <td>23.7</td>\n",
       "    </tr>\n",
       "  </tbody>\n",
       "</table>\n",
       "</div>"
      ],
      "text/plain": [
       "      a     b     c     d\n",
       "0  32.2  33.1  32.6  26.7\n",
       "1  30.4  29.9  32.7  28.5\n",
       "2  33.6  31.7  29.3  30.9\n",
       "3  36.4  27.5  25.9  26.2\n",
       "4  33.9  34.0  31.1  32.3\n",
       "5  34.9  30.7  23.8  23.7"
      ]
     },
     "execution_count": 236,
     "metadata": {},
     "output_type": "execute_result"
    }
   ],
   "source": [
    "df_ANOVA_gangjong = pd.DataFrame({'a' : a, 'b' : b, 'c' : c, 'd' : d})\n",
    "df_ANOVA_gangjong"
   ]
  },
  {
   "cell_type": "code",
   "execution_count": 240,
   "id": "7aedaf30",
   "metadata": {},
   "outputs": [
    {
     "name": "stdout",
     "output_type": "stream",
     "text": [
      "statistic = 0.9879403114318848, p-value : 0.983557939529419\n",
      "statistic = 0.9769707918167114, p-value : 0.9355478286743164\n",
      "statistic = 0.8929420113563538, p-value : 0.3338908553123474\n",
      "statistic = 0.9713904857635498, p-value : 0.901641845703125\n"
     ]
    }
   ],
   "source": [
    "# 강종별 간 정규성 검정\n",
    "statistic1, p1 = stats.shapiro(df_ANOVA_gangjong['a'])\n",
    "statistic2, p2 = stats.shapiro(df_ANOVA_gangjong['b'])\n",
    "statistic3, p3 = stats.shapiro(df_ANOVA_gangjong['c'])\n",
    "statistic4, p4 = stats.shapiro(df_ANOVA_gangjong['d'])\n",
    "print(\"statistic = {}, p-value : {}\".format(statistic1, p1))\n",
    "print(\"statistic = {}, p-value : {}\".format(statistic2, p2))\n",
    "print(\"statistic = {}, p-value : {}\".format(statistic3, p3))\n",
    "print(\"statistic = {}, p-value : {}\".format(statistic4, p4))"
   ]
  },
  {
   "cell_type": "markdown",
   "id": "9a4247fb",
   "metadata": {},
   "source": [
    "> 강종별 2차정련 시간의 분포는 정규분포를 따른다고 할 수 있다."
   ]
  },
  {
   "cell_type": "code",
   "execution_count": 242,
   "id": "05630d8c",
   "metadata": {},
   "outputs": [
    {
     "data": {
      "text/plain": [
       "LeveneResult(statistic=0.9417495009041227, pvalue=0.4390899931524723)"
      ]
     },
     "execution_count": 242,
     "metadata": {},
     "output_type": "execute_result"
    }
   ],
   "source": [
    "# 등분산성 검정\n",
    "stats.levene(df_ANOVA_gangjong['a'],df_ANOVA_gangjong['b'],df_ANOVA_gangjong['c'],df_ANOVA_gangjong['d'])"
   ]
  },
  {
   "cell_type": "markdown",
   "id": "04a84301",
   "metadata": {},
   "source": [
    "> 유의수준 5%에서 검정결과 P값이 0.439 이므로 강종별 간 2차정련 시간의 차이는 없다고 할 수 있다."
   ]
  },
  {
   "cell_type": "markdown",
   "id": "bb64aa43",
   "metadata": {},
   "source": [
    "### type별 2차정련 시간의 차이가 있는지 검정"
   ]
  },
  {
   "cell_type": "code",
   "execution_count": 253,
   "id": "76f926ed",
   "metadata": {},
   "outputs": [],
   "source": [
    "a = df_ANOVA['time'][df_ANOVA['type'] == 'a']\n",
    "b = df_ANOVA['time'][df_ANOVA['type'] == 'b'].reset_index(drop = True)"
   ]
  },
  {
   "cell_type": "code",
   "execution_count": 252,
   "id": "2c7b1e75",
   "metadata": {},
   "outputs": [
    {
     "data": {
      "text/html": [
       "<div>\n",
       "<style scoped>\n",
       "    .dataframe tbody tr th:only-of-type {\n",
       "        vertical-align: middle;\n",
       "    }\n",
       "\n",
       "    .dataframe tbody tr th {\n",
       "        vertical-align: top;\n",
       "    }\n",
       "\n",
       "    .dataframe thead th {\n",
       "        text-align: right;\n",
       "    }\n",
       "</style>\n",
       "<table border=\"1\" class=\"dataframe\">\n",
       "  <thead>\n",
       "    <tr style=\"text-align: right;\">\n",
       "      <th></th>\n",
       "      <th>a</th>\n",
       "      <th>b</th>\n",
       "    </tr>\n",
       "  </thead>\n",
       "  <tbody>\n",
       "    <tr>\n",
       "      <th>0</th>\n",
       "      <td>32.2</td>\n",
       "      <td>32.6</td>\n",
       "    </tr>\n",
       "    <tr>\n",
       "      <th>1</th>\n",
       "      <td>30.4</td>\n",
       "      <td>32.7</td>\n",
       "    </tr>\n",
       "    <tr>\n",
       "      <th>2</th>\n",
       "      <td>33.6</td>\n",
       "      <td>29.3</td>\n",
       "    </tr>\n",
       "    <tr>\n",
       "      <th>3</th>\n",
       "      <td>36.4</td>\n",
       "      <td>25.9</td>\n",
       "    </tr>\n",
       "    <tr>\n",
       "      <th>4</th>\n",
       "      <td>33.9</td>\n",
       "      <td>31.1</td>\n",
       "    </tr>\n",
       "  </tbody>\n",
       "</table>\n",
       "</div>"
      ],
      "text/plain": [
       "      a     b\n",
       "0  32.2  32.6\n",
       "1  30.4  32.7\n",
       "2  33.6  29.3\n",
       "3  36.4  25.9\n",
       "4  33.9  31.1"
      ]
     },
     "execution_count": 252,
     "metadata": {},
     "output_type": "execute_result"
    }
   ],
   "source": [
    "df_ANOVA_type = pd.DataFrame({'a' : a, 'b' : b})\n",
    "df_ANOVA_type.head()"
   ]
  },
  {
   "cell_type": "code",
   "execution_count": 254,
   "id": "6e012616",
   "metadata": {},
   "outputs": [
    {
     "name": "stdout",
     "output_type": "stream",
     "text": [
      "statistic = 0.982139527797699, p-value : 0.9907686114311218\n",
      "statistic = 0.9098271131515503, p-value : 0.2122616022825241\n"
     ]
    }
   ],
   "source": [
    "# type 간 정규성 검정\n",
    "statistic1, p1 = stats.shapiro(df_ANOVA_type['a'])\n",
    "statistic2, p2 = stats.shapiro(df_ANOVA_type['b'])\n",
    "print(\"statistic = {}, p-value : {}\".format(statistic1, p1))\n",
    "print(\"statistic = {}, p-value : {}\".format(statistic2, p2))"
   ]
  },
  {
   "cell_type": "markdown",
   "id": "e7d4adbe",
   "metadata": {},
   "source": [
    "> type별 2차정련 시간의 분포는 정규분포를 따른다고 할 수 있다."
   ]
  },
  {
   "cell_type": "code",
   "execution_count": 256,
   "id": "eb6ba549",
   "metadata": {},
   "outputs": [
    {
     "data": {
      "text/plain": [
       "LeveneResult(statistic=2.1557191195451235, pvalue=0.1561933555382328)"
      ]
     },
     "execution_count": 256,
     "metadata": {},
     "output_type": "execute_result"
    }
   ],
   "source": [
    "# 등분산성 검정\n",
    "stats.levene(df_ANOVA_type['a'],df_ANOVA_type['b'])"
   ]
  },
  {
   "cell_type": "markdown",
   "id": "b87efd02",
   "metadata": {},
   "source": [
    "> 유의수준 5%에서 검정결과 P값이 0.156 이므로 type별 간 2차정련 시간의 차이는 없다고 할 수 있다."
   ]
  },
  {
   "cell_type": "markdown",
   "id": "457a0ac1",
   "metadata": {},
   "source": [
    "## 실습 과제 11 : 카이제곱 검정"
   ]
  },
  {
   "cell_type": "code",
   "execution_count": 243,
   "id": "512c4f10",
   "metadata": {},
   "outputs": [],
   "source": [
    "# data \n",
    "df_strength = [37.6,38.6,37.2,36.4,38.6,39,37.2,36.1,35.9,37.1,36.9,37.5,36.3,38.1,39,36.9,36.8,37.6,33,33.5]\n",
    "df_temperature = [14,15,14,16,17,14,17,16,15,16,14,16,18,13,15,17,14,16,20,21] "
   ]
  },
  {
   "cell_type": "code",
   "execution_count": 244,
   "id": "aa7b9136",
   "metadata": {},
   "outputs": [
    {
     "name": "stdout",
     "output_type": "stream",
     "text": [
      "Correlation Analysis\n",
      "corr: -0.723\n",
      "p-value: 0.000\n"
     ]
    }
   ],
   "source": [
    "# Correlation Analysis\n",
    "corr, pval = stats.pearsonr(df_strength, df_temperature)\n",
    "print(\"Correlation Analysis\")\n",
    "print(\"corr: {0:0.3f}\".format(corr))\n",
    "print(\"p-value: {0:0.3f}\".format(pval))"
   ]
  },
  {
   "cell_type": "markdown",
   "id": "38f88dc2",
   "metadata": {},
   "source": [
    "### 결론"
   ]
  },
  {
   "cell_type": "markdown",
   "id": "d3c9a2c9",
   "metadata": {},
   "source": [
    "> 유의수준 5%에서 검정결과 P값이 매우 작기 때문에 부품수리시간과 부품수 사이에 \"매우 강한 상관성\"이 있다고 할 수 있다."
   ]
  },
  {
   "cell_type": "markdown",
   "id": "79299df6",
   "metadata": {},
   "source": [
    "#### 그렇다면 상관관계는 어떻게 표현되는가?"
   ]
  },
  {
   "cell_type": "code",
   "execution_count": 155,
   "id": "651849b5",
   "metadata": {},
   "outputs": [],
   "source": [
    "df_strength.sort()\n",
    "df_temperature.sort()"
   ]
  },
  {
   "cell_type": "code",
   "execution_count": 160,
   "id": "c8caf266",
   "metadata": {},
   "outputs": [
    {
     "data": {
      "text/plain": [
       "<matplotlib.collections.PathCollection at 0x7f0a49d16a30>"
      ]
     },
     "execution_count": 160,
     "metadata": {},
     "output_type": "execute_result"
    },
    {
     "data": {
      "image/png": "[encoded data removed]",
      "text/plain": [
       "<Figure size 640x480 with 1 Axes>"
      ]
     },
     "metadata": {},
     "output_type": "display_data"
    }
   ],
   "source": [
    "plt.scatter(df_temperature, df_strength)"
   ]
  },
  {
   "cell_type": "markdown",
   "id": "505ce9ed",
   "metadata": {},
   "source": [
    "#### 추정 결과"
   ]
  },
  {
   "cell_type": "markdown",
   "id": "367c2520",
   "metadata": {},
   "source": [
    "> 재료 반죽온도가 증가할수록 초코칩의 강도는 증가하지만, 온도가 높아질 수록 강도의 증가정도는 줄어들게 된다.  \n",
    "> 상관관계는 곡선 형태의 회귀선으로 추정될 수 있다."
   ]
  }
 ],
 "metadata": {
  "kernelspec": {
   "display_name": "Python 3 (ipykernel)",
   "language": "python",
   "name": "python3"
  },
  "language_info": {
   "codemirror_mode": {
    "name": "ipython",
    "version": 3
   },
   "file_extension": ".py",
   "mimetype": "text/x-python",
   "name": "python",
   "nbconvert_exporter": "python",
   "pygments_lexer": "ipython3",
   "version": "3.9.13"
  }
 },
 "nbformat": 4,
 "nbformat_minor": 5
}
