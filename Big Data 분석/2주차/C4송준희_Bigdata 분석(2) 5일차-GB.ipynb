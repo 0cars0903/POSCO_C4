{
 "cells": [
  {
   "cell_type": "markdown",
   "metadata": {
    "id": "JrbhAMFyhn5_"
   },
   "source": [
    "# 그래디언트 부스팅"
   ]
  },
  {
   "cell_type": "markdown",
   "metadata": {
    "id": "aLw6iqCrhtj6"
   },
   "source": [
    "## 0. Import"
   ]
  },
  {
   "cell_type": "code",
   "execution_count": 33,
   "metadata": {
    "id": "qiPYlDmmhmDP"
   },
   "outputs": [
    {
     "ename": "ModuleNotFoundError",
     "evalue": "No module named 'xgboost'",
     "output_type": "error",
     "traceback": [
      "\u001b[0;31m---------------------------------------------------------------------------\u001b[0m",
      "\u001b[0;31mModuleNotFoundError\u001b[0m                       Traceback (most recent call last)",
      "Input \u001b[0;32mIn [33]\u001b[0m, in \u001b[0;36m<cell line: 13>\u001b[0;34m()\u001b[0m\n\u001b[1;32m     10\u001b[0m \u001b[38;5;28;01mfrom\u001b[39;00m \u001b[38;5;21;01msklearn\u001b[39;00m\u001b[38;5;21;01m.\u001b[39;00m\u001b[38;5;21;01mensemble\u001b[39;00m \u001b[38;5;28;01mimport\u001b[39;00m GradientBoostingClassifier\n\u001b[1;32m     11\u001b[0m \u001b[38;5;28;01mfrom\u001b[39;00m \u001b[38;5;21;01msklearn\u001b[39;00m\u001b[38;5;21;01m.\u001b[39;00m\u001b[38;5;21;01mmodel_selection\u001b[39;00m \u001b[38;5;28;01mimport\u001b[39;00m GridSearchCV\n\u001b[0;32m---> 13\u001b[0m \u001b[38;5;28;01mfrom\u001b[39;00m \u001b[38;5;21;01mxgboost\u001b[39;00m \u001b[38;5;28;01mimport\u001b[39;00m XGBClassifier\n\u001b[1;32m     14\u001b[0m \u001b[38;5;28;01mfrom\u001b[39;00m \u001b[38;5;21;01mxgboost\u001b[39;00m \u001b[38;5;28;01mimport\u001b[39;00m XGBClassifier\n\u001b[1;32m     15\u001b[0m \u001b[38;5;28;01mfrom\u001b[39;00m \u001b[38;5;21;01mxgboost\u001b[39;00m \u001b[38;5;28;01mimport\u001b[39;00m plot_importance\n",
      "\u001b[0;31mModuleNotFoundError\u001b[0m: No module named 'xgboost'"
     ]
    }
   ],
   "source": [
    "import pandas as pd\n",
    "\n",
    "import matplotlib.pyplot as plt\n",
    "import matplotlib\n",
    "\n",
    "from sklearn.tree import export_graphviz\n",
    "import graphviz\n",
    "\n",
    "from sklearn.model_selection import train_test_split\n",
    "from sklearn.ensemble import GradientBoostingClassifier\n",
    "from sklearn.model_selection import GridSearchCV\n",
    "\n",
    "from xgboost import XGBClassifier\n",
    "from xgboost import XGBClassifier\n",
    "from xgboost import plot_importance\n",
    "\n",
    "from sklearn.metrics import accuracy_score, f1_score\n",
    "from sklearn.metrics import confusion_matrix, classification_report"
   ]
  },
  {
   "cell_type": "code",
   "execution_count": 5,
   "metadata": {
    "id": "5-BNk9BGkTcK"
   },
   "outputs": [],
   "source": [
    "matplotlib.rc('font', family = 'NanumGothic')\n",
    "matplotlib.rc('axes', unicode_minus = False)"
   ]
  },
  {
   "cell_type": "markdown",
   "metadata": {
    "id": "IfMYcNH9jbOW"
   },
   "source": [
    "## 1. 데이터 구성하기"
   ]
  },
  {
   "cell_type": "code",
   "execution_count": 6,
   "metadata": {
    "colab": {
     "base_uri": "https://localhost:8080/",
     "height": 206
    },
    "id": "gbReqbashhQy",
    "outputId": "6ba2ba8c-0231-495f-8a96-58605354daad"
   },
   "outputs": [
    {
     "data": {
      "text/html": [
       "<div>\n",
       "<style scoped>\n",
       "    .dataframe tbody tr th:only-of-type {\n",
       "        vertical-align: middle;\n",
       "    }\n",
       "\n",
       "    .dataframe tbody tr th {\n",
       "        vertical-align: top;\n",
       "    }\n",
       "\n",
       "    .dataframe thead th {\n",
       "        text-align: right;\n",
       "    }\n",
       "</style>\n",
       "<table border=\"1\" class=\"dataframe\">\n",
       "  <thead>\n",
       "    <tr style=\"text-align: right;\">\n",
       "      <th></th>\n",
       "      <th>BAD</th>\n",
       "      <th>LOAN</th>\n",
       "      <th>MORTDUE</th>\n",
       "      <th>VALUE</th>\n",
       "      <th>REASON</th>\n",
       "      <th>JOB</th>\n",
       "      <th>YOJ</th>\n",
       "      <th>DEROG</th>\n",
       "      <th>DELINQ</th>\n",
       "      <th>CLAGE</th>\n",
       "      <th>NINQ</th>\n",
       "      <th>CLNO</th>\n",
       "      <th>DEBTINC</th>\n",
       "    </tr>\n",
       "  </thead>\n",
       "  <tbody>\n",
       "    <tr>\n",
       "      <th>0</th>\n",
       "      <td>1</td>\n",
       "      <td>1700</td>\n",
       "      <td>30548</td>\n",
       "      <td>40320.0</td>\n",
       "      <td>HomeImp</td>\n",
       "      <td>Other</td>\n",
       "      <td>9.0</td>\n",
       "      <td>0</td>\n",
       "      <td>0.0</td>\n",
       "      <td>101.466002</td>\n",
       "      <td>1.0</td>\n",
       "      <td>8</td>\n",
       "      <td>37.113614</td>\n",
       "    </tr>\n",
       "    <tr>\n",
       "      <th>1</th>\n",
       "      <td>1</td>\n",
       "      <td>1800</td>\n",
       "      <td>28502</td>\n",
       "      <td>43034.0</td>\n",
       "      <td>HomeImp</td>\n",
       "      <td>Other</td>\n",
       "      <td>11.0</td>\n",
       "      <td>0</td>\n",
       "      <td>0.0</td>\n",
       "      <td>88.766030</td>\n",
       "      <td>0.0</td>\n",
       "      <td>8</td>\n",
       "      <td>36.884894</td>\n",
       "    </tr>\n",
       "    <tr>\n",
       "      <th>2</th>\n",
       "      <td>0</td>\n",
       "      <td>2300</td>\n",
       "      <td>102370</td>\n",
       "      <td>120953.0</td>\n",
       "      <td>HomeImp</td>\n",
       "      <td>Office</td>\n",
       "      <td>2.0</td>\n",
       "      <td>0</td>\n",
       "      <td>0.0</td>\n",
       "      <td>90.992533</td>\n",
       "      <td>0.0</td>\n",
       "      <td>13</td>\n",
       "      <td>31.588503</td>\n",
       "    </tr>\n",
       "    <tr>\n",
       "      <th>3</th>\n",
       "      <td>1</td>\n",
       "      <td>2400</td>\n",
       "      <td>34863</td>\n",
       "      <td>47471.0</td>\n",
       "      <td>HomeImp</td>\n",
       "      <td>Mgr</td>\n",
       "      <td>12.0</td>\n",
       "      <td>0</td>\n",
       "      <td>0.0</td>\n",
       "      <td>70.491080</td>\n",
       "      <td>1.0</td>\n",
       "      <td>21</td>\n",
       "      <td>38.263601</td>\n",
       "    </tr>\n",
       "    <tr>\n",
       "      <th>4</th>\n",
       "      <td>0</td>\n",
       "      <td>2400</td>\n",
       "      <td>98449</td>\n",
       "      <td>117195.0</td>\n",
       "      <td>HomeImp</td>\n",
       "      <td>Office</td>\n",
       "      <td>4.0</td>\n",
       "      <td>0</td>\n",
       "      <td>0.0</td>\n",
       "      <td>93.811775</td>\n",
       "      <td>0.0</td>\n",
       "      <td>13</td>\n",
       "      <td>29.681827</td>\n",
       "    </tr>\n",
       "  </tbody>\n",
       "</table>\n",
       "</div>"
      ],
      "text/plain": [
       "   BAD  LOAN  MORTDUE     VALUE   REASON     JOB   YOJ  DEROG  DELINQ  \\\n",
       "0    1  1700    30548   40320.0  HomeImp   Other   9.0      0     0.0   \n",
       "1    1  1800    28502   43034.0  HomeImp   Other  11.0      0     0.0   \n",
       "2    0  2300   102370  120953.0  HomeImp  Office   2.0      0     0.0   \n",
       "3    1  2400    34863   47471.0  HomeImp     Mgr  12.0      0     0.0   \n",
       "4    0  2400    98449  117195.0  HomeImp  Office   4.0      0     0.0   \n",
       "\n",
       "        CLAGE  NINQ  CLNO    DEBTINC  \n",
       "0  101.466002   1.0     8  37.113614  \n",
       "1   88.766030   0.0     8  36.884894  \n",
       "2   90.992533   0.0    13  31.588503  \n",
       "3   70.491080   1.0    21  38.263601  \n",
       "4   93.811775   0.0    13  29.681827  "
      ]
     },
     "execution_count": 6,
     "metadata": {},
     "output_type": "execute_result"
    }
   ],
   "source": [
    "df_raw = pd.read_csv('/home/piai/Bigdata 실습과제/2. Big Data 분석/HMEQ.csv', encoding = 'euc-kr')\n",
    "df_raw.head()"
   ]
  },
  {
   "cell_type": "markdown",
   "metadata": {
    "id": "l1Z0rIusjhUI"
   },
   "source": [
    "### 1.1 결측치 처리"
   ]
  },
  {
   "cell_type": "code",
   "execution_count": 7,
   "metadata": {
    "colab": {
     "base_uri": "https://localhost:8080/"
    },
    "id": "kkb8LqF0iutr",
    "outputId": "3044bdef-5ffd-48bc-eaf3-bcfd49880d1d"
   },
   "outputs": [
    {
     "data": {
      "text/plain": [
       "BAD          0\n",
       "LOAN         0\n",
       "MORTDUE      0\n",
       "VALUE       14\n",
       "REASON       0\n",
       "JOB         81\n",
       "YOJ        205\n",
       "DEROG        0\n",
       "DELINQ      30\n",
       "CLAGE       37\n",
       "NINQ        56\n",
       "CLNO         0\n",
       "DEBTINC      0\n",
       "dtype: int64"
      ]
     },
     "execution_count": 7,
     "metadata": {},
     "output_type": "execute_result"
    }
   ],
   "source": [
    "df_raw.isnull().sum()"
   ]
  },
  {
   "cell_type": "code",
   "execution_count": 8,
   "metadata": {
    "colab": {
     "base_uri": "https://localhost:8080/"
    },
    "id": "5IHV3eHAi0wI",
    "outputId": "bedb3b99-ea48-4795-e085-88858a0864be"
   },
   "outputs": [
    {
     "name": "stderr",
     "output_type": "stream",
     "text": [
      "/tmp/ipykernel_4263/670386109.py:2: FutureWarning: Dropping of nuisance columns in DataFrame reductions (with 'numeric_only=None') is deprecated; in a future version this will raise TypeError.  Select only valid columns before calling the reduction.\n",
      "  df_raw.fillna(df_raw.mean(), inplace = True)\n"
     ]
    }
   ],
   "source": [
    "df_raw['JOB'].fillna('Other', inplace = True)\n",
    "df_raw.fillna(df_raw.mean(), inplace = True)"
   ]
  },
  {
   "cell_type": "markdown",
   "metadata": {
    "id": "138nr2KRjKsW"
   },
   "source": [
    "### 1.2 더미변수 생성"
   ]
  },
  {
   "cell_type": "code",
   "execution_count": 9,
   "metadata": {
    "colab": {
     "base_uri": "https://localhost:8080/",
     "height": 206
    },
    "id": "dOPQCUE8j2sY",
    "outputId": "03a48ded-5cf8-46a0-bcf1-0f3bcd34d6c7"
   },
   "outputs": [
    {
     "data": {
      "text/html": [
       "<div>\n",
       "<style scoped>\n",
       "    .dataframe tbody tr th:only-of-type {\n",
       "        vertical-align: middle;\n",
       "    }\n",
       "\n",
       "    .dataframe tbody tr th {\n",
       "        vertical-align: top;\n",
       "    }\n",
       "\n",
       "    .dataframe thead th {\n",
       "        text-align: right;\n",
       "    }\n",
       "</style>\n",
       "<table border=\"1\" class=\"dataframe\">\n",
       "  <thead>\n",
       "    <tr style=\"text-align: right;\">\n",
       "      <th></th>\n",
       "      <th>BAD</th>\n",
       "      <th>LOAN</th>\n",
       "      <th>MORTDUE</th>\n",
       "      <th>VALUE</th>\n",
       "      <th>YOJ</th>\n",
       "      <th>DEROG</th>\n",
       "      <th>DELINQ</th>\n",
       "      <th>CLAGE</th>\n",
       "      <th>NINQ</th>\n",
       "      <th>CLNO</th>\n",
       "      <th>DEBTINC</th>\n",
       "      <th>REASON_DebtCon</th>\n",
       "      <th>REASON_HomeImp</th>\n",
       "      <th>JOB_Mgr</th>\n",
       "      <th>JOB_Office</th>\n",
       "      <th>JOB_Other</th>\n",
       "      <th>JOB_ProfExe</th>\n",
       "      <th>JOB_Sales</th>\n",
       "      <th>JOB_Self</th>\n",
       "    </tr>\n",
       "  </thead>\n",
       "  <tbody>\n",
       "    <tr>\n",
       "      <th>0</th>\n",
       "      <td>1</td>\n",
       "      <td>1700</td>\n",
       "      <td>30548</td>\n",
       "      <td>40320.0</td>\n",
       "      <td>9.0</td>\n",
       "      <td>0</td>\n",
       "      <td>0.0</td>\n",
       "      <td>101.466002</td>\n",
       "      <td>1.0</td>\n",
       "      <td>8</td>\n",
       "      <td>37.113614</td>\n",
       "      <td>0</td>\n",
       "      <td>1</td>\n",
       "      <td>0</td>\n",
       "      <td>0</td>\n",
       "      <td>1</td>\n",
       "      <td>0</td>\n",
       "      <td>0</td>\n",
       "      <td>0</td>\n",
       "    </tr>\n",
       "    <tr>\n",
       "      <th>1</th>\n",
       "      <td>1</td>\n",
       "      <td>1800</td>\n",
       "      <td>28502</td>\n",
       "      <td>43034.0</td>\n",
       "      <td>11.0</td>\n",
       "      <td>0</td>\n",
       "      <td>0.0</td>\n",
       "      <td>88.766030</td>\n",
       "      <td>0.0</td>\n",
       "      <td>8</td>\n",
       "      <td>36.884894</td>\n",
       "      <td>0</td>\n",
       "      <td>1</td>\n",
       "      <td>0</td>\n",
       "      <td>0</td>\n",
       "      <td>1</td>\n",
       "      <td>0</td>\n",
       "      <td>0</td>\n",
       "      <td>0</td>\n",
       "    </tr>\n",
       "    <tr>\n",
       "      <th>2</th>\n",
       "      <td>0</td>\n",
       "      <td>2300</td>\n",
       "      <td>102370</td>\n",
       "      <td>120953.0</td>\n",
       "      <td>2.0</td>\n",
       "      <td>0</td>\n",
       "      <td>0.0</td>\n",
       "      <td>90.992533</td>\n",
       "      <td>0.0</td>\n",
       "      <td>13</td>\n",
       "      <td>31.588503</td>\n",
       "      <td>0</td>\n",
       "      <td>1</td>\n",
       "      <td>0</td>\n",
       "      <td>1</td>\n",
       "      <td>0</td>\n",
       "      <td>0</td>\n",
       "      <td>0</td>\n",
       "      <td>0</td>\n",
       "    </tr>\n",
       "    <tr>\n",
       "      <th>3</th>\n",
       "      <td>1</td>\n",
       "      <td>2400</td>\n",
       "      <td>34863</td>\n",
       "      <td>47471.0</td>\n",
       "      <td>12.0</td>\n",
       "      <td>0</td>\n",
       "      <td>0.0</td>\n",
       "      <td>70.491080</td>\n",
       "      <td>1.0</td>\n",
       "      <td>21</td>\n",
       "      <td>38.263601</td>\n",
       "      <td>0</td>\n",
       "      <td>1</td>\n",
       "      <td>1</td>\n",
       "      <td>0</td>\n",
       "      <td>0</td>\n",
       "      <td>0</td>\n",
       "      <td>0</td>\n",
       "      <td>0</td>\n",
       "    </tr>\n",
       "    <tr>\n",
       "      <th>4</th>\n",
       "      <td>0</td>\n",
       "      <td>2400</td>\n",
       "      <td>98449</td>\n",
       "      <td>117195.0</td>\n",
       "      <td>4.0</td>\n",
       "      <td>0</td>\n",
       "      <td>0.0</td>\n",
       "      <td>93.811775</td>\n",
       "      <td>0.0</td>\n",
       "      <td>13</td>\n",
       "      <td>29.681827</td>\n",
       "      <td>0</td>\n",
       "      <td>1</td>\n",
       "      <td>0</td>\n",
       "      <td>1</td>\n",
       "      <td>0</td>\n",
       "      <td>0</td>\n",
       "      <td>0</td>\n",
       "      <td>0</td>\n",
       "    </tr>\n",
       "  </tbody>\n",
       "</table>\n",
       "</div>"
      ],
      "text/plain": [
       "   BAD  LOAN  MORTDUE     VALUE   YOJ  DEROG  DELINQ       CLAGE  NINQ  CLNO  \\\n",
       "0    1  1700    30548   40320.0   9.0      0     0.0  101.466002   1.0     8   \n",
       "1    1  1800    28502   43034.0  11.0      0     0.0   88.766030   0.0     8   \n",
       "2    0  2300   102370  120953.0   2.0      0     0.0   90.992533   0.0    13   \n",
       "3    1  2400    34863   47471.0  12.0      0     0.0   70.491080   1.0    21   \n",
       "4    0  2400    98449  117195.0   4.0      0     0.0   93.811775   0.0    13   \n",
       "\n",
       "     DEBTINC  REASON_DebtCon  REASON_HomeImp  JOB_Mgr  JOB_Office  JOB_Other  \\\n",
       "0  37.113614               0               1        0           0          1   \n",
       "1  36.884894               0               1        0           0          1   \n",
       "2  31.588503               0               1        0           1          0   \n",
       "3  38.263601               0               1        1           0          0   \n",
       "4  29.681827               0               1        0           1          0   \n",
       "\n",
       "   JOB_ProfExe  JOB_Sales  JOB_Self  \n",
       "0            0          0         0  \n",
       "1            0          0         0  \n",
       "2            0          0         0  \n",
       "3            0          0         0  \n",
       "4            0          0         0  "
      ]
     },
     "execution_count": 9,
     "metadata": {},
     "output_type": "execute_result"
    }
   ],
   "source": [
    "df_raw_dummy = pd.get_dummies(df_raw)\n",
    "df_raw_dummy.head()"
   ]
  },
  {
   "cell_type": "markdown",
   "metadata": {
    "id": "Un7tTlKJj8qa"
   },
   "source": [
    "### 1.3 데이터 구성하기 - 데이터 분할(7:3)"
   ]
  },
  {
   "cell_type": "code",
   "execution_count": 10,
   "metadata": {
    "id": "m9Hb4tpuko-L"
   },
   "outputs": [],
   "source": [
    "# 설명변수 , 목표변수 데이터 구분\n",
    "df_raw_x = df_raw_dummy.drop('BAD', axis = 1, inplace=False)\n",
    "df_raw_y = df_raw_dummy['BAD']"
   ]
  },
  {
   "cell_type": "code",
   "execution_count": 11,
   "metadata": {
    "colab": {
     "base_uri": "https://localhost:8080/"
    },
    "id": "tsFbDluJkrSb",
    "outputId": "4e321919-fbfc-43a5-d2cf-8149c532fd5e"
   },
   "outputs": [
    {
     "name": "stdout",
     "output_type": "stream",
     "text": [
      "분할 전 설명변수 데이터: (3748, 18)\n",
      "분할 후 설명변수 데이터 :Train (2623, 18) Test (1125, 18)\n"
     ]
    }
   ],
   "source": [
    "#데이터 분할 train_test_split\n",
    "df_train_x, df_test_x, df_train_y, df_test_y = train_test_split(df_raw_x, df_raw_y, test_size = 0.3, random_state=1234)\n",
    "\n",
    "\n",
    "print('분할 전 설명변수 데이터:',df_raw_x.shape)\n",
    "print('분할 후 설명변수 데이터 :Train', df_train_x.shape, 'Test', df_test_x.shape)"
   ]
  },
  {
   "cell_type": "markdown",
   "metadata": {
    "id": "9Y6uHPbtksWM"
   },
   "source": [
    "## 2. 모델 생성 - 그래디언트 부스팅"
   ]
  },
  {
   "cell_type": "markdown",
   "metadata": {
    "id": "pEGBIUA-lP9g"
   },
   "source": [
    "### 2.1 기본 옵션으로 모델 생성"
   ]
  },
  {
   "cell_type": "code",
   "execution_count": 72,
   "metadata": {
    "colab": {
     "base_uri": "https://localhost:8080/"
    },
    "id": "jO12SNJflT5O",
    "outputId": "682b485e-d27a-4be1-98e2-586480040fce"
   },
   "outputs": [
    {
     "name": "stdout",
     "output_type": "stream",
     "text": [
      "Accuracy on training set :0.963\n",
      "Accuracy on test set :0.941\n"
     ]
    }
   ],
   "source": [
    "random_state = 1234\n",
    "gb_uncustomized = GradientBoostingClassifier(random_state = random_state)\n",
    "gb_uncustomized.fit(df_train_x, df_train_y)\n",
    "\n",
    "print('Accuracy on training set :{:.3f}'.format(gb_uncustomized.score(df_train_x, df_train_y)))\n",
    "print('Accuracy on test set :{:.3f}'.format(gb_uncustomized.score(df_test_x, df_test_y)))"
   ]
  },
  {
   "cell_type": "code",
   "execution_count": 73,
   "metadata": {
    "colab": {
     "base_uri": "https://localhost:8080/"
    },
    "id": "d40EsTWslv_S",
    "outputId": "3ad20dc5-c0bf-470e-a25f-f7e256184fee"
   },
   "outputs": [
    {
     "name": "stdout",
     "output_type": "stream",
     "text": [
      "dict_keys(['ccp_alpha', 'criterion', 'init', 'learning_rate', 'loss', 'max_depth', 'max_features', 'max_leaf_nodes', 'min_impurity_decrease', 'min_samples_leaf', 'min_samples_split', 'min_weight_fraction_leaf', 'n_estimators', 'n_iter_no_change', 'random_state', 'subsample', 'tol', 'validation_fraction', 'verbose', 'warm_start'])\n",
      "dict_values([0.0, 'friedman_mse', None, 0.1, 'log_loss', 3, None, None, 0.0, 1, 2, 0.0, 100, None, 1234, 1.0, 0.0001, 0.1, 0, False])\n"
     ]
    }
   ],
   "source": [
    "# 현재 생성된 그래디언트 부스팅 모델의 옵션 확인\n",
    "print(gb_uncustomized.get_params().keys())\n",
    "print(gb_uncustomized.get_params().values())"
   ]
  },
  {
   "cell_type": "markdown",
   "metadata": {
    "id": "y-3QQKjMl_Jy"
   },
   "source": [
    "### 2.2 learnin_rate : 학습률 변경에 따른 모델 성능"
   ]
  },
  {
   "cell_type": "code",
   "execution_count": 74,
   "metadata": {
    "id": "vaTnzA-jmLCg"
   },
   "outputs": [],
   "source": [
    "# train, test 정확도 결과 저장용\n",
    "train_accuracy = []; test_accuracy = []; differance = []\n",
    "\n",
    "# 학습률 변경\n",
    "para_lr = [lr *0.1 for lr in range(1,10)]\n",
    "\n",
    "for v_learning_rate in para_lr:\n",
    "    gb = GradientBoostingClassifier(learning_rate = v_learning_rate, random_state = random_state)\n",
    "    gb.fit(df_train_x, df_train_y)\n",
    "    train_accuracy.append(gb.score(df_train_x, df_train_y))\n",
    "    test_accuracy.append(gb.score(df_test_x, df_test_y))\n",
    "    differance.append((gb.score(df_train_x, df_train_y)) - (gb.score(df_test_x, df_test_y)))\n",
    "    \n",
    "#데이텉 테이블로 저장\n",
    "df_accuracy_lr = pd.DataFrame()\n",
    "df_accuracy_lr['LearningRate'] = para_lr\n",
    "df_accuracy_lr['TrainAccuracy'] = train_accuracy\n",
    "df_accuracy_lr['TestAccuracy'] = test_accuracy\n",
    "df_accuracy_lr['Differance'] = differance"
   ]
  },
  {
   "cell_type": "code",
   "execution_count": 75,
   "metadata": {},
   "outputs": [
    {
     "data": {
      "text/html": [
       "<div>\n",
       "<style scoped>\n",
       "    .dataframe tbody tr th:only-of-type {\n",
       "        vertical-align: middle;\n",
       "    }\n",
       "\n",
       "    .dataframe tbody tr th {\n",
       "        vertical-align: top;\n",
       "    }\n",
       "\n",
       "    .dataframe thead th {\n",
       "        text-align: right;\n",
       "    }\n",
       "</style>\n",
       "<table border=\"1\" class=\"dataframe\">\n",
       "  <thead>\n",
       "    <tr style=\"text-align: right;\">\n",
       "      <th></th>\n",
       "      <th>LearningRate</th>\n",
       "      <th>TrainAccuracy</th>\n",
       "      <th>TestAccuracy</th>\n",
       "      <th>Differance</th>\n",
       "    </tr>\n",
       "  </thead>\n",
       "  <tbody>\n",
       "    <tr>\n",
       "      <th>0</th>\n",
       "      <td>0.1</td>\n",
       "      <td>0.963</td>\n",
       "      <td>0.941</td>\n",
       "      <td>0.022</td>\n",
       "    </tr>\n",
       "    <tr>\n",
       "      <th>1</th>\n",
       "      <td>0.2</td>\n",
       "      <td>0.984</td>\n",
       "      <td>0.940</td>\n",
       "      <td>0.044</td>\n",
       "    </tr>\n",
       "    <tr>\n",
       "      <th>2</th>\n",
       "      <td>0.3</td>\n",
       "      <td>0.994</td>\n",
       "      <td>0.939</td>\n",
       "      <td>0.055</td>\n",
       "    </tr>\n",
       "    <tr>\n",
       "      <th>3</th>\n",
       "      <td>0.4</td>\n",
       "      <td>0.999</td>\n",
       "      <td>0.944</td>\n",
       "      <td>0.055</td>\n",
       "    </tr>\n",
       "    <tr>\n",
       "      <th>4</th>\n",
       "      <td>0.5</td>\n",
       "      <td>1.000</td>\n",
       "      <td>0.934</td>\n",
       "      <td>0.066</td>\n",
       "    </tr>\n",
       "    <tr>\n",
       "      <th>5</th>\n",
       "      <td>0.6</td>\n",
       "      <td>1.000</td>\n",
       "      <td>0.937</td>\n",
       "      <td>0.063</td>\n",
       "    </tr>\n",
       "    <tr>\n",
       "      <th>6</th>\n",
       "      <td>0.7</td>\n",
       "      <td>1.000</td>\n",
       "      <td>0.941</td>\n",
       "      <td>0.059</td>\n",
       "    </tr>\n",
       "    <tr>\n",
       "      <th>7</th>\n",
       "      <td>0.8</td>\n",
       "      <td>0.999</td>\n",
       "      <td>0.931</td>\n",
       "      <td>0.069</td>\n",
       "    </tr>\n",
       "    <tr>\n",
       "      <th>8</th>\n",
       "      <td>0.9</td>\n",
       "      <td>1.000</td>\n",
       "      <td>0.937</td>\n",
       "      <td>0.063</td>\n",
       "    </tr>\n",
       "  </tbody>\n",
       "</table>\n",
       "</div>"
      ],
      "text/plain": [
       "   LearningRate  TrainAccuracy  TestAccuracy  Differance\n",
       "0           0.1          0.963         0.941       0.022\n",
       "1           0.2          0.984         0.940       0.044\n",
       "2           0.3          0.994         0.939       0.055\n",
       "3           0.4          0.999         0.944       0.055\n",
       "4           0.5          1.000         0.934       0.066\n",
       "5           0.6          1.000         0.937       0.063\n",
       "6           0.7          1.000         0.941       0.059\n",
       "7           0.8          0.999         0.931       0.069\n",
       "8           0.9          1.000         0.937       0.063"
      ]
     },
     "execution_count": 75,
     "metadata": {},
     "output_type": "execute_result"
    }
   ],
   "source": [
    "df_accuracy_lr.round(3)"
   ]
  },
  {
   "cell_type": "code",
   "execution_count": 76,
   "metadata": {
    "colab": {
     "base_uri": "https://localhost:8080/",
     "height": 297
    },
    "id": "BnM1A1tgm3am",
    "outputId": "89db5b36-eb4a-454f-c549-b04f68b44c99"
   },
   "outputs": [
    {
     "data": {
      "text/plain": [
       "<matplotlib.legend.Legend at 0x7f4f0c73cb20>"
      ]
     },
     "execution_count": 76,
     "metadata": {},
     "output_type": "execute_result"
    },
    {
     "data": {
      "image/png": "[encoded data removed]",
      "text/plain": [
       "<Figure size 640x480 with 1 Axes>"
      ]
     },
     "metadata": {},
     "output_type": "display_data"
    }
   ],
   "source": [
    "#모델로 정확도 확인\n",
    "df_accuracy_lr.round(3)\n",
    "plt.plot(para_lr, train_accuracy, linestyle = '-', label = 'Train Accuracy')\n",
    "plt.plot(para_lr, test_accuracy, linestyle = '--', label = 'Test Accuracy')\n",
    "plt.ylabel('accuracy') ; plt.xlabel('learning rate')\n",
    "plt.legend()"
   ]
  },
  {
   "cell_type": "code",
   "execution_count": 77,
   "metadata": {},
   "outputs": [
    {
     "data": {
      "text/plain": [
       "<matplotlib.legend.Legend at 0x7f4f0c8a2b80>"
      ]
     },
     "execution_count": 77,
     "metadata": {},
     "output_type": "execute_result"
    },
    {
     "data": {
      "image/png": "[encoded data removed]",
      "text/plain": [
       "<Figure size 640x480 with 1 Axes>"
      ]
     },
     "metadata": {},
     "output_type": "display_data"
    }
   ],
   "source": [
    "plt.plot(para_lr, differance, linestyle = ':', label = 'Differacne')\n",
    "plt.ylabel('accuracy') ; plt.xlabel('learning rate')\n",
    "plt.legend()"
   ]
  },
  {
   "cell_type": "markdown",
   "metadata": {
    "id": "pZKyUulTnNwm"
   },
   "source": [
    "## 2.3 n_estimators : 트리 수 변경에 따른 모델 성능"
   ]
  },
  {
   "cell_type": "code",
   "execution_count": 16,
   "metadata": {
    "id": "I0O-UkTqnvoV"
   },
   "outputs": [],
   "source": [
    "train_accuracy = []; test_accuracy = []\n",
    "\n",
    "para_n_tree = [n_tree*10 for n_tree in range(1,16)]\n",
    "\n",
    "for v_n_estimators in para_n_tree:\n",
    "    gb = GradientBoostingClassifier(n_estimators= v_n_estimators,learning_rate = 0.6, random_state = 1234)\n",
    "    gb.fit(df_train_x, df_train_y)\n",
    "    train_accuracy.append(gb.score(df_train_x, df_train_y))\n",
    "    test_accuracy.append(gb.score(df_test_x, df_test_y))\n",
    "    \n",
    "# 데이터 테이블로 저장\n",
    "df_accuracy_n = pd.DataFrame()\n",
    "df_accuracy_n['Estimators'] = para_n_tree\n",
    "df_accuracy_n['TrainAccuracy'] = train_accuracy\n",
    "df_accuracy_n['TestAccuracy'] = test_accuracy"
   ]
  },
  {
   "cell_type": "code",
   "execution_count": 17,
   "metadata": {
    "colab": {
     "base_uri": "https://localhost:8080/",
     "height": 206
    },
    "id": "-Isj8RqzoDx2",
    "outputId": "ae050cb1-5e6e-45d6-b016-4034452e7245"
   },
   "outputs": [
    {
     "data": {
      "text/html": [
       "<div>\n",
       "<style scoped>\n",
       "    .dataframe tbody tr th:only-of-type {\n",
       "        vertical-align: middle;\n",
       "    }\n",
       "\n",
       "    .dataframe tbody tr th {\n",
       "        vertical-align: top;\n",
       "    }\n",
       "\n",
       "    .dataframe thead th {\n",
       "        text-align: right;\n",
       "    }\n",
       "</style>\n",
       "<table border=\"1\" class=\"dataframe\">\n",
       "  <thead>\n",
       "    <tr style=\"text-align: right;\">\n",
       "      <th></th>\n",
       "      <th>Estimators</th>\n",
       "      <th>TrainAccuracy</th>\n",
       "      <th>TestAccuracy</th>\n",
       "    </tr>\n",
       "  </thead>\n",
       "  <tbody>\n",
       "    <tr>\n",
       "      <th>0</th>\n",
       "      <td>10</td>\n",
       "      <td>0.932901</td>\n",
       "      <td>0.928000</td>\n",
       "    </tr>\n",
       "    <tr>\n",
       "      <th>1</th>\n",
       "      <td>20</td>\n",
       "      <td>0.939001</td>\n",
       "      <td>0.931556</td>\n",
       "    </tr>\n",
       "    <tr>\n",
       "      <th>2</th>\n",
       "      <td>30</td>\n",
       "      <td>0.947007</td>\n",
       "      <td>0.936000</td>\n",
       "    </tr>\n",
       "    <tr>\n",
       "      <th>3</th>\n",
       "      <td>40</td>\n",
       "      <td>0.951582</td>\n",
       "      <td>0.939556</td>\n",
       "    </tr>\n",
       "    <tr>\n",
       "      <th>4</th>\n",
       "      <td>50</td>\n",
       "      <td>0.955776</td>\n",
       "      <td>0.939556</td>\n",
       "    </tr>\n",
       "  </tbody>\n",
       "</table>\n",
       "</div>"
      ],
      "text/plain": [
       "   Estimators  TrainAccuracy  TestAccuracy\n",
       "0          10       0.932901      0.928000\n",
       "1          20       0.939001      0.931556\n",
       "2          30       0.947007      0.936000\n",
       "3          40       0.951582      0.939556\n",
       "4          50       0.955776      0.939556"
      ]
     },
     "execution_count": 17,
     "metadata": {},
     "output_type": "execute_result"
    }
   ],
   "source": [
    "# 모델 정확도 확인\n",
    "df_accuracy_n.head()"
   ]
  },
  {
   "cell_type": "code",
   "execution_count": 18,
   "metadata": {
    "colab": {
     "base_uri": "https://localhost:8080/",
     "height": 283
    },
    "id": "Pkw0tz3RoJMn",
    "outputId": "c4fbcdc7-8b72-4c7f-a072-5d0e975100d3"
   },
   "outputs": [
    {
     "data": {
      "text/plain": [
       "<matplotlib.legend.Legend at 0x7f4f85d78a90>"
      ]
     },
     "execution_count": 18,
     "metadata": {},
     "output_type": "execute_result"
    },
    {
     "data": {
      "image/png": "[encoded data removed]",
      "text/plain": [
       "<Figure size 640x480 with 1 Axes>"
      ]
     },
     "metadata": {},
     "output_type": "display_data"
    }
   ],
   "source": [
    "plt.plot(para_n_tree, train_accuracy, linestyle = '-', label = 'Train Accuracy')\n",
    "plt.plot(para_n_tree, test_accuracy, linestyle = '--', label = 'Test Accuracy')\n",
    "plt.legend()"
   ]
  },
  {
   "cell_type": "markdown",
   "metadata": {
    "id": "xoG4xsnVoOMY"
   },
   "source": [
    "### 2.4 max_depth : 최대 깊이 변경에 따른 모델 성능"
   ]
  },
  {
   "cell_type": "code",
   "execution_count": 19,
   "metadata": {
    "id": "qymCUen0ogZ4"
   },
   "outputs": [],
   "source": [
    "# train, test 정확도 결과 저장용\n",
    "train_accuracy = []; test_accuracy = []\n",
    "\n",
    "# min_samples_split\n",
    "para_depth = [depth for depth in range(1,11)]\n",
    "\n",
    "for v_max_depth in para_depth:\n",
    "    gb = GradientBoostingClassifier(max_depth = v_max_depth,learning_rate = 0.1, n_estimators = 100, random_state = 1234)\n",
    "    gb.fit(df_train_x, df_train_y)\n",
    "    train_accuracy.append(gb.score(df_train_x, df_train_y))\n",
    "    test_accuracy.append(gb.score(df_test_x, df_test_y))\n",
    "    \n",
    "#데이텉 테이블로 저장\n",
    "df_accuracy_depth = pd.DataFrame()\n",
    "df_accuracy_depth['Depth'] = para_depth\n",
    "df_accuracy_depth['TrainAccuracy'] = train_accuracy\n",
    "df_accuracy_depth['TestAccuracy'] = test_accuracy"
   ]
  },
  {
   "cell_type": "code",
   "execution_count": 20,
   "metadata": {
    "colab": {
     "base_uri": "https://localhost:8080/",
     "height": 363
    },
    "id": "Mx3AGWMXpNeI",
    "outputId": "8dbf24e3-a08b-42a8-ea60-bb72cad91ccc"
   },
   "outputs": [
    {
     "data": {
      "text/html": [
       "<div>\n",
       "<style scoped>\n",
       "    .dataframe tbody tr th:only-of-type {\n",
       "        vertical-align: middle;\n",
       "    }\n",
       "\n",
       "    .dataframe tbody tr th {\n",
       "        vertical-align: top;\n",
       "    }\n",
       "\n",
       "    .dataframe thead th {\n",
       "        text-align: right;\n",
       "    }\n",
       "</style>\n",
       "<table border=\"1\" class=\"dataframe\">\n",
       "  <thead>\n",
       "    <tr style=\"text-align: right;\">\n",
       "      <th></th>\n",
       "      <th>Depth</th>\n",
       "      <th>TrainAccuracy</th>\n",
       "      <th>TestAccuracy</th>\n",
       "    </tr>\n",
       "  </thead>\n",
       "  <tbody>\n",
       "    <tr>\n",
       "      <th>0</th>\n",
       "      <td>1</td>\n",
       "      <td>0.936</td>\n",
       "      <td>0.935</td>\n",
       "    </tr>\n",
       "    <tr>\n",
       "      <th>1</th>\n",
       "      <td>2</td>\n",
       "      <td>0.951</td>\n",
       "      <td>0.940</td>\n",
       "    </tr>\n",
       "    <tr>\n",
       "      <th>2</th>\n",
       "      <td>3</td>\n",
       "      <td>0.963</td>\n",
       "      <td>0.941</td>\n",
       "    </tr>\n",
       "    <tr>\n",
       "      <th>3</th>\n",
       "      <td>4</td>\n",
       "      <td>0.979</td>\n",
       "      <td>0.945</td>\n",
       "    </tr>\n",
       "    <tr>\n",
       "      <th>4</th>\n",
       "      <td>5</td>\n",
       "      <td>0.990</td>\n",
       "      <td>0.940</td>\n",
       "    </tr>\n",
       "    <tr>\n",
       "      <th>5</th>\n",
       "      <td>6</td>\n",
       "      <td>0.998</td>\n",
       "      <td>0.950</td>\n",
       "    </tr>\n",
       "    <tr>\n",
       "      <th>6</th>\n",
       "      <td>7</td>\n",
       "      <td>1.000</td>\n",
       "      <td>0.947</td>\n",
       "    </tr>\n",
       "    <tr>\n",
       "      <th>7</th>\n",
       "      <td>8</td>\n",
       "      <td>1.000</td>\n",
       "      <td>0.948</td>\n",
       "    </tr>\n",
       "    <tr>\n",
       "      <th>8</th>\n",
       "      <td>9</td>\n",
       "      <td>1.000</td>\n",
       "      <td>0.948</td>\n",
       "    </tr>\n",
       "    <tr>\n",
       "      <th>9</th>\n",
       "      <td>10</td>\n",
       "      <td>1.000</td>\n",
       "      <td>0.947</td>\n",
       "    </tr>\n",
       "  </tbody>\n",
       "</table>\n",
       "</div>"
      ],
      "text/plain": [
       "   Depth  TrainAccuracy  TestAccuracy\n",
       "0      1          0.936         0.935\n",
       "1      2          0.951         0.940\n",
       "2      3          0.963         0.941\n",
       "3      4          0.979         0.945\n",
       "4      5          0.990         0.940\n",
       "5      6          0.998         0.950\n",
       "6      7          1.000         0.947\n",
       "7      8          1.000         0.948\n",
       "8      9          1.000         0.948\n",
       "9     10          1.000         0.947"
      ]
     },
     "execution_count": 20,
     "metadata": {},
     "output_type": "execute_result"
    }
   ],
   "source": [
    "#모델로 정확도 확인\n",
    "df_accuracy_depth.round(3)"
   ]
  },
  {
   "cell_type": "code",
   "execution_count": 21,
   "metadata": {
    "colab": {
     "base_uri": "https://localhost:8080/",
     "height": 297
    },
    "id": "WCEa4ny0o3wN",
    "outputId": "043fe1f5-c584-496d-c50e-09618668c6d7"
   },
   "outputs": [
    {
     "data": {
      "text/plain": [
       "<matplotlib.legend.Legend at 0x7f4f85cec820>"
      ]
     },
     "execution_count": 21,
     "metadata": {},
     "output_type": "execute_result"
    },
    {
     "data": {
      "image/png": "[encoded data removed]",
      "text/plain": [
       "<Figure size 640x480 with 1 Axes>"
      ]
     },
     "metadata": {},
     "output_type": "display_data"
    }
   ],
   "source": [
    "plt.plot(para_depth, train_accuracy, linestyle = '-', label = 'Train Accuracy')\n",
    "plt.plot(para_depth, test_accuracy, linestyle = '--', label = 'Test Accuracy')\n",
    "plt.ylabel('accuracy'); plt.xlabel('depth')\n",
    "plt.legend()"
   ]
  },
  {
   "cell_type": "markdown",
   "metadata": {
    "id": "hQFlyVRwpDxM"
   },
   "source": [
    "### 2.5 min_samples_split : 분리노드의 최소 자료 수 변경에 따른 모델 성능"
   ]
  },
  {
   "cell_type": "code",
   "execution_count": 22,
   "metadata": {
    "id": "QoVOuvD3pnU7"
   },
   "outputs": [],
   "source": [
    "# train, test 정확도 결과 저장용\n",
    "train_accuracy = []; test_accuracy = []\n",
    "\n",
    "# min_samples_split\n",
    "para_split = [n_split*10 for n_split in range(2,11)]\n",
    "\n",
    "for v_min_samples_split in para_split:\n",
    "    gb = GradientBoostingClassifier(min_samples_split = v_min_samples_split, max_depth = 6, n_estimators = 100, learning_rate = 0.1, random_state = 1234)\n",
    "    gb.fit(df_train_x, df_train_y)\n",
    "    train_accuracy.append(gb.score(df_train_x, df_train_y))\n",
    "    test_accuracy.append(gb.score(df_test_x, df_test_y))\n",
    "    \n",
    "#데이텉 테이블로 저장\n",
    "df_accuracy_split = pd.DataFrame()\n",
    "df_accuracy_split['MinSamplesSplit'] = para_split\n",
    "df_accuracy_split['TrainAccuracy'] = train_accuracy\n",
    "df_accuracy_split['TestAccuracy'] = test_accuracy"
   ]
  },
  {
   "cell_type": "code",
   "execution_count": 23,
   "metadata": {
    "colab": {
     "base_uri": "https://localhost:8080/",
     "height": 331
    },
    "id": "XM6ypwcMp-ze",
    "outputId": "3c1b4836-ba26-4053-ad1e-8bcbcf4070df"
   },
   "outputs": [
    {
     "data": {
      "text/html": [
       "<div>\n",
       "<style scoped>\n",
       "    .dataframe tbody tr th:only-of-type {\n",
       "        vertical-align: middle;\n",
       "    }\n",
       "\n",
       "    .dataframe tbody tr th {\n",
       "        vertical-align: top;\n",
       "    }\n",
       "\n",
       "    .dataframe thead th {\n",
       "        text-align: right;\n",
       "    }\n",
       "</style>\n",
       "<table border=\"1\" class=\"dataframe\">\n",
       "  <thead>\n",
       "    <tr style=\"text-align: right;\">\n",
       "      <th></th>\n",
       "      <th>MinSamplesSplit</th>\n",
       "      <th>TrainAccuracy</th>\n",
       "      <th>TestAccuracy</th>\n",
       "    </tr>\n",
       "  </thead>\n",
       "  <tbody>\n",
       "    <tr>\n",
       "      <th>0</th>\n",
       "      <td>20</td>\n",
       "      <td>0.995</td>\n",
       "      <td>0.942</td>\n",
       "    </tr>\n",
       "    <tr>\n",
       "      <th>1</th>\n",
       "      <td>30</td>\n",
       "      <td>0.994</td>\n",
       "      <td>0.940</td>\n",
       "    </tr>\n",
       "    <tr>\n",
       "      <th>2</th>\n",
       "      <td>40</td>\n",
       "      <td>0.992</td>\n",
       "      <td>0.945</td>\n",
       "    </tr>\n",
       "    <tr>\n",
       "      <th>3</th>\n",
       "      <td>50</td>\n",
       "      <td>0.992</td>\n",
       "      <td>0.942</td>\n",
       "    </tr>\n",
       "    <tr>\n",
       "      <th>4</th>\n",
       "      <td>60</td>\n",
       "      <td>0.989</td>\n",
       "      <td>0.947</td>\n",
       "    </tr>\n",
       "    <tr>\n",
       "      <th>5</th>\n",
       "      <td>70</td>\n",
       "      <td>0.988</td>\n",
       "      <td>0.943</td>\n",
       "    </tr>\n",
       "    <tr>\n",
       "      <th>6</th>\n",
       "      <td>80</td>\n",
       "      <td>0.986</td>\n",
       "      <td>0.944</td>\n",
       "    </tr>\n",
       "    <tr>\n",
       "      <th>7</th>\n",
       "      <td>90</td>\n",
       "      <td>0.987</td>\n",
       "      <td>0.945</td>\n",
       "    </tr>\n",
       "    <tr>\n",
       "      <th>8</th>\n",
       "      <td>100</td>\n",
       "      <td>0.984</td>\n",
       "      <td>0.944</td>\n",
       "    </tr>\n",
       "  </tbody>\n",
       "</table>\n",
       "</div>"
      ],
      "text/plain": [
       "   MinSamplesSplit  TrainAccuracy  TestAccuracy\n",
       "0               20          0.995         0.942\n",
       "1               30          0.994         0.940\n",
       "2               40          0.992         0.945\n",
       "3               50          0.992         0.942\n",
       "4               60          0.989         0.947\n",
       "5               70          0.988         0.943\n",
       "6               80          0.986         0.944\n",
       "7               90          0.987         0.945\n",
       "8              100          0.984         0.944"
      ]
     },
     "execution_count": 23,
     "metadata": {},
     "output_type": "execute_result"
    }
   ],
   "source": [
    "# 모델 정확도 확인\n",
    "df_accuracy_split.round(3)"
   ]
  },
  {
   "cell_type": "code",
   "execution_count": 24,
   "metadata": {
    "colab": {
     "base_uri": "https://localhost:8080/",
     "height": 297
    },
    "id": "JrIxA8bUqG5-",
    "outputId": "cc57b4bd-5433-472d-ff19-79a11e705564"
   },
   "outputs": [
    {
     "data": {
      "text/plain": [
       "<matplotlib.legend.Legend at 0x7f4f867acc70>"
      ]
     },
     "execution_count": 24,
     "metadata": {},
     "output_type": "execute_result"
    },
    {
     "data": {
      "image/png": "[encoded data removed]",
      "text/plain": [
       "<Figure size 640x480 with 1 Axes>"
      ]
     },
     "metadata": {},
     "output_type": "display_data"
    }
   ],
   "source": [
    "#모델로 정확도 확인\n",
    "plt.plot(para_split, train_accuracy, linestyle = '-', label = 'Train Accuracy')\n",
    "plt.plot(para_split, test_accuracy, linestyle = '--', label = 'Test Accuracy')\n",
    "plt.ylabel('accuracy'); plt.xlabel('min samples split')\n",
    "plt.legend()"
   ]
  },
  {
   "cell_type": "markdown",
   "metadata": {
    "id": "gtY-XJF8qZng"
   },
   "source": [
    "### 2.6 min_samples_leaf : 잎사귀 노드의 최소 자료 수 변경에 따른 모델 성능"
   ]
  },
  {
   "cell_type": "code",
   "execution_count": 25,
   "metadata": {
    "id": "mPsp4VUXqRyA"
   },
   "outputs": [],
   "source": [
    "# train, test 정확도 결과 저장용\n",
    "train_accuracy = []; test_accuracy = []\n",
    "\n",
    "# min_samples_split\n",
    "para_leaf = [n_leaf*5 for n_leaf in range(1,11)]\n",
    "\n",
    "for v_min_samples_leaf in para_leaf:\n",
    "    gb = GradientBoostingClassifier(min_samples_leaf = v_min_samples_leaf, max_depth = 6, n_estimators = 100, learning_rate = 0.1, random_state = 1234)\n",
    "    gb.fit(df_train_x, df_train_y)\n",
    "    train_accuracy.append(gb.score(df_train_x, df_train_y))\n",
    "    test_accuracy.append(gb.score(df_test_x, df_test_y))\n",
    "    \n",
    "#데이텉 테이블로 저장\n",
    "df_accuracy_leaf = pd.DataFrame()\n",
    "df_accuracy_leaf['MinSamplesLeaf'] = para_leaf\n",
    "df_accuracy_leaf['TrainAccuracy'] = train_accuracy\n",
    "df_accuracy_leaf['TestAccuracy'] = test_accuracy"
   ]
  },
  {
   "cell_type": "code",
   "execution_count": 26,
   "metadata": {
    "colab": {
     "base_uri": "https://localhost:8080/",
     "height": 363
    },
    "id": "yLbJ1BPBq3GA",
    "outputId": "1f01f56c-c76c-4cff-8e9e-70e18fda349c"
   },
   "outputs": [
    {
     "data": {
      "text/html": [
       "<div>\n",
       "<style scoped>\n",
       "    .dataframe tbody tr th:only-of-type {\n",
       "        vertical-align: middle;\n",
       "    }\n",
       "\n",
       "    .dataframe tbody tr th {\n",
       "        vertical-align: top;\n",
       "    }\n",
       "\n",
       "    .dataframe thead th {\n",
       "        text-align: right;\n",
       "    }\n",
       "</style>\n",
       "<table border=\"1\" class=\"dataframe\">\n",
       "  <thead>\n",
       "    <tr style=\"text-align: right;\">\n",
       "      <th></th>\n",
       "      <th>MinSamplesLeaf</th>\n",
       "      <th>TrainAccuracy</th>\n",
       "      <th>TestAccuracy</th>\n",
       "    </tr>\n",
       "  </thead>\n",
       "  <tbody>\n",
       "    <tr>\n",
       "      <th>0</th>\n",
       "      <td>5</td>\n",
       "      <td>0.998</td>\n",
       "      <td>0.943</td>\n",
       "    </tr>\n",
       "    <tr>\n",
       "      <th>1</th>\n",
       "      <td>10</td>\n",
       "      <td>0.995</td>\n",
       "      <td>0.948</td>\n",
       "    </tr>\n",
       "    <tr>\n",
       "      <th>2</th>\n",
       "      <td>15</td>\n",
       "      <td>0.991</td>\n",
       "      <td>0.949</td>\n",
       "    </tr>\n",
       "    <tr>\n",
       "      <th>3</th>\n",
       "      <td>20</td>\n",
       "      <td>0.990</td>\n",
       "      <td>0.948</td>\n",
       "    </tr>\n",
       "    <tr>\n",
       "      <th>4</th>\n",
       "      <td>25</td>\n",
       "      <td>0.987</td>\n",
       "      <td>0.945</td>\n",
       "    </tr>\n",
       "    <tr>\n",
       "      <th>5</th>\n",
       "      <td>30</td>\n",
       "      <td>0.984</td>\n",
       "      <td>0.943</td>\n",
       "    </tr>\n",
       "    <tr>\n",
       "      <th>6</th>\n",
       "      <td>35</td>\n",
       "      <td>0.984</td>\n",
       "      <td>0.943</td>\n",
       "    </tr>\n",
       "    <tr>\n",
       "      <th>7</th>\n",
       "      <td>40</td>\n",
       "      <td>0.982</td>\n",
       "      <td>0.944</td>\n",
       "    </tr>\n",
       "    <tr>\n",
       "      <th>8</th>\n",
       "      <td>45</td>\n",
       "      <td>0.982</td>\n",
       "      <td>0.943</td>\n",
       "    </tr>\n",
       "    <tr>\n",
       "      <th>9</th>\n",
       "      <td>50</td>\n",
       "      <td>0.978</td>\n",
       "      <td>0.943</td>\n",
       "    </tr>\n",
       "  </tbody>\n",
       "</table>\n",
       "</div>"
      ],
      "text/plain": [
       "   MinSamplesLeaf  TrainAccuracy  TestAccuracy\n",
       "0               5          0.998         0.943\n",
       "1              10          0.995         0.948\n",
       "2              15          0.991         0.949\n",
       "3              20          0.990         0.948\n",
       "4              25          0.987         0.945\n",
       "5              30          0.984         0.943\n",
       "6              35          0.984         0.943\n",
       "7              40          0.982         0.944\n",
       "8              45          0.982         0.943\n",
       "9              50          0.978         0.943"
      ]
     },
     "execution_count": 26,
     "metadata": {},
     "output_type": "execute_result"
    }
   ],
   "source": [
    "df_accuracy_leaf.round(3)"
   ]
  },
  {
   "cell_type": "code",
   "execution_count": 27,
   "metadata": {
    "colab": {
     "base_uri": "https://localhost:8080/",
     "height": 298
    },
    "id": "swR3dr04q6bj",
    "outputId": "34547eaa-1163-41b1-a2cf-85689879bf79"
   },
   "outputs": [
    {
     "data": {
      "text/plain": [
       "<matplotlib.legend.Legend at 0x7f4f85c7d2b0>"
      ]
     },
     "execution_count": 27,
     "metadata": {},
     "output_type": "execute_result"
    },
    {
     "data": {
      "image/png": "[encoded data removed]",
      "text/plain": [
       "<Figure size 640x480 with 1 Axes>"
      ]
     },
     "metadata": {},
     "output_type": "display_data"
    }
   ],
   "source": [
    "#모델로 정확도 확인\n",
    "plt.plot(para_leaf, train_accuracy, linestyle = '-', label = 'Train Accuracy')\n",
    "plt.plot(para_leaf, test_accuracy, linestyle = '--', label = 'Test Accuracy')\n",
    "plt.ylabel('accuracy'); plt.xlabel('min samples leaf')\n",
    "plt.legend()"
   ]
  },
  {
   "cell_type": "markdown",
   "metadata": {
    "id": "OtZM7uL8q9A_"
   },
   "source": [
    "### 2.7 결론 도출"
   ]
  },
  {
   "cell_type": "code",
   "execution_count": 28,
   "metadata": {
    "colab": {
     "base_uri": "https://localhost:8080/"
    },
    "id": "GfbY1d-d6YXg",
    "outputId": "caac82f9-5564-4a50-d873-d798d871770b"
   },
   "outputs": [
    {
     "name": "stdout",
     "output_type": "stream",
     "text": [
      "Accuracy on training set: 0.991\n",
      "Accuracy on test set: 0.949\n",
      "\n",
      "Confusion matrix:[[1020    1]\n",
      " [  56   48]] \n",
      "\n",
      "              precision    recall  f1-score   support\n",
      "\n",
      "           0      0.948     0.999     0.973      1021\n",
      "           1      0.980     0.462     0.627       104\n",
      "\n",
      "    accuracy                          0.949      1125\n",
      "   macro avg      0.964     0.730     0.800      1125\n",
      "weighted avg      0.951     0.949     0.941      1125\n",
      "\n"
     ]
    }
   ],
   "source": [
    "gb_final = GradientBoostingClassifier(min_samples_leaf=15, max_depth=6, n_estimators=100, learning_rate=0.1,random_state = 1234)\n",
    "gb_final.fit(df_train_x, df_train_y)\n",
    "y_pred = gb_final.predict(df_test_x)\n",
    "# train 데이터 셋 정확도\n",
    "print(\"Accuracy on training set: {:.3f}\".format(gb_final.score(df_train_x, df_train_y)))\n",
    "# test 데이터 셋 정확도\n",
    "print(\"Accuracy on test set: {:.3f}\\n\".format(gb_final.score(df_test_x, df_test_y)))\n",
    "#confusion matrix\n",
    "print(\"Confusion matrix:{} \\n\".format(confusion_matrix(df_test_y, y_pred)))\n",
    "#목표변수의 빈도 불균형 : f1 score로 모델 평가\n",
    "print(classification_report(df_test_y, y_pred, digits=3))\n"
   ]
  },
  {
   "cell_type": "code",
   "execution_count": 29,
   "metadata": {
    "colab": {
     "base_uri": "https://localhost:8080/",
     "height": 613
    },
    "id": "56nhTJBm5tMZ",
    "outputId": "8637fafb-f496-4d89-81d3-15ef80929f9b"
   },
   "outputs": [
    {
     "data": {
      "text/html": [
       "<div>\n",
       "<style scoped>\n",
       "    .dataframe tbody tr th:only-of-type {\n",
       "        vertical-align: middle;\n",
       "    }\n",
       "\n",
       "    .dataframe tbody tr th {\n",
       "        vertical-align: top;\n",
       "    }\n",
       "\n",
       "    .dataframe thead th {\n",
       "        text-align: right;\n",
       "    }\n",
       "</style>\n",
       "<table border=\"1\" class=\"dataframe\">\n",
       "  <thead>\n",
       "    <tr style=\"text-align: right;\">\n",
       "      <th></th>\n",
       "      <th>Feature</th>\n",
       "      <th>Importance</th>\n",
       "    </tr>\n",
       "  </thead>\n",
       "  <tbody>\n",
       "    <tr>\n",
       "      <th>9</th>\n",
       "      <td>DEBTINC</td>\n",
       "      <td>0.331</td>\n",
       "    </tr>\n",
       "    <tr>\n",
       "      <th>6</th>\n",
       "      <td>CLAGE</td>\n",
       "      <td>0.132</td>\n",
       "    </tr>\n",
       "    <tr>\n",
       "      <th>2</th>\n",
       "      <td>VALUE</td>\n",
       "      <td>0.105</td>\n",
       "    </tr>\n",
       "    <tr>\n",
       "      <th>5</th>\n",
       "      <td>DELINQ</td>\n",
       "      <td>0.096</td>\n",
       "    </tr>\n",
       "    <tr>\n",
       "      <th>8</th>\n",
       "      <td>CLNO</td>\n",
       "      <td>0.076</td>\n",
       "    </tr>\n",
       "    <tr>\n",
       "      <th>0</th>\n",
       "      <td>LOAN</td>\n",
       "      <td>0.069</td>\n",
       "    </tr>\n",
       "    <tr>\n",
       "      <th>3</th>\n",
       "      <td>YOJ</td>\n",
       "      <td>0.048</td>\n",
       "    </tr>\n",
       "    <tr>\n",
       "      <th>7</th>\n",
       "      <td>NINQ</td>\n",
       "      <td>0.041</td>\n",
       "    </tr>\n",
       "    <tr>\n",
       "      <th>1</th>\n",
       "      <td>MORTDUE</td>\n",
       "      <td>0.037</td>\n",
       "    </tr>\n",
       "    <tr>\n",
       "      <th>4</th>\n",
       "      <td>DEROG</td>\n",
       "      <td>0.035</td>\n",
       "    </tr>\n",
       "    <tr>\n",
       "      <th>16</th>\n",
       "      <td>JOB_Sales</td>\n",
       "      <td>0.013</td>\n",
       "    </tr>\n",
       "    <tr>\n",
       "      <th>14</th>\n",
       "      <td>JOB_Other</td>\n",
       "      <td>0.005</td>\n",
       "    </tr>\n",
       "    <tr>\n",
       "      <th>13</th>\n",
       "      <td>JOB_Office</td>\n",
       "      <td>0.004</td>\n",
       "    </tr>\n",
       "    <tr>\n",
       "      <th>12</th>\n",
       "      <td>JOB_Mgr</td>\n",
       "      <td>0.003</td>\n",
       "    </tr>\n",
       "    <tr>\n",
       "      <th>11</th>\n",
       "      <td>REASON_HomeImp</td>\n",
       "      <td>0.003</td>\n",
       "    </tr>\n",
       "    <tr>\n",
       "      <th>10</th>\n",
       "      <td>REASON_DebtCon</td>\n",
       "      <td>0.001</td>\n",
       "    </tr>\n",
       "    <tr>\n",
       "      <th>15</th>\n",
       "      <td>JOB_ProfExe</td>\n",
       "      <td>0.001</td>\n",
       "    </tr>\n",
       "    <tr>\n",
       "      <th>17</th>\n",
       "      <td>JOB_Self</td>\n",
       "      <td>0.000</td>\n",
       "    </tr>\n",
       "  </tbody>\n",
       "</table>\n",
       "</div>"
      ],
      "text/plain": [
       "           Feature  Importance\n",
       "9          DEBTINC       0.331\n",
       "6            CLAGE       0.132\n",
       "2            VALUE       0.105\n",
       "5           DELINQ       0.096\n",
       "8             CLNO       0.076\n",
       "0             LOAN       0.069\n",
       "3              YOJ       0.048\n",
       "7             NINQ       0.041\n",
       "1          MORTDUE       0.037\n",
       "4            DEROG       0.035\n",
       "16       JOB_Sales       0.013\n",
       "14       JOB_Other       0.005\n",
       "13      JOB_Office       0.004\n",
       "12         JOB_Mgr       0.003\n",
       "11  REASON_HomeImp       0.003\n",
       "10  REASON_DebtCon       0.001\n",
       "15     JOB_ProfExe       0.001\n",
       "17        JOB_Self       0.000"
      ]
     },
     "execution_count": 29,
     "metadata": {},
     "output_type": "execute_result"
    }
   ],
   "source": [
    "v_feature_name = df_train_x.columns\n",
    "df_importance = pd.DataFrame()\n",
    "\n",
    "df_importance['Feature'] = v_feature_name\n",
    "df_importance['Importance'] = gb_final.feature_importances_\n",
    "df_importance.sort_values('Importance', ascending = False, inplace = True)\n",
    "df_importance.round(3)"
   ]
  },
  {
   "cell_type": "code",
   "execution_count": 47,
   "metadata": {
    "colab": {
     "base_uri": "https://localhost:8080/",
     "height": 786
    },
    "id": "jlLuRsxe6NE6",
    "outputId": "431245fb-527d-49f1-c487-54d7218af0d1"
   },
   "outputs": [
    {
     "data": {
      "text/plain": [
       "Text(0, 0.5, '설명변수')"
      ]
     },
     "execution_count": 47,
     "metadata": {},
     "output_type": "execute_result"
    },
    {
     "data": {
      "image/png": "[encoded data removed]",
      "text/plain": [
       "<Figure size 640x480 with 1 Axes>"
      ]
     },
     "metadata": {},
     "output_type": "display_data"
    }
   ],
   "source": [
    "#설명변수 중요도 그래프\n",
    "#중요도가 높은 변수를 상위에 그림\n",
    "df_importance.sort_values(\"Importance\", ascending=True, inplace = True)\n",
    "coordinates = range(len (df_importance ))\n",
    "plt.barh(y = coordinates, width = df_importance [\"Importance\"])\n",
    "plt.yticks(coordinates, df_importance [\"Feature\"])\n",
    "plt.xlabel(\"설명변수 중요도\")\n",
    "plt.ylabel(\"설명변수\")"
   ]
  },
  {
   "attachments": {
    "image.png": {
     "image/png": "[encoded data removed]"
    }
   },
   "cell_type": "markdown",
   "metadata": {},
   "source": [
    "![image.png](attachment:image.png)"
   ]
  },
  {
   "cell_type": "code",
   "execution_count": 31,
   "metadata": {
    "colab": {
     "base_uri": "https://localhost:8080/",
     "height": 395
    },
    "id": "EjlkF_mJ7V3o",
    "outputId": "37e715ee-436f-429a-fbf9-3f6358ce2f2e"
   },
   "outputs": [],
   "source": [
    "# estimator = GradientBoostingClassifier(n_estimators=100, random_state=1234)\n",
    "# # 구하고자 하는 parameter와 범위\n",
    "# param_grid = {\"learning_rate\": para_lr,\n",
    "# \"max_depth\": para_depth,\n",
    "# \"min_samples_leaf\": para_leaf}\n",
    "# 2626262\n",
    "# # 정확도가 높은 최적 parameter 찾기\n",
    "# grid_gb = GridSearchCV(estimator, param_grid, scoring=\"accuracy\", n_jobs = -1)\n",
    "# grid_gb.fit(df_train_x, df_train_y)\n",
    "\n",
    "# print(\"best estimator model: Wn\".format(grid_gb.best_estimator_))\n",
    "# print(\"Wnbest parameter: Wn\".format(grid_gb.best_params_))\n",
    "# print(\"Wnbest score: Wn{}\".format(grid_gb.best_score_.round(3)))"
   ]
  },
  {
   "cell_type": "markdown",
   "metadata": {
    "id": "538lL7SA7tXk"
   },
   "source": [
    "# 3. 모델 생성- XGBoost"
   ]
  },
  {
   "cell_type": "code",
   "execution_count": 48,
   "metadata": {},
   "outputs": [],
   "source": [
    "# !pip install xgboost"
   ]
  },
  {
   "cell_type": "markdown",
   "metadata": {
    "id": "jgEERR5KAgHw"
   },
   "source": [
    "### 3.1 기본 옵션으로 모델 생성"
   ]
  },
  {
   "cell_type": "code",
   "execution_count": 35,
   "metadata": {
    "id": "NrBS8AJX9icu"
   },
   "outputs": [],
   "source": [
    "#패키지 불러오기\n",
    "from xgboost import XGBClassifier\n",
    "#xgboost 패키지 불러오기\n",
    "from xgboost import XGBClassifier\n",
    "#변수 중요도 확인: F1 점수 기준\n",
    "from xgboost import plot_importance\n",
    "# 분류모델평가 함수\n",
    "from sklearn.metrics import confusion_matrix,accuracy_score, roc_auc_score\n",
    "from sklearn.metrics import precision_score, recall_score,f1_score"
   ]
  },
  {
   "cell_type": "code",
   "execution_count": 36,
   "metadata": {
    "id": "TV5szKnk9qna"
   },
   "outputs": [],
   "source": [
    "# 분류모델 통합 평가: 혼동행렬, 정확도, 정밀도, 재현율, F1, AUC\n",
    "def eval_class_model(y_test, y_pred):\n",
    "  confusion = confusion_matrix(y_test, y_pred)\n",
    "  accuracy = accuracy_score(y_test, y_pred)\n",
    "  precision = precision_score(y_test, y_pred)\n",
    "  recall = recall_score(y_test, y_pred)\n",
    "  F1 = f1_score(y_test, y_pred)\n",
    "  AUC = roc_auc_score(y_test, y_pred)\n",
    "  print('오차행렬:₩n', confusion, '\\n')\n",
    "  print('정확도: {:.4f}'.format(accuracy))\n",
    "  print('정밀도: {:4f}'.format(precision))\n",
    "  print('재현율: {:4f}'.format(recall))\n",
    "  print('F1:{:4f}'.format(F1))\n",
    "  print('AUC : {:4f}'.format(AUC))"
   ]
  },
  {
   "cell_type": "code",
   "execution_count": 37,
   "metadata": {
    "colab": {
     "base_uri": "https://localhost:8080/"
    },
    "id": "9W-33iE--DE-",
    "outputId": "2e924127-18ba-4572-8308-b6e1870da2fe"
   },
   "outputs": [
    {
     "data": {
      "text/html": [
       "<style>#sk-container-id-1 {color: black;background-color: white;}#sk-container-id-1 pre{padding: 0;}#sk-container-id-1 div.sk-toggleable {background-color: white;}#sk-container-id-1 label.sk-toggleable__label {cursor: pointer;display: block;width: 100%;margin-bottom: 0;padding: 0.3em;box-sizing: border-box;text-align: center;}#sk-container-id-1 label.sk-toggleable__label-arrow:before {content: \"▸\";float: left;margin-right: 0.25em;color: #696969;}#sk-container-id-1 label.sk-toggleable__label-arrow:hover:before {color: black;}#sk-container-id-1 div.sk-estimator:hover label.sk-toggleable__label-arrow:before {color: black;}#sk-container-id-1 div.sk-toggleable__content {max-height: 0;max-width: 0;overflow: hidden;text-align: left;background-color: #f0f8ff;}#sk-container-id-1 div.sk-toggleable__content pre {margin: 0.2em;color: black;border-radius: 0.25em;background-color: #f0f8ff;}#sk-container-id-1 input.sk-toggleable__control:checked~div.sk-toggleable__content {max-height: 200px;max-width: 100%;overflow: auto;}#sk-container-id-1 input.sk-toggleable__control:checked~label.sk-toggleable__label-arrow:before {content: \"▾\";}#sk-container-id-1 div.sk-estimator input.sk-toggleable__control:checked~label.sk-toggleable__label {background-color: #d4ebff;}#sk-container-id-1 div.sk-label input.sk-toggleable__control:checked~label.sk-toggleable__label {background-color: #d4ebff;}#sk-container-id-1 input.sk-hidden--visually {border: 0;clip: rect(1px 1px 1px 1px);clip: rect(1px, 1px, 1px, 1px);height: 1px;margin: -1px;overflow: hidden;padding: 0;position: absolute;width: 1px;}#sk-container-id-1 div.sk-estimator {font-family: monospace;background-color: #f0f8ff;border: 1px dotted black;border-radius: 0.25em;box-sizing: border-box;margin-bottom: 0.5em;}#sk-container-id-1 div.sk-estimator:hover {background-color: #d4ebff;}#sk-container-id-1 div.sk-parallel-item::after {content: \"\";width: 100%;border-bottom: 1px solid gray;flex-grow: 1;}#sk-container-id-1 div.sk-label:hover label.sk-toggleable__label {background-color: #d4ebff;}#sk-container-id-1 div.sk-serial::before {content: \"\";position: absolute;border-left: 1px solid gray;box-sizing: border-box;top: 0;bottom: 0;left: 50%;z-index: 0;}#sk-container-id-1 div.sk-serial {display: flex;flex-direction: column;align-items: center;background-color: white;padding-right: 0.2em;padding-left: 0.2em;position: relative;}#sk-container-id-1 div.sk-item {position: relative;z-index: 1;}#sk-container-id-1 div.sk-parallel {display: flex;align-items: stretch;justify-content: center;background-color: white;position: relative;}#sk-container-id-1 div.sk-item::before, #sk-container-id-1 div.sk-parallel-item::before {content: \"\";position: absolute;border-left: 1px solid gray;box-sizing: border-box;top: 0;bottom: 0;left: 50%;z-index: -1;}#sk-container-id-1 div.sk-parallel-item {display: flex;flex-direction: column;z-index: 1;position: relative;background-color: white;}#sk-container-id-1 div.sk-parallel-item:first-child::after {align-self: flex-end;width: 50%;}#sk-container-id-1 div.sk-parallel-item:last-child::after {align-self: flex-start;width: 50%;}#sk-container-id-1 div.sk-parallel-item:only-child::after {width: 0;}#sk-container-id-1 div.sk-dashed-wrapped {border: 1px dashed gray;margin: 0 0.4em 0.5em 0.4em;box-sizing: border-box;padding-bottom: 0.4em;background-color: white;}#sk-container-id-1 div.sk-label label {font-family: monospace;font-weight: bold;display: inline-block;line-height: 1.2em;}#sk-container-id-1 div.sk-label-container {text-align: center;}#sk-container-id-1 div.sk-container {/* jupyter's `normalize.less` sets `[hidden] { display: none; }` but bootstrap.min.css set `[hidden] { display: none !important; }` so we also need the `!important` here to be able to override the default hidden behavior on the sphinx rendered scikit-learn.org. See: https://github.com/scikit-learn/scikit-learn/issues/21755 */display: inline-block !important;position: relative;}#sk-container-id-1 div.sk-text-repr-fallback {display: none;}</style><div id=\"sk-container-id-1\" class=\"sk-top-container\"><div class=\"sk-text-repr-fallback\"><pre>XGBClassifier(base_score=None, booster=None, callbacks=None,\n",
       "              colsample_bylevel=None, colsample_bynode=None,\n",
       "              colsample_bytree=None, early_stopping_rounds=None,\n",
       "              enable_categorical=False, eval_metric=None, feature_types=None,\n",
       "              gamma=None, gpu_id=None, grow_policy=None, importance_type=None,\n",
       "              interaction_constraints=None, learning_rate=None, max_bin=None,\n",
       "              max_cat_threshold=None, max_cat_to_onehot=None,\n",
       "              max_delta_step=None, max_depth=None, max_leaves=None,\n",
       "              min_child_weight=None, missing=nan, monotone_constraints=None,\n",
       "              n_estimators=100, n_jobs=None, num_parallel_tree=None,\n",
       "              predictor=None, random_state=None, ...)</pre><b>In a Jupyter environment, please rerun this cell to show the HTML representation or trust the notebook. <br />On GitHub, the HTML representation is unable to render, please try loading this page with nbviewer.org.</b></div><div class=\"sk-container\" hidden><div class=\"sk-item\"><div class=\"sk-estimator sk-toggleable\"><input class=\"sk-toggleable__control sk-hidden--visually\" id=\"sk-estimator-id-1\" type=\"checkbox\" checked><label for=\"sk-estimator-id-1\" class=\"sk-toggleable__label sk-toggleable__label-arrow\">XGBClassifier</label><div class=\"sk-toggleable__content\"><pre>XGBClassifier(base_score=None, booster=None, callbacks=None,\n",
       "              colsample_bylevel=None, colsample_bynode=None,\n",
       "              colsample_bytree=None, early_stopping_rounds=None,\n",
       "              enable_categorical=False, eval_metric=None, feature_types=None,\n",
       "              gamma=None, gpu_id=None, grow_policy=None, importance_type=None,\n",
       "              interaction_constraints=None, learning_rate=None, max_bin=None,\n",
       "              max_cat_threshold=None, max_cat_to_onehot=None,\n",
       "              max_delta_step=None, max_depth=None, max_leaves=None,\n",
       "              min_child_weight=None, missing=nan, monotone_constraints=None,\n",
       "              n_estimators=100, n_jobs=None, num_parallel_tree=None,\n",
       "              predictor=None, random_state=None, ...)</pre></div></div></div></div></div>"
      ],
      "text/plain": [
       "XGBClassifier(base_score=None, booster=None, callbacks=None,\n",
       "              colsample_bylevel=None, colsample_bynode=None,\n",
       "              colsample_bytree=None, early_stopping_rounds=None,\n",
       "              enable_categorical=False, eval_metric=None, feature_types=None,\n",
       "              gamma=None, gpu_id=None, grow_policy=None, importance_type=None,\n",
       "              interaction_constraints=None, learning_rate=None, max_bin=None,\n",
       "              max_cat_threshold=None, max_cat_to_onehot=None,\n",
       "              max_delta_step=None, max_depth=None, max_leaves=None,\n",
       "              min_child_weight=None, missing=nan, monotone_constraints=None,\n",
       "              n_estimators=100, n_jobs=None, num_parallel_tree=None,\n",
       "              predictor=None, random_state=None, ...)"
      ]
     },
     "execution_count": 37,
     "metadata": {},
     "output_type": "execute_result"
    }
   ],
   "source": [
    "# 기본 모형 및 parameter 확인\n",
    "xgboost_uncust = XGBClassifier()\n",
    "xgboost_uncust"
   ]
  },
  {
   "cell_type": "markdown",
   "metadata": {
    "id": "aSYjy2nPAl_L"
   },
   "source": [
    "\n",
    "\n",
    "### 3.2 다양한 hyper parameter 입력한 사용자 모델 개발 및 평가"
   ]
  },
  {
   "cell_type": "code",
   "execution_count": 50,
   "metadata": {
    "colab": {
     "base_uri": "https://localhost:8080/"
    },
    "id": "8FRxv6pO-Gmd",
    "outputId": "d47f6eb5-25f3-4cda-d931-cd056b4d9cc1"
   },
   "outputs": [
    {
     "name": "stdout",
     "output_type": "stream",
     "text": [
      "\n",
      " 모델 생성 및 평가 : Train \n",
      "\n",
      "오차행렬:₩n [[2382    0]\n",
      " [   0  241]] \n",
      "\n",
      "정확도: 1.0000\n",
      "정밀도: 1.000000\n",
      "재현율: 1.000000\n",
      "F1:1.000000\n",
      "AUC : 1.000000\n",
      "\n",
      " 모델 생성 및 평가 \n",
      "\n",
      "오차행렬:₩n [[1019    2]\n",
      " [  58   46]] \n",
      "\n",
      "정확도: 0.9467\n",
      "정밀도: 0.958333\n",
      "재현율: 0.442308\n",
      "F1:0.605263\n",
      "AUC : 0.720174\n"
     ]
    }
   ],
   "source": [
    "# 모델 적합\n",
    "xgboost_uncust.fit(df_train_x, df_train_y)\n",
    "# 예측 및 모델 평가: train\n",
    "print('\\n 모델 생성 및 평가 : Train \\n')\n",
    "xgb_pred_train = xgboost_uncust.predict(df_train_x)\n",
    "eval_class_model(df_train_y, xgb_pred_train)\n",
    "# 예측 및 모델 평가 : test\n",
    "print('\\n 모델 생성 및 평가 \\n')\n",
    "xgb_pred_test=xgboost_uncust.predict(df_test_x)\n",
    "eval_class_model(df_test_y, xgb_pred_test)"
   ]
  },
  {
   "cell_type": "code",
   "execution_count": 45,
   "metadata": {
    "colab": {
     "base_uri": "https://localhost:8080/"
    },
    "id": "IEgF5WUq-N6i",
    "outputId": "e5faf710-9636-4e4e-be61-7cb4efc20ecd"
   },
   "outputs": [
    {
     "name": "stdout",
     "output_type": "stream",
     "text": [
      "\n",
      " 사용자 모델 평가 : Train \n",
      "\n",
      "오차행렬:₩n [[2382    0]\n",
      " [  49  192]] \n",
      "\n",
      "정확도: 0.9813\n",
      "정밀도: 1.000000\n",
      "재현율: 0.796680\n",
      "F1:0.886836\n",
      "AUC : 0.898340\n",
      "\n",
      "               precision    recall  f1-score   support\n",
      "\n",
      "           0       0.98      1.00      0.99      2382\n",
      "           1       1.00      0.80      0.89       241\n",
      "\n",
      "    accuracy                           0.98      2623\n",
      "   macro avg       0.99      0.90      0.94      2623\n",
      "weighted avg       0.98      0.98      0.98      2623\n",
      "\n",
      "\n",
      " 사용자 모델 평가 : Test \n",
      "\n",
      "오차행렬:₩n [[1020    1]\n",
      " [  63   41]] \n",
      "\n",
      "정확도: 0.9431\n",
      "정밀도: 0.976190\n",
      "재현율: 0.394231\n",
      "F1:0.561644\n",
      "AUC : 0.696626\n",
      "\n",
      "               precision    recall  f1-score   support\n",
      "\n",
      "           0       0.94      1.00      0.97      1021\n",
      "           1       0.98      0.39      0.56       104\n",
      "\n",
      "    accuracy                           0.94      1125\n",
      "   macro avg       0.96      0.70      0.77      1125\n",
      "weighted avg       0.95      0.94      0.93      1125\n",
      "\n"
     ]
    }
   ],
   "source": [
    "#사용자 모델 생성\n",
    "xgboost_user= XGBClassifier(n_estimators = 100, learning_rate = 0.1, max_depth = 5)\n",
    "#모델 적합\n",
    "xgboost_user.fit(df_train_x, df_train_y)\n",
    "# 예측 및 모델 평가:Train\n",
    "xgb_pred_train = xgboost_user.predict(df_train_x)\n",
    "print('\\n 사용자 모델 평가 : Train \\n')\n",
    "eval_class_model(df_train_y, xgb_pred_train)\n",
    "print('\\n',classification_report(df_train_y, xgb_pred_train))\n",
    "# 예측 및 모델 평가: Test\n",
    "xgb_pred_test = xgboost_user.predict(df_test_x)\n",
    "print('\\n 사용자 모델 평가 : Test \\n')\n",
    "eval_class_model(df_test_y, xgb_pred_test)\n",
    "print('\\n',classification_report(df_test_y, xgb_pred_test))"
   ]
  },
  {
   "cell_type": "markdown",
   "metadata": {
    "id": "G5Ojgq0IA0fs"
   },
   "source": [
    "### 3.3 조기중지 옵션 사용 모델 개발 및 평가"
   ]
  },
  {
   "cell_type": "code",
   "execution_count": 40,
   "metadata": {
    "colab": {
     "base_uri": "https://localhost:8080/"
    },
    "id": "GzntIARK_IHN",
    "outputId": "0c2d8f3d-0c14-4240-f63e-50980be9492a"
   },
   "outputs": [
    {
     "name": "stdout",
     "output_type": "stream",
     "text": [
      "[0]\tvalidation_0-logloss:0.62092\n",
      "[1]\tvalidation_0-logloss:0.56184\n",
      "[2]\tvalidation_0-logloss:0.51341\n",
      "[3]\tvalidation_0-logloss:0.47230\n",
      "[4]\tvalidation_0-logloss:0.43716\n",
      "[5]\tvalidation_0-logloss:0.40648\n",
      "[6]\tvalidation_0-logloss:0.38075\n",
      "[7]\tvalidation_0-logloss:0.35740\n",
      "[8]\tvalidation_0-logloss:0.33736\n",
      "[9]\tvalidation_0-logloss:0.32025\n",
      "[10]\tvalidation_0-logloss:0.30528\n",
      "[11]\tvalidation_0-logloss:0.29236\n",
      "[12]\tvalidation_0-logloss:0.28106\n",
      "[13]\tvalidation_0-logloss:0.27113\n",
      "[14]\tvalidation_0-logloss:0.26233\n",
      "[15]\tvalidation_0-logloss:0.25407\n",
      "[16]\tvalidation_0-logloss:0.24520\n",
      "[17]\tvalidation_0-logloss:0.23947\n",
      "[18]\tvalidation_0-logloss:0.23388\n",
      "[19]\tvalidation_0-logloss:0.22930\n",
      "[20]\tvalidation_0-logloss:0.22485\n",
      "[21]\tvalidation_0-logloss:0.22028\n",
      "[22]\tvalidation_0-logloss:0.21723\n",
      "[23]\tvalidation_0-logloss:0.21451\n",
      "[24]\tvalidation_0-logloss:0.21211\n",
      "[25]\tvalidation_0-logloss:0.20965\n",
      "[26]\tvalidation_0-logloss:0.20786\n",
      "[27]\tvalidation_0-logloss:0.20589\n",
      "[28]\tvalidation_0-logloss:0.20396\n",
      "[29]\tvalidation_0-logloss:0.20287\n",
      "[30]\tvalidation_0-logloss:0.20169\n"
     ]
    },
    {
     "name": "stderr",
     "output_type": "stream",
     "text": [
      "/home/piai/anaconda3/lib/python3.9/site-packages/xgboost/sklearn.py:861: UserWarning: `eval_metric` in `fit` method is deprecated for better compatibility with scikit-learn, use `eval_metric` in constructor or`set_params` instead.\n",
      "  warnings.warn(\n",
      "/home/piai/anaconda3/lib/python3.9/site-packages/xgboost/sklearn.py:861: UserWarning: `early_stopping_rounds` in `fit` method is deprecated for better compatibility with scikit-learn, use `early_stopping_rounds` in constructor or`set_params` instead.\n",
      "  warnings.warn(\n"
     ]
    },
    {
     "name": "stdout",
     "output_type": "stream",
     "text": [
      "[31]\tvalidation_0-logloss:0.20047\n",
      "[32]\tvalidation_0-logloss:0.20027\n",
      "[33]\tvalidation_0-logloss:0.19930\n",
      "[34]\tvalidation_0-logloss:0.19902\n",
      "[35]\tvalidation_0-logloss:0.19800\n",
      "[36]\tvalidation_0-logloss:0.19692\n",
      "[37]\tvalidation_0-logloss:0.19629\n",
      "[38]\tvalidation_0-logloss:0.19585\n",
      "[39]\tvalidation_0-logloss:0.19575\n",
      "[40]\tvalidation_0-logloss:0.19473\n",
      "[41]\tvalidation_0-logloss:0.19445\n",
      "[42]\tvalidation_0-logloss:0.19447\n",
      "[43]\tvalidation_0-logloss:0.19413\n",
      "[44]\tvalidation_0-logloss:0.19427\n",
      "[45]\tvalidation_0-logloss:0.19340\n",
      "[46]\tvalidation_0-logloss:0.19326\n",
      "[47]\tvalidation_0-logloss:0.19208\n",
      "[48]\tvalidation_0-logloss:0.19208\n",
      "[49]\tvalidation_0-logloss:0.19181\n",
      "[50]\tvalidation_0-logloss:0.19102\n",
      "[51]\tvalidation_0-logloss:0.19055\n",
      "[52]\tvalidation_0-logloss:0.19050\n",
      "[53]\tvalidation_0-logloss:0.19086\n",
      "[54]\tvalidation_0-logloss:0.19073\n",
      "[55]\tvalidation_0-logloss:0.19130\n",
      "[56]\tvalidation_0-logloss:0.19120\n",
      "[57]\tvalidation_0-logloss:0.19116\n",
      "[58]\tvalidation_0-logloss:0.19089\n",
      "[59]\tvalidation_0-logloss:0.19063\n",
      "[60]\tvalidation_0-logloss:0.19077\n",
      "[61]\tvalidation_0-logloss:0.19067\n",
      "[62]\tvalidation_0-logloss:0.19030\n",
      "[63]\tvalidation_0-logloss:0.18936\n",
      "[64]\tvalidation_0-logloss:0.18943\n",
      "[65]\tvalidation_0-logloss:0.18931\n",
      "[66]\tvalidation_0-logloss:0.18961\n",
      "[67]\tvalidation_0-logloss:0.18960\n",
      "[68]\tvalidation_0-logloss:0.18958\n",
      "[69]\tvalidation_0-logloss:0.18954\n",
      "[70]\tvalidation_0-logloss:0.18936\n",
      "[71]\tvalidation_0-logloss:0.18967\n",
      "[72]\tvalidation_0-logloss:0.18907\n",
      "[73]\tvalidation_0-logloss:0.18899\n",
      "[74]\tvalidation_0-logloss:0.18893\n",
      "[75]\tvalidation_0-logloss:0.18853\n",
      "[76]\tvalidation_0-logloss:0.18823\n",
      "[77]\tvalidation_0-logloss:0.18814\n",
      "[78]\tvalidation_0-logloss:0.18809\n",
      "[79]\tvalidation_0-logloss:0.18842\n",
      "[80]\tvalidation_0-logloss:0.18814\n",
      "[81]\tvalidation_0-logloss:0.18793\n",
      "[82]\tvalidation_0-logloss:0.18809\n",
      "[83]\tvalidation_0-logloss:0.18838\n",
      "[84]\tvalidation_0-logloss:0.18844\n",
      "[85]\tvalidation_0-logloss:0.18825\n",
      "[86]\tvalidation_0-logloss:0.18810\n",
      "[87]\tvalidation_0-logloss:0.18815\n",
      "[88]\tvalidation_0-logloss:0.18779\n",
      "[89]\tvalidation_0-logloss:0.18816\n",
      "[90]\tvalidation_0-logloss:0.18855\n",
      "[91]\tvalidation_0-logloss:0.18879\n",
      "[92]\tvalidation_0-logloss:0.18887\n",
      "[93]\tvalidation_0-logloss:0.18915\n",
      "[94]\tvalidation_0-logloss:0.18947\n",
      "[95]\tvalidation_0-logloss:0.18965\n",
      "[96]\tvalidation_0-logloss:0.18998\n",
      "[97]\tvalidation_0-logloss:0.18946\n",
      "[98]\tvalidation_0-logloss:0.18962\n",
      "[99]\tvalidation_0-logloss:0.18961\n",
      "[100]\tvalidation_0-logloss:0.18980\n",
      "[101]\tvalidation_0-logloss:0.18988\n",
      "[102]\tvalidation_0-logloss:0.18972\n",
      "[103]\tvalidation_0-logloss:0.18991\n",
      "[104]\tvalidation_0-logloss:0.18995\n",
      "[105]\tvalidation_0-logloss:0.19004\n",
      "[106]\tvalidation_0-logloss:0.19027\n",
      "[107]\tvalidation_0-logloss:0.19005\n",
      "[108]\tvalidation_0-logloss:0.18985\n",
      "[109]\tvalidation_0-logloss:0.18997\n",
      "[110]\tvalidation_0-logloss:0.19011\n",
      "[111]\tvalidation_0-logloss:0.19056\n",
      "[112]\tvalidation_0-logloss:0.19060\n",
      "[113]\tvalidation_0-logloss:0.19050\n",
      "[114]\tvalidation_0-logloss:0.19055\n",
      "[115]\tvalidation_0-logloss:0.19107\n",
      "[116]\tvalidation_0-logloss:0.19114\n",
      "[117]\tvalidation_0-logloss:0.19138\n",
      "[118]\tvalidation_0-logloss:0.19130\n",
      "[119]\tvalidation_0-logloss:0.19150\n",
      "[120]\tvalidation_0-logloss:0.19137\n",
      "[121]\tvalidation_0-logloss:0.19161\n",
      "[122]\tvalidation_0-logloss:0.19183\n",
      "[123]\tvalidation_0-logloss:0.19188\n",
      "[124]\tvalidation_0-logloss:0.19224\n",
      "[125]\tvalidation_0-logloss:0.19221\n",
      "[126]\tvalidation_0-logloss:0.19225\n",
      "[127]\tvalidation_0-logloss:0.19222\n",
      "[128]\tvalidation_0-logloss:0.19258\n",
      "[129]\tvalidation_0-logloss:0.19290\n",
      "[130]\tvalidation_0-logloss:0.19323\n",
      "[131]\tvalidation_0-logloss:0.19367\n",
      "[132]\tvalidation_0-logloss:0.19411\n",
      "[133]\tvalidation_0-logloss:0.19434\n",
      "[134]\tvalidation_0-logloss:0.19446\n",
      "[135]\tvalidation_0-logloss:0.19452\n",
      "[136]\tvalidation_0-logloss:0.19466\n",
      "[137]\tvalidation_0-logloss:0.19484\n",
      "[138]\tvalidation_0-logloss:0.19497\n",
      "[139]\tvalidation_0-logloss:0.19529\n",
      "[140]\tvalidation_0-logloss:0.19505\n",
      "[141]\tvalidation_0-logloss:0.19482\n",
      "[142]\tvalidation_0-logloss:0.19498\n",
      "[143]\tvalidation_0-logloss:0.19513\n",
      "[144]\tvalidation_0-logloss:0.19524\n",
      "[145]\tvalidation_0-logloss:0.19543\n",
      "[146]\tvalidation_0-logloss:0.19572\n",
      "[147]\tvalidation_0-logloss:0.19603\n",
      "[148]\tvalidation_0-logloss:0.19579\n",
      "[149]\tvalidation_0-logloss:0.19571\n",
      "[150]\tvalidation_0-logloss:0.19593\n",
      "[151]\tvalidation_0-logloss:0.19618\n",
      "[152]\tvalidation_0-logloss:0.19641\n",
      "[153]\tvalidation_0-logloss:0.19663\n",
      "[154]\tvalidation_0-logloss:0.19698\n",
      "[155]\tvalidation_0-logloss:0.19717\n",
      "[156]\tvalidation_0-logloss:0.19725\n",
      "[157]\tvalidation_0-logloss:0.19758\n",
      "[158]\tvalidation_0-logloss:0.19758\n",
      "[159]\tvalidation_0-logloss:0.19800\n",
      "[160]\tvalidation_0-logloss:0.19812\n",
      "[161]\tvalidation_0-logloss:0.19810\n",
      "[162]\tvalidation_0-logloss:0.19810\n",
      "[163]\tvalidation_0-logloss:0.19817\n",
      "[164]\tvalidation_0-logloss:0.19852\n",
      "[165]\tvalidation_0-logloss:0.19869\n",
      "[166]\tvalidation_0-logloss:0.19848\n",
      "[167]\tvalidation_0-logloss:0.19860\n",
      "[168]\tvalidation_0-logloss:0.19906\n",
      "[169]\tvalidation_0-logloss:0.19936\n",
      "[170]\tvalidation_0-logloss:0.19926\n",
      "[171]\tvalidation_0-logloss:0.19963\n",
      "[172]\tvalidation_0-logloss:0.19969\n",
      "[173]\tvalidation_0-logloss:0.19991\n",
      "[174]\tvalidation_0-logloss:0.20012\n",
      "[175]\tvalidation_0-logloss:0.20016\n",
      "[176]\tvalidation_0-logloss:0.19993\n",
      "[177]\tvalidation_0-logloss:0.19985\n",
      "[178]\tvalidation_0-logloss:0.19988\n",
      "[179]\tvalidation_0-logloss:0.20003\n",
      "[180]\tvalidation_0-logloss:0.20017\n",
      "[181]\tvalidation_0-logloss:0.20030\n",
      "[182]\tvalidation_0-logloss:0.20054\n",
      "[183]\tvalidation_0-logloss:0.20061\n",
      "[184]\tvalidation_0-logloss:0.20080\n",
      "[185]\tvalidation_0-logloss:0.20063\n",
      "[186]\tvalidation_0-logloss:0.20077\n",
      "[187]\tvalidation_0-logloss:0.20090\n",
      "[188]\tvalidation_0-logloss:0.20095\n",
      "[189]\tvalidation_0-logloss:0.20083\n",
      "[190]\tvalidation_0-logloss:0.20090\n",
      "[191]\tvalidation_0-logloss:0.20084\n",
      "[192]\tvalidation_0-logloss:0.20044\n",
      "[193]\tvalidation_0-logloss:0.20075\n",
      "[194]\tvalidation_0-logloss:0.20077\n",
      "[195]\tvalidation_0-logloss:0.20113\n",
      "[196]\tvalidation_0-logloss:0.20138\n",
      "[197]\tvalidation_0-logloss:0.20149\n",
      "[198]\tvalidation_0-logloss:0.20171\n",
      "[199]\tvalidation_0-logloss:0.20194\n",
      "[200]\tvalidation_0-logloss:0.20206\n",
      "[201]\tvalidation_0-logloss:0.20224\n",
      "[202]\tvalidation_0-logloss:0.20207\n",
      "[203]\tvalidation_0-logloss:0.20217\n",
      "[204]\tvalidation_0-logloss:0.20264\n",
      "[205]\tvalidation_0-logloss:0.20264\n",
      "[206]\tvalidation_0-logloss:0.20279\n",
      "[207]\tvalidation_0-logloss:0.20325\n",
      "[208]\tvalidation_0-logloss:0.20325\n",
      "[209]\tvalidation_0-logloss:0.20350\n",
      "[210]\tvalidation_0-logloss:0.20354\n",
      "[211]\tvalidation_0-logloss:0.20346\n",
      "[212]\tvalidation_0-logloss:0.20339\n",
      "[213]\tvalidation_0-logloss:0.20313\n",
      "[214]\tvalidation_0-logloss:0.20339\n",
      "[215]\tvalidation_0-logloss:0.20355\n",
      "[216]\tvalidation_0-logloss:0.20373\n",
      "[217]\tvalidation_0-logloss:0.20424\n",
      "[218]\tvalidation_0-logloss:0.20450\n",
      "[219]\tvalidation_0-logloss:0.20444\n",
      "[220]\tvalidation_0-logloss:0.20463\n",
      "[221]\tvalidation_0-logloss:0.20470\n",
      "[222]\tvalidation_0-logloss:0.20458\n",
      "[223]\tvalidation_0-logloss:0.20473\n",
      "[224]\tvalidation_0-logloss:0.20482\n",
      "[225]\tvalidation_0-logloss:0.20494\n",
      "[226]\tvalidation_0-logloss:0.20495\n",
      "[227]\tvalidation_0-logloss:0.20516\n",
      "[228]\tvalidation_0-logloss:0.20539\n",
      "[229]\tvalidation_0-logloss:0.20539\n",
      "[230]\tvalidation_0-logloss:0.20552\n",
      "[231]\tvalidation_0-logloss:0.20590\n",
      "[232]\tvalidation_0-logloss:0.20613\n",
      "[233]\tvalidation_0-logloss:0.20652\n",
      "[234]\tvalidation_0-logloss:0.20670\n",
      "[235]\tvalidation_0-logloss:0.20702\n",
      "[236]\tvalidation_0-logloss:0.20705\n",
      "[237]\tvalidation_0-logloss:0.20710\n"
     ]
    },
    {
     "data": {
      "text/html": [
       "<style>#sk-container-id-2 {color: black;background-color: white;}#sk-container-id-2 pre{padding: 0;}#sk-container-id-2 div.sk-toggleable {background-color: white;}#sk-container-id-2 label.sk-toggleable__label {cursor: pointer;display: block;width: 100%;margin-bottom: 0;padding: 0.3em;box-sizing: border-box;text-align: center;}#sk-container-id-2 label.sk-toggleable__label-arrow:before {content: \"▸\";float: left;margin-right: 0.25em;color: #696969;}#sk-container-id-2 label.sk-toggleable__label-arrow:hover:before {color: black;}#sk-container-id-2 div.sk-estimator:hover label.sk-toggleable__label-arrow:before {color: black;}#sk-container-id-2 div.sk-toggleable__content {max-height: 0;max-width: 0;overflow: hidden;text-align: left;background-color: #f0f8ff;}#sk-container-id-2 div.sk-toggleable__content pre {margin: 0.2em;color: black;border-radius: 0.25em;background-color: #f0f8ff;}#sk-container-id-2 input.sk-toggleable__control:checked~div.sk-toggleable__content {max-height: 200px;max-width: 100%;overflow: auto;}#sk-container-id-2 input.sk-toggleable__control:checked~label.sk-toggleable__label-arrow:before {content: \"▾\";}#sk-container-id-2 div.sk-estimator input.sk-toggleable__control:checked~label.sk-toggleable__label {background-color: #d4ebff;}#sk-container-id-2 div.sk-label input.sk-toggleable__control:checked~label.sk-toggleable__label {background-color: #d4ebff;}#sk-container-id-2 input.sk-hidden--visually {border: 0;clip: rect(1px 1px 1px 1px);clip: rect(1px, 1px, 1px, 1px);height: 1px;margin: -1px;overflow: hidden;padding: 0;position: absolute;width: 1px;}#sk-container-id-2 div.sk-estimator {font-family: monospace;background-color: #f0f8ff;border: 1px dotted black;border-radius: 0.25em;box-sizing: border-box;margin-bottom: 0.5em;}#sk-container-id-2 div.sk-estimator:hover {background-color: #d4ebff;}#sk-container-id-2 div.sk-parallel-item::after {content: \"\";width: 100%;border-bottom: 1px solid gray;flex-grow: 1;}#sk-container-id-2 div.sk-label:hover label.sk-toggleable__label {background-color: #d4ebff;}#sk-container-id-2 div.sk-serial::before {content: \"\";position: absolute;border-left: 1px solid gray;box-sizing: border-box;top: 0;bottom: 0;left: 50%;z-index: 0;}#sk-container-id-2 div.sk-serial {display: flex;flex-direction: column;align-items: center;background-color: white;padding-right: 0.2em;padding-left: 0.2em;position: relative;}#sk-container-id-2 div.sk-item {position: relative;z-index: 1;}#sk-container-id-2 div.sk-parallel {display: flex;align-items: stretch;justify-content: center;background-color: white;position: relative;}#sk-container-id-2 div.sk-item::before, #sk-container-id-2 div.sk-parallel-item::before {content: \"\";position: absolute;border-left: 1px solid gray;box-sizing: border-box;top: 0;bottom: 0;left: 50%;z-index: -1;}#sk-container-id-2 div.sk-parallel-item {display: flex;flex-direction: column;z-index: 1;position: relative;background-color: white;}#sk-container-id-2 div.sk-parallel-item:first-child::after {align-self: flex-end;width: 50%;}#sk-container-id-2 div.sk-parallel-item:last-child::after {align-self: flex-start;width: 50%;}#sk-container-id-2 div.sk-parallel-item:only-child::after {width: 0;}#sk-container-id-2 div.sk-dashed-wrapped {border: 1px dashed gray;margin: 0 0.4em 0.5em 0.4em;box-sizing: border-box;padding-bottom: 0.4em;background-color: white;}#sk-container-id-2 div.sk-label label {font-family: monospace;font-weight: bold;display: inline-block;line-height: 1.2em;}#sk-container-id-2 div.sk-label-container {text-align: center;}#sk-container-id-2 div.sk-container {/* jupyter's `normalize.less` sets `[hidden] { display: none; }` but bootstrap.min.css set `[hidden] { display: none !important; }` so we also need the `!important` here to be able to override the default hidden behavior on the sphinx rendered scikit-learn.org. See: https://github.com/scikit-learn/scikit-learn/issues/21755 */display: inline-block !important;position: relative;}#sk-container-id-2 div.sk-text-repr-fallback {display: none;}</style><div id=\"sk-container-id-2\" class=\"sk-top-container\"><div class=\"sk-text-repr-fallback\"><pre>XGBClassifier(base_score=0.5, booster=&#x27;gbtree&#x27;, callbacks=None,\n",
       "              colsample_bylevel=1, colsample_bynode=1, colsample_bytree=1,\n",
       "              early_stopping_rounds=None, enable_categorical=False,\n",
       "              eval_metric=None, feature_types=None, gamma=0, gpu_id=-1,\n",
       "              grow_policy=&#x27;depthwise&#x27;, importance_type=None,\n",
       "              interaction_constraints=&#x27;&#x27;, learning_rate=0.1, max_bin=256,\n",
       "              max_cat_threshold=64, max_cat_to_onehot=4, max_delta_step=0,\n",
       "              max_depth=6, max_leaves=0, min_child_weight=1, missing=nan,\n",
       "              monotone_constraints=&#x27;()&#x27;, n_estimators=300, n_jobs=0,\n",
       "              num_parallel_tree=1, predictor=&#x27;auto&#x27;, random_state=0, ...)</pre><b>In a Jupyter environment, please rerun this cell to show the HTML representation or trust the notebook. <br />On GitHub, the HTML representation is unable to render, please try loading this page with nbviewer.org.</b></div><div class=\"sk-container\" hidden><div class=\"sk-item\"><div class=\"sk-estimator sk-toggleable\"><input class=\"sk-toggleable__control sk-hidden--visually\" id=\"sk-estimator-id-2\" type=\"checkbox\" checked><label for=\"sk-estimator-id-2\" class=\"sk-toggleable__label sk-toggleable__label-arrow\">XGBClassifier</label><div class=\"sk-toggleable__content\"><pre>XGBClassifier(base_score=0.5, booster=&#x27;gbtree&#x27;, callbacks=None,\n",
       "              colsample_bylevel=1, colsample_bynode=1, colsample_bytree=1,\n",
       "              early_stopping_rounds=None, enable_categorical=False,\n",
       "              eval_metric=None, feature_types=None, gamma=0, gpu_id=-1,\n",
       "              grow_policy=&#x27;depthwise&#x27;, importance_type=None,\n",
       "              interaction_constraints=&#x27;&#x27;, learning_rate=0.1, max_bin=256,\n",
       "              max_cat_threshold=64, max_cat_to_onehot=4, max_delta_step=0,\n",
       "              max_depth=6, max_leaves=0, min_child_weight=1, missing=nan,\n",
       "              monotone_constraints=&#x27;()&#x27;, n_estimators=300, n_jobs=0,\n",
       "              num_parallel_tree=1, predictor=&#x27;auto&#x27;, random_state=0, ...)</pre></div></div></div></div></div>"
      ],
      "text/plain": [
       "XGBClassifier(base_score=0.5, booster='gbtree', callbacks=None,\n",
       "              colsample_bylevel=1, colsample_bynode=1, colsample_bytree=1,\n",
       "              early_stopping_rounds=None, enable_categorical=False,\n",
       "              eval_metric=None, feature_types=None, gamma=0, gpu_id=-1,\n",
       "              grow_policy='depthwise', importance_type=None,\n",
       "              interaction_constraints='', learning_rate=0.1, max_bin=256,\n",
       "              max_cat_threshold=64, max_cat_to_onehot=4, max_delta_step=0,\n",
       "              max_depth=6, max_leaves=0, min_child_weight=1, missing=nan,\n",
       "              monotone_constraints='()', n_estimators=300, n_jobs=0,\n",
       "              num_parallel_tree=1, predictor='auto', random_state=0, ...)"
      ]
     },
     "execution_count": 40,
     "metadata": {},
     "output_type": "execute_result"
    }
   ],
   "source": [
    "#오류함수의 평가지표:logloss\n",
    "#조기중단을 위한 최소 반복횟수는 150\n",
    "xgb_stop = XGBClassifier(n_estimators = 300, learning_rate = 0.1, max_depth = 6)\n",
    "eval_df = [(df_test_x, df_test_y)]\n",
    "xgb_stop.fit(df_train_x, df_train_y, early_stopping_rounds = 150,\n",
    "eval_metric=\"logloss\", eval_set = eval_df, verbose=True)"
   ]
  },
  {
   "cell_type": "code",
   "execution_count": 41,
   "metadata": {
    "colab": {
     "base_uri": "https://localhost:8080/"
    },
    "id": "PSFP1fmu_sKs",
    "outputId": "18431a8c-3167-479b-c174-81a73cbc57e7"
   },
   "outputs": [
    {
     "name": "stdout",
     "output_type": "stream",
     "text": [
      "\n",
      " 조기 중단 모델 평가 : Test \n",
      "\n",
      "오차행렬:₩n [[1020    1]\n",
      " [  62   42]] \n",
      "\n",
      "정확도: 0.9440\n",
      "정밀도: 0.976744\n",
      "재현율: 0.403846\n",
      "F1:0.571429\n",
      "AUC : 0.701433\n",
      "\n",
      "               precision    recall  f1-score   support\n",
      "\n",
      "           0       0.94      1.00      0.97      1021\n",
      "           1       0.98      0.40      0.57       104\n",
      "\n",
      "    accuracy                           0.94      1125\n",
      "   macro avg       0.96      0.70      0.77      1125\n",
      "weighted avg       0.95      0.94      0.93      1125\n",
      "\n"
     ]
    }
   ],
   "source": [
    "#조기 중단 예측 및 모델 평가 : Test\n",
    "xgb_pred_stop = xgb_stop.predict(df_test_x)\n",
    "print('\\n 조기 중단 모델 평가 : Test \\n')\n",
    "eval_class_model(df_test_y, xgb_pred_stop)\n",
    "print('\\n',classification_report(df_test_y, xgb_pred_stop))"
   ]
  },
  {
   "cell_type": "markdown",
   "metadata": {
    "id": "lCJsQ2BxA7A4"
   },
   "source": [
    "### 3.4 설명변수의 중요도 확인 : plot_importance"
   ]
  },
  {
   "cell_type": "code",
   "execution_count": 46,
   "metadata": {
    "colab": {
     "base_uri": "https://localhost:8080/",
     "height": 531
    },
    "id": "rCiHFoa9AF94",
    "outputId": "a43b09b6-c5c5-409c-d8e5-d2b5aed4dee0"
   },
   "outputs": [
    {
     "data": {
      "text/plain": [
       "<AxesSubplot:title={'center':'Feature importance'}, xlabel='F score', ylabel='Features'>"
      ]
     },
     "execution_count": 46,
     "metadata": {},
     "output_type": "execute_result"
    },
    {
     "data": {
      "image/png": "[encoded data removed]",
      "text/plain": [
       "<Figure size 1000x800 with 1 Axes>"
      ]
     },
     "metadata": {},
     "output_type": "display_data"
    }
   ],
   "source": [
    "# 변수 중요도 확인\n",
    "from xgboost import plot_importance \n",
    "import matplotlib.pyplot as plt\n",
    "\n",
    "fig, ax = plt.subplots(figsize = (10,8))\n",
    "plot_importance(xgb_stop, ax = ax)"
   ]
  },
  {
   "cell_type": "code",
   "execution_count": null,
   "metadata": {
    "id": "w7IWT77HAWE7"
   },
   "outputs": [],
   "source": []
  }
 ],
 "metadata": {
  "colab": {
   "collapsed_sections": [],
   "provenance": []
  },
  "kernelspec": {
   "display_name": "Python 3 (ipykernel)",
   "language": "python",
   "name": "python3"
  },
  "language_info": {
   "codemirror_mode": {
    "name": "ipython",
    "version": 3
   },
   "file_extension": ".py",
   "mimetype": "text/x-python",
   "name": "python",
   "nbconvert_exporter": "python",
   "pygments_lexer": "ipython3",
   "version": "3.9.13"
  },
  "toc": {
   "base_numbering": 1,
   "nav_menu": {},
   "number_sections": true,
   "sideBar": true,
   "skip_h1_title": false,
   "title_cell": "Table of Contents",
   "title_sidebar": "Contents",
   "toc_cell": false,
   "toc_position": {},
   "toc_section_display": true,
   "toc_window_display": false
  }
 },
 "nbformat": 4,
 "nbformat_minor": 1
}
