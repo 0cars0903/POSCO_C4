{
 "cells": [
  {
   "cell_type": "code",
   "execution_count": 2,
   "id": "4422c6d9",
   "metadata": {},
   "outputs": [
    {
     "name": "stdout",
     "output_type": "stream",
     "text": [
      "/usr/share/fonts: caching, new cache contents: 0 fonts, 6 dirs\n",
      "/usr/share/fonts/X11: caching, new cache contents: 0 fonts, 4 dirs\n",
      "/usr/share/fonts/X11/Type1: caching, new cache contents: 8 fonts, 0 dirs\n",
      "/usr/share/fonts/X11/encodings: caching, new cache contents: 0 fonts, 1 dirs\n",
      "/usr/share/fonts/X11/encodings/large: caching, new cache contents: 0 fonts, 0 dirs\n",
      "/usr/share/fonts/X11/misc: caching, new cache contents: 89 fonts, 0 dirs\n",
      "/usr/share/fonts/X11/util: caching, new cache contents: 0 fonts, 0 dirs\n",
      "/usr/share/fonts/cMap: caching, new cache contents: 0 fonts, 0 dirs\n",
      "/usr/share/fonts/cmap: caching, new cache contents: 0 fonts, 5 dirs\n",
      "/usr/share/fonts/cmap/adobe-cns1: caching, new cache contents: 0 fonts, 0 dirs\n",
      "/usr/share/fonts/cmap/adobe-gb1: caching, new cache contents: 0 fonts, 0 dirs\n",
      "/usr/share/fonts/cmap/adobe-japan1: caching, new cache contents: 0 fonts, 0 dirs\n",
      "/usr/share/fonts/cmap/adobe-japan2: caching, new cache contents: 0 fonts, 0 dirs\n",
      "/usr/share/fonts/cmap/adobe-korea1: caching, new cache contents: 0 fonts, 0 dirs\n",
      "/usr/share/fonts/opentype: caching, new cache contents: 0 fonts, 2 dirs\n",
      "/usr/share/fonts/opentype/malayalam: caching, new cache contents: 3 fonts, 0 dirs\n",
      "/usr/share/fonts/opentype/noto: caching, new cache contents: 73 fonts, 0 dirs\n",
      "/usr/share/fonts/truetype: caching, new cache contents: 0 fonts, 48 dirs\n",
      "/usr/share/fonts/truetype/Gargi: caching, new cache contents: 1 fonts, 0 dirs\n",
      "/usr/share/fonts/truetype/Gubbi: caching, new cache contents: 1 fonts, 0 dirs\n",
      "/usr/share/fonts/truetype/Nakula: caching, new cache contents: 1 fonts, 0 dirs\n",
      "/usr/share/fonts/truetype/Navilu: caching, new cache contents: 1 fonts, 0 dirs\n",
      "/usr/share/fonts/truetype/Sahadeva: caching, new cache contents: 1 fonts, 0 dirs\n",
      "/usr/share/fonts/truetype/Sarai: caching, new cache contents: 1 fonts, 0 dirs\n",
      "/usr/share/fonts/truetype/abyssinica: caching, new cache contents: 1 fonts, 0 dirs\n",
      "/usr/share/fonts/truetype/dejavu: caching, new cache contents: 6 fonts, 0 dirs\n",
      "/usr/share/fonts/truetype/droid: caching, new cache contents: 1 fonts, 0 dirs\n",
      "/usr/share/fonts/truetype/fonts-beng-extra: caching, new cache contents: 6 fonts, 0 dirs\n",
      "/usr/share/fonts/truetype/fonts-deva-extra: caching, new cache contents: 3 fonts, 0 dirs\n",
      "/usr/share/fonts/truetype/fonts-gujr-extra: caching, new cache contents: 5 fonts, 0 dirs\n",
      "/usr/share/fonts/truetype/fonts-guru-extra: caching, new cache contents: 1 fonts, 0 dirs\n",
      "/usr/share/fonts/truetype/fonts-kalapi: caching, new cache contents: 1 fonts, 0 dirs\n",
      "/usr/share/fonts/truetype/fonts-orya-extra: caching, new cache contents: 1 fonts, 0 dirs\n",
      "/usr/share/fonts/truetype/fonts-telu-extra: caching, new cache contents: 2 fonts, 0 dirs\n",
      "/usr/share/fonts/truetype/freefont: caching, new cache contents: 12 fonts, 0 dirs\n",
      "/usr/share/fonts/truetype/kacst: caching, new cache contents: 15 fonts, 0 dirs\n",
      "/usr/share/fonts/truetype/kacst-one: caching, new cache contents: 2 fonts, 0 dirs\n",
      "/usr/share/fonts/truetype/lao: caching, new cache contents: 1 fonts, 0 dirs\n",
      "/usr/share/fonts/truetype/liberation: caching, new cache contents: 16 fonts, 0 dirs\n",
      "/usr/share/fonts/truetype/liberation2: caching, new cache contents: 12 fonts, 0 dirs\n",
      "/usr/share/fonts/truetype/lohit-assamese: caching, new cache contents: 1 fonts, 0 dirs\n",
      "/usr/share/fonts/truetype/lohit-bengali: caching, new cache contents: 1 fonts, 0 dirs\n",
      "/usr/share/fonts/truetype/lohit-devanagari: caching, new cache contents: 1 fonts, 0 dirs\n",
      "/usr/share/fonts/truetype/lohit-gujarati: caching, new cache contents: 1 fonts, 0 dirs\n",
      "/usr/share/fonts/truetype/lohit-kannada: caching, new cache contents: 1 fonts, 0 dirs\n",
      "/usr/share/fonts/truetype/lohit-malayalam: caching, new cache contents: 1 fonts, 0 dirs\n",
      "/usr/share/fonts/truetype/lohit-oriya: caching, new cache contents: 1 fonts, 0 dirs\n",
      "/usr/share/fonts/truetype/lohit-punjabi: caching, new cache contents: 1 fonts, 0 dirs\n",
      "/usr/share/fonts/truetype/lohit-tamil: caching, new cache contents: 1 fonts, 0 dirs\n",
      "/usr/share/fonts/truetype/lohit-tamil-classical: caching, new cache contents: 1 fonts, 0 dirs\n",
      "/usr/share/fonts/truetype/lohit-telugu: caching, new cache contents: 1 fonts, 0 dirs\n",
      "/usr/share/fonts/truetype/lyx: caching, new cache contents: 11 fonts, 0 dirs\n",
      "/usr/share/fonts/truetype/malayalam: caching, new cache contents: 11 fonts, 0 dirs\n",
      "/usr/share/fonts/truetype/nanum: caching, new cache contents: 31 fonts, 0 dirs\n",
      "/usr/share/fonts/truetype/noto: caching, new cache contents: 2 fonts, 0 dirs\n",
      "/usr/share/fonts/truetype/openoffice: caching, new cache contents: 1 fonts, 0 dirs\n",
      "/usr/share/fonts/truetype/padauk: caching, new cache contents: 4 fonts, 0 dirs\n",
      "/usr/share/fonts/truetype/pagul: caching, new cache contents: 1 fonts, 0 dirs\n",
      "/usr/share/fonts/truetype/samyak: caching, new cache contents: 1 fonts, 0 dirs\n",
      "/usr/share/fonts/truetype/samyak-fonts: caching, new cache contents: 3 fonts, 0 dirs\n",
      "/usr/share/fonts/truetype/sinhala: caching, new cache contents: 1 fonts, 0 dirs\n",
      "/usr/share/fonts/truetype/tibetan-machine: caching, new cache contents: 1 fonts, 0 dirs\n",
      "/usr/share/fonts/truetype/tlwg: caching, new cache contents: 58 fonts, 0 dirs\n",
      "/usr/share/fonts/truetype/ttf-bitstream-vera: caching, new cache contents: 10 fonts, 0 dirs\n",
      "/usr/share/fonts/truetype/ttf-khmeros-core: caching, new cache contents: 2 fonts, 0 dirs\n",
      "/usr/share/fonts/truetype/ubuntu: caching, new cache contents: 13 fonts, 0 dirs\n",
      "/usr/share/fonts/type1: caching, new cache contents: 0 fonts, 1 dirs\n",
      "/usr/share/fonts/type1/gsfonts: caching, new cache contents: 35 fonts, 0 dirs\n",
      "/home/piai/anaconda3/fonts: caching, new cache contents: 30 fonts, 0 dirs\n",
      "/home/piai/.local/share/fonts: skipping, no such directory\n",
      "/home/piai/.fonts: skipping, no such directory\n",
      "/usr/share/fonts/X11: skipping, looped directory detected\n",
      "/usr/share/fonts/cMap: skipping, looped directory detected\n",
      "/usr/share/fonts/cmap: skipping, looped directory detected\n",
      "/usr/share/fonts/opentype: skipping, looped directory detected\n",
      "/usr/share/fonts/truetype: skipping, looped directory detected\n",
      "/usr/share/fonts/type1: skipping, looped directory detected\n",
      "/usr/share/fonts/X11/Type1: skipping, looped directory detected\n",
      "/usr/share/fonts/X11/encodings: skipping, looped directory detected\n",
      "/usr/share/fonts/X11/misc: skipping, looped directory detected\n",
      "/usr/share/fonts/X11/util: skipping, looped directory detected\n",
      "/usr/share/fonts/cmap/adobe-cns1: skipping, looped directory detected\n",
      "/usr/share/fonts/cmap/adobe-gb1: skipping, looped directory detected\n",
      "/usr/share/fonts/cmap/adobe-japan1: skipping, looped directory detected\n",
      "/usr/share/fonts/cmap/adobe-japan2: skipping, looped directory detected\n",
      "/usr/share/fonts/cmap/adobe-korea1: skipping, looped directory detected\n",
      "/usr/share/fonts/opentype/malayalam: skipping, looped directory detected\n",
      "/usr/share/fonts/opentype/noto: skipping, looped directory detected\n",
      "/usr/share/fonts/truetype/Gargi: skipping, looped directory detected\n",
      "/usr/share/fonts/truetype/Gubbi: skipping, looped directory detected\n",
      "/usr/share/fonts/truetype/Nakula: skipping, looped directory detected\n",
      "/usr/share/fonts/truetype/Navilu: skipping, looped directory detected\n",
      "/usr/share/fonts/truetype/Sahadeva: skipping, looped directory detected\n",
      "/usr/share/fonts/truetype/Sarai: skipping, looped directory detected\n",
      "/usr/share/fonts/truetype/abyssinica: skipping, looped directory detected\n",
      "/usr/share/fonts/truetype/dejavu: skipping, looped directory detected\n",
      "/usr/share/fonts/truetype/droid: skipping, looped directory detected\n",
      "/usr/share/fonts/truetype/fonts-beng-extra: skipping, looped directory detected\n",
      "/usr/share/fonts/truetype/fonts-deva-extra: skipping, looped directory detected\n",
      "/usr/share/fonts/truetype/fonts-gujr-extra: skipping, looped directory detected\n",
      "/usr/share/fonts/truetype/fonts-guru-extra: skipping, looped directory detected\n",
      "/usr/share/fonts/truetype/fonts-kalapi: skipping, looped directory detected\n",
      "/usr/share/fonts/truetype/fonts-orya-extra: skipping, looped directory detected\n",
      "/usr/share/fonts/truetype/fonts-telu-extra: skipping, looped directory detected\n",
      "/usr/share/fonts/truetype/freefont: skipping, looped directory detected\n",
      "/usr/share/fonts/truetype/kacst: skipping, looped directory detected\n",
      "/usr/share/fonts/truetype/kacst-one: skipping, looped directory detected\n",
      "/usr/share/fonts/truetype/lao: skipping, looped directory detected\n",
      "/usr/share/fonts/truetype/liberation: skipping, looped directory detected\n",
      "/usr/share/fonts/truetype/liberation2: skipping, looped directory detected\n",
      "/usr/share/fonts/truetype/lohit-assamese: skipping, looped directory detected\n",
      "/usr/share/fonts/truetype/lohit-bengali: skipping, looped directory detected\n",
      "/usr/share/fonts/truetype/lohit-devanagari: skipping, looped directory detected\n",
      "/usr/share/fonts/truetype/lohit-gujarati: skipping, looped directory detected\n",
      "/usr/share/fonts/truetype/lohit-kannada: skipping, looped directory detected\n",
      "/usr/share/fonts/truetype/lohit-malayalam: skipping, looped directory detected\n",
      "/usr/share/fonts/truetype/lohit-oriya: skipping, looped directory detected\n",
      "/usr/share/fonts/truetype/lohit-punjabi: skipping, looped directory detected\n",
      "/usr/share/fonts/truetype/lohit-tamil: skipping, looped directory detected\n",
      "/usr/share/fonts/truetype/lohit-tamil-classical: skipping, looped directory detected\n",
      "/usr/share/fonts/truetype/lohit-telugu: skipping, looped directory detected\n",
      "/usr/share/fonts/truetype/lyx: skipping, looped directory detected\n",
      "/usr/share/fonts/truetype/malayalam: skipping, looped directory detected\n",
      "/usr/share/fonts/truetype/nanum: skipping, looped directory detected\n",
      "/usr/share/fonts/truetype/noto: skipping, looped directory detected\n",
      "/usr/share/fonts/truetype/openoffice: skipping, looped directory detected\n",
      "/usr/share/fonts/truetype/padauk: skipping, looped directory detected\n",
      "/usr/share/fonts/truetype/pagul: skipping, looped directory detected\n",
      "/usr/share/fonts/truetype/samyak: skipping, looped directory detected\n",
      "/usr/share/fonts/truetype/samyak-fonts: skipping, looped directory detected\n",
      "/usr/share/fonts/truetype/sinhala: skipping, looped directory detected\n",
      "/usr/share/fonts/truetype/tibetan-machine: skipping, looped directory detected\n",
      "/usr/share/fonts/truetype/tlwg: skipping, looped directory detected\n",
      "/usr/share/fonts/truetype/ttf-bitstream-vera: skipping, looped directory detected\n",
      "/usr/share/fonts/truetype/ttf-khmeros-core: skipping, looped directory detected\n",
      "/usr/share/fonts/truetype/ubuntu: skipping, looped directory detected\n",
      "/usr/share/fonts/type1/gsfonts: skipping, looped directory detected\n",
      "/usr/share/fonts/X11/encodings/large: skipping, looped directory detected\n",
      "/home/piai/anaconda3/var/cache/fontconfig: cleaning cache directory\n",
      "/home/piai/.cache/fontconfig: cleaning cache directory\n",
      "/home/piai/.fontconfig: not cleaning non-existent cache directory\n"
     ]
    },
    {
     "name": "stdout",
     "output_type": "stream",
     "text": [
      "fc-cache: succeeded\r\n"
     ]
    }
   ],
   "source": [
    "import pandas as pd\n",
    "import numpy as np\n",
    "\n",
    "# data 시각화\n",
    "import matplotlib as mpl\n",
    "import matplotlib.pyplot as plt\n",
    "%matplotlib inline\n",
    "import seaborn as sns\n",
    "\n",
    "# 나무 구조 생성 및 저장\n",
    "from sklearn.tree import export_graphviz\n",
    "import graphviz\n",
    "\n",
    "# Scale 변환\n",
    "from sklearn.preprocessing import StandardScaler\n",
    "\n",
    "# data split\n",
    "from sklearn.model_selection import train_test_split\n",
    "\n",
    "# Logistic Regression\n",
    "from statsmodels.api import Logit\n",
    "# Decision Tree\n",
    "from sklearn.tree import DecisionTreeClassifier\n",
    "# Random Forest\n",
    "from sklearn.ensemble import RandomForestClassifier\n",
    "# Gradient Boosting\n",
    "from sklearn.ensemble import GradientBoostingClassifier\n",
    "# PCA\n",
    "from sklearn.decomposition import PCA\n",
    "\n",
    "\n",
    "# 평가 함수\n",
    "from sklearn.metrics import mean_squared_error\n",
    "from sklearn.metrics import mean_absolute_error\n",
    "from sklearn.metrics import accuracy_score, f1_score\n",
    "from sklearn.metrics import confusion_matrix, classification_report\n",
    "from sklearn.model_selection import GridSearchCV\n",
    "\n",
    "# 경고문 제거\n",
    "import warnings\n",
    "warnings.filterwarnings('ignore')\n",
    "\n",
    "# 한글 폰트 설정\n",
    "# !ls -l /usr/share/fonts/truetype/\n",
    "!rm -rf ~/.cache/matplotlib/*\n",
    "!fc-cache -fv\n",
    "\n",
    "import matplotlib    \n",
    "import matplotlib.font_manager\n",
    "\n",
    "[f.name for f in matplotlib.font_manager.fontManager.ttflist if 'Nanum' in f.name]\n",
    "\n",
    "# 유니코드 깨짐현상 해결\n",
    "mpl.rcParams['axes.unicode_minus'] = False\n",
    "\n",
    "# 나눔고딕 폰트 전체 적용\n",
    "plt.rcParams[\"font.family\"] = 'NanumMyeongjo'"
   ]
  },
  {
   "cell_type": "markdown",
   "id": "c4b14412",
   "metadata": {},
   "source": [
    "# Data 분석의 목적"
   ]
  },
  {
   "cell_type": "markdown",
   "id": "11f8a3b8",
   "metadata": {},
   "source": [
    "환자들의 특정 부위에 존재하는 세포들의 반경, 질감, 둘레 등의 지표들을 수집하고,  \n",
    "해당 세포들에서 지표값의 평균값, 표준오차 등을 이용하여 특정 부위에 존재하는 종양이 양성인지 판별하게 된다.  \n",
    "\n",
    "이때, 다양한 지표들 중에서 어떤 인자들이 양성 종양과 관련이 있는 지 분석하고  \n",
    "핵심 인자들을 이용하여 제작한 알고리즘을 통해 양성종양과 음성종양을 구분하는 것이 이번 분석의 목적이다."
   ]
  },
  {
   "cell_type": "markdown",
   "id": "01d2c741",
   "metadata": {},
   "source": [
    "|환자의 몸속에 존재하는 세포에 대한 정보||\n",
    "|:---|:---|\n",
    "|변수|설명|\n",
    "|diagnosis|양성 여부|\n",
    "|radius|반경(중심에서 외벽까지 거리들의 평균값|\n",
    "|texture|질감(해당 정보는 광도의 정보를 함께 전달할 수 있다.|\n",
    "|perimeter|둘레|\n",
    "|area|면적|\n",
    "|smoothness|매끄러움(반경길의의 국소적 변화|\n",
    "|compactness|조그만 정도(perimeter^2/area - 1)|\n",
    "|concavity|오목함(윤곽의 오목한 부분의 정도|\n",
    "|points|오목한 점의 수|\n",
    "|symmetry|대칭|\n",
    "|dimension|프렉탈 차원|\n",
    "|mean|평균값|\n",
    "|se|표준오차|\n",
    "|worst|각 세포별 구분들에서 제일 큰 3개의 값의 평균값|"
   ]
  },
  {
   "cell_type": "markdown",
   "id": "81fc87fd",
   "metadata": {},
   "source": [
    "# Summary\n",
    "\n",
    "## Data 불러오기 및 구성  \n",
    "\n",
    "1. 결측치를 확인한 결과, 존재하지 않았다.\n",
    "\n",
    "\n",
    "2. 분석을 위해서 양성을 1, 음성을 0으로 변경하였다.\n",
    "\n",
    "\n",
    "3. 목표변수 중 **양성지표의 비율은 33.3%**로 일반적인 경우, 불균형 data라고 인식되지 않지만 이번 분석은 의료용 데이터의 분석이므로  \n",
    "\n",
    "    좀 더 높은 **일반성을 나타내는 모델**을 만들기 위해 SMOTE 처리를 실시하였다. **처리 후 양성지표의 비율은 50%**로 증가하였다.\n",
    "    \n",
    "## Model 생성(Vital Feature 확인)\n",
    "\n",
    "1. Hyper Parameter를 설정하지 않은 Decision Tree의 경우 **Train Accuracy는 100%**로 과적합되어 있었고, **Test Accuracy는 93.0%**를 나타내었다.\n",
    "\n",
    "\n",
    "    모델의 성능 및 일반화를 향상시키기 위해서 Parameter를 조정하였다. \n",
    "    \n",
    "|Hyper Parameter|Value|Reason|\n",
    "|:---|:---|:-----------------|\n",
    "|Max Depth|5|Train과 Test의 성능차이가 적어 일반성이 높고, 추후 분류작업 시에 많은 data가 들어와도 과소적합 되지 않도록 여유있게 설정|\n",
    "|min_samples_Split|60|Train과 Test의 성능차이가 적어 일반성이 높고, Test Accuracy가 Sample의 수가 60이상일 경우 증가하지 않았기 때문|\n",
    "|min_samples_Leaf|설정하지 않았음|Leaf의 sample수를 변화시켜도 Test Accuracyr가 변하지 않고 0.898로 일정했기 때문|\n",
    "\n",
    "    \n",
    "    모델의 성능을 평가하기위해 precision, recall, F1 Score를 분석하였다.  \n",
    "    \n",
    "    양성지표(1)의 Precision은 0.90(양성지표라고 분류한 data중, 실제로 양성지표인 비율),  \n",
    "    \n",
    "    Recall은 0.8(실제로 양성지표들 중에서 양성지표라고 예측한 data의 비율),  \n",
    "    \n",
    "    F1 Score가 0.847로 높게 측정되어 분석력이 높은 model이 제작되었다.\n",
    "  "
   ]
  },
  {
   "cell_type": "markdown",
   "id": "71a1a8d9",
   "metadata": {},
   "source": [
    "2. Random Forest의 경우,  Hyper Parameter를 설정하지 않았을 때는 **Test Accuracy가 93%**로 측정되었다.     \n",
    "\n",
    "    최종 HyperParameter를 변경한 결과, 양성지표(1)의 Precision은 0.884, recall은 0.884, F1 Score는 0.864로 측정되었다.  \n",
    "    \n",
    "    Decision Tree보다는 precision은 감소하였지만, recall값이 증가하여 양성지표인 data를 더 잘 분류할 수 있는 model이라고 판단하였다.\n",
    "    \n",
    "|Hyper Parameter|Value|Reason|\n",
    "|:---|:---|:-----------------|\n",
    "|Tree 수의 변경|150|Test Accuracy가 Tree 수 150~170 사이에서 가장 높기 때문|\n",
    "|Max Depth|6|Train과 Test의 Accuracy는 계속 증가하다가, Depth가 6이상에서 Train Data는 과적합, Test Data는 0.953으로 일정하게 유지|\n",
    "|min_samples_Split|60|Model의 성능과 일반화를 모두 고려|\n",
    "|min_samples_Leaf|18|최종 model의 일반성 및 성능으로 모두 고려|"
   ]
  },
  {
   "cell_type": "markdown",
   "id": "56a89588",
   "metadata": {},
   "source": [
    "## 결론 도출\n",
    "\n",
    "1. Decision Tree의 경우 worst_perimeter와 mean_concave_points의 영향력이 가장 높았다.  \n",
    "\n",
    "    최종 모델은 worst_perimeter와 mean_concave_points의 지표를 이용하여 완성하였다. \n",
    "    \n",
    "    최종 모델의 confusion matrix와 정확도는 다음과 같다.\n",
    "    \n",
    "|최종모델의 정확도(F1 Score)||0.847|\n",
    "|:---:|:---:|:---:|\n",
    "|Confusion Matrix|0|1|\n",
    "|0|79|4|\n",
    "|1|9|36|\n",
    "\n",
    "\n",
    "2. RandomForest의 경우 종양의 크기를 설정하는 지표들인 Area, perimeter, radius에서 worst(가장 큰 3개의 평균값)와 mean의 영향력이 높았고,  \n",
    "\n",
    "    윤곽의 오목한 부분을 나타내는 concavity의 Worst와 Mean의 영향도 또한 높게 나타났다.    \n",
    "    \n",
    "    최종모델은 \n",
    "    \n",
    "|최종모델의 정확도(F1 Score)||0.860|\n",
    "|:---:|:---:|:---:|\n",
    "|Confusion Matrix|0|1|\n",
    "|0|79|4|\n",
    "|1|8|37|\n",
    "\n",
    "\n",
    "3. 양성종양을 식별하는 것에 중요한 역할을 하는 지표는 세포의 크기와 세포막의 매끈한 정도로 측정되었다. "
   ]
  },
  {
   "cell_type": "markdown",
   "id": "55c377c7",
   "metadata": {},
   "source": [
    "# 분석에 사용된 코드"
   ]
  },
  {
   "cell_type": "markdown",
   "id": "e7d1e163",
   "metadata": {},
   "source": [
    "## 데이터 불러오기 및 구성"
   ]
  },
  {
   "cell_type": "code",
   "execution_count": 3,
   "id": "bd0a2836",
   "metadata": {},
   "outputs": [
    {
     "data": {
      "text/html": [
       "<div>\n",
       "<style scoped>\n",
       "    .dataframe tbody tr th:only-of-type {\n",
       "        vertical-align: middle;\n",
       "    }\n",
       "\n",
       "    .dataframe tbody tr th {\n",
       "        vertical-align: top;\n",
       "    }\n",
       "\n",
       "    .dataframe thead th {\n",
       "        text-align: right;\n",
       "    }\n",
       "</style>\n",
       "<table border=\"1\" class=\"dataframe\">\n",
       "  <thead>\n",
       "    <tr style=\"text-align: right;\">\n",
       "      <th></th>\n",
       "      <th>diagnosis</th>\n",
       "      <th>mean_radius</th>\n",
       "      <th>mean_texture</th>\n",
       "      <th>mean_perimeter</th>\n",
       "      <th>mean_area</th>\n",
       "      <th>mean_smoothness</th>\n",
       "      <th>mean_compactness</th>\n",
       "      <th>mean_concavity</th>\n",
       "      <th>mean_concave_points</th>\n",
       "      <th>mean_symmetry</th>\n",
       "      <th>...</th>\n",
       "      <th>worst_radius</th>\n",
       "      <th>worst_texture</th>\n",
       "      <th>worst_perimeter</th>\n",
       "      <th>worst_area</th>\n",
       "      <th>worst_smoothness</th>\n",
       "      <th>worst_compactness</th>\n",
       "      <th>worst_concavity</th>\n",
       "      <th>worst_concave_points</th>\n",
       "      <th>worst_symmetry</th>\n",
       "      <th>worst_fractal_dimension</th>\n",
       "    </tr>\n",
       "  </thead>\n",
       "  <tbody>\n",
       "    <tr>\n",
       "      <th>0</th>\n",
       "      <td>음성</td>\n",
       "      <td>15.12</td>\n",
       "      <td>16.68</td>\n",
       "      <td>98.78</td>\n",
       "      <td>716.6</td>\n",
       "      <td>0.08876</td>\n",
       "      <td>0.09588</td>\n",
       "      <td>0.07550</td>\n",
       "      <td>0.04079</td>\n",
       "      <td>0.1594</td>\n",
       "      <td>...</td>\n",
       "      <td>17.77</td>\n",
       "      <td>20.24</td>\n",
       "      <td>117.70</td>\n",
       "      <td>989.5</td>\n",
       "      <td>0.14910</td>\n",
       "      <td>0.3331</td>\n",
       "      <td>0.3327</td>\n",
       "      <td>0.12520</td>\n",
       "      <td>0.3415</td>\n",
       "      <td>0.09740</td>\n",
       "    </tr>\n",
       "    <tr>\n",
       "      <th>1</th>\n",
       "      <td>양성</td>\n",
       "      <td>10.80</td>\n",
       "      <td>9.71</td>\n",
       "      <td>68.77</td>\n",
       "      <td>357.6</td>\n",
       "      <td>0.09594</td>\n",
       "      <td>0.05736</td>\n",
       "      <td>0.02531</td>\n",
       "      <td>0.01698</td>\n",
       "      <td>0.1381</td>\n",
       "      <td>...</td>\n",
       "      <td>11.60</td>\n",
       "      <td>12.02</td>\n",
       "      <td>73.66</td>\n",
       "      <td>414.0</td>\n",
       "      <td>0.14360</td>\n",
       "      <td>0.1257</td>\n",
       "      <td>0.1047</td>\n",
       "      <td>0.04603</td>\n",
       "      <td>0.2090</td>\n",
       "      <td>0.07699</td>\n",
       "    </tr>\n",
       "    <tr>\n",
       "      <th>2</th>\n",
       "      <td>음성</td>\n",
       "      <td>18.31</td>\n",
       "      <td>18.58</td>\n",
       "      <td>118.60</td>\n",
       "      <td>1041.0</td>\n",
       "      <td>0.08588</td>\n",
       "      <td>0.08468</td>\n",
       "      <td>0.08169</td>\n",
       "      <td>0.05814</td>\n",
       "      <td>0.1621</td>\n",
       "      <td>...</td>\n",
       "      <td>21.31</td>\n",
       "      <td>26.36</td>\n",
       "      <td>139.20</td>\n",
       "      <td>1410.0</td>\n",
       "      <td>0.12340</td>\n",
       "      <td>0.2445</td>\n",
       "      <td>0.3538</td>\n",
       "      <td>0.15710</td>\n",
       "      <td>0.3206</td>\n",
       "      <td>0.06938</td>\n",
       "    </tr>\n",
       "    <tr>\n",
       "      <th>3</th>\n",
       "      <td>양성</td>\n",
       "      <td>14.92</td>\n",
       "      <td>14.93</td>\n",
       "      <td>96.45</td>\n",
       "      <td>686.9</td>\n",
       "      <td>0.08098</td>\n",
       "      <td>0.08549</td>\n",
       "      <td>0.05539</td>\n",
       "      <td>0.03221</td>\n",
       "      <td>0.1687</td>\n",
       "      <td>...</td>\n",
       "      <td>17.18</td>\n",
       "      <td>18.22</td>\n",
       "      <td>112.00</td>\n",
       "      <td>906.6</td>\n",
       "      <td>0.10650</td>\n",
       "      <td>0.2791</td>\n",
       "      <td>0.3151</td>\n",
       "      <td>0.11470</td>\n",
       "      <td>0.2688</td>\n",
       "      <td>0.08273</td>\n",
       "    </tr>\n",
       "    <tr>\n",
       "      <th>4</th>\n",
       "      <td>양성</td>\n",
       "      <td>12.89</td>\n",
       "      <td>13.12</td>\n",
       "      <td>81.89</td>\n",
       "      <td>515.9</td>\n",
       "      <td>0.06955</td>\n",
       "      <td>0.03729</td>\n",
       "      <td>0.02260</td>\n",
       "      <td>0.01171</td>\n",
       "      <td>0.1337</td>\n",
       "      <td>...</td>\n",
       "      <td>13.62</td>\n",
       "      <td>15.54</td>\n",
       "      <td>87.40</td>\n",
       "      <td>577.0</td>\n",
       "      <td>0.09616</td>\n",
       "      <td>0.1147</td>\n",
       "      <td>0.1186</td>\n",
       "      <td>0.05366</td>\n",
       "      <td>0.2309</td>\n",
       "      <td>0.06915</td>\n",
       "    </tr>\n",
       "  </tbody>\n",
       "</table>\n",
       "<p>5 rows × 31 columns</p>\n",
       "</div>"
      ],
      "text/plain": [
       "  diagnosis  mean_radius  mean_texture  mean_perimeter  mean_area  \\\n",
       "0        음성        15.12         16.68           98.78      716.6   \n",
       "1        양성        10.80          9.71           68.77      357.6   \n",
       "2        음성        18.31         18.58          118.60     1041.0   \n",
       "3        양성        14.92         14.93           96.45      686.9   \n",
       "4        양성        12.89         13.12           81.89      515.9   \n",
       "\n",
       "   mean_smoothness  mean_compactness  mean_concavity  mean_concave_points  \\\n",
       "0          0.08876           0.09588         0.07550              0.04079   \n",
       "1          0.09594           0.05736         0.02531              0.01698   \n",
       "2          0.08588           0.08468         0.08169              0.05814   \n",
       "3          0.08098           0.08549         0.05539              0.03221   \n",
       "4          0.06955           0.03729         0.02260              0.01171   \n",
       "\n",
       "   mean_symmetry  ...  worst_radius  worst_texture  worst_perimeter  \\\n",
       "0         0.1594  ...         17.77          20.24           117.70   \n",
       "1         0.1381  ...         11.60          12.02            73.66   \n",
       "2         0.1621  ...         21.31          26.36           139.20   \n",
       "3         0.1687  ...         17.18          18.22           112.00   \n",
       "4         0.1337  ...         13.62          15.54            87.40   \n",
       "\n",
       "   worst_area  worst_smoothness  worst_compactness  worst_concavity  \\\n",
       "0       989.5           0.14910             0.3331           0.3327   \n",
       "1       414.0           0.14360             0.1257           0.1047   \n",
       "2      1410.0           0.12340             0.2445           0.3538   \n",
       "3       906.6           0.10650             0.2791           0.3151   \n",
       "4       577.0           0.09616             0.1147           0.1186   \n",
       "\n",
       "   worst_concave_points  worst_symmetry  worst_fractal_dimension  \n",
       "0               0.12520          0.3415                  0.09740  \n",
       "1               0.04603          0.2090                  0.07699  \n",
       "2               0.15710          0.3206                  0.06938  \n",
       "3               0.11470          0.2688                  0.08273  \n",
       "4               0.05366          0.2309                  0.06915  \n",
       "\n",
       "[5 rows x 31 columns]"
      ]
     },
     "execution_count": 3,
     "metadata": {},
     "output_type": "execute_result"
    }
   ],
   "source": [
    "df_raw = pd.read_csv('/home/piai/Bigdata 실습과제/2. Big Data 분석/유방암.csv', encoding = 'euc-kr')\n",
    "df_raw.head()"
   ]
  },
  {
   "cell_type": "markdown",
   "id": "91ba2f05",
   "metadata": {},
   "source": [
    "### 결측치 확인 및 처리"
   ]
  },
  {
   "cell_type": "code",
   "execution_count": 4,
   "id": "3858b668",
   "metadata": {},
   "outputs": [
    {
     "data": {
      "text/plain": [
       "diagnosis                  0\n",
       "mean_radius                0\n",
       "mean_texture               0\n",
       "mean_perimeter             0\n",
       "mean_area                  0\n",
       "mean_smoothness            0\n",
       "mean_compactness           0\n",
       "mean_concavity             0\n",
       "mean_concave_points        0\n",
       "mean_symmetry              0\n",
       "mean_fractal_dimension     0\n",
       "radius_error               0\n",
       "texture_error              0\n",
       "perimeter_error            0\n",
       "area_error                 0\n",
       "smoothness_error           0\n",
       "compactness_error          0\n",
       "concavity_error            0\n",
       "concave_points_error       0\n",
       "symmetry_error             0\n",
       "fractal_dimension_error    0\n",
       "worst_radius               0\n",
       "worst_texture              0\n",
       "worst_perimeter            0\n",
       "worst_area                 0\n",
       "worst_smoothness           0\n",
       "worst_compactness          0\n",
       "worst_concavity            0\n",
       "worst_concave_points       0\n",
       "worst_symmetry             0\n",
       "worst_fractal_dimension    0\n",
       "dtype: int64"
      ]
     },
     "execution_count": 4,
     "metadata": {},
     "output_type": "execute_result"
    }
   ],
   "source": [
    "df_raw.isnull().sum(axis = 0)"
   ]
  },
  {
   "cell_type": "markdown",
   "id": "bfb19969",
   "metadata": {},
   "source": [
    "* Data에 결측치는 존재하지 않았다."
   ]
  },
  {
   "cell_type": "markdown",
   "id": "6419fe1c",
   "metadata": {},
   "source": [
    "### 목표변수의 변경"
   ]
  },
  {
   "cell_type": "code",
   "execution_count": 5,
   "id": "fe8d4701",
   "metadata": {},
   "outputs": [
    {
     "data": {
      "text/html": [
       "<div>\n",
       "<style scoped>\n",
       "    .dataframe tbody tr th:only-of-type {\n",
       "        vertical-align: middle;\n",
       "    }\n",
       "\n",
       "    .dataframe tbody tr th {\n",
       "        vertical-align: top;\n",
       "    }\n",
       "\n",
       "    .dataframe thead th {\n",
       "        text-align: right;\n",
       "    }\n",
       "</style>\n",
       "<table border=\"1\" class=\"dataframe\">\n",
       "  <thead>\n",
       "    <tr style=\"text-align: right;\">\n",
       "      <th></th>\n",
       "      <th>diagnosis</th>\n",
       "      <th>mean_radius</th>\n",
       "      <th>mean_texture</th>\n",
       "      <th>mean_perimeter</th>\n",
       "      <th>mean_area</th>\n",
       "      <th>mean_smoothness</th>\n",
       "      <th>mean_compactness</th>\n",
       "      <th>mean_concavity</th>\n",
       "      <th>mean_concave_points</th>\n",
       "      <th>mean_symmetry</th>\n",
       "      <th>...</th>\n",
       "      <th>worst_radius</th>\n",
       "      <th>worst_texture</th>\n",
       "      <th>worst_perimeter</th>\n",
       "      <th>worst_area</th>\n",
       "      <th>worst_smoothness</th>\n",
       "      <th>worst_compactness</th>\n",
       "      <th>worst_concavity</th>\n",
       "      <th>worst_concave_points</th>\n",
       "      <th>worst_symmetry</th>\n",
       "      <th>worst_fractal_dimension</th>\n",
       "    </tr>\n",
       "  </thead>\n",
       "  <tbody>\n",
       "    <tr>\n",
       "      <th>0</th>\n",
       "      <td>0</td>\n",
       "      <td>15.12</td>\n",
       "      <td>16.68</td>\n",
       "      <td>98.78</td>\n",
       "      <td>716.6</td>\n",
       "      <td>0.08876</td>\n",
       "      <td>0.09588</td>\n",
       "      <td>0.07550</td>\n",
       "      <td>0.04079</td>\n",
       "      <td>0.1594</td>\n",
       "      <td>...</td>\n",
       "      <td>17.77</td>\n",
       "      <td>20.24</td>\n",
       "      <td>117.70</td>\n",
       "      <td>989.5</td>\n",
       "      <td>0.14910</td>\n",
       "      <td>0.3331</td>\n",
       "      <td>0.3327</td>\n",
       "      <td>0.12520</td>\n",
       "      <td>0.3415</td>\n",
       "      <td>0.09740</td>\n",
       "    </tr>\n",
       "    <tr>\n",
       "      <th>1</th>\n",
       "      <td>1</td>\n",
       "      <td>10.80</td>\n",
       "      <td>9.71</td>\n",
       "      <td>68.77</td>\n",
       "      <td>357.6</td>\n",
       "      <td>0.09594</td>\n",
       "      <td>0.05736</td>\n",
       "      <td>0.02531</td>\n",
       "      <td>0.01698</td>\n",
       "      <td>0.1381</td>\n",
       "      <td>...</td>\n",
       "      <td>11.60</td>\n",
       "      <td>12.02</td>\n",
       "      <td>73.66</td>\n",
       "      <td>414.0</td>\n",
       "      <td>0.14360</td>\n",
       "      <td>0.1257</td>\n",
       "      <td>0.1047</td>\n",
       "      <td>0.04603</td>\n",
       "      <td>0.2090</td>\n",
       "      <td>0.07699</td>\n",
       "    </tr>\n",
       "    <tr>\n",
       "      <th>2</th>\n",
       "      <td>0</td>\n",
       "      <td>18.31</td>\n",
       "      <td>18.58</td>\n",
       "      <td>118.60</td>\n",
       "      <td>1041.0</td>\n",
       "      <td>0.08588</td>\n",
       "      <td>0.08468</td>\n",
       "      <td>0.08169</td>\n",
       "      <td>0.05814</td>\n",
       "      <td>0.1621</td>\n",
       "      <td>...</td>\n",
       "      <td>21.31</td>\n",
       "      <td>26.36</td>\n",
       "      <td>139.20</td>\n",
       "      <td>1410.0</td>\n",
       "      <td>0.12340</td>\n",
       "      <td>0.2445</td>\n",
       "      <td>0.3538</td>\n",
       "      <td>0.15710</td>\n",
       "      <td>0.3206</td>\n",
       "      <td>0.06938</td>\n",
       "    </tr>\n",
       "    <tr>\n",
       "      <th>3</th>\n",
       "      <td>1</td>\n",
       "      <td>14.92</td>\n",
       "      <td>14.93</td>\n",
       "      <td>96.45</td>\n",
       "      <td>686.9</td>\n",
       "      <td>0.08098</td>\n",
       "      <td>0.08549</td>\n",
       "      <td>0.05539</td>\n",
       "      <td>0.03221</td>\n",
       "      <td>0.1687</td>\n",
       "      <td>...</td>\n",
       "      <td>17.18</td>\n",
       "      <td>18.22</td>\n",
       "      <td>112.00</td>\n",
       "      <td>906.6</td>\n",
       "      <td>0.10650</td>\n",
       "      <td>0.2791</td>\n",
       "      <td>0.3151</td>\n",
       "      <td>0.11470</td>\n",
       "      <td>0.2688</td>\n",
       "      <td>0.08273</td>\n",
       "    </tr>\n",
       "    <tr>\n",
       "      <th>4</th>\n",
       "      <td>1</td>\n",
       "      <td>12.89</td>\n",
       "      <td>13.12</td>\n",
       "      <td>81.89</td>\n",
       "      <td>515.9</td>\n",
       "      <td>0.06955</td>\n",
       "      <td>0.03729</td>\n",
       "      <td>0.02260</td>\n",
       "      <td>0.01171</td>\n",
       "      <td>0.1337</td>\n",
       "      <td>...</td>\n",
       "      <td>13.62</td>\n",
       "      <td>15.54</td>\n",
       "      <td>87.40</td>\n",
       "      <td>577.0</td>\n",
       "      <td>0.09616</td>\n",
       "      <td>0.1147</td>\n",
       "      <td>0.1186</td>\n",
       "      <td>0.05366</td>\n",
       "      <td>0.2309</td>\n",
       "      <td>0.06915</td>\n",
       "    </tr>\n",
       "  </tbody>\n",
       "</table>\n",
       "<p>5 rows × 31 columns</p>\n",
       "</div>"
      ],
      "text/plain": [
       "   diagnosis  mean_radius  mean_texture  mean_perimeter  mean_area  \\\n",
       "0          0        15.12         16.68           98.78      716.6   \n",
       "1          1        10.80          9.71           68.77      357.6   \n",
       "2          0        18.31         18.58          118.60     1041.0   \n",
       "3          1        14.92         14.93           96.45      686.9   \n",
       "4          1        12.89         13.12           81.89      515.9   \n",
       "\n",
       "   mean_smoothness  mean_compactness  mean_concavity  mean_concave_points  \\\n",
       "0          0.08876           0.09588         0.07550              0.04079   \n",
       "1          0.09594           0.05736         0.02531              0.01698   \n",
       "2          0.08588           0.08468         0.08169              0.05814   \n",
       "3          0.08098           0.08549         0.05539              0.03221   \n",
       "4          0.06955           0.03729         0.02260              0.01171   \n",
       "\n",
       "   mean_symmetry  ...  worst_radius  worst_texture  worst_perimeter  \\\n",
       "0         0.1594  ...         17.77          20.24           117.70   \n",
       "1         0.1381  ...         11.60          12.02            73.66   \n",
       "2         0.1621  ...         21.31          26.36           139.20   \n",
       "3         0.1687  ...         17.18          18.22           112.00   \n",
       "4         0.1337  ...         13.62          15.54            87.40   \n",
       "\n",
       "   worst_area  worst_smoothness  worst_compactness  worst_concavity  \\\n",
       "0       989.5           0.14910             0.3331           0.3327   \n",
       "1       414.0           0.14360             0.1257           0.1047   \n",
       "2      1410.0           0.12340             0.2445           0.3538   \n",
       "3       906.6           0.10650             0.2791           0.3151   \n",
       "4       577.0           0.09616             0.1147           0.1186   \n",
       "\n",
       "   worst_concave_points  worst_symmetry  worst_fractal_dimension  \n",
       "0               0.12520          0.3415                  0.09740  \n",
       "1               0.04603          0.2090                  0.07699  \n",
       "2               0.15710          0.3206                  0.06938  \n",
       "3               0.11470          0.2688                  0.08273  \n",
       "4               0.05366          0.2309                  0.06915  \n",
       "\n",
       "[5 rows x 31 columns]"
      ]
     },
     "execution_count": 5,
     "metadata": {},
     "output_type": "execute_result"
    }
   ],
   "source": [
    "# 양성 : 1, 음성 : 0\n",
    "df_raw = df_raw.replace('양성', 1)\n",
    "df_raw = df_raw.replace('음성', 0)\n",
    "df_raw.head()"
   ]
  },
  {
   "cell_type": "markdown",
   "id": "d9b85d8f",
   "metadata": {},
   "source": [
    "* 개요\n",
    "\n",
    "> 전체 Data 수 : 320  \n",
    "> 양성(1) Data 수 : 108  \n",
    "> 음성(0) Data 수 : 212  \n",
    "\n",
    "* 관심을 가지는 변수(양성)의 전체 Data 대비 비율은 33.3% 이다."
   ]
  },
  {
   "cell_type": "markdown",
   "id": "70d22695",
   "metadata": {},
   "source": [
    "* 설명변수 중에서 문자형 변수로, Dummy Data로 변형이 필요한 변수는 존재하지 않았다."
   ]
  },
  {
   "cell_type": "markdown",
   "id": "a0d978bb",
   "metadata": {},
   "source": [
    "### Data Split "
   ]
  },
  {
   "cell_type": "code",
   "execution_count": 6,
   "id": "eff08c7d",
   "metadata": {},
   "outputs": [
    {
     "name": "stdout",
     "output_type": "stream",
     "text": [
      "Split 전 data size : (320, 30)\n",
      "Split 후 train data size : (192, 30)\n",
      "Split 후 test data size : (128, 30)\n"
     ]
    }
   ],
   "source": [
    "# Data Split\n",
    "df_raw_x = df_raw.drop(\"diagnosis\", axis = 1, inplace = False)\n",
    "df_raw_y = df_raw[\"diagnosis\"]\n",
    "\n",
    "random = 100\n",
    "\n",
    "df_train_x, df_test_x, df_train_y, df_test_y = train_test_split(df_raw_x, df_raw_y, test_size = 0.4, random_state = random)\n",
    "\n",
    "print(\"Split 전 data size : {0}\".format(df_raw_x.shape))\n",
    "print(\"Split 후 train data size : {0}\".format(df_train_x.shape))\n",
    "print(\"Split 후 test data size : {0}\".format(df_test_x.shape))"
   ]
  },
  {
   "cell_type": "markdown",
   "id": "283dda21",
   "metadata": {},
   "source": [
    "### Oversampling : SMOTE"
   ]
  },
  {
   "cell_type": "code",
   "execution_count": 7,
   "id": "da5f24c6",
   "metadata": {},
   "outputs": [],
   "source": [
    "# !pip install imblearn"
   ]
  },
  {
   "cell_type": "code",
   "execution_count": 8,
   "id": "0ed8bfb5",
   "metadata": {},
   "outputs": [],
   "source": [
    "from collections import Counter\n",
    "\n",
    "from sklearn.datasets import make_classification\n",
    "\n",
    "from imblearn.over_sampling import SMOTE "
   ]
  },
  {
   "cell_type": "code",
   "execution_count": 9,
   "id": "e87cdb77",
   "metadata": {},
   "outputs": [
    {
     "name": "stdout",
     "output_type": "stream",
     "text": [
      "diagnosis\n",
      "0            212\n",
      "1            108\n",
      "dtype: int64 \n",
      "\n",
      "diagnosis = 1 비율 diagnosis\n",
      "False    0.6625\n",
      "True     0.3375\n",
      "dtype: float64\n"
     ]
    },
    {
     "data": {
      "text/plain": [
       "<function matplotlib.pyplot.show(close=None, block=None)>"
      ]
     },
     "execution_count": 9,
     "metadata": {},
     "output_type": "execute_result"
    },
    {
     "data": {
      "image/png": "[encoded data removed]",
      "text/plain": [
       "<Figure size 1000x800 with 1 Axes>"
      ]
     },
     "metadata": {},
     "output_type": "display_data"
    }
   ],
   "source": [
    "# 목표 변수 빈도 확인\n",
    "print(df_raw.value_counts([\"diagnosis\"]), \"\\n\")\n",
    "print(\"diagnosis = 1 비율\", df_raw.value_counts(df_raw[\"diagnosis\"] == 1)/len(df_raw))\n",
    "# 목표변수 산점도 확인\n",
    "plt.figure(figsize=(10,8))\n",
    "# plt.scatter(df_raw['LOAN'], df_raw[\"VALUE\"], c = df_raw[\"BAD\"], s = 10)\n",
    "plt.scatter(df_raw['mean_radius'], df_raw[\"mean_texture\"], c = df_raw[\"diagnosis\"], s = 30, alpha = 0.5)\n",
    "plt.show"
   ]
  },
  {
   "cell_type": "code",
   "execution_count": 10,
   "id": "300ecd0d",
   "metadata": {},
   "outputs": [
    {
     "name": "stdout",
     "output_type": "stream",
     "text": [
      "Over Sampling 전:\n",
      " 0    129\n",
      "1     63\n",
      "Name: diagnosis, dtype: int64 \n",
      "\n",
      "Over Sampling 후 Train X: (258, 30)\n",
      "Over Sampling 후 Train Y: (258,) \n",
      "\n",
      "Over Sampling 후 '1': 129\n",
      "Over Sampling 후 '0': 129\n"
     ]
    }
   ],
   "source": [
    "# Over Sampling 설정\n",
    "sm = SMOTE(sampling_strategy = 'auto')\n",
    "# Over Sampling\n",
    "x_resampled, y_resampled = sm.fit_resample(df_train_x, df_train_y)\n",
    "# Result\n",
    "print('Over Sampling 전:\\n', df_train_y.value_counts(),\"\\n\")\n",
    "print('Over Sampling 후 Train X: {0}'.format(x_resampled.shape))\n",
    "print('Over Sampling 후 Train Y: {0} \\n'.format(y_resampled.shape))\n",
    "print(\"Over Sampling 후 '1': {0}\".format(sum(y_resampled==1)))\n",
    "print(\"Over Sampling 후 '0': {0}\".format(sum(y_resampled==0)))"
   ]
  },
  {
   "cell_type": "markdown",
   "id": "8aa026b4",
   "metadata": {},
   "source": [
    "* SMOTE 이후, 관심을 가지는 변수(양성)의 전체 Data 대비 비율이 50%로 증가하였다."
   ]
  },
  {
   "cell_type": "markdown",
   "id": "48580aae",
   "metadata": {},
   "source": [
    "## Model 생성, 선정 및 성능 평가"
   ]
  },
  {
   "cell_type": "markdown",
   "id": "0ab80b2f",
   "metadata": {},
   "source": [
    "### Decision Tree"
   ]
  },
  {
   "cell_type": "markdown",
   "id": "bc4d9464",
   "metadata": {},
   "source": [
    "#### 일반 모델 생성"
   ]
  },
  {
   "cell_type": "code",
   "execution_count": 11,
   "id": "a2ef0f31",
   "metadata": {},
   "outputs": [
    {
     "name": "stdout",
     "output_type": "stream",
     "text": [
      "Accuracy on train set : 1.000\n",
      "Accuracy on test set : 0.930\n"
     ]
    }
   ],
   "source": [
    "tree_normal = DecisionTreeClassifier(random_state = random)\n",
    "tree_normal.fit(df_train_x, df_train_y)\n",
    "\n",
    "# train 정확도\n",
    "print(\"Accuracy on train set : {:.3f}\".format(tree_normal.score(df_train_x, df_train_y)))\n",
    "# test 정확도\n",
    "print(\"Accuracy on test set : {:.3f}\".format(tree_normal.score(df_test_x, df_test_y)))"
   ]
  },
  {
   "cell_type": "markdown",
   "id": "35d415cf",
   "metadata": {},
   "source": [
    "* Model은 현재 Train data에 Overfitting 되어 있다."
   ]
  },
  {
   "cell_type": "markdown",
   "id": "feb51bca",
   "metadata": {},
   "source": [
    "#### 파라미터 조정"
   ]
  },
  {
   "cell_type": "markdown",
   "id": "f361f723",
   "metadata": {},
   "source": [
    "##### Max Depth"
   ]
  },
  {
   "cell_type": "code",
   "execution_count": 12,
   "id": "98186cd6",
   "metadata": {},
   "outputs": [],
   "source": [
    "train_acc = []\n",
    "test_acc = []\n",
    "\n",
    "para_depth = [depth for depth in range(1,11)]\n",
    "\n",
    "for v_max_depth in para_depth:\n",
    "    tree_max_depth = DecisionTreeClassifier(random_state = random, max_depth = v_max_depth)\n",
    "    tree_max_depth.fit(df_train_x, df_train_y)\n",
    "    train_acc.append(tree_max_depth.score(df_train_x, df_train_y))\n",
    "    test_acc.append(tree_max_depth.score(df_test_x, df_test_y))\n",
    "\n",
    "# 결과 저장\n",
    "df_acc_max_depth = pd.DataFrame()\n",
    "df_acc_max_depth[\"MinSampleLeaf\"] = para_depth\n",
    "df_acc_max_depth[\"TrainScore\"] = train_acc\n",
    "df_acc_max_depth[\"TestScore\"] = test_acc"
   ]
  },
  {
   "cell_type": "code",
   "execution_count": 13,
   "id": "0eba28d9",
   "metadata": {},
   "outputs": [
    {
     "data": {
      "text/html": [
       "<div>\n",
       "<style scoped>\n",
       "    .dataframe tbody tr th:only-of-type {\n",
       "        vertical-align: middle;\n",
       "    }\n",
       "\n",
       "    .dataframe tbody tr th {\n",
       "        vertical-align: top;\n",
       "    }\n",
       "\n",
       "    .dataframe thead th {\n",
       "        text-align: right;\n",
       "    }\n",
       "</style>\n",
       "<table border=\"1\" class=\"dataframe\">\n",
       "  <thead>\n",
       "    <tr style=\"text-align: right;\">\n",
       "      <th></th>\n",
       "      <th>MinSampleLeaf</th>\n",
       "      <th>TrainScore</th>\n",
       "      <th>TestScore</th>\n",
       "    </tr>\n",
       "  </thead>\n",
       "  <tbody>\n",
       "    <tr>\n",
       "      <th>0</th>\n",
       "      <td>1</td>\n",
       "      <td>0.932</td>\n",
       "      <td>0.898</td>\n",
       "    </tr>\n",
       "    <tr>\n",
       "      <th>1</th>\n",
       "      <td>2</td>\n",
       "      <td>0.943</td>\n",
       "      <td>0.891</td>\n",
       "    </tr>\n",
       "    <tr>\n",
       "      <th>2</th>\n",
       "      <td>3</td>\n",
       "      <td>0.990</td>\n",
       "      <td>0.914</td>\n",
       "    </tr>\n",
       "    <tr>\n",
       "      <th>3</th>\n",
       "      <td>4</td>\n",
       "      <td>0.995</td>\n",
       "      <td>0.914</td>\n",
       "    </tr>\n",
       "    <tr>\n",
       "      <th>4</th>\n",
       "      <td>5</td>\n",
       "      <td>1.000</td>\n",
       "      <td>0.930</td>\n",
       "    </tr>\n",
       "    <tr>\n",
       "      <th>5</th>\n",
       "      <td>6</td>\n",
       "      <td>1.000</td>\n",
       "      <td>0.930</td>\n",
       "    </tr>\n",
       "    <tr>\n",
       "      <th>6</th>\n",
       "      <td>7</td>\n",
       "      <td>1.000</td>\n",
       "      <td>0.930</td>\n",
       "    </tr>\n",
       "    <tr>\n",
       "      <th>7</th>\n",
       "      <td>8</td>\n",
       "      <td>1.000</td>\n",
       "      <td>0.930</td>\n",
       "    </tr>\n",
       "    <tr>\n",
       "      <th>8</th>\n",
       "      <td>9</td>\n",
       "      <td>1.000</td>\n",
       "      <td>0.930</td>\n",
       "    </tr>\n",
       "    <tr>\n",
       "      <th>9</th>\n",
       "      <td>10</td>\n",
       "      <td>1.000</td>\n",
       "      <td>0.930</td>\n",
       "    </tr>\n",
       "  </tbody>\n",
       "</table>\n",
       "</div>"
      ],
      "text/plain": [
       "   MinSampleLeaf  TrainScore  TestScore\n",
       "0              1       0.932      0.898\n",
       "1              2       0.943      0.891\n",
       "2              3       0.990      0.914\n",
       "3              4       0.995      0.914\n",
       "4              5       1.000      0.930\n",
       "5              6       1.000      0.930\n",
       "6              7       1.000      0.930\n",
       "7              8       1.000      0.930\n",
       "8              9       1.000      0.930\n",
       "9             10       1.000      0.930"
      ]
     },
     "execution_count": 13,
     "metadata": {},
     "output_type": "execute_result"
    }
   ],
   "source": [
    "df_acc_max_depth.round(3)"
   ]
  },
  {
   "cell_type": "code",
   "execution_count": 14,
   "id": "c1693795",
   "metadata": {},
   "outputs": [
    {
     "data": {
      "text/plain": [
       "<matplotlib.legend.Legend at 0x7fd165a29700>"
      ]
     },
     "execution_count": 14,
     "metadata": {},
     "output_type": "execute_result"
    },
    {
     "data": {
      "image/png": "[encoded data removed]",
      "text/plain": [
       "<Figure size 640x480 with 1 Axes>"
      ]
     },
     "metadata": {},
     "output_type": "display_data"
    }
   ],
   "source": [
    "# 그래프\n",
    "plt.plot(para_depth, train_acc, linestyle = \"-\", label = \"TrainAccuracy\")\n",
    "plt.plot(para_depth, test_acc, linestyle = \"--\", label = \"TestAccuracy\")\n",
    "plt.legend()"
   ]
  },
  {
   "cell_type": "code",
   "execution_count": 15,
   "id": "a43ff061",
   "metadata": {},
   "outputs": [
    {
     "data": {
      "text/html": [
       "<style>#sk-container-id-1 {color: black;background-color: white;}#sk-container-id-1 pre{padding: 0;}#sk-container-id-1 div.sk-toggleable {background-color: white;}#sk-container-id-1 label.sk-toggleable__label {cursor: pointer;display: block;width: 100%;margin-bottom: 0;padding: 0.3em;box-sizing: border-box;text-align: center;}#sk-container-id-1 label.sk-toggleable__label-arrow:before {content: \"▸\";float: left;margin-right: 0.25em;color: #696969;}#sk-container-id-1 label.sk-toggleable__label-arrow:hover:before {color: black;}#sk-container-id-1 div.sk-estimator:hover label.sk-toggleable__label-arrow:before {color: black;}#sk-container-id-1 div.sk-toggleable__content {max-height: 0;max-width: 0;overflow: hidden;text-align: left;background-color: #f0f8ff;}#sk-container-id-1 div.sk-toggleable__content pre {margin: 0.2em;color: black;border-radius: 0.25em;background-color: #f0f8ff;}#sk-container-id-1 input.sk-toggleable__control:checked~div.sk-toggleable__content {max-height: 200px;max-width: 100%;overflow: auto;}#sk-container-id-1 input.sk-toggleable__control:checked~label.sk-toggleable__label-arrow:before {content: \"▾\";}#sk-container-id-1 div.sk-estimator input.sk-toggleable__control:checked~label.sk-toggleable__label {background-color: #d4ebff;}#sk-container-id-1 div.sk-label input.sk-toggleable__control:checked~label.sk-toggleable__label {background-color: #d4ebff;}#sk-container-id-1 input.sk-hidden--visually {border: 0;clip: rect(1px 1px 1px 1px);clip: rect(1px, 1px, 1px, 1px);height: 1px;margin: -1px;overflow: hidden;padding: 0;position: absolute;width: 1px;}#sk-container-id-1 div.sk-estimator {font-family: monospace;background-color: #f0f8ff;border: 1px dotted black;border-radius: 0.25em;box-sizing: border-box;margin-bottom: 0.5em;}#sk-container-id-1 div.sk-estimator:hover {background-color: #d4ebff;}#sk-container-id-1 div.sk-parallel-item::after {content: \"\";width: 100%;border-bottom: 1px solid gray;flex-grow: 1;}#sk-container-id-1 div.sk-label:hover label.sk-toggleable__label {background-color: #d4ebff;}#sk-container-id-1 div.sk-serial::before {content: \"\";position: absolute;border-left: 1px solid gray;box-sizing: border-box;top: 0;bottom: 0;left: 50%;z-index: 0;}#sk-container-id-1 div.sk-serial {display: flex;flex-direction: column;align-items: center;background-color: white;padding-right: 0.2em;padding-left: 0.2em;position: relative;}#sk-container-id-1 div.sk-item {position: relative;z-index: 1;}#sk-container-id-1 div.sk-parallel {display: flex;align-items: stretch;justify-content: center;background-color: white;position: relative;}#sk-container-id-1 div.sk-item::before, #sk-container-id-1 div.sk-parallel-item::before {content: \"\";position: absolute;border-left: 1px solid gray;box-sizing: border-box;top: 0;bottom: 0;left: 50%;z-index: -1;}#sk-container-id-1 div.sk-parallel-item {display: flex;flex-direction: column;z-index: 1;position: relative;background-color: white;}#sk-container-id-1 div.sk-parallel-item:first-child::after {align-self: flex-end;width: 50%;}#sk-container-id-1 div.sk-parallel-item:last-child::after {align-self: flex-start;width: 50%;}#sk-container-id-1 div.sk-parallel-item:only-child::after {width: 0;}#sk-container-id-1 div.sk-dashed-wrapped {border: 1px dashed gray;margin: 0 0.4em 0.5em 0.4em;box-sizing: border-box;padding-bottom: 0.4em;background-color: white;}#sk-container-id-1 div.sk-label label {font-family: monospace;font-weight: bold;display: inline-block;line-height: 1.2em;}#sk-container-id-1 div.sk-label-container {text-align: center;}#sk-container-id-1 div.sk-container {/* jupyter's `normalize.less` sets `[hidden] { display: none; }` but bootstrap.min.css set `[hidden] { display: none !important; }` so we also need the `!important` here to be able to override the default hidden behavior on the sphinx rendered scikit-learn.org. See: https://github.com/scikit-learn/scikit-learn/issues/21755 */display: inline-block !important;position: relative;}#sk-container-id-1 div.sk-text-repr-fallback {display: none;}</style><div id=\"sk-container-id-1\" class=\"sk-top-container\"><div class=\"sk-text-repr-fallback\"><pre>DecisionTreeClassifier(max_depth=4, random_state=100)</pre><b>In a Jupyter environment, please rerun this cell to show the HTML representation or trust the notebook. <br />On GitHub, the HTML representation is unable to render, please try loading this page with nbviewer.org.</b></div><div class=\"sk-container\" hidden><div class=\"sk-item\"><div class=\"sk-estimator sk-toggleable\"><input class=\"sk-toggleable__control sk-hidden--visually\" id=\"sk-estimator-id-1\" type=\"checkbox\" checked><label for=\"sk-estimator-id-1\" class=\"sk-toggleable__label sk-toggleable__label-arrow\">DecisionTreeClassifier</label><div class=\"sk-toggleable__content\"><pre>DecisionTreeClassifier(max_depth=4, random_state=100)</pre></div></div></div></div></div>"
      ],
      "text/plain": [
       "DecisionTreeClassifier(max_depth=4, random_state=100)"
      ]
     },
     "execution_count": 15,
     "metadata": {},
     "output_type": "execute_result"
    }
   ],
   "source": [
    "# max depth : 4\n",
    "max_depth = 4\n",
    "tree_max_depth = DecisionTreeClassifier(random_state = random, max_depth = max_depth)\n",
    "tree_max_depth.fit(df_train_x, df_train_y)\n",
    "\n",
    "# 나무구조 시각화(Graphviz)\n",
    "# v_feature_name = df_train_x.columns\n",
    "# export_graphviz(tree_max_depth, out_file=\"tree_max_depth\", feature_names = v_feature_name, impurity = True, filled = True)\n",
    "\n",
    "# with open(\"tree_leaf.dot\") as f:\n",
    "#     dot_graph = f.read()\n",
    "# display(graphviz.Source(dot_graph))"
   ]
  },
  {
   "cell_type": "code",
   "execution_count": 16,
   "id": "57c15f93",
   "metadata": {},
   "outputs": [
    {
     "name": "stdout",
     "output_type": "stream",
     "text": [
      "Score_train : 0.9947916666666666\n",
      "Score_test : 0.9140625\n"
     ]
    }
   ],
   "source": [
    "print(\"Score_train : {0}\".format(tree_max_depth.score(df_train_x, df_train_y)))\n",
    "print(\"Score_test : {0}\".format(tree_max_depth.score(df_test_x, df_test_y)))"
   ]
  },
  {
   "cell_type": "code",
   "execution_count": 17,
   "id": "b470bc28",
   "metadata": {},
   "outputs": [
    {
     "data": {
      "text/html": [
       "<style>#sk-container-id-2 {color: black;background-color: white;}#sk-container-id-2 pre{padding: 0;}#sk-container-id-2 div.sk-toggleable {background-color: white;}#sk-container-id-2 label.sk-toggleable__label {cursor: pointer;display: block;width: 100%;margin-bottom: 0;padding: 0.3em;box-sizing: border-box;text-align: center;}#sk-container-id-2 label.sk-toggleable__label-arrow:before {content: \"▸\";float: left;margin-right: 0.25em;color: #696969;}#sk-container-id-2 label.sk-toggleable__label-arrow:hover:before {color: black;}#sk-container-id-2 div.sk-estimator:hover label.sk-toggleable__label-arrow:before {color: black;}#sk-container-id-2 div.sk-toggleable__content {max-height: 0;max-width: 0;overflow: hidden;text-align: left;background-color: #f0f8ff;}#sk-container-id-2 div.sk-toggleable__content pre {margin: 0.2em;color: black;border-radius: 0.25em;background-color: #f0f8ff;}#sk-container-id-2 input.sk-toggleable__control:checked~div.sk-toggleable__content {max-height: 200px;max-width: 100%;overflow: auto;}#sk-container-id-2 input.sk-toggleable__control:checked~label.sk-toggleable__label-arrow:before {content: \"▾\";}#sk-container-id-2 div.sk-estimator input.sk-toggleable__control:checked~label.sk-toggleable__label {background-color: #d4ebff;}#sk-container-id-2 div.sk-label input.sk-toggleable__control:checked~label.sk-toggleable__label {background-color: #d4ebff;}#sk-container-id-2 input.sk-hidden--visually {border: 0;clip: rect(1px 1px 1px 1px);clip: rect(1px, 1px, 1px, 1px);height: 1px;margin: -1px;overflow: hidden;padding: 0;position: absolute;width: 1px;}#sk-container-id-2 div.sk-estimator {font-family: monospace;background-color: #f0f8ff;border: 1px dotted black;border-radius: 0.25em;box-sizing: border-box;margin-bottom: 0.5em;}#sk-container-id-2 div.sk-estimator:hover {background-color: #d4ebff;}#sk-container-id-2 div.sk-parallel-item::after {content: \"\";width: 100%;border-bottom: 1px solid gray;flex-grow: 1;}#sk-container-id-2 div.sk-label:hover label.sk-toggleable__label {background-color: #d4ebff;}#sk-container-id-2 div.sk-serial::before {content: \"\";position: absolute;border-left: 1px solid gray;box-sizing: border-box;top: 0;bottom: 0;left: 50%;z-index: 0;}#sk-container-id-2 div.sk-serial {display: flex;flex-direction: column;align-items: center;background-color: white;padding-right: 0.2em;padding-left: 0.2em;position: relative;}#sk-container-id-2 div.sk-item {position: relative;z-index: 1;}#sk-container-id-2 div.sk-parallel {display: flex;align-items: stretch;justify-content: center;background-color: white;position: relative;}#sk-container-id-2 div.sk-item::before, #sk-container-id-2 div.sk-parallel-item::before {content: \"\";position: absolute;border-left: 1px solid gray;box-sizing: border-box;top: 0;bottom: 0;left: 50%;z-index: -1;}#sk-container-id-2 div.sk-parallel-item {display: flex;flex-direction: column;z-index: 1;position: relative;background-color: white;}#sk-container-id-2 div.sk-parallel-item:first-child::after {align-self: flex-end;width: 50%;}#sk-container-id-2 div.sk-parallel-item:last-child::after {align-self: flex-start;width: 50%;}#sk-container-id-2 div.sk-parallel-item:only-child::after {width: 0;}#sk-container-id-2 div.sk-dashed-wrapped {border: 1px dashed gray;margin: 0 0.4em 0.5em 0.4em;box-sizing: border-box;padding-bottom: 0.4em;background-color: white;}#sk-container-id-2 div.sk-label label {font-family: monospace;font-weight: bold;display: inline-block;line-height: 1.2em;}#sk-container-id-2 div.sk-label-container {text-align: center;}#sk-container-id-2 div.sk-container {/* jupyter's `normalize.less` sets `[hidden] { display: none; }` but bootstrap.min.css set `[hidden] { display: none !important; }` so we also need the `!important` here to be able to override the default hidden behavior on the sphinx rendered scikit-learn.org. See: https://github.com/scikit-learn/scikit-learn/issues/21755 */display: inline-block !important;position: relative;}#sk-container-id-2 div.sk-text-repr-fallback {display: none;}</style><div id=\"sk-container-id-2\" class=\"sk-top-container\"><div class=\"sk-text-repr-fallback\"><pre>DecisionTreeClassifier(max_depth=5, random_state=100)</pre><b>In a Jupyter environment, please rerun this cell to show the HTML representation or trust the notebook. <br />On GitHub, the HTML representation is unable to render, please try loading this page with nbviewer.org.</b></div><div class=\"sk-container\" hidden><div class=\"sk-item\"><div class=\"sk-estimator sk-toggleable\"><input class=\"sk-toggleable__control sk-hidden--visually\" id=\"sk-estimator-id-2\" type=\"checkbox\" checked><label for=\"sk-estimator-id-2\" class=\"sk-toggleable__label sk-toggleable__label-arrow\">DecisionTreeClassifier</label><div class=\"sk-toggleable__content\"><pre>DecisionTreeClassifier(max_depth=5, random_state=100)</pre></div></div></div></div></div>"
      ],
      "text/plain": [
       "DecisionTreeClassifier(max_depth=5, random_state=100)"
      ]
     },
     "execution_count": 17,
     "metadata": {},
     "output_type": "execute_result"
    }
   ],
   "source": [
    "# max depth : 5\n",
    "max_depth = 5\n",
    "tree_max_depth = DecisionTreeClassifier(random_state = random, max_depth = max_depth)\n",
    "tree_max_depth.fit(df_train_x, df_train_y)\n",
    "\n",
    "# 나무구조 시각화(Graphviz)\n",
    "# v_feature_name = df_train_x.columns\n",
    "# export_graphviz(tree_max_depth, out_file=\"tree_max_depth\", feature_names = v_feature_name, impurity = True, filled = True)\n",
    "\n",
    "# with open(\"tree_leaf.dot\") as f:\n",
    "#     dot_graph = f.read()\n",
    "# display(graphviz.Source(dot_graph))"
   ]
  },
  {
   "cell_type": "code",
   "execution_count": 18,
   "id": "79893a2e",
   "metadata": {},
   "outputs": [
    {
     "name": "stdout",
     "output_type": "stream",
     "text": [
      "Score_train : 1.0\n",
      "Score_test : 0.9296875\n"
     ]
    }
   ],
   "source": [
    "print(\"Score_train : {0}\".format(tree_max_depth.score(df_train_x, df_train_y)))\n",
    "print(\"Score_test : {0}\".format(tree_max_depth.score(df_test_x, df_test_y)))"
   ]
  },
  {
   "cell_type": "markdown",
   "id": "86a018db",
   "metadata": {},
   "source": [
    "* 최대 깊이 설정 : 5\n",
    "    * 최대 깊이 증가에 따라 모델의 정확도는 증가한다.  \n",
    "    * Test와 Train의 성능차이가 많이 나지 않는 경우 고려\n",
    "    * 추후 Model 사용 시, 많은 data가 들어와도 Underfitting 되지 않도록 여유있게 고려"
   ]
  },
  {
   "cell_type": "markdown",
   "id": "d6993749",
   "metadata": {},
   "source": [
    "* 모델의 성능 확인"
   ]
  },
  {
   "cell_type": "markdown",
   "id": "25a575b8",
   "metadata": {},
   "source": [
    "##### Min_Sample_Split"
   ]
  },
  {
   "cell_type": "code",
   "execution_count": 19,
   "id": "9e8bc904",
   "metadata": {},
   "outputs": [],
   "source": [
    "train_acc = []\n",
    "test_acc = []\n",
    "\n",
    "para_split = [n_split * 10 for n_split in range(2,11)]\n",
    "\n",
    "for v_para_split in para_split:\n",
    "    tree_split = DecisionTreeClassifier(random_state = random, max_depth = max_depth , min_samples_split = v_para_split)\n",
    "    tree_split.fit(df_train_x, df_train_y)\n",
    "    train_acc.append(tree_split.score(df_train_x, df_train_y))\n",
    "    test_acc.append(tree_split.score(df_test_x, df_test_y))\n",
    "\n",
    "# 결과 저장\n",
    "df_acc_split = pd.DataFrame()\n",
    "df_acc_split[\"MinSampleLeaf\"] = para_split\n",
    "df_acc_split[\"TrainScore\"] = train_acc\n",
    "df_acc_split[\"TestScore\"] = test_acc"
   ]
  },
  {
   "cell_type": "code",
   "execution_count": 20,
   "id": "192335ba",
   "metadata": {},
   "outputs": [
    {
     "data": {
      "text/html": [
       "<div>\n",
       "<style scoped>\n",
       "    .dataframe tbody tr th:only-of-type {\n",
       "        vertical-align: middle;\n",
       "    }\n",
       "\n",
       "    .dataframe tbody tr th {\n",
       "        vertical-align: top;\n",
       "    }\n",
       "\n",
       "    .dataframe thead th {\n",
       "        text-align: right;\n",
       "    }\n",
       "</style>\n",
       "<table border=\"1\" class=\"dataframe\">\n",
       "  <thead>\n",
       "    <tr style=\"text-align: right;\">\n",
       "      <th></th>\n",
       "      <th>MinSampleLeaf</th>\n",
       "      <th>TrainScore</th>\n",
       "      <th>TestScore</th>\n",
       "    </tr>\n",
       "  </thead>\n",
       "  <tbody>\n",
       "    <tr>\n",
       "      <th>0</th>\n",
       "      <td>20</td>\n",
       "      <td>0.953</td>\n",
       "      <td>0.891</td>\n",
       "    </tr>\n",
       "    <tr>\n",
       "      <th>1</th>\n",
       "      <td>30</td>\n",
       "      <td>0.953</td>\n",
       "      <td>0.891</td>\n",
       "    </tr>\n",
       "    <tr>\n",
       "      <th>2</th>\n",
       "      <td>40</td>\n",
       "      <td>0.953</td>\n",
       "      <td>0.891</td>\n",
       "    </tr>\n",
       "    <tr>\n",
       "      <th>3</th>\n",
       "      <td>50</td>\n",
       "      <td>0.953</td>\n",
       "      <td>0.891</td>\n",
       "    </tr>\n",
       "    <tr>\n",
       "      <th>4</th>\n",
       "      <td>60</td>\n",
       "      <td>0.938</td>\n",
       "      <td>0.898</td>\n",
       "    </tr>\n",
       "    <tr>\n",
       "      <th>5</th>\n",
       "      <td>70</td>\n",
       "      <td>0.938</td>\n",
       "      <td>0.898</td>\n",
       "    </tr>\n",
       "    <tr>\n",
       "      <th>6</th>\n",
       "      <td>80</td>\n",
       "      <td>0.938</td>\n",
       "      <td>0.898</td>\n",
       "    </tr>\n",
       "    <tr>\n",
       "      <th>7</th>\n",
       "      <td>90</td>\n",
       "      <td>0.938</td>\n",
       "      <td>0.898</td>\n",
       "    </tr>\n",
       "    <tr>\n",
       "      <th>8</th>\n",
       "      <td>100</td>\n",
       "      <td>0.938</td>\n",
       "      <td>0.898</td>\n",
       "    </tr>\n",
       "  </tbody>\n",
       "</table>\n",
       "</div>"
      ],
      "text/plain": [
       "   MinSampleLeaf  TrainScore  TestScore\n",
       "0             20       0.953      0.891\n",
       "1             30       0.953      0.891\n",
       "2             40       0.953      0.891\n",
       "3             50       0.953      0.891\n",
       "4             60       0.938      0.898\n",
       "5             70       0.938      0.898\n",
       "6             80       0.938      0.898\n",
       "7             90       0.938      0.898\n",
       "8            100       0.938      0.898"
      ]
     },
     "execution_count": 20,
     "metadata": {},
     "output_type": "execute_result"
    }
   ],
   "source": [
    "df_acc_split.round(3)"
   ]
  },
  {
   "cell_type": "code",
   "execution_count": 21,
   "id": "db6b6be1",
   "metadata": {},
   "outputs": [
    {
     "data": {
      "text/plain": [
       "<matplotlib.legend.Legend at 0x7fd16594d550>"
      ]
     },
     "execution_count": 21,
     "metadata": {},
     "output_type": "execute_result"
    },
    {
     "data": {
      "image/png": "[encoded data removed]",
      "text/plain": [
       "<Figure size 640x480 with 1 Axes>"
      ]
     },
     "metadata": {},
     "output_type": "display_data"
    }
   ],
   "source": [
    "# 그래프\n",
    "plt.plot(para_split, train_acc, linestyle = \"-\", label = \"TrainAccuracy\")\n",
    "plt.plot(para_split, test_acc, linestyle = \"--\", label = \"TestAccuracy\")\n",
    "plt.legend()"
   ]
  },
  {
   "cell_type": "code",
   "execution_count": 22,
   "id": "96abc239",
   "metadata": {},
   "outputs": [
    {
     "data": {
      "text/html": [
       "<style>#sk-container-id-3 {color: black;background-color: white;}#sk-container-id-3 pre{padding: 0;}#sk-container-id-3 div.sk-toggleable {background-color: white;}#sk-container-id-3 label.sk-toggleable__label {cursor: pointer;display: block;width: 100%;margin-bottom: 0;padding: 0.3em;box-sizing: border-box;text-align: center;}#sk-container-id-3 label.sk-toggleable__label-arrow:before {content: \"▸\";float: left;margin-right: 0.25em;color: #696969;}#sk-container-id-3 label.sk-toggleable__label-arrow:hover:before {color: black;}#sk-container-id-3 div.sk-estimator:hover label.sk-toggleable__label-arrow:before {color: black;}#sk-container-id-3 div.sk-toggleable__content {max-height: 0;max-width: 0;overflow: hidden;text-align: left;background-color: #f0f8ff;}#sk-container-id-3 div.sk-toggleable__content pre {margin: 0.2em;color: black;border-radius: 0.25em;background-color: #f0f8ff;}#sk-container-id-3 input.sk-toggleable__control:checked~div.sk-toggleable__content {max-height: 200px;max-width: 100%;overflow: auto;}#sk-container-id-3 input.sk-toggleable__control:checked~label.sk-toggleable__label-arrow:before {content: \"▾\";}#sk-container-id-3 div.sk-estimator input.sk-toggleable__control:checked~label.sk-toggleable__label {background-color: #d4ebff;}#sk-container-id-3 div.sk-label input.sk-toggleable__control:checked~label.sk-toggleable__label {background-color: #d4ebff;}#sk-container-id-3 input.sk-hidden--visually {border: 0;clip: rect(1px 1px 1px 1px);clip: rect(1px, 1px, 1px, 1px);height: 1px;margin: -1px;overflow: hidden;padding: 0;position: absolute;width: 1px;}#sk-container-id-3 div.sk-estimator {font-family: monospace;background-color: #f0f8ff;border: 1px dotted black;border-radius: 0.25em;box-sizing: border-box;margin-bottom: 0.5em;}#sk-container-id-3 div.sk-estimator:hover {background-color: #d4ebff;}#sk-container-id-3 div.sk-parallel-item::after {content: \"\";width: 100%;border-bottom: 1px solid gray;flex-grow: 1;}#sk-container-id-3 div.sk-label:hover label.sk-toggleable__label {background-color: #d4ebff;}#sk-container-id-3 div.sk-serial::before {content: \"\";position: absolute;border-left: 1px solid gray;box-sizing: border-box;top: 0;bottom: 0;left: 50%;z-index: 0;}#sk-container-id-3 div.sk-serial {display: flex;flex-direction: column;align-items: center;background-color: white;padding-right: 0.2em;padding-left: 0.2em;position: relative;}#sk-container-id-3 div.sk-item {position: relative;z-index: 1;}#sk-container-id-3 div.sk-parallel {display: flex;align-items: stretch;justify-content: center;background-color: white;position: relative;}#sk-container-id-3 div.sk-item::before, #sk-container-id-3 div.sk-parallel-item::before {content: \"\";position: absolute;border-left: 1px solid gray;box-sizing: border-box;top: 0;bottom: 0;left: 50%;z-index: -1;}#sk-container-id-3 div.sk-parallel-item {display: flex;flex-direction: column;z-index: 1;position: relative;background-color: white;}#sk-container-id-3 div.sk-parallel-item:first-child::after {align-self: flex-end;width: 50%;}#sk-container-id-3 div.sk-parallel-item:last-child::after {align-self: flex-start;width: 50%;}#sk-container-id-3 div.sk-parallel-item:only-child::after {width: 0;}#sk-container-id-3 div.sk-dashed-wrapped {border: 1px dashed gray;margin: 0 0.4em 0.5em 0.4em;box-sizing: border-box;padding-bottom: 0.4em;background-color: white;}#sk-container-id-3 div.sk-label label {font-family: monospace;font-weight: bold;display: inline-block;line-height: 1.2em;}#sk-container-id-3 div.sk-label-container {text-align: center;}#sk-container-id-3 div.sk-container {/* jupyter's `normalize.less` sets `[hidden] { display: none; }` but bootstrap.min.css set `[hidden] { display: none !important; }` so we also need the `!important` here to be able to override the default hidden behavior on the sphinx rendered scikit-learn.org. See: https://github.com/scikit-learn/scikit-learn/issues/21755 */display: inline-block !important;position: relative;}#sk-container-id-3 div.sk-text-repr-fallback {display: none;}</style><div id=\"sk-container-id-3\" class=\"sk-top-container\"><div class=\"sk-text-repr-fallback\"><pre>DecisionTreeClassifier(max_depth=5, min_samples_split=30, random_state=100)</pre><b>In a Jupyter environment, please rerun this cell to show the HTML representation or trust the notebook. <br />On GitHub, the HTML representation is unable to render, please try loading this page with nbviewer.org.</b></div><div class=\"sk-container\" hidden><div class=\"sk-item\"><div class=\"sk-estimator sk-toggleable\"><input class=\"sk-toggleable__control sk-hidden--visually\" id=\"sk-estimator-id-3\" type=\"checkbox\" checked><label for=\"sk-estimator-id-3\" class=\"sk-toggleable__label sk-toggleable__label-arrow\">DecisionTreeClassifier</label><div class=\"sk-toggleable__content\"><pre>DecisionTreeClassifier(max_depth=5, min_samples_split=30, random_state=100)</pre></div></div></div></div></div>"
      ],
      "text/plain": [
       "DecisionTreeClassifier(max_depth=5, min_samples_split=30, random_state=100)"
      ]
     },
     "execution_count": 22,
     "metadata": {},
     "output_type": "execute_result"
    }
   ],
   "source": [
    "# Min_Sample_Split : 30\n",
    "n_split = 30\n",
    "tree_split = DecisionTreeClassifier(random_state = random, max_depth = max_depth, min_samples_split = n_split)\n",
    "tree_split.fit(df_train_x, df_train_y)\n",
    "\n",
    "# 나무구조 시각화(Graphviz)\n",
    "# v_feature_name = df_train_x.columns\n",
    "# export_graphviz(tree_split, out_file=\"tree_split\", feature_names = v_feature_name, impurity = True, filled = True)\n",
    "\n",
    "# with open(\"tree_split.dot\") as f:\n",
    "#     dot_graph = f.read()\n",
    "# display(graphviz.Source(dot_graph))"
   ]
  },
  {
   "cell_type": "markdown",
   "id": "55699372",
   "metadata": {},
   "source": [
    "##### Min_Samples_Leaf "
   ]
  },
  {
   "cell_type": "code",
   "execution_count": 23,
   "id": "2c23e12a",
   "metadata": {},
   "outputs": [],
   "source": [
    "train_acc = []\n",
    "test_acc = []\n",
    "\n",
    "para_leaf = [n_leaf * 2 for n_leaf in range(1,16)]\n",
    "\n",
    "for v_para_leaf in para_leaf:\n",
    "    tree_leaf = DecisionTreeClassifier(random_state = random, max_depth = max_depth , \n",
    "                                       min_samples_split = n_split, min_samples_leaf = v_para_leaf)\n",
    "    tree_leaf.fit(df_train_x, df_train_y)\n",
    "    train_acc.append(tree_leaf.score(df_train_x, df_train_y))\n",
    "    test_acc.append(tree_leaf.score(df_test_x, df_test_y))\n",
    "\n",
    "# 결과 저장\n",
    "df_acc_leaf = pd.DataFrame()\n",
    "df_acc_leaf[\"MinSampleLeaf\"] = para_leaf\n",
    "df_acc_leaf[\"TrainScore\"] = train_acc\n",
    "df_acc_leaf[\"TestScore\"] = test_acc"
   ]
  },
  {
   "cell_type": "code",
   "execution_count": 24,
   "id": "10d4e74c",
   "metadata": {},
   "outputs": [
    {
     "data": {
      "text/html": [
       "<div>\n",
       "<style scoped>\n",
       "    .dataframe tbody tr th:only-of-type {\n",
       "        vertical-align: middle;\n",
       "    }\n",
       "\n",
       "    .dataframe tbody tr th {\n",
       "        vertical-align: top;\n",
       "    }\n",
       "\n",
       "    .dataframe thead th {\n",
       "        text-align: right;\n",
       "    }\n",
       "</style>\n",
       "<table border=\"1\" class=\"dataframe\">\n",
       "  <thead>\n",
       "    <tr style=\"text-align: right;\">\n",
       "      <th></th>\n",
       "      <th>MinSampleLeaf</th>\n",
       "      <th>TrainScore</th>\n",
       "      <th>TestScore</th>\n",
       "    </tr>\n",
       "  </thead>\n",
       "  <tbody>\n",
       "    <tr>\n",
       "      <th>0</th>\n",
       "      <td>2</td>\n",
       "      <td>0.943</td>\n",
       "      <td>0.891</td>\n",
       "    </tr>\n",
       "    <tr>\n",
       "      <th>1</th>\n",
       "      <td>4</td>\n",
       "      <td>0.943</td>\n",
       "      <td>0.891</td>\n",
       "    </tr>\n",
       "    <tr>\n",
       "      <th>2</th>\n",
       "      <td>6</td>\n",
       "      <td>0.932</td>\n",
       "      <td>0.883</td>\n",
       "    </tr>\n",
       "    <tr>\n",
       "      <th>3</th>\n",
       "      <td>8</td>\n",
       "      <td>0.932</td>\n",
       "      <td>0.898</td>\n",
       "    </tr>\n",
       "    <tr>\n",
       "      <th>4</th>\n",
       "      <td>10</td>\n",
       "      <td>0.932</td>\n",
       "      <td>0.898</td>\n",
       "    </tr>\n",
       "    <tr>\n",
       "      <th>5</th>\n",
       "      <td>12</td>\n",
       "      <td>0.932</td>\n",
       "      <td>0.898</td>\n",
       "    </tr>\n",
       "    <tr>\n",
       "      <th>6</th>\n",
       "      <td>14</td>\n",
       "      <td>0.932</td>\n",
       "      <td>0.898</td>\n",
       "    </tr>\n",
       "    <tr>\n",
       "      <th>7</th>\n",
       "      <td>16</td>\n",
       "      <td>0.932</td>\n",
       "      <td>0.898</td>\n",
       "    </tr>\n",
       "    <tr>\n",
       "      <th>8</th>\n",
       "      <td>18</td>\n",
       "      <td>0.932</td>\n",
       "      <td>0.898</td>\n",
       "    </tr>\n",
       "    <tr>\n",
       "      <th>9</th>\n",
       "      <td>20</td>\n",
       "      <td>0.932</td>\n",
       "      <td>0.898</td>\n",
       "    </tr>\n",
       "    <tr>\n",
       "      <th>10</th>\n",
       "      <td>22</td>\n",
       "      <td>0.932</td>\n",
       "      <td>0.898</td>\n",
       "    </tr>\n",
       "    <tr>\n",
       "      <th>11</th>\n",
       "      <td>24</td>\n",
       "      <td>0.932</td>\n",
       "      <td>0.898</td>\n",
       "    </tr>\n",
       "    <tr>\n",
       "      <th>12</th>\n",
       "      <td>26</td>\n",
       "      <td>0.932</td>\n",
       "      <td>0.898</td>\n",
       "    </tr>\n",
       "    <tr>\n",
       "      <th>13</th>\n",
       "      <td>28</td>\n",
       "      <td>0.932</td>\n",
       "      <td>0.898</td>\n",
       "    </tr>\n",
       "    <tr>\n",
       "      <th>14</th>\n",
       "      <td>30</td>\n",
       "      <td>0.932</td>\n",
       "      <td>0.898</td>\n",
       "    </tr>\n",
       "  </tbody>\n",
       "</table>\n",
       "</div>"
      ],
      "text/plain": [
       "    MinSampleLeaf  TrainScore  TestScore\n",
       "0               2       0.943      0.891\n",
       "1               4       0.943      0.891\n",
       "2               6       0.932      0.883\n",
       "3               8       0.932      0.898\n",
       "4              10       0.932      0.898\n",
       "5              12       0.932      0.898\n",
       "6              14       0.932      0.898\n",
       "7              16       0.932      0.898\n",
       "8              18       0.932      0.898\n",
       "9              20       0.932      0.898\n",
       "10             22       0.932      0.898\n",
       "11             24       0.932      0.898\n",
       "12             26       0.932      0.898\n",
       "13             28       0.932      0.898\n",
       "14             30       0.932      0.898"
      ]
     },
     "execution_count": 24,
     "metadata": {},
     "output_type": "execute_result"
    }
   ],
   "source": [
    "df_acc_leaf.round(3)"
   ]
  },
  {
   "cell_type": "code",
   "execution_count": 25,
   "id": "20ce9122",
   "metadata": {},
   "outputs": [
    {
     "data": {
      "text/plain": [
       "<matplotlib.legend.Legend at 0x7fd16576ba90>"
      ]
     },
     "execution_count": 25,
     "metadata": {},
     "output_type": "execute_result"
    },
    {
     "data": {
      "image/png": "[encoded data removed]",
      "text/plain": [
       "<Figure size 640x480 with 1 Axes>"
      ]
     },
     "metadata": {},
     "output_type": "display_data"
    }
   ],
   "source": [
    "# 그래프\n",
    "plt.plot(para_leaf, train_acc, linestyle = \"-\", label = \"TrainAccuracy\")\n",
    "plt.plot(para_leaf, test_acc, linestyle = \"--\", label = \"TestAccuracy\")\n",
    "plt.legend()"
   ]
  },
  {
   "cell_type": "code",
   "execution_count": 26,
   "id": "4aff08bc",
   "metadata": {},
   "outputs": [
    {
     "data": {
      "text/html": [
       "<style>#sk-container-id-4 {color: black;background-color: white;}#sk-container-id-4 pre{padding: 0;}#sk-container-id-4 div.sk-toggleable {background-color: white;}#sk-container-id-4 label.sk-toggleable__label {cursor: pointer;display: block;width: 100%;margin-bottom: 0;padding: 0.3em;box-sizing: border-box;text-align: center;}#sk-container-id-4 label.sk-toggleable__label-arrow:before {content: \"▸\";float: left;margin-right: 0.25em;color: #696969;}#sk-container-id-4 label.sk-toggleable__label-arrow:hover:before {color: black;}#sk-container-id-4 div.sk-estimator:hover label.sk-toggleable__label-arrow:before {color: black;}#sk-container-id-4 div.sk-toggleable__content {max-height: 0;max-width: 0;overflow: hidden;text-align: left;background-color: #f0f8ff;}#sk-container-id-4 div.sk-toggleable__content pre {margin: 0.2em;color: black;border-radius: 0.25em;background-color: #f0f8ff;}#sk-container-id-4 input.sk-toggleable__control:checked~div.sk-toggleable__content {max-height: 200px;max-width: 100%;overflow: auto;}#sk-container-id-4 input.sk-toggleable__control:checked~label.sk-toggleable__label-arrow:before {content: \"▾\";}#sk-container-id-4 div.sk-estimator input.sk-toggleable__control:checked~label.sk-toggleable__label {background-color: #d4ebff;}#sk-container-id-4 div.sk-label input.sk-toggleable__control:checked~label.sk-toggleable__label {background-color: #d4ebff;}#sk-container-id-4 input.sk-hidden--visually {border: 0;clip: rect(1px 1px 1px 1px);clip: rect(1px, 1px, 1px, 1px);height: 1px;margin: -1px;overflow: hidden;padding: 0;position: absolute;width: 1px;}#sk-container-id-4 div.sk-estimator {font-family: monospace;background-color: #f0f8ff;border: 1px dotted black;border-radius: 0.25em;box-sizing: border-box;margin-bottom: 0.5em;}#sk-container-id-4 div.sk-estimator:hover {background-color: #d4ebff;}#sk-container-id-4 div.sk-parallel-item::after {content: \"\";width: 100%;border-bottom: 1px solid gray;flex-grow: 1;}#sk-container-id-4 div.sk-label:hover label.sk-toggleable__label {background-color: #d4ebff;}#sk-container-id-4 div.sk-serial::before {content: \"\";position: absolute;border-left: 1px solid gray;box-sizing: border-box;top: 0;bottom: 0;left: 50%;z-index: 0;}#sk-container-id-4 div.sk-serial {display: flex;flex-direction: column;align-items: center;background-color: white;padding-right: 0.2em;padding-left: 0.2em;position: relative;}#sk-container-id-4 div.sk-item {position: relative;z-index: 1;}#sk-container-id-4 div.sk-parallel {display: flex;align-items: stretch;justify-content: center;background-color: white;position: relative;}#sk-container-id-4 div.sk-item::before, #sk-container-id-4 div.sk-parallel-item::before {content: \"\";position: absolute;border-left: 1px solid gray;box-sizing: border-box;top: 0;bottom: 0;left: 50%;z-index: -1;}#sk-container-id-4 div.sk-parallel-item {display: flex;flex-direction: column;z-index: 1;position: relative;background-color: white;}#sk-container-id-4 div.sk-parallel-item:first-child::after {align-self: flex-end;width: 50%;}#sk-container-id-4 div.sk-parallel-item:last-child::after {align-self: flex-start;width: 50%;}#sk-container-id-4 div.sk-parallel-item:only-child::after {width: 0;}#sk-container-id-4 div.sk-dashed-wrapped {border: 1px dashed gray;margin: 0 0.4em 0.5em 0.4em;box-sizing: border-box;padding-bottom: 0.4em;background-color: white;}#sk-container-id-4 div.sk-label label {font-family: monospace;font-weight: bold;display: inline-block;line-height: 1.2em;}#sk-container-id-4 div.sk-label-container {text-align: center;}#sk-container-id-4 div.sk-container {/* jupyter's `normalize.less` sets `[hidden] { display: none; }` but bootstrap.min.css set `[hidden] { display: none !important; }` so we also need the `!important` here to be able to override the default hidden behavior on the sphinx rendered scikit-learn.org. See: https://github.com/scikit-learn/scikit-learn/issues/21755 */display: inline-block !important;position: relative;}#sk-container-id-4 div.sk-text-repr-fallback {display: none;}</style><div id=\"sk-container-id-4\" class=\"sk-top-container\"><div class=\"sk-text-repr-fallback\"><pre>DecisionTreeClassifier(max_depth=5, min_samples_leaf=20, min_samples_split=30,\n",
       "                       random_state=100)</pre><b>In a Jupyter environment, please rerun this cell to show the HTML representation or trust the notebook. <br />On GitHub, the HTML representation is unable to render, please try loading this page with nbviewer.org.</b></div><div class=\"sk-container\" hidden><div class=\"sk-item\"><div class=\"sk-estimator sk-toggleable\"><input class=\"sk-toggleable__control sk-hidden--visually\" id=\"sk-estimator-id-4\" type=\"checkbox\" checked><label for=\"sk-estimator-id-4\" class=\"sk-toggleable__label sk-toggleable__label-arrow\">DecisionTreeClassifier</label><div class=\"sk-toggleable__content\"><pre>DecisionTreeClassifier(max_depth=5, min_samples_leaf=20, min_samples_split=30,\n",
       "                       random_state=100)</pre></div></div></div></div></div>"
      ],
      "text/plain": [
       "DecisionTreeClassifier(max_depth=5, min_samples_leaf=20, min_samples_split=30,\n",
       "                       random_state=100)"
      ]
     },
     "execution_count": 26,
     "metadata": {},
     "output_type": "execute_result"
    }
   ],
   "source": [
    "# Min_Sample_Leaf : 20\n",
    "n_leaf = 20\n",
    "tree_leaf = DecisionTreeClassifier(random_state = random, max_depth = max_depth, min_samples_split = n_split, min_samples_leaf = n_leaf)\n",
    "tree_leaf.fit(df_train_x, df_train_y)\n",
    "\n",
    "# 나무구조 시각화(Graphviz)\n",
    "# v_feature_name = df_train_x.columns\n",
    "# export_graphviz(tree_split, out_file=\"tree_split\", feature_names = v_feature_name, impurity = True, filled = True)\n",
    "\n",
    "# with open(\"tree_split.dot\") as f:\n",
    "#     dot_graph = f.read()\n",
    "# display(graphviz.Source(dot_graph))"
   ]
  },
  {
   "cell_type": "markdown",
   "id": "f643ef4b",
   "metadata": {},
   "source": [
    "#### Model 선정 및 성능 평가(정확성 및 일반화)"
   ]
  },
  {
   "cell_type": "markdown",
   "id": "6fe5e774",
   "metadata": {},
   "source": [
    "##### Model 선정"
   ]
  },
  {
   "cell_type": "code",
   "execution_count": 27,
   "id": "966071e6",
   "metadata": {},
   "outputs": [
    {
     "data": {
      "text/html": [
       "<style>#sk-container-id-5 {color: black;background-color: white;}#sk-container-id-5 pre{padding: 0;}#sk-container-id-5 div.sk-toggleable {background-color: white;}#sk-container-id-5 label.sk-toggleable__label {cursor: pointer;display: block;width: 100%;margin-bottom: 0;padding: 0.3em;box-sizing: border-box;text-align: center;}#sk-container-id-5 label.sk-toggleable__label-arrow:before {content: \"▸\";float: left;margin-right: 0.25em;color: #696969;}#sk-container-id-5 label.sk-toggleable__label-arrow:hover:before {color: black;}#sk-container-id-5 div.sk-estimator:hover label.sk-toggleable__label-arrow:before {color: black;}#sk-container-id-5 div.sk-toggleable__content {max-height: 0;max-width: 0;overflow: hidden;text-align: left;background-color: #f0f8ff;}#sk-container-id-5 div.sk-toggleable__content pre {margin: 0.2em;color: black;border-radius: 0.25em;background-color: #f0f8ff;}#sk-container-id-5 input.sk-toggleable__control:checked~div.sk-toggleable__content {max-height: 200px;max-width: 100%;overflow: auto;}#sk-container-id-5 input.sk-toggleable__control:checked~label.sk-toggleable__label-arrow:before {content: \"▾\";}#sk-container-id-5 div.sk-estimator input.sk-toggleable__control:checked~label.sk-toggleable__label {background-color: #d4ebff;}#sk-container-id-5 div.sk-label input.sk-toggleable__control:checked~label.sk-toggleable__label {background-color: #d4ebff;}#sk-container-id-5 input.sk-hidden--visually {border: 0;clip: rect(1px 1px 1px 1px);clip: rect(1px, 1px, 1px, 1px);height: 1px;margin: -1px;overflow: hidden;padding: 0;position: absolute;width: 1px;}#sk-container-id-5 div.sk-estimator {font-family: monospace;background-color: #f0f8ff;border: 1px dotted black;border-radius: 0.25em;box-sizing: border-box;margin-bottom: 0.5em;}#sk-container-id-5 div.sk-estimator:hover {background-color: #d4ebff;}#sk-container-id-5 div.sk-parallel-item::after {content: \"\";width: 100%;border-bottom: 1px solid gray;flex-grow: 1;}#sk-container-id-5 div.sk-label:hover label.sk-toggleable__label {background-color: #d4ebff;}#sk-container-id-5 div.sk-serial::before {content: \"\";position: absolute;border-left: 1px solid gray;box-sizing: border-box;top: 0;bottom: 0;left: 50%;z-index: 0;}#sk-container-id-5 div.sk-serial {display: flex;flex-direction: column;align-items: center;background-color: white;padding-right: 0.2em;padding-left: 0.2em;position: relative;}#sk-container-id-5 div.sk-item {position: relative;z-index: 1;}#sk-container-id-5 div.sk-parallel {display: flex;align-items: stretch;justify-content: center;background-color: white;position: relative;}#sk-container-id-5 div.sk-item::before, #sk-container-id-5 div.sk-parallel-item::before {content: \"\";position: absolute;border-left: 1px solid gray;box-sizing: border-box;top: 0;bottom: 0;left: 50%;z-index: -1;}#sk-container-id-5 div.sk-parallel-item {display: flex;flex-direction: column;z-index: 1;position: relative;background-color: white;}#sk-container-id-5 div.sk-parallel-item:first-child::after {align-self: flex-end;width: 50%;}#sk-container-id-5 div.sk-parallel-item:last-child::after {align-self: flex-start;width: 50%;}#sk-container-id-5 div.sk-parallel-item:only-child::after {width: 0;}#sk-container-id-5 div.sk-dashed-wrapped {border: 1px dashed gray;margin: 0 0.4em 0.5em 0.4em;box-sizing: border-box;padding-bottom: 0.4em;background-color: white;}#sk-container-id-5 div.sk-label label {font-family: monospace;font-weight: bold;display: inline-block;line-height: 1.2em;}#sk-container-id-5 div.sk-label-container {text-align: center;}#sk-container-id-5 div.sk-container {/* jupyter's `normalize.less` sets `[hidden] { display: none; }` but bootstrap.min.css set `[hidden] { display: none !important; }` so we also need the `!important` here to be able to override the default hidden behavior on the sphinx rendered scikit-learn.org. See: https://github.com/scikit-learn/scikit-learn/issues/21755 */display: inline-block !important;position: relative;}#sk-container-id-5 div.sk-text-repr-fallback {display: none;}</style><div id=\"sk-container-id-5\" class=\"sk-top-container\"><div class=\"sk-text-repr-fallback\"><pre>DecisionTreeClassifier(max_depth=5, min_samples_leaf=20, min_samples_split=30,\n",
       "                       random_state=100)</pre><b>In a Jupyter environment, please rerun this cell to show the HTML representation or trust the notebook. <br />On GitHub, the HTML representation is unable to render, please try loading this page with nbviewer.org.</b></div><div class=\"sk-container\" hidden><div class=\"sk-item\"><div class=\"sk-estimator sk-toggleable\"><input class=\"sk-toggleable__control sk-hidden--visually\" id=\"sk-estimator-id-5\" type=\"checkbox\" checked><label for=\"sk-estimator-id-5\" class=\"sk-toggleable__label sk-toggleable__label-arrow\">DecisionTreeClassifier</label><div class=\"sk-toggleable__content\"><pre>DecisionTreeClassifier(max_depth=5, min_samples_leaf=20, min_samples_split=30,\n",
       "                       random_state=100)</pre></div></div></div></div></div>"
      ],
      "text/plain": [
       "DecisionTreeClassifier(max_depth=5, min_samples_leaf=20, min_samples_split=30,\n",
       "                       random_state=100)"
      ]
     },
     "execution_count": 27,
     "metadata": {},
     "output_type": "execute_result"
    }
   ],
   "source": [
    "tree_final = DecisionTreeClassifier(random_state = 100, min_samples_leaf = n_leaf, \n",
    "                                   min_samples_split = n_split, max_depth = max_depth)\n",
    "tree_final.fit(df_train_x, df_train_y)"
   ]
  },
  {
   "cell_type": "code",
   "execution_count": 28,
   "id": "1a5123f9",
   "metadata": {},
   "outputs": [
    {
     "name": "stdout",
     "output_type": "stream",
     "text": [
      "Score_train : 0.9322916666666666\n",
      "Score_test : 0.8984375\n"
     ]
    }
   ],
   "source": [
    "print(\"Score_train : {0}\".format(tree_final.score(df_train_x, df_train_y)))\n",
    "print(\"Score_test : {0}\".format(tree_final.score(df_test_x, df_test_y)))"
   ]
  },
  {
   "cell_type": "code",
   "execution_count": 29,
   "id": "81e60fa6",
   "metadata": {},
   "outputs": [
    {
     "data": {
      "image/svg+xml": [
       "<?xml version=\"1.0\" encoding=\"UTF-8\" standalone=\"no\"?>\n",
       "<!DOCTYPE svg PUBLIC \"-//W3C//DTD SVG 1.1//EN\"\n",
       " \"http://www.w3.org/Graphics/SVG/1.1/DTD/svg11.dtd\">\n",
       "<!-- Generated by graphviz version 2.50.0 (0)\n",
       " -->\n",
       "<!-- Title: Tree Pages: 1 -->\n",
       "<svg width=\"704pt\" height=\"433pt\"\n",
       " viewBox=\"0.00 0.00 704.00 433.00\" xmlns=\"http://www.w3.org/2000/svg\" xmlns:xlink=\"http://www.w3.org/1999/xlink\">\n",
       "<g id=\"graph0\" class=\"graph\" transform=\"scale(1 1) rotate(0) translate(4 429)\">\n",
       "<title>Tree</title>\n",
       "<polygon fill=\"white\" stroke=\"transparent\" points=\"-4,4 -4,-429 700,-429 700,4 -4,4\"/>\n",
       "<!-- 0 -->\n",
       "<g id=\"node1\" class=\"node\">\n",
       "<title>0</title>\n",
       "<polygon fill=\"#f2bf9a\" stroke=\"black\" points=\"401,-425 189,-425 189,-342 401,-342 401,-425\"/>\n",
       "<text text-anchor=\"middle\" x=\"295\" y=\"-409.8\" font-family=\"Helvetica,sans-Serif\" font-size=\"14.00\">worst_perimeter &lt;= 101.45</text>\n",
       "<text text-anchor=\"middle\" x=\"295\" y=\"-394.8\" font-family=\"Helvetica,sans-Serif\" font-size=\"14.00\">gini = 0.441</text>\n",
       "<text text-anchor=\"middle\" x=\"295\" y=\"-379.8\" font-family=\"Helvetica,sans-Serif\" font-size=\"14.00\">samples = 192</text>\n",
       "<text text-anchor=\"middle\" x=\"295\" y=\"-364.8\" font-family=\"Helvetica,sans-Serif\" font-size=\"14.00\">value = [129, 63]</text>\n",
       "<text text-anchor=\"middle\" x=\"295\" y=\"-349.8\" font-family=\"Helvetica,sans-Serif\" font-size=\"14.00\">class = 음성</text>\n",
       "</g>\n",
       "<!-- 1 -->\n",
       "<g id=\"node2\" class=\"node\">\n",
       "<title>1</title>\n",
       "<polygon fill=\"#48a4e7\" stroke=\"black\" points=\"274,-306 80,-306 80,-223 274,-223 274,-306\"/>\n",
       "<text text-anchor=\"middle\" x=\"177\" y=\"-290.8\" font-family=\"Helvetica,sans-Serif\" font-size=\"14.00\">worst_texture &lt;= 25.025</text>\n",
       "<text text-anchor=\"middle\" x=\"177\" y=\"-275.8\" font-family=\"Helvetica,sans-Serif\" font-size=\"14.00\">gini = 0.128</text>\n",
       "<text text-anchor=\"middle\" x=\"177\" y=\"-260.8\" font-family=\"Helvetica,sans-Serif\" font-size=\"14.00\">samples = 58</text>\n",
       "<text text-anchor=\"middle\" x=\"177\" y=\"-245.8\" font-family=\"Helvetica,sans-Serif\" font-size=\"14.00\">value = [4, 54]</text>\n",
       "<text text-anchor=\"middle\" x=\"177\" y=\"-230.8\" font-family=\"Helvetica,sans-Serif\" font-size=\"14.00\">class = 양성</text>\n",
       "</g>\n",
       "<!-- 0&#45;&gt;1 -->\n",
       "<g id=\"edge1\" class=\"edge\">\n",
       "<title>0&#45;&gt;1</title>\n",
       "<path fill=\"none\" stroke=\"black\" d=\"M254.06,-341.91C244.72,-332.65 234.72,-322.73 225.12,-313.21\"/>\n",
       "<polygon fill=\"black\" stroke=\"black\" points=\"227.43,-310.58 217.87,-306.02 222.5,-315.55 227.43,-310.58\"/>\n",
       "<text text-anchor=\"middle\" x=\"217.97\" y=\"-327.32\" font-family=\"Helvetica,sans-Serif\" font-size=\"14.00\">True</text>\n",
       "</g>\n",
       "<!-- 4 -->\n",
       "<g id=\"node5\" class=\"node\">\n",
       "<title>4</title>\n",
       "<polygon fill=\"#e78a47\" stroke=\"black\" points=\"534,-306 292,-306 292,-223 534,-223 534,-306\"/>\n",
       "<text text-anchor=\"middle\" x=\"413\" y=\"-290.8\" font-family=\"Helvetica,sans-Serif\" font-size=\"14.00\">mean_concave_points &lt;= 0.056</text>\n",
       "<text text-anchor=\"middle\" x=\"413\" y=\"-275.8\" font-family=\"Helvetica,sans-Serif\" font-size=\"14.00\">gini = 0.125</text>\n",
       "<text text-anchor=\"middle\" x=\"413\" y=\"-260.8\" font-family=\"Helvetica,sans-Serif\" font-size=\"14.00\">samples = 134</text>\n",
       "<text text-anchor=\"middle\" x=\"413\" y=\"-245.8\" font-family=\"Helvetica,sans-Serif\" font-size=\"14.00\">value = [125, 9]</text>\n",
       "<text text-anchor=\"middle\" x=\"413\" y=\"-230.8\" font-family=\"Helvetica,sans-Serif\" font-size=\"14.00\">class = 음성</text>\n",
       "</g>\n",
       "<!-- 0&#45;&gt;4 -->\n",
       "<g id=\"edge4\" class=\"edge\">\n",
       "<title>0&#45;&gt;4</title>\n",
       "<path fill=\"none\" stroke=\"black\" d=\"M335.94,-341.91C345.28,-332.65 355.28,-322.73 364.88,-313.21\"/>\n",
       "<polygon fill=\"black\" stroke=\"black\" points=\"367.5,-315.55 372.13,-306.02 362.57,-310.58 367.5,-315.55\"/>\n",
       "<text text-anchor=\"middle\" x=\"372.03\" y=\"-327.32\" font-family=\"Helvetica,sans-Serif\" font-size=\"14.00\">False</text>\n",
       "</g>\n",
       "<!-- 2 -->\n",
       "<g id=\"node3\" class=\"node\">\n",
       "<title>2</title>\n",
       "<polygon fill=\"#399de5\" stroke=\"black\" points=\"122,-179.5 0,-179.5 0,-111.5 122,-111.5 122,-179.5\"/>\n",
       "<text text-anchor=\"middle\" x=\"61\" y=\"-164.3\" font-family=\"Helvetica,sans-Serif\" font-size=\"14.00\">gini = 0.0</text>\n",
       "<text text-anchor=\"middle\" x=\"61\" y=\"-149.3\" font-family=\"Helvetica,sans-Serif\" font-size=\"14.00\">samples = 38</text>\n",
       "<text text-anchor=\"middle\" x=\"61\" y=\"-134.3\" font-family=\"Helvetica,sans-Serif\" font-size=\"14.00\">value = [0, 38]</text>\n",
       "<text text-anchor=\"middle\" x=\"61\" y=\"-119.3\" font-family=\"Helvetica,sans-Serif\" font-size=\"14.00\">class = 양성</text>\n",
       "</g>\n",
       "<!-- 1&#45;&gt;2 -->\n",
       "<g id=\"edge2\" class=\"edge\">\n",
       "<title>1&#45;&gt;2</title>\n",
       "<path fill=\"none\" stroke=\"black\" d=\"M136.75,-222.91C125.16,-211.21 112.51,-198.46 100.94,-186.78\"/>\n",
       "<polygon fill=\"black\" stroke=\"black\" points=\"103.41,-184.3 93.88,-179.67 98.44,-189.23 103.41,-184.3\"/>\n",
       "</g>\n",
       "<!-- 3 -->\n",
       "<g id=\"node4\" class=\"node\">\n",
       "<title>3</title>\n",
       "<polygon fill=\"#6ab6ec\" stroke=\"black\" points=\"262,-179.5 140,-179.5 140,-111.5 262,-111.5 262,-179.5\"/>\n",
       "<text text-anchor=\"middle\" x=\"201\" y=\"-164.3\" font-family=\"Helvetica,sans-Serif\" font-size=\"14.00\">gini = 0.32</text>\n",
       "<text text-anchor=\"middle\" x=\"201\" y=\"-149.3\" font-family=\"Helvetica,sans-Serif\" font-size=\"14.00\">samples = 20</text>\n",
       "<text text-anchor=\"middle\" x=\"201\" y=\"-134.3\" font-family=\"Helvetica,sans-Serif\" font-size=\"14.00\">value = [4, 16]</text>\n",
       "<text text-anchor=\"middle\" x=\"201\" y=\"-119.3\" font-family=\"Helvetica,sans-Serif\" font-size=\"14.00\">class = 양성</text>\n",
       "</g>\n",
       "<!-- 1&#45;&gt;3 -->\n",
       "<g id=\"edge3\" class=\"edge\">\n",
       "<title>1&#45;&gt;3</title>\n",
       "<path fill=\"none\" stroke=\"black\" d=\"M185.33,-222.91C187.52,-212.2 189.9,-200.62 192.12,-189.78\"/>\n",
       "<polygon fill=\"black\" stroke=\"black\" points=\"195.62,-190.17 194.2,-179.67 188.76,-188.76 195.62,-190.17\"/>\n",
       "</g>\n",
       "<!-- 5 -->\n",
       "<g id=\"node6\" class=\"node\">\n",
       "<title>5</title>\n",
       "<polygon fill=\"#f1bc96\" stroke=\"black\" points=\"450,-179.5 328,-179.5 328,-111.5 450,-111.5 450,-179.5\"/>\n",
       "<text text-anchor=\"middle\" x=\"389\" y=\"-164.3\" font-family=\"Helvetica,sans-Serif\" font-size=\"14.00\">gini = 0.435</text>\n",
       "<text text-anchor=\"middle\" x=\"389\" y=\"-149.3\" font-family=\"Helvetica,sans-Serif\" font-size=\"14.00\">samples = 25</text>\n",
       "<text text-anchor=\"middle\" x=\"389\" y=\"-134.3\" font-family=\"Helvetica,sans-Serif\" font-size=\"14.00\">value = [17, 8]</text>\n",
       "<text text-anchor=\"middle\" x=\"389\" y=\"-119.3\" font-family=\"Helvetica,sans-Serif\" font-size=\"14.00\">class = 음성</text>\n",
       "</g>\n",
       "<!-- 4&#45;&gt;5 -->\n",
       "<g id=\"edge5\" class=\"edge\">\n",
       "<title>4&#45;&gt;5</title>\n",
       "<path fill=\"none\" stroke=\"black\" d=\"M404.67,-222.91C402.48,-212.2 400.1,-200.62 397.88,-189.78\"/>\n",
       "<polygon fill=\"black\" stroke=\"black\" points=\"401.24,-188.76 395.8,-179.67 394.38,-190.17 401.24,-188.76\"/>\n",
       "</g>\n",
       "<!-- 6 -->\n",
       "<g id=\"node7\" class=\"node\">\n",
       "<title>6</title>\n",
       "<polygon fill=\"#e5823b\" stroke=\"black\" points=\"662,-187 468,-187 468,-104 662,-104 662,-187\"/>\n",
       "<text text-anchor=\"middle\" x=\"565\" y=\"-171.8\" font-family=\"Helvetica,sans-Serif\" font-size=\"14.00\">worst_texture &lt;= 24.785</text>\n",
       "<text text-anchor=\"middle\" x=\"565\" y=\"-156.8\" font-family=\"Helvetica,sans-Serif\" font-size=\"14.00\">gini = 0.018</text>\n",
       "<text text-anchor=\"middle\" x=\"565\" y=\"-141.8\" font-family=\"Helvetica,sans-Serif\" font-size=\"14.00\">samples = 109</text>\n",
       "<text text-anchor=\"middle\" x=\"565\" y=\"-126.8\" font-family=\"Helvetica,sans-Serif\" font-size=\"14.00\">value = [108, 1]</text>\n",
       "<text text-anchor=\"middle\" x=\"565\" y=\"-111.8\" font-family=\"Helvetica,sans-Serif\" font-size=\"14.00\">class = 음성</text>\n",
       "</g>\n",
       "<!-- 4&#45;&gt;6 -->\n",
       "<g id=\"edge6\" class=\"edge\">\n",
       "<title>4&#45;&gt;6</title>\n",
       "<path fill=\"none\" stroke=\"black\" d=\"M465.74,-222.91C478.12,-213.38 491.41,-203.15 504.11,-193.37\"/>\n",
       "<polygon fill=\"black\" stroke=\"black\" points=\"506.57,-195.89 512.36,-187.02 502.3,-190.35 506.57,-195.89\"/>\n",
       "</g>\n",
       "<!-- 7 -->\n",
       "<g id=\"node8\" class=\"node\">\n",
       "<title>7</title>\n",
       "<polygon fill=\"#e68843\" stroke=\"black\" points=\"556,-68 434,-68 434,0 556,0 556,-68\"/>\n",
       "<text text-anchor=\"middle\" x=\"495\" y=\"-52.8\" font-family=\"Helvetica,sans-Serif\" font-size=\"14.00\">gini = 0.095</text>\n",
       "<text text-anchor=\"middle\" x=\"495\" y=\"-37.8\" font-family=\"Helvetica,sans-Serif\" font-size=\"14.00\">samples = 20</text>\n",
       "<text text-anchor=\"middle\" x=\"495\" y=\"-22.8\" font-family=\"Helvetica,sans-Serif\" font-size=\"14.00\">value = [19, 1]</text>\n",
       "<text text-anchor=\"middle\" x=\"495\" y=\"-7.8\" font-family=\"Helvetica,sans-Serif\" font-size=\"14.00\">class = 음성</text>\n",
       "</g>\n",
       "<!-- 6&#45;&gt;7 -->\n",
       "<g id=\"edge7\" class=\"edge\">\n",
       "<title>6&#45;&gt;7</title>\n",
       "<path fill=\"none\" stroke=\"black\" d=\"M538.93,-103.73C533.34,-94.97 527.41,-85.7 521.79,-76.91\"/>\n",
       "<polygon fill=\"black\" stroke=\"black\" points=\"524.62,-74.84 516.29,-68.3 518.72,-78.61 524.62,-74.84\"/>\n",
       "</g>\n",
       "<!-- 8 -->\n",
       "<g id=\"node9\" class=\"node\">\n",
       "<title>8</title>\n",
       "<polygon fill=\"#e58139\" stroke=\"black\" points=\"696,-68 574,-68 574,0 696,0 696,-68\"/>\n",
       "<text text-anchor=\"middle\" x=\"635\" y=\"-52.8\" font-family=\"Helvetica,sans-Serif\" font-size=\"14.00\">gini = 0.0</text>\n",
       "<text text-anchor=\"middle\" x=\"635\" y=\"-37.8\" font-family=\"Helvetica,sans-Serif\" font-size=\"14.00\">samples = 89</text>\n",
       "<text text-anchor=\"middle\" x=\"635\" y=\"-22.8\" font-family=\"Helvetica,sans-Serif\" font-size=\"14.00\">value = [89, 0]</text>\n",
       "<text text-anchor=\"middle\" x=\"635\" y=\"-7.8\" font-family=\"Helvetica,sans-Serif\" font-size=\"14.00\">class = 음성</text>\n",
       "</g>\n",
       "<!-- 6&#45;&gt;8 -->\n",
       "<g id=\"edge8\" class=\"edge\">\n",
       "<title>6&#45;&gt;8</title>\n",
       "<path fill=\"none\" stroke=\"black\" d=\"M591.07,-103.73C596.66,-94.97 602.59,-85.7 608.21,-76.91\"/>\n",
       "<polygon fill=\"black\" stroke=\"black\" points=\"611.28,-78.61 613.71,-68.3 605.38,-74.84 611.28,-78.61\"/>\n",
       "</g>\n",
       "</g>\n",
       "</svg>\n"
      ],
      "text/plain": [
       "<graphviz.sources.Source at 0x7fd1ac46a6d0>"
      ]
     },
     "metadata": {},
     "output_type": "display_data"
    }
   ],
   "source": [
    "# 나무구조 시각화(Graphviz)\n",
    "v_feature_name = df_train_x.columns\n",
    "\n",
    "# 모델의 시각화\n",
    "export_graphviz(tree_final, out_file=\"tree_final.dot\", class_names = ['음성', '양성'],\n",
    "               feature_names = v_feature_name, impurity = True, filled = True)\n",
    "\n",
    "with open(\"tree_final.dot\") as f:\n",
    "    dot_graph = f.read()\n",
    "display(graphviz.Source(dot_graph))"
   ]
  },
  {
   "cell_type": "markdown",
   "id": "0dec5727",
   "metadata": {},
   "source": [
    "##### Model 평가"
   ]
  },
  {
   "cell_type": "code",
   "execution_count": 30,
   "id": "02cc50e1",
   "metadata": {},
   "outputs": [
    {
     "name": "stdout",
     "output_type": "stream",
     "text": [
      "Accuracy: 0.898\n",
      "\n",
      "Confusion matrix: \n",
      "[[79  4]\n",
      " [ 9 36]]\n",
      "              precision    recall  f1-score   support\n",
      "\n",
      "           0      0.898     0.952     0.924        83\n",
      "           1      0.900     0.800     0.847        45\n",
      "\n",
      "    accuracy                          0.898       128\n",
      "   macro avg      0.899     0.876     0.886       128\n",
      "weighted avg      0.899     0.898     0.897       128\n",
      "\n"
     ]
    }
   ],
   "source": [
    "y_pred = tree_final.predict(df_test_x)\n",
    "print(\"Accuracy: {0:.3f}\\n\".format(tree_final.score(df_test_x,df_test_y)))\n",
    "print(\"Confusion matrix: \\n{0}\".format(confusion_matrix(df_test_y, y_pred)))\n",
    "print(classification_report(df_test_y, y_pred, digits=3))"
   ]
  },
  {
   "cell_type": "markdown",
   "id": "3b0b40c3",
   "metadata": {},
   "source": [
    "* \"1\" 기준으로 F1 Score는 46.9%\n",
    "> precision은 높으나 recall이 매우 낮음"
   ]
  },
  {
   "cell_type": "markdown",
   "id": "5b236822",
   "metadata": {},
   "source": [
    "### Random Forest"
   ]
  },
  {
   "cell_type": "markdown",
   "id": "3141b33a",
   "metadata": {},
   "source": [
    "#### 일반 모델 생성"
   ]
  },
  {
   "cell_type": "code",
   "execution_count": 31,
   "id": "a72ede76",
   "metadata": {},
   "outputs": [
    {
     "name": "stdout",
     "output_type": "stream",
     "text": [
      "Accuracy on train set : 1.000\n",
      "Accuracy on test set : 0.930\n"
     ]
    }
   ],
   "source": [
    "rf_normal = RandomForestClassifier(random_state = random)\n",
    "rf_normal.fit(df_train_x, df_train_y)\n",
    "\n",
    "# train 정확도\n",
    "print(\"Accuracy on train set : {:.3f}\".format(tree_normal.score(df_train_x, df_train_y)))\n",
    "# test 정확도\n",
    "print(\"Accuracy on test set : {:.3f}\".format(tree_normal.score(df_test_x, df_test_y)))"
   ]
  },
  {
   "cell_type": "markdown",
   "id": "88050497",
   "metadata": {},
   "source": [
    "* Model의 정확도는 Train 100%, Test 93.0%로 현재 Train data에 Overfitting 되어 있다."
   ]
  },
  {
   "cell_type": "markdown",
   "id": "4caf0c80",
   "metadata": {},
   "source": [
    "#### 파라미터 조정"
   ]
  },
  {
   "cell_type": "markdown",
   "id": "b7569f89",
   "metadata": {},
   "source": [
    "##### Tree 수의 변경"
   ]
  },
  {
   "cell_type": "code",
   "execution_count": 32,
   "id": "d32a7049",
   "metadata": {},
   "outputs": [],
   "source": [
    "train_acc = []\n",
    "test_acc = []\n",
    "\n",
    "n_estimators = [n_estimators * 10 for n_estimators in range(1,20)]\n",
    "\n",
    "for v_n_tree in n_estimators:\n",
    "    rf_n_tree = RandomForestClassifier(random_state = random, n_estimators = v_n_tree)\n",
    "    rf_n_tree.fit(df_train_x, df_train_y)\n",
    "    train_acc.append(rf_n_tree.score(df_train_x, df_train_y))\n",
    "    test_acc.append(rf_n_tree.score(df_test_x, df_test_y))\n",
    "\n",
    "# 결과 저장\n",
    "rf_acc_n_tree = pd.DataFrame()\n",
    "rf_acc_n_tree[\"MinSampleLeaf\"] = n_estimators\n",
    "rf_acc_n_tree[\"TrainScore\"] = train_acc\n",
    "rf_acc_n_tree[\"TestScore\"] = test_acc"
   ]
  },
  {
   "cell_type": "code",
   "execution_count": 33,
   "id": "98a82c73",
   "metadata": {},
   "outputs": [
    {
     "data": {
      "text/html": [
       "<div>\n",
       "<style scoped>\n",
       "    .dataframe tbody tr th:only-of-type {\n",
       "        vertical-align: middle;\n",
       "    }\n",
       "\n",
       "    .dataframe tbody tr th {\n",
       "        vertical-align: top;\n",
       "    }\n",
       "\n",
       "    .dataframe thead th {\n",
       "        text-align: right;\n",
       "    }\n",
       "</style>\n",
       "<table border=\"1\" class=\"dataframe\">\n",
       "  <thead>\n",
       "    <tr style=\"text-align: right;\">\n",
       "      <th></th>\n",
       "      <th>MinSampleLeaf</th>\n",
       "      <th>TrainScore</th>\n",
       "      <th>TestScore</th>\n",
       "    </tr>\n",
       "  </thead>\n",
       "  <tbody>\n",
       "    <tr>\n",
       "      <th>0</th>\n",
       "      <td>10</td>\n",
       "      <td>1.0</td>\n",
       "      <td>0.906</td>\n",
       "    </tr>\n",
       "    <tr>\n",
       "      <th>1</th>\n",
       "      <td>20</td>\n",
       "      <td>1.0</td>\n",
       "      <td>0.930</td>\n",
       "    </tr>\n",
       "    <tr>\n",
       "      <th>2</th>\n",
       "      <td>30</td>\n",
       "      <td>1.0</td>\n",
       "      <td>0.930</td>\n",
       "    </tr>\n",
       "    <tr>\n",
       "      <th>3</th>\n",
       "      <td>40</td>\n",
       "      <td>1.0</td>\n",
       "      <td>0.930</td>\n",
       "    </tr>\n",
       "    <tr>\n",
       "      <th>4</th>\n",
       "      <td>50</td>\n",
       "      <td>1.0</td>\n",
       "      <td>0.938</td>\n",
       "    </tr>\n",
       "    <tr>\n",
       "      <th>5</th>\n",
       "      <td>60</td>\n",
       "      <td>1.0</td>\n",
       "      <td>0.930</td>\n",
       "    </tr>\n",
       "    <tr>\n",
       "      <th>6</th>\n",
       "      <td>70</td>\n",
       "      <td>1.0</td>\n",
       "      <td>0.930</td>\n",
       "    </tr>\n",
       "    <tr>\n",
       "      <th>7</th>\n",
       "      <td>80</td>\n",
       "      <td>1.0</td>\n",
       "      <td>0.930</td>\n",
       "    </tr>\n",
       "    <tr>\n",
       "      <th>8</th>\n",
       "      <td>90</td>\n",
       "      <td>1.0</td>\n",
       "      <td>0.930</td>\n",
       "    </tr>\n",
       "    <tr>\n",
       "      <th>9</th>\n",
       "      <td>100</td>\n",
       "      <td>1.0</td>\n",
       "      <td>0.938</td>\n",
       "    </tr>\n",
       "    <tr>\n",
       "      <th>10</th>\n",
       "      <td>110</td>\n",
       "      <td>1.0</td>\n",
       "      <td>0.938</td>\n",
       "    </tr>\n",
       "    <tr>\n",
       "      <th>11</th>\n",
       "      <td>120</td>\n",
       "      <td>1.0</td>\n",
       "      <td>0.938</td>\n",
       "    </tr>\n",
       "    <tr>\n",
       "      <th>12</th>\n",
       "      <td>130</td>\n",
       "      <td>1.0</td>\n",
       "      <td>0.938</td>\n",
       "    </tr>\n",
       "    <tr>\n",
       "      <th>13</th>\n",
       "      <td>140</td>\n",
       "      <td>1.0</td>\n",
       "      <td>0.945</td>\n",
       "    </tr>\n",
       "    <tr>\n",
       "      <th>14</th>\n",
       "      <td>150</td>\n",
       "      <td>1.0</td>\n",
       "      <td>0.953</td>\n",
       "    </tr>\n",
       "    <tr>\n",
       "      <th>15</th>\n",
       "      <td>160</td>\n",
       "      <td>1.0</td>\n",
       "      <td>0.953</td>\n",
       "    </tr>\n",
       "    <tr>\n",
       "      <th>16</th>\n",
       "      <td>170</td>\n",
       "      <td>1.0</td>\n",
       "      <td>0.953</td>\n",
       "    </tr>\n",
       "    <tr>\n",
       "      <th>17</th>\n",
       "      <td>180</td>\n",
       "      <td>1.0</td>\n",
       "      <td>0.953</td>\n",
       "    </tr>\n",
       "    <tr>\n",
       "      <th>18</th>\n",
       "      <td>190</td>\n",
       "      <td>1.0</td>\n",
       "      <td>0.945</td>\n",
       "    </tr>\n",
       "  </tbody>\n",
       "</table>\n",
       "</div>"
      ],
      "text/plain": [
       "    MinSampleLeaf  TrainScore  TestScore\n",
       "0              10         1.0      0.906\n",
       "1              20         1.0      0.930\n",
       "2              30         1.0      0.930\n",
       "3              40         1.0      0.930\n",
       "4              50         1.0      0.938\n",
       "5              60         1.0      0.930\n",
       "6              70         1.0      0.930\n",
       "7              80         1.0      0.930\n",
       "8              90         1.0      0.930\n",
       "9             100         1.0      0.938\n",
       "10            110         1.0      0.938\n",
       "11            120         1.0      0.938\n",
       "12            130         1.0      0.938\n",
       "13            140         1.0      0.945\n",
       "14            150         1.0      0.953\n",
       "15            160         1.0      0.953\n",
       "16            170         1.0      0.953\n",
       "17            180         1.0      0.953\n",
       "18            190         1.0      0.945"
      ]
     },
     "execution_count": 33,
     "metadata": {},
     "output_type": "execute_result"
    }
   ],
   "source": [
    "rf_acc_n_tree.round(3)"
   ]
  },
  {
   "cell_type": "code",
   "execution_count": 34,
   "id": "ae91935c",
   "metadata": {},
   "outputs": [
    {
     "data": {
      "text/plain": [
       "<matplotlib.legend.Legend at 0x7fd165894430>"
      ]
     },
     "execution_count": 34,
     "metadata": {},
     "output_type": "execute_result"
    },
    {
     "data": {
      "image/png": "[encoded data removed]",
      "text/plain": [
       "<Figure size 640x480 with 1 Axes>"
      ]
     },
     "metadata": {},
     "output_type": "display_data"
    }
   ],
   "source": [
    "# 그래프\n",
    "plt.plot(n_estimators, train_acc, linestyle = \"-\", label = \"TrainAccuracy\")\n",
    "plt.plot(n_estimators, test_acc, linestyle = \"--\", label = \"TestAccuracy\")\n",
    "plt.legend()"
   ]
  },
  {
   "cell_type": "markdown",
   "id": "a8eec636",
   "metadata": {},
   "source": [
    "* Train Data는 정확도 100%로 과적합 되어있다.  \n",
    "* Test Data의 정확도는 Tree의 수가 150까지는 증가하지만, 175 이후로 감소하고 있다."
   ]
  },
  {
   "cell_type": "markdown",
   "id": "a9d2bdf9",
   "metadata": {},
   "source": [
    "##### oob error 변화"
   ]
  },
  {
   "cell_type": "code",
   "execution_count": 35,
   "id": "cf3ee453",
   "metadata": {},
   "outputs": [],
   "source": [
    "oob_error = []\n",
    "for v_n_tree in range(1,181):\n",
    "    rf = RandomForestClassifier(random_state = random, n_estimators = v_n_tree, oob_score = True)\n",
    "    rf.fit(df_train_x, df_train_y)\n",
    "    oob_error.append(1 - rf.oob_score_)"
   ]
  },
  {
   "cell_type": "code",
   "execution_count": 36,
   "id": "ebce7cc7",
   "metadata": {},
   "outputs": [
    {
     "data": {
      "text/plain": [
       "Text(0.5, 0, 'n_estimators')"
      ]
     },
     "execution_count": 36,
     "metadata": {},
     "output_type": "execute_result"
    },
    {
     "data": {
      "image/png": "[encoded data removed]",
      "text/plain": [
       "<Figure size 640x480 with 1 Axes>"
      ]
     },
     "metadata": {},
     "output_type": "display_data"
    }
   ],
   "source": [
    "plt.plot(range(1,181), oob_error)\n",
    "plt.ylabel(\"oob error\")\n",
    "plt.xlabel(\"n_estimators\")"
   ]
  },
  {
   "cell_type": "code",
   "execution_count": 37,
   "id": "0624cd31",
   "metadata": {},
   "outputs": [],
   "source": [
    "# Tree 수 지정\n",
    "n_tree = 150"
   ]
  },
  {
   "cell_type": "markdown",
   "id": "7a87e581",
   "metadata": {},
   "source": [
    "* 트리 수를 150으로 지정한 이유?\n",
    "> Test Accuracy의 정확도는 트리 수가 150~170 사이에서 가장 뛰어나다.  \n",
    "> 그러나, obb error가 가장 작은 지역이 트리 수가 100 근처이다.  \n",
    "> Data의 분석 목적은 유방암 판정을 위한 종양의 특성을 확인하는 것으로,   \n",
    "의료 목적 상 정확도가 뛰어나야 하기 때문에 트리 수를 150으로 설정하였다."
   ]
  },
  {
   "cell_type": "markdown",
   "id": "6e740083",
   "metadata": {},
   "source": [
    "##### Max Depth"
   ]
  },
  {
   "cell_type": "code",
   "execution_count": 38,
   "id": "11d0e3a5",
   "metadata": {},
   "outputs": [],
   "source": [
    "train_acc = []\n",
    "test_acc = []\n",
    "\n",
    "para_depth = [depth for depth in range(1,11)]\n",
    "\n",
    "for v_max_depth in para_depth:\n",
    "    rf_max_depth = RandomForestClassifier(random_state = random, max_depth = v_max_depth, n_estimators = n_tree)\n",
    "    rf_max_depth.fit(df_train_x, df_train_y)\n",
    "    train_acc.append(rf_max_depth.score(df_train_x, df_train_y))\n",
    "    test_acc.append(rf_max_depth.score(df_test_x, df_test_y))\n",
    "\n",
    "# 결과 저장\n",
    "rf_acc_max_depth = pd.DataFrame()\n",
    "rf_acc_max_depth[\"MinSampleLeaf\"] = para_depth\n",
    "rf_acc_max_depth[\"TrainScore\"] = train_acc\n",
    "rf_acc_max_depth[\"TestScore\"] = test_acc"
   ]
  },
  {
   "cell_type": "code",
   "execution_count": 39,
   "id": "866694cd",
   "metadata": {},
   "outputs": [
    {
     "data": {
      "text/html": [
       "<div>\n",
       "<style scoped>\n",
       "    .dataframe tbody tr th:only-of-type {\n",
       "        vertical-align: middle;\n",
       "    }\n",
       "\n",
       "    .dataframe tbody tr th {\n",
       "        vertical-align: top;\n",
       "    }\n",
       "\n",
       "    .dataframe thead th {\n",
       "        text-align: right;\n",
       "    }\n",
       "</style>\n",
       "<table border=\"1\" class=\"dataframe\">\n",
       "  <thead>\n",
       "    <tr style=\"text-align: right;\">\n",
       "      <th></th>\n",
       "      <th>MinSampleLeaf</th>\n",
       "      <th>TrainScore</th>\n",
       "      <th>TestScore</th>\n",
       "    </tr>\n",
       "  </thead>\n",
       "  <tbody>\n",
       "    <tr>\n",
       "      <th>0</th>\n",
       "      <td>1</td>\n",
       "      <td>0.943</td>\n",
       "      <td>0.898</td>\n",
       "    </tr>\n",
       "    <tr>\n",
       "      <th>1</th>\n",
       "      <td>2</td>\n",
       "      <td>0.953</td>\n",
       "      <td>0.922</td>\n",
       "    </tr>\n",
       "    <tr>\n",
       "      <th>2</th>\n",
       "      <td>3</td>\n",
       "      <td>0.979</td>\n",
       "      <td>0.938</td>\n",
       "    </tr>\n",
       "    <tr>\n",
       "      <th>3</th>\n",
       "      <td>4</td>\n",
       "      <td>0.995</td>\n",
       "      <td>0.938</td>\n",
       "    </tr>\n",
       "    <tr>\n",
       "      <th>4</th>\n",
       "      <td>5</td>\n",
       "      <td>1.000</td>\n",
       "      <td>0.945</td>\n",
       "    </tr>\n",
       "    <tr>\n",
       "      <th>5</th>\n",
       "      <td>6</td>\n",
       "      <td>1.000</td>\n",
       "      <td>0.953</td>\n",
       "    </tr>\n",
       "    <tr>\n",
       "      <th>6</th>\n",
       "      <td>7</td>\n",
       "      <td>1.000</td>\n",
       "      <td>0.953</td>\n",
       "    </tr>\n",
       "    <tr>\n",
       "      <th>7</th>\n",
       "      <td>8</td>\n",
       "      <td>1.000</td>\n",
       "      <td>0.953</td>\n",
       "    </tr>\n",
       "    <tr>\n",
       "      <th>8</th>\n",
       "      <td>9</td>\n",
       "      <td>1.000</td>\n",
       "      <td>0.953</td>\n",
       "    </tr>\n",
       "    <tr>\n",
       "      <th>9</th>\n",
       "      <td>10</td>\n",
       "      <td>1.000</td>\n",
       "      <td>0.953</td>\n",
       "    </tr>\n",
       "  </tbody>\n",
       "</table>\n",
       "</div>"
      ],
      "text/plain": [
       "   MinSampleLeaf  TrainScore  TestScore\n",
       "0              1       0.943      0.898\n",
       "1              2       0.953      0.922\n",
       "2              3       0.979      0.938\n",
       "3              4       0.995      0.938\n",
       "4              5       1.000      0.945\n",
       "5              6       1.000      0.953\n",
       "6              7       1.000      0.953\n",
       "7              8       1.000      0.953\n",
       "8              9       1.000      0.953\n",
       "9             10       1.000      0.953"
      ]
     },
     "execution_count": 39,
     "metadata": {},
     "output_type": "execute_result"
    }
   ],
   "source": [
    "rf_acc_max_depth.round(3)"
   ]
  },
  {
   "cell_type": "code",
   "execution_count": 40,
   "id": "40015b69",
   "metadata": {},
   "outputs": [
    {
     "data": {
      "text/plain": [
       "<matplotlib.legend.Legend at 0x7fd16578bb80>"
      ]
     },
     "execution_count": 40,
     "metadata": {},
     "output_type": "execute_result"
    },
    {
     "data": {
      "image/png": "[encoded data removed]",
      "text/plain": [
       "<Figure size 640x480 with 1 Axes>"
      ]
     },
     "metadata": {},
     "output_type": "display_data"
    }
   ],
   "source": [
    "# 그래프\n",
    "plt.plot(para_depth, train_acc, linestyle = \"-\", label = \"TrainAccuracy\")\n",
    "plt.plot(para_depth, test_acc, linestyle = \"--\", label = \"TestAccuracy\")\n",
    "plt.legend()"
   ]
  },
  {
   "cell_type": "markdown",
   "id": "046ee772",
   "metadata": {},
   "source": [
    "* Tree의 Max_depth  \n",
    "> Tree의 깊이가 증가할수록 Train과 Test의 정확도가 증가하다가, \n",
    "Depth가 6이상에서 Train Data는 과적합, Test Data는 0.953으로 일정하게 유지되고 있다."
   ]
  },
  {
   "cell_type": "code",
   "execution_count": 41,
   "id": "1fecc3b2",
   "metadata": {},
   "outputs": [],
   "source": [
    "# Max_depth 설정\n",
    "max_depth = 6"
   ]
  },
  {
   "cell_type": "markdown",
   "id": "af218e8c",
   "metadata": {},
   "source": [
    "##### Min_Samples_Split"
   ]
  },
  {
   "cell_type": "code",
   "execution_count": 42,
   "id": "ec23d520",
   "metadata": {},
   "outputs": [],
   "source": [
    "train_acc = []\n",
    "test_acc = []\n",
    "\n",
    "para_split = [n_split * 10 for n_split in range(2,11)]\n",
    "\n",
    "for v_para_split in para_split:\n",
    "    rf_split = RandomForestClassifier(n_estimators = n_tree, random_state = random, \n",
    "                                      max_depth = max_depth , min_samples_split = v_para_split)\n",
    "    rf_split.fit(df_train_x, df_train_y)\n",
    "    train_acc.append(rf_split.score(df_train_x, df_train_y))\n",
    "    test_acc.append(rf_split.score(df_test_x, df_test_y))\n",
    "\n",
    "# 결과 저장\n",
    "rf_acc_split = pd.DataFrame()\n",
    "rf_acc_split[\"MinSampleLeaf\"] = para_split\n",
    "rf_acc_split[\"TrainScore\"] = train_acc\n",
    "rf_acc_split[\"TestScore\"] = test_acc"
   ]
  },
  {
   "cell_type": "code",
   "execution_count": 43,
   "id": "34116639",
   "metadata": {},
   "outputs": [
    {
     "data": {
      "text/html": [
       "<div>\n",
       "<style scoped>\n",
       "    .dataframe tbody tr th:only-of-type {\n",
       "        vertical-align: middle;\n",
       "    }\n",
       "\n",
       "    .dataframe tbody tr th {\n",
       "        vertical-align: top;\n",
       "    }\n",
       "\n",
       "    .dataframe thead th {\n",
       "        text-align: right;\n",
       "    }\n",
       "</style>\n",
       "<table border=\"1\" class=\"dataframe\">\n",
       "  <thead>\n",
       "    <tr style=\"text-align: right;\">\n",
       "      <th></th>\n",
       "      <th>MinSampleLeaf</th>\n",
       "      <th>TrainScore</th>\n",
       "      <th>TestScore</th>\n",
       "    </tr>\n",
       "  </thead>\n",
       "  <tbody>\n",
       "    <tr>\n",
       "      <th>0</th>\n",
       "      <td>20</td>\n",
       "      <td>0.969</td>\n",
       "      <td>0.930</td>\n",
       "    </tr>\n",
       "    <tr>\n",
       "      <th>1</th>\n",
       "      <td>30</td>\n",
       "      <td>0.969</td>\n",
       "      <td>0.922</td>\n",
       "    </tr>\n",
       "    <tr>\n",
       "      <th>2</th>\n",
       "      <td>40</td>\n",
       "      <td>0.953</td>\n",
       "      <td>0.914</td>\n",
       "    </tr>\n",
       "    <tr>\n",
       "      <th>3</th>\n",
       "      <td>50</td>\n",
       "      <td>0.958</td>\n",
       "      <td>0.914</td>\n",
       "    </tr>\n",
       "    <tr>\n",
       "      <th>4</th>\n",
       "      <td>60</td>\n",
       "      <td>0.958</td>\n",
       "      <td>0.914</td>\n",
       "    </tr>\n",
       "    <tr>\n",
       "      <th>5</th>\n",
       "      <td>70</td>\n",
       "      <td>0.953</td>\n",
       "      <td>0.914</td>\n",
       "    </tr>\n",
       "    <tr>\n",
       "      <th>6</th>\n",
       "      <td>80</td>\n",
       "      <td>0.948</td>\n",
       "      <td>0.914</td>\n",
       "    </tr>\n",
       "    <tr>\n",
       "      <th>7</th>\n",
       "      <td>90</td>\n",
       "      <td>0.948</td>\n",
       "      <td>0.898</td>\n",
       "    </tr>\n",
       "    <tr>\n",
       "      <th>8</th>\n",
       "      <td>100</td>\n",
       "      <td>0.943</td>\n",
       "      <td>0.898</td>\n",
       "    </tr>\n",
       "  </tbody>\n",
       "</table>\n",
       "</div>"
      ],
      "text/plain": [
       "   MinSampleLeaf  TrainScore  TestScore\n",
       "0             20       0.969      0.930\n",
       "1             30       0.969      0.922\n",
       "2             40       0.953      0.914\n",
       "3             50       0.958      0.914\n",
       "4             60       0.958      0.914\n",
       "5             70       0.953      0.914\n",
       "6             80       0.948      0.914\n",
       "7             90       0.948      0.898\n",
       "8            100       0.943      0.898"
      ]
     },
     "execution_count": 43,
     "metadata": {},
     "output_type": "execute_result"
    }
   ],
   "source": [
    "rf_acc_split.round(3)"
   ]
  },
  {
   "cell_type": "code",
   "execution_count": 44,
   "id": "59fd08c0",
   "metadata": {},
   "outputs": [
    {
     "data": {
      "text/plain": [
       "<matplotlib.legend.Legend at 0x7fd1657bedc0>"
      ]
     },
     "execution_count": 44,
     "metadata": {},
     "output_type": "execute_result"
    },
    {
     "data": {
      "image/png": "[encoded data removed]",
      "text/plain": [
       "<Figure size 640x480 with 1 Axes>"
      ]
     },
     "metadata": {},
     "output_type": "display_data"
    }
   ],
   "source": [
    "# 그래프\n",
    "plt.plot(para_split, train_acc, linestyle = \"-\", label = \"TrainAccuracy\")\n",
    "plt.plot(para_split, test_acc, linestyle = \"--\", label = \"TestAccuracy\")\n",
    "plt.legend()"
   ]
  },
  {
   "cell_type": "markdown",
   "id": "b27488e4",
   "metadata": {},
   "source": [
    "* Split Node의 최소 수 설정\n",
    "> Test Accuracy가 높아야 한다는 관점에서는 Split Node의 최소 수를 20으로 설정해야 한다.  \n",
    "> 최종 Model의 일반화를 고려한다면, Split Node의 최소 수를 60으로 설정해야 한다.  \n",
    "> 정확도 96.9%와 95.8%는 큰 차이가 없다고 판단하였고,  \n",
    "Split Node의 최소 수를 60으로 설정하였다."
   ]
  },
  {
   "cell_type": "code",
   "execution_count": 45,
   "id": "41a66cdb",
   "metadata": {},
   "outputs": [],
   "source": [
    "n_split = 60"
   ]
  },
  {
   "cell_type": "code",
   "execution_count": 46,
   "id": "bd05129d",
   "metadata": {},
   "outputs": [],
   "source": [
    "train_acc = []\n",
    "test_acc = []\n",
    "\n",
    "para_leaf = [n_leaf * 2 for n_leaf in range(1,16)]\n",
    "\n",
    "for v_para_leaf in para_leaf:\n",
    "    rf_leaf = RandomForestClassifier(random_state = random, max_depth = max_depth , \n",
    "                                       min_samples_split = n_split, min_samples_leaf = v_para_leaf)\n",
    "    rf_leaf.fit(df_train_x, df_train_y)\n",
    "    train_acc.append(rf_leaf.score(df_train_x, df_train_y))\n",
    "    test_acc.append(rf_leaf.score(df_test_x, df_test_y))\n",
    "\n",
    "# 결과 저장\n",
    "rf_acc_leaf = pd.DataFrame()\n",
    "rf_acc_leaf[\"MinSampleLeaf\"] = para_leaf\n",
    "rf_acc_leaf[\"TrainScore\"] = train_acc\n",
    "rf_acc_leaf[\"TestScore\"] = test_acc"
   ]
  },
  {
   "cell_type": "code",
   "execution_count": 47,
   "id": "2a7b9dfc",
   "metadata": {},
   "outputs": [
    {
     "data": {
      "text/html": [
       "<div>\n",
       "<style scoped>\n",
       "    .dataframe tbody tr th:only-of-type {\n",
       "        vertical-align: middle;\n",
       "    }\n",
       "\n",
       "    .dataframe tbody tr th {\n",
       "        vertical-align: top;\n",
       "    }\n",
       "\n",
       "    .dataframe thead th {\n",
       "        text-align: right;\n",
       "    }\n",
       "</style>\n",
       "<table border=\"1\" class=\"dataframe\">\n",
       "  <thead>\n",
       "    <tr style=\"text-align: right;\">\n",
       "      <th></th>\n",
       "      <th>MinSampleLeaf</th>\n",
       "      <th>TrainScore</th>\n",
       "      <th>TestScore</th>\n",
       "    </tr>\n",
       "  </thead>\n",
       "  <tbody>\n",
       "    <tr>\n",
       "      <th>0</th>\n",
       "      <td>2</td>\n",
       "      <td>0.948</td>\n",
       "      <td>0.914</td>\n",
       "    </tr>\n",
       "    <tr>\n",
       "      <th>1</th>\n",
       "      <td>4</td>\n",
       "      <td>0.943</td>\n",
       "      <td>0.914</td>\n",
       "    </tr>\n",
       "    <tr>\n",
       "      <th>2</th>\n",
       "      <td>6</td>\n",
       "      <td>0.948</td>\n",
       "      <td>0.914</td>\n",
       "    </tr>\n",
       "    <tr>\n",
       "      <th>3</th>\n",
       "      <td>8</td>\n",
       "      <td>0.943</td>\n",
       "      <td>0.906</td>\n",
       "    </tr>\n",
       "    <tr>\n",
       "      <th>4</th>\n",
       "      <td>10</td>\n",
       "      <td>0.943</td>\n",
       "      <td>0.906</td>\n",
       "    </tr>\n",
       "    <tr>\n",
       "      <th>5</th>\n",
       "      <td>12</td>\n",
       "      <td>0.943</td>\n",
       "      <td>0.906</td>\n",
       "    </tr>\n",
       "    <tr>\n",
       "      <th>6</th>\n",
       "      <td>14</td>\n",
       "      <td>0.943</td>\n",
       "      <td>0.906</td>\n",
       "    </tr>\n",
       "    <tr>\n",
       "      <th>7</th>\n",
       "      <td>16</td>\n",
       "      <td>0.943</td>\n",
       "      <td>0.906</td>\n",
       "    </tr>\n",
       "    <tr>\n",
       "      <th>8</th>\n",
       "      <td>18</td>\n",
       "      <td>0.948</td>\n",
       "      <td>0.906</td>\n",
       "    </tr>\n",
       "    <tr>\n",
       "      <th>9</th>\n",
       "      <td>20</td>\n",
       "      <td>0.948</td>\n",
       "      <td>0.898</td>\n",
       "    </tr>\n",
       "    <tr>\n",
       "      <th>10</th>\n",
       "      <td>22</td>\n",
       "      <td>0.948</td>\n",
       "      <td>0.898</td>\n",
       "    </tr>\n",
       "    <tr>\n",
       "      <th>11</th>\n",
       "      <td>24</td>\n",
       "      <td>0.948</td>\n",
       "      <td>0.898</td>\n",
       "    </tr>\n",
       "    <tr>\n",
       "      <th>12</th>\n",
       "      <td>26</td>\n",
       "      <td>0.948</td>\n",
       "      <td>0.898</td>\n",
       "    </tr>\n",
       "    <tr>\n",
       "      <th>13</th>\n",
       "      <td>28</td>\n",
       "      <td>0.943</td>\n",
       "      <td>0.898</td>\n",
       "    </tr>\n",
       "    <tr>\n",
       "      <th>14</th>\n",
       "      <td>30</td>\n",
       "      <td>0.943</td>\n",
       "      <td>0.898</td>\n",
       "    </tr>\n",
       "  </tbody>\n",
       "</table>\n",
       "</div>"
      ],
      "text/plain": [
       "    MinSampleLeaf  TrainScore  TestScore\n",
       "0               2       0.948      0.914\n",
       "1               4       0.943      0.914\n",
       "2               6       0.948      0.914\n",
       "3               8       0.943      0.906\n",
       "4              10       0.943      0.906\n",
       "5              12       0.943      0.906\n",
       "6              14       0.943      0.906\n",
       "7              16       0.943      0.906\n",
       "8              18       0.948      0.906\n",
       "9              20       0.948      0.898\n",
       "10             22       0.948      0.898\n",
       "11             24       0.948      0.898\n",
       "12             26       0.948      0.898\n",
       "13             28       0.943      0.898\n",
       "14             30       0.943      0.898"
      ]
     },
     "execution_count": 47,
     "metadata": {},
     "output_type": "execute_result"
    }
   ],
   "source": [
    "rf_acc_leaf.round(3)"
   ]
  },
  {
   "cell_type": "code",
   "execution_count": 48,
   "id": "6abcf7c3",
   "metadata": {},
   "outputs": [
    {
     "data": {
      "text/plain": [
       "<matplotlib.legend.Legend at 0x7fd1605db070>"
      ]
     },
     "execution_count": 48,
     "metadata": {},
     "output_type": "execute_result"
    },
    {
     "data": {
      "image/png": "[encoded data removed]",
      "text/plain": [
       "<Figure size 640x480 with 1 Axes>"
      ]
     },
     "metadata": {},
     "output_type": "display_data"
    }
   ],
   "source": [
    "# 그래프\n",
    "plt.plot(para_leaf, train_acc, linestyle = \"-\", label = \"TrainAccuracy\")\n",
    "plt.plot(para_leaf, test_acc, linestyle = \"--\", label = \"TestAccuracy\")\n",
    "plt.legend()"
   ]
  },
  {
   "cell_type": "markdown",
   "id": "319aee4e",
   "metadata": {},
   "source": [
    "* Leaf의 최소 Sample 수 설정  \n",
    "> 최종 Model의 일반성을 고려한다면 10이상으로 설정해야 할 것이다.  \n",
    "> 최소 Sampel 수가 8부터 18까지는 Test Accuracy가 0.906으로 일정하게 유지되고 있다.  \n",
    "> Model의 성능과 일반성을 모두 고려하여 Leaf 최소 Sample 수를 18로 설정하였다."
   ]
  },
  {
   "cell_type": "markdown",
   "id": "28182fa6",
   "metadata": {},
   "source": [
    "#### Model 선정 및 성능 평가(정확성 및 일반화)"
   ]
  },
  {
   "cell_type": "code",
   "execution_count": 49,
   "id": "e7965771",
   "metadata": {},
   "outputs": [
    {
     "data": {
      "text/html": [
       "<style>#sk-container-id-6 {color: black;background-color: white;}#sk-container-id-6 pre{padding: 0;}#sk-container-id-6 div.sk-toggleable {background-color: white;}#sk-container-id-6 label.sk-toggleable__label {cursor: pointer;display: block;width: 100%;margin-bottom: 0;padding: 0.3em;box-sizing: border-box;text-align: center;}#sk-container-id-6 label.sk-toggleable__label-arrow:before {content: \"▸\";float: left;margin-right: 0.25em;color: #696969;}#sk-container-id-6 label.sk-toggleable__label-arrow:hover:before {color: black;}#sk-container-id-6 div.sk-estimator:hover label.sk-toggleable__label-arrow:before {color: black;}#sk-container-id-6 div.sk-toggleable__content {max-height: 0;max-width: 0;overflow: hidden;text-align: left;background-color: #f0f8ff;}#sk-container-id-6 div.sk-toggleable__content pre {margin: 0.2em;color: black;border-radius: 0.25em;background-color: #f0f8ff;}#sk-container-id-6 input.sk-toggleable__control:checked~div.sk-toggleable__content {max-height: 200px;max-width: 100%;overflow: auto;}#sk-container-id-6 input.sk-toggleable__control:checked~label.sk-toggleable__label-arrow:before {content: \"▾\";}#sk-container-id-6 div.sk-estimator input.sk-toggleable__control:checked~label.sk-toggleable__label {background-color: #d4ebff;}#sk-container-id-6 div.sk-label input.sk-toggleable__control:checked~label.sk-toggleable__label {background-color: #d4ebff;}#sk-container-id-6 input.sk-hidden--visually {border: 0;clip: rect(1px 1px 1px 1px);clip: rect(1px, 1px, 1px, 1px);height: 1px;margin: -1px;overflow: hidden;padding: 0;position: absolute;width: 1px;}#sk-container-id-6 div.sk-estimator {font-family: monospace;background-color: #f0f8ff;border: 1px dotted black;border-radius: 0.25em;box-sizing: border-box;margin-bottom: 0.5em;}#sk-container-id-6 div.sk-estimator:hover {background-color: #d4ebff;}#sk-container-id-6 div.sk-parallel-item::after {content: \"\";width: 100%;border-bottom: 1px solid gray;flex-grow: 1;}#sk-container-id-6 div.sk-label:hover label.sk-toggleable__label {background-color: #d4ebff;}#sk-container-id-6 div.sk-serial::before {content: \"\";position: absolute;border-left: 1px solid gray;box-sizing: border-box;top: 0;bottom: 0;left: 50%;z-index: 0;}#sk-container-id-6 div.sk-serial {display: flex;flex-direction: column;align-items: center;background-color: white;padding-right: 0.2em;padding-left: 0.2em;position: relative;}#sk-container-id-6 div.sk-item {position: relative;z-index: 1;}#sk-container-id-6 div.sk-parallel {display: flex;align-items: stretch;justify-content: center;background-color: white;position: relative;}#sk-container-id-6 div.sk-item::before, #sk-container-id-6 div.sk-parallel-item::before {content: \"\";position: absolute;border-left: 1px solid gray;box-sizing: border-box;top: 0;bottom: 0;left: 50%;z-index: -1;}#sk-container-id-6 div.sk-parallel-item {display: flex;flex-direction: column;z-index: 1;position: relative;background-color: white;}#sk-container-id-6 div.sk-parallel-item:first-child::after {align-self: flex-end;width: 50%;}#sk-container-id-6 div.sk-parallel-item:last-child::after {align-self: flex-start;width: 50%;}#sk-container-id-6 div.sk-parallel-item:only-child::after {width: 0;}#sk-container-id-6 div.sk-dashed-wrapped {border: 1px dashed gray;margin: 0 0.4em 0.5em 0.4em;box-sizing: border-box;padding-bottom: 0.4em;background-color: white;}#sk-container-id-6 div.sk-label label {font-family: monospace;font-weight: bold;display: inline-block;line-height: 1.2em;}#sk-container-id-6 div.sk-label-container {text-align: center;}#sk-container-id-6 div.sk-container {/* jupyter's `normalize.less` sets `[hidden] { display: none; }` but bootstrap.min.css set `[hidden] { display: none !important; }` so we also need the `!important` here to be able to override the default hidden behavior on the sphinx rendered scikit-learn.org. See: https://github.com/scikit-learn/scikit-learn/issues/21755 */display: inline-block !important;position: relative;}#sk-container-id-6 div.sk-text-repr-fallback {display: none;}</style><div id=\"sk-container-id-6\" class=\"sk-top-container\"><div class=\"sk-text-repr-fallback\"><pre>RandomForestClassifier(max_depth=6, min_samples_leaf=18, min_samples_split=60,\n",
       "                       random_state=100)</pre><b>In a Jupyter environment, please rerun this cell to show the HTML representation or trust the notebook. <br />On GitHub, the HTML representation is unable to render, please try loading this page with nbviewer.org.</b></div><div class=\"sk-container\" hidden><div class=\"sk-item\"><div class=\"sk-estimator sk-toggleable\"><input class=\"sk-toggleable__control sk-hidden--visually\" id=\"sk-estimator-id-6\" type=\"checkbox\" checked><label for=\"sk-estimator-id-6\" class=\"sk-toggleable__label sk-toggleable__label-arrow\">RandomForestClassifier</label><div class=\"sk-toggleable__content\"><pre>RandomForestClassifier(max_depth=6, min_samples_leaf=18, min_samples_split=60,\n",
       "                       random_state=100)</pre></div></div></div></div></div>"
      ],
      "text/plain": [
       "RandomForestClassifier(max_depth=6, min_samples_leaf=18, min_samples_split=60,\n",
       "                       random_state=100)"
      ]
     },
     "execution_count": 49,
     "metadata": {},
     "output_type": "execute_result"
    }
   ],
   "source": [
    "rf_final = RandomForestClassifier(random_state = 100, min_samples_leaf = 18, \n",
    "                                   min_samples_split = 60, max_depth = 6)\n",
    "rf_final.fit(df_train_x, df_train_y)"
   ]
  },
  {
   "cell_type": "code",
   "execution_count": 50,
   "id": "b3e91875",
   "metadata": {},
   "outputs": [
    {
     "name": "stdout",
     "output_type": "stream",
     "text": [
      "Score_train : 0.9479166666666666\n",
      "Score_test : 0.90625\n"
     ]
    }
   ],
   "source": [
    "print(\"Score_train : {0}\".format(rf_final.score(df_train_x, df_train_y)))\n",
    "print(\"Score_test : {0}\".format(rf_final.score(df_test_x, df_test_y)))"
   ]
  },
  {
   "cell_type": "markdown",
   "id": "df9a2dfe",
   "metadata": {},
   "source": [
    "## 결론 도출"
   ]
  },
  {
   "cell_type": "markdown",
   "id": "6e39da09",
   "metadata": {},
   "source": [
    "### Decision Tree"
   ]
  },
  {
   "cell_type": "markdown",
   "id": "5d89c4c1",
   "metadata": {},
   "source": [
    "#### Feature Importance"
   ]
  },
  {
   "cell_type": "code",
   "execution_count": 51,
   "id": "3d1a0f3e",
   "metadata": {},
   "outputs": [],
   "source": [
    "df_importance = pd.DataFrame()\n",
    "df_importance[\"Feature\"] = v_feature_name\n",
    "df_importance[\"importance\"] = tree_final.feature_importances_"
   ]
  },
  {
   "cell_type": "code",
   "execution_count": 52,
   "id": "26381410",
   "metadata": {},
   "outputs": [
    {
     "data": {
      "text/html": [
       "<div>\n",
       "<style scoped>\n",
       "    .dataframe tbody tr th:only-of-type {\n",
       "        vertical-align: middle;\n",
       "    }\n",
       "\n",
       "    .dataframe tbody tr th {\n",
       "        vertical-align: top;\n",
       "    }\n",
       "\n",
       "    .dataframe thead th {\n",
       "        text-align: right;\n",
       "    }\n",
       "</style>\n",
       "<table border=\"1\" class=\"dataframe\">\n",
       "  <thead>\n",
       "    <tr style=\"text-align: right;\">\n",
       "      <th></th>\n",
       "      <th>Feature</th>\n",
       "      <th>importance</th>\n",
       "    </tr>\n",
       "  </thead>\n",
       "  <tbody>\n",
       "    <tr>\n",
       "      <th>22</th>\n",
       "      <td>worst_perimeter</td>\n",
       "      <td>0.923</td>\n",
       "    </tr>\n",
       "    <tr>\n",
       "      <th>7</th>\n",
       "      <td>mean_concave_points</td>\n",
       "      <td>0.060</td>\n",
       "    </tr>\n",
       "    <tr>\n",
       "      <th>21</th>\n",
       "      <td>worst_texture</td>\n",
       "      <td>0.017</td>\n",
       "    </tr>\n",
       "    <tr>\n",
       "      <th>0</th>\n",
       "      <td>mean_radius</td>\n",
       "      <td>0.000</td>\n",
       "    </tr>\n",
       "    <tr>\n",
       "      <th>16</th>\n",
       "      <td>concavity_error</td>\n",
       "      <td>0.000</td>\n",
       "    </tr>\n",
       "    <tr>\n",
       "      <th>28</th>\n",
       "      <td>worst_symmetry</td>\n",
       "      <td>0.000</td>\n",
       "    </tr>\n",
       "    <tr>\n",
       "      <th>27</th>\n",
       "      <td>worst_concave_points</td>\n",
       "      <td>0.000</td>\n",
       "    </tr>\n",
       "    <tr>\n",
       "      <th>26</th>\n",
       "      <td>worst_concavity</td>\n",
       "      <td>0.000</td>\n",
       "    </tr>\n",
       "    <tr>\n",
       "      <th>25</th>\n",
       "      <td>worst_compactness</td>\n",
       "      <td>0.000</td>\n",
       "    </tr>\n",
       "    <tr>\n",
       "      <th>24</th>\n",
       "      <td>worst_smoothness</td>\n",
       "      <td>0.000</td>\n",
       "    </tr>\n",
       "    <tr>\n",
       "      <th>23</th>\n",
       "      <td>worst_area</td>\n",
       "      <td>0.000</td>\n",
       "    </tr>\n",
       "    <tr>\n",
       "      <th>20</th>\n",
       "      <td>worst_radius</td>\n",
       "      <td>0.000</td>\n",
       "    </tr>\n",
       "    <tr>\n",
       "      <th>19</th>\n",
       "      <td>fractal_dimension_error</td>\n",
       "      <td>0.000</td>\n",
       "    </tr>\n",
       "    <tr>\n",
       "      <th>18</th>\n",
       "      <td>symmetry_error</td>\n",
       "      <td>0.000</td>\n",
       "    </tr>\n",
       "    <tr>\n",
       "      <th>17</th>\n",
       "      <td>concave_points_error</td>\n",
       "      <td>0.000</td>\n",
       "    </tr>\n",
       "    <tr>\n",
       "      <th>15</th>\n",
       "      <td>compactness_error</td>\n",
       "      <td>0.000</td>\n",
       "    </tr>\n",
       "    <tr>\n",
       "      <th>1</th>\n",
       "      <td>mean_texture</td>\n",
       "      <td>0.000</td>\n",
       "    </tr>\n",
       "    <tr>\n",
       "      <th>14</th>\n",
       "      <td>smoothness_error</td>\n",
       "      <td>0.000</td>\n",
       "    </tr>\n",
       "    <tr>\n",
       "      <th>13</th>\n",
       "      <td>area_error</td>\n",
       "      <td>0.000</td>\n",
       "    </tr>\n",
       "    <tr>\n",
       "      <th>12</th>\n",
       "      <td>perimeter_error</td>\n",
       "      <td>0.000</td>\n",
       "    </tr>\n",
       "    <tr>\n",
       "      <th>11</th>\n",
       "      <td>texture_error</td>\n",
       "      <td>0.000</td>\n",
       "    </tr>\n",
       "    <tr>\n",
       "      <th>10</th>\n",
       "      <td>radius_error</td>\n",
       "      <td>0.000</td>\n",
       "    </tr>\n",
       "    <tr>\n",
       "      <th>9</th>\n",
       "      <td>mean_fractal_dimension</td>\n",
       "      <td>0.000</td>\n",
       "    </tr>\n",
       "    <tr>\n",
       "      <th>8</th>\n",
       "      <td>mean_symmetry</td>\n",
       "      <td>0.000</td>\n",
       "    </tr>\n",
       "    <tr>\n",
       "      <th>6</th>\n",
       "      <td>mean_concavity</td>\n",
       "      <td>0.000</td>\n",
       "    </tr>\n",
       "    <tr>\n",
       "      <th>5</th>\n",
       "      <td>mean_compactness</td>\n",
       "      <td>0.000</td>\n",
       "    </tr>\n",
       "    <tr>\n",
       "      <th>4</th>\n",
       "      <td>mean_smoothness</td>\n",
       "      <td>0.000</td>\n",
       "    </tr>\n",
       "    <tr>\n",
       "      <th>3</th>\n",
       "      <td>mean_area</td>\n",
       "      <td>0.000</td>\n",
       "    </tr>\n",
       "    <tr>\n",
       "      <th>2</th>\n",
       "      <td>mean_perimeter</td>\n",
       "      <td>0.000</td>\n",
       "    </tr>\n",
       "    <tr>\n",
       "      <th>29</th>\n",
       "      <td>worst_fractal_dimension</td>\n",
       "      <td>0.000</td>\n",
       "    </tr>\n",
       "  </tbody>\n",
       "</table>\n",
       "</div>"
      ],
      "text/plain": [
       "                    Feature  importance\n",
       "22          worst_perimeter       0.923\n",
       "7       mean_concave_points       0.060\n",
       "21            worst_texture       0.017\n",
       "0               mean_radius       0.000\n",
       "16          concavity_error       0.000\n",
       "28           worst_symmetry       0.000\n",
       "27     worst_concave_points       0.000\n",
       "26          worst_concavity       0.000\n",
       "25        worst_compactness       0.000\n",
       "24         worst_smoothness       0.000\n",
       "23               worst_area       0.000\n",
       "20             worst_radius       0.000\n",
       "19  fractal_dimension_error       0.000\n",
       "18           symmetry_error       0.000\n",
       "17     concave_points_error       0.000\n",
       "15        compactness_error       0.000\n",
       "1              mean_texture       0.000\n",
       "14         smoothness_error       0.000\n",
       "13               area_error       0.000\n",
       "12          perimeter_error       0.000\n",
       "11            texture_error       0.000\n",
       "10             radius_error       0.000\n",
       "9    mean_fractal_dimension       0.000\n",
       "8             mean_symmetry       0.000\n",
       "6            mean_concavity       0.000\n",
       "5          mean_compactness       0.000\n",
       "4           mean_smoothness       0.000\n",
       "3                 mean_area       0.000\n",
       "2            mean_perimeter       0.000\n",
       "29  worst_fractal_dimension       0.000"
      ]
     },
     "execution_count": 52,
     "metadata": {},
     "output_type": "execute_result"
    }
   ],
   "source": [
    "# Importance 별로 정렬\n",
    "df_importance.sort_values('importance', ascending = False, inplace = True)\n",
    "df_importance.round(3)"
   ]
  },
  {
   "cell_type": "markdown",
   "id": "48c45bd1",
   "metadata": {},
   "source": [
    "#### Feature Importance Result"
   ]
  },
  {
   "cell_type": "code",
   "execution_count": 53,
   "id": "12148e85",
   "metadata": {},
   "outputs": [
    {
     "data": {
      "text/plain": [
       "Text(0, 0.5, '변수')"
      ]
     },
     "execution_count": 53,
     "metadata": {},
     "output_type": "execute_result"
    },
    {
     "data": {
      "image/png": "[encoded data removed]",
      "text/plain": [
       "<Figure size 640x480 with 1 Axes>"
      ]
     },
     "metadata": {},
     "output_type": "display_data"
    }
   ],
   "source": [
    "# 그래프 도식화\n",
    "df_importance.sort_values('importance', ascending = True, inplace = True)\n",
    "coordinates = range(len(df_importance))\n",
    "plt.barh(y = coordinates, width = df_importance['importance'])\n",
    "plt.yticks(coordinates, df_importance['Feature'])\n",
    "plt.xlabel(\"변수 중요도\")\n",
    "plt.ylabel(\"변수\")"
   ]
  },
  {
   "cell_type": "markdown",
   "id": "6e7288d8",
   "metadata": {},
   "source": [
    "* 중요 설명변수 : 트리 생성 시 000, 000 순으로 영향이 크다고 해석할 수 있다.  \n",
    "\n",
    "\n",
    "* 단, 계산된 변수 중요도 값이 낮거나 0이더라도 선택되는 Train Data에 따라 중요도는 변경될 수 있다.  "
   ]
  },
  {
   "cell_type": "markdown",
   "id": "fe24154a",
   "metadata": {},
   "source": [
    "#### 최종 Model 생성"
   ]
  },
  {
   "cell_type": "code",
   "execution_count": null,
   "id": "e03942cd",
   "metadata": {},
   "outputs": [],
   "source": []
  },
  {
   "cell_type": "code",
   "execution_count": 54,
   "id": "5308375d",
   "metadata": {},
   "outputs": [],
   "source": [
    "# Data 불러오기\n",
    "df_raw = df_raw.replace('양성', 1)\n",
    "df_raw = df_raw.replace('음성', 0)\n",
    "df_raw_x = df_raw.drop(\"diagnosis\", axis = 1, inplace = False)\n",
    "df_raw_y = df_raw[\"diagnosis\"]\n",
    "# Vital Feature 선별\n",
    "df_dt_x1 = df_raw_x['worst_perimeter']\n",
    "df_dt_x2 = df_raw_x['mean_concave_points']\n",
    "df_dt_x = pd.concat([df_dt_x1,df_dt_x2], axis = 1)\n",
    "# Data Split\n",
    "df_train_x_f, df_test_x_f, df_train_y_f, df_test_y_f = train_test_split(df_dt_x, df_raw_y, test_size = 0.4, random_state = random)"
   ]
  },
  {
   "cell_type": "code",
   "execution_count": 55,
   "id": "b8ee6a03",
   "metadata": {},
   "outputs": [
    {
     "name": "stdout",
     "output_type": "stream",
     "text": [
      "Accuracy: 0.898\n",
      "\n",
      "Confusion matrix: \n",
      "[[79  4]\n",
      " [ 9 36]]\n",
      "              precision    recall  f1-score   support\n",
      "\n",
      "           0      0.898     0.952     0.924        83\n",
      "           1      0.900     0.800     0.847        45\n",
      "\n",
      "    accuracy                          0.898       128\n",
      "   macro avg      0.899     0.876     0.886       128\n",
      "weighted avg      0.899     0.898     0.897       128\n",
      "\n"
     ]
    }
   ],
   "source": [
    "# Model Predict\n",
    "dt_finally = DecisionTreeClassifier(random_state = 100, min_samples_leaf = 20, min_samples_split = 60, max_depth = 5)\n",
    "dt_finally.fit(df_train_x_f,df_train_y_f)\n",
    "y_pred_dt = dt_finally.predict(df_test_x_f)\n",
    "print(\"Accuracy: {0:.3f}\\n\".format(dt_finally.score(df_test_x_f,df_test_y_f)))\n",
    "print(\"Confusion matrix: \\n{0}\".format(confusion_matrix(df_test_y_f, y_pred_dt)))\n",
    "print(classification_report(df_test_y_f, y_pred_dt, digits=3))"
   ]
  },
  {
   "cell_type": "markdown",
   "id": "f4f4d1a0",
   "metadata": {},
   "source": [
    "### RandomForset"
   ]
  },
  {
   "cell_type": "markdown",
   "id": "430d2c77",
   "metadata": {},
   "source": [
    "#### Feature Importance"
   ]
  },
  {
   "cell_type": "code",
   "execution_count": 56,
   "id": "77767f5e",
   "metadata": {},
   "outputs": [],
   "source": [
    "rf_importance = pd.DataFrame()\n",
    "rf_importance[\"Feature\"] = v_feature_name\n",
    "rf_importance[\"importance\"] = rf_final.feature_importances_"
   ]
  },
  {
   "cell_type": "code",
   "execution_count": 57,
   "id": "f1a8e3ab",
   "metadata": {},
   "outputs": [
    {
     "data": {
      "text/html": [
       "<div>\n",
       "<style scoped>\n",
       "    .dataframe tbody tr th:only-of-type {\n",
       "        vertical-align: middle;\n",
       "    }\n",
       "\n",
       "    .dataframe tbody tr th {\n",
       "        vertical-align: top;\n",
       "    }\n",
       "\n",
       "    .dataframe thead th {\n",
       "        text-align: right;\n",
       "    }\n",
       "</style>\n",
       "<table border=\"1\" class=\"dataframe\">\n",
       "  <thead>\n",
       "    <tr style=\"text-align: right;\">\n",
       "      <th></th>\n",
       "      <th>Feature</th>\n",
       "      <th>importance</th>\n",
       "    </tr>\n",
       "  </thead>\n",
       "  <tbody>\n",
       "    <tr>\n",
       "      <th>23</th>\n",
       "      <td>worst_area</td>\n",
       "      <td>0.173</td>\n",
       "    </tr>\n",
       "    <tr>\n",
       "      <th>22</th>\n",
       "      <td>worst_perimeter</td>\n",
       "      <td>0.142</td>\n",
       "    </tr>\n",
       "    <tr>\n",
       "      <th>20</th>\n",
       "      <td>worst_radius</td>\n",
       "      <td>0.111</td>\n",
       "    </tr>\n",
       "    <tr>\n",
       "      <th>7</th>\n",
       "      <td>mean_concave_points</td>\n",
       "      <td>0.099</td>\n",
       "    </tr>\n",
       "    <tr>\n",
       "      <th>0</th>\n",
       "      <td>mean_radius</td>\n",
       "      <td>0.079</td>\n",
       "    </tr>\n",
       "    <tr>\n",
       "      <th>26</th>\n",
       "      <td>worst_concavity</td>\n",
       "      <td>0.071</td>\n",
       "    </tr>\n",
       "    <tr>\n",
       "      <th>27</th>\n",
       "      <td>worst_concave_points</td>\n",
       "      <td>0.066</td>\n",
       "    </tr>\n",
       "    <tr>\n",
       "      <th>2</th>\n",
       "      <td>mean_perimeter</td>\n",
       "      <td>0.061</td>\n",
       "    </tr>\n",
       "    <tr>\n",
       "      <th>6</th>\n",
       "      <td>mean_concavity</td>\n",
       "      <td>0.049</td>\n",
       "    </tr>\n",
       "    <tr>\n",
       "      <th>3</th>\n",
       "      <td>mean_area</td>\n",
       "      <td>0.042</td>\n",
       "    </tr>\n",
       "    <tr>\n",
       "      <th>13</th>\n",
       "      <td>area_error</td>\n",
       "      <td>0.031</td>\n",
       "    </tr>\n",
       "    <tr>\n",
       "      <th>12</th>\n",
       "      <td>perimeter_error</td>\n",
       "      <td>0.020</td>\n",
       "    </tr>\n",
       "    <tr>\n",
       "      <th>25</th>\n",
       "      <td>worst_compactness</td>\n",
       "      <td>0.011</td>\n",
       "    </tr>\n",
       "    <tr>\n",
       "      <th>1</th>\n",
       "      <td>mean_texture</td>\n",
       "      <td>0.009</td>\n",
       "    </tr>\n",
       "    <tr>\n",
       "      <th>5</th>\n",
       "      <td>mean_compactness</td>\n",
       "      <td>0.008</td>\n",
       "    </tr>\n",
       "    <tr>\n",
       "      <th>16</th>\n",
       "      <td>concavity_error</td>\n",
       "      <td>0.007</td>\n",
       "    </tr>\n",
       "    <tr>\n",
       "      <th>10</th>\n",
       "      <td>radius_error</td>\n",
       "      <td>0.007</td>\n",
       "    </tr>\n",
       "    <tr>\n",
       "      <th>17</th>\n",
       "      <td>concave_points_error</td>\n",
       "      <td>0.006</td>\n",
       "    </tr>\n",
       "    <tr>\n",
       "      <th>21</th>\n",
       "      <td>worst_texture</td>\n",
       "      <td>0.003</td>\n",
       "    </tr>\n",
       "    <tr>\n",
       "      <th>18</th>\n",
       "      <td>symmetry_error</td>\n",
       "      <td>0.001</td>\n",
       "    </tr>\n",
       "    <tr>\n",
       "      <th>24</th>\n",
       "      <td>worst_smoothness</td>\n",
       "      <td>0.001</td>\n",
       "    </tr>\n",
       "    <tr>\n",
       "      <th>8</th>\n",
       "      <td>mean_symmetry</td>\n",
       "      <td>0.001</td>\n",
       "    </tr>\n",
       "    <tr>\n",
       "      <th>4</th>\n",
       "      <td>mean_smoothness</td>\n",
       "      <td>0.001</td>\n",
       "    </tr>\n",
       "    <tr>\n",
       "      <th>15</th>\n",
       "      <td>compactness_error</td>\n",
       "      <td>0.000</td>\n",
       "    </tr>\n",
       "    <tr>\n",
       "      <th>19</th>\n",
       "      <td>fractal_dimension_error</td>\n",
       "      <td>0.000</td>\n",
       "    </tr>\n",
       "    <tr>\n",
       "      <th>14</th>\n",
       "      <td>smoothness_error</td>\n",
       "      <td>0.000</td>\n",
       "    </tr>\n",
       "    <tr>\n",
       "      <th>11</th>\n",
       "      <td>texture_error</td>\n",
       "      <td>0.000</td>\n",
       "    </tr>\n",
       "    <tr>\n",
       "      <th>9</th>\n",
       "      <td>mean_fractal_dimension</td>\n",
       "      <td>0.000</td>\n",
       "    </tr>\n",
       "    <tr>\n",
       "      <th>28</th>\n",
       "      <td>worst_symmetry</td>\n",
       "      <td>0.000</td>\n",
       "    </tr>\n",
       "    <tr>\n",
       "      <th>29</th>\n",
       "      <td>worst_fractal_dimension</td>\n",
       "      <td>0.000</td>\n",
       "    </tr>\n",
       "  </tbody>\n",
       "</table>\n",
       "</div>"
      ],
      "text/plain": [
       "                    Feature  importance\n",
       "23               worst_area       0.173\n",
       "22          worst_perimeter       0.142\n",
       "20             worst_radius       0.111\n",
       "7       mean_concave_points       0.099\n",
       "0               mean_radius       0.079\n",
       "26          worst_concavity       0.071\n",
       "27     worst_concave_points       0.066\n",
       "2            mean_perimeter       0.061\n",
       "6            mean_concavity       0.049\n",
       "3                 mean_area       0.042\n",
       "13               area_error       0.031\n",
       "12          perimeter_error       0.020\n",
       "25        worst_compactness       0.011\n",
       "1              mean_texture       0.009\n",
       "5          mean_compactness       0.008\n",
       "16          concavity_error       0.007\n",
       "10             radius_error       0.007\n",
       "17     concave_points_error       0.006\n",
       "21            worst_texture       0.003\n",
       "18           symmetry_error       0.001\n",
       "24         worst_smoothness       0.001\n",
       "8             mean_symmetry       0.001\n",
       "4           mean_smoothness       0.001\n",
       "15        compactness_error       0.000\n",
       "19  fractal_dimension_error       0.000\n",
       "14         smoothness_error       0.000\n",
       "11            texture_error       0.000\n",
       "9    mean_fractal_dimension       0.000\n",
       "28           worst_symmetry       0.000\n",
       "29  worst_fractal_dimension       0.000"
      ]
     },
     "execution_count": 57,
     "metadata": {},
     "output_type": "execute_result"
    }
   ],
   "source": [
    "# Importance 별로 정렬\n",
    "rf_importance.sort_values('importance', ascending = False, inplace = True)\n",
    "rf_importance.round(3)"
   ]
  },
  {
   "cell_type": "markdown",
   "id": "bd8cf131",
   "metadata": {},
   "source": [
    "#### Feature Importance Result"
   ]
  },
  {
   "cell_type": "code",
   "execution_count": 58,
   "id": "b1f81aa8",
   "metadata": {},
   "outputs": [
    {
     "data": {
      "text/plain": [
       "Text(0, 0.5, '변수')"
      ]
     },
     "execution_count": 58,
     "metadata": {},
     "output_type": "execute_result"
    },
    {
     "data": {
      "image/png": "[encoded data removed]",
      "text/plain": [
       "<Figure size 640x480 with 1 Axes>"
      ]
     },
     "metadata": {},
     "output_type": "display_data"
    }
   ],
   "source": [
    "# 그래프 도식화\n",
    "rf_importance.sort_values('importance', ascending = True, inplace = True)\n",
    "coordinates = range(len(df_importance))\n",
    "plt.barh(y = coordinates, width = rf_importance['importance'])\n",
    "plt.yticks(coordinates, rf_importance['Feature'])\n",
    "plt.xlabel(\"변수 중요도\")\n",
    "plt.ylabel(\"변수\")"
   ]
  },
  {
   "cell_type": "markdown",
   "id": "428552de",
   "metadata": {},
   "source": [
    "#### 최종 Model 생성"
   ]
  },
  {
   "cell_type": "code",
   "execution_count": 59,
   "id": "28046957",
   "metadata": {},
   "outputs": [],
   "source": [
    "# Data 불러오기\n",
    "df_raw = df_raw.replace('양성', 1)\n",
    "df_raw = df_raw.replace('음성', 0)\n",
    "df_raw_x = df_raw.drop(\"diagnosis\", axis = 1, inplace = False)\n",
    "df_raw_y = df_raw[\"diagnosis\"]\n",
    "# Vital Feature 선별\n",
    "df_rf_x1 = df_raw_x['worst_area']\n",
    "df_rf_x2 = df_raw_x['worst_perimeter']\n",
    "df_rf_x3 = df_raw_x['worst_radius']\n",
    "df_rf_x4 = df_raw_x['mean_concave_points']\n",
    "df_rf_x5 = df_raw_x['mean_radius']\n",
    "df_rf_x = pd.concat([df_rf_x1,df_rf_x2,df_rf_x3,df_rf_x4,df_rf_x5], axis = 1)\n",
    "# Data Split\n",
    "df_train_x_r, df_test_x_r, df_train_y_r, df_test_y_r = train_test_split(df_rf_x, df_raw_y, test_size = 0.4, random_state = random)"
   ]
  },
  {
   "cell_type": "code",
   "execution_count": 60,
   "id": "87324899",
   "metadata": {},
   "outputs": [
    {
     "name": "stdout",
     "output_type": "stream",
     "text": [
      "Accuracy: 0.906\n",
      "\n",
      "Confusion matrix: \n",
      "[[79  4]\n",
      " [ 8 37]]\n",
      "              precision    recall  f1-score   support\n",
      "\n",
      "           0      0.908     0.952     0.929        83\n",
      "           1      0.902     0.822     0.860        45\n",
      "\n",
      "    accuracy                          0.906       128\n",
      "   macro avg      0.905     0.887     0.895       128\n",
      "weighted avg      0.906     0.906     0.905       128\n",
      "\n"
     ]
    }
   ],
   "source": [
    "# Model Predict\n",
    "rf_finally = RandomForestClassifier(random_state = 100, min_samples_leaf = 18, min_samples_split = 60, max_depth = 6, n_estimators = 150)\n",
    "rf_finally.fit(df_train_x_r,df_train_y_r)\n",
    "y_pred_rf = rf_finally.predict(df_test_x_r)\n",
    "print(\"Accuracy: {0:.3f}\\n\".format(rf_finally.score(df_test_x_r,df_test_y_r)))\n",
    "print(\"Confusion matrix: \\n{0}\".format(confusion_matrix(df_test_y_r, y_pred_rf)))\n",
    "print(classification_report(df_test_y_r, y_pred_rf, digits=3))"
   ]
  }
 ],
 "metadata": {
  "kernelspec": {
   "display_name": "Python 3 (ipykernel)",
   "language": "python",
   "name": "python3"
  },
  "language_info": {
   "codemirror_mode": {
    "name": "ipython",
    "version": 3
   },
   "file_extension": ".py",
   "mimetype": "text/x-python",
   "name": "python",
   "nbconvert_exporter": "python",
   "pygments_lexer": "ipython3",
   "version": "3.9.13"
  },
  "toc": {
   "base_numbering": 1,
   "nav_menu": {},
   "number_sections": true,
   "sideBar": true,
   "skip_h1_title": false,
   "title_cell": "Table of Contents",
   "title_sidebar": "Contents",
   "toc_cell": false,
   "toc_position": {
    "height": "calc(100% - 180px)",
    "left": "10px",
    "top": "150px",
    "width": "339.717px"
   },
   "toc_section_display": true,
   "toc_window_display": true
  }
 },
 "nbformat": 4,
 "nbformat_minor": 5
}
