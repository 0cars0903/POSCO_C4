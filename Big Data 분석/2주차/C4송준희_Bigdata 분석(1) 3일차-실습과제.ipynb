{
 "cells": [
  {
   "cell_type": "markdown",
   "id": "9905fbb2",
   "metadata": {},
   "source": [
    "# Summary"
   ]
  },
  {
   "cell_type": "markdown",
   "id": "6bc3a1b1",
   "metadata": {},
   "source": [
    "### 분석 배경\n",
    "* 미세먼지로 인해 건강, 환경, 경제 등 영향을 주면서 다양한 문제를 일으키고 있다.   \n",
    "\n",
    "### 분석 목표\n",
    "1. 미세먼지 발생 및 증가에 영향을 미치는 인자를 도출과 영향도 분석\n",
    "2. 미세먼지 유발 영향인자를 선정\n",
    "3. 미세먼지 발생량을 예측하고 대응 방안을 수립\n",
    "\n",
    "\n",
    "### 분석 결과\n",
    "\n",
    "#### 영향 인자 선정\n",
    "\n",
    "> 일반적으로 Linear Regression Model의 정확도가 가장 높고, Decision Tree의 정확도가 가장 낮았다.  \n",
    "\n",
    "#### 모델별 평가 및 해석\n",
    "\n",
    "#### 대응 및 관리 방안\n",
    "\n",
    "    "
   ]
  },
  {
   "cell_type": "markdown",
   "id": "23caf9c7",
   "metadata": {},
   "source": [
    "## 서론 : 분석 배경"
   ]
  },
  {
   "cell_type": "markdown",
   "id": "dda83b3e",
   "metadata": {},
   "source": [
    "### 미세먼지 정의\n",
    "\n",
    "* 대기 중에 떠다니며 눈에 보이지 않을 정도로 작은 먼지\n",
    "* 질산염(NO3-), 암모늄 이온(NH4+), 황산염(SO42-) 등의 이온 성분과 탄소 화합물과 금속 화합물 등으로 이루어져 있다.\n",
    "\n",
    "### 날씨에 따르는 발생 이유\n",
    "* 기압계 배치에 따라 국내로 불어오는 바람 방향과 대기 정체 수준이 달라지면 미세먼지의 양이 달라지게 된다.\n",
    "> 고기압의 영향권에 들면 날씨는 맑고 기온은 오르는데, 대기가 정체돼 순환이 이뤄지지 않는다.  \n",
    "> 예를 들어, 이미 국내에 미세먼지가 쌓인 상황에서 따뜻한 남서풍을 타고 중국 등에서 미세먼지가 유입되면,  \n",
    "> 대기 정체 현상이 벌어지면서 미세먼지가 빠져나가지 못해서 농도가 상승하게 된다.\n",
    "\n",
    "* 계절별로 미세먼지의 농도가 달라지는 현상\n",
    "> 여름에 미세먼지의 농도가 가장 낮다. 그 이유는 ‘장마’와 관련이 있다. 여름은 비가 가장 자주, 그리고 많이 내리기 때문에   \n",
    "> 대기 중에 미세먼지를 씻어내고, 특히, 대기에 있는 부유물질들이 모두 비에 씻겨 내려가면서 오염물질을 제거한다.     \n",
    "> \n",
    ">  반대로 미세먼지 농도가 비교적 높은 계절은 봄과 겨울이다.  \n",
    "> 이유는 편서풍의 대기 상층 바람을 통해 오염물질이 우리나라로 이동하기 때문이다.\n",
    "\n",
    "\n",
    "### 미세먼지 영향 인자\n",
    "* PM10 : 지름 10μm 이하인 먼지를 뜻한다. 거대분진이라고도 부른다. 세계 여러 나라에서 대기오염의 지표로 사용되고 있다.\n",
    "* 습도 : \n",
    "\n",
    "### 대응 및 관리 방안 : 현실성 있는 관리 방안이 필요하다.\n",
    "* 국가적 관리 방안  \n",
    "> 차량 2부제\n",
    "\n",
    "* 개인별 관리 방안   \n",
    "> 외출시 마스크 착용  \n",
    "> 물과 비타민 C가 풍부한 과일과 야채 섭취  \n",
    "> 실내 공기질 관리  "
   ]
  },
  {
   "cell_type": "markdown",
   "id": "77a0fbc9",
   "metadata": {},
   "source": [
    "## 본론 : 분석절차  \n",
    "### 1. 데이터 처리  \n",
    "* 데이터 갯수, 변수 확인(comment 남기기, macro data 일 것이다.)  \n",
    "  \n",
    "* 결측치 및 이상치 확인(제거하거나 대체)  \n",
    "  \n",
    "    - CO의 결측치 처리법을 고민해야한다.(평균, 중앙값?)\n",
    "      \n",
    "     \n",
    "### 2. 탐색적 분석  \n",
    "* 설명변수 분포 확인(평균과 중앙값 비교)\n",
    "    * 전체 변수의 histogram\n",
    "    * 정규분포 인지 확인\n",
    "    * 이상치인지? 계층별로 분리해야 할지 확인하는 과정\n",
    "    \n",
    "|그래프|목적|분석 지표|\n",
    "|:------|:---|:---|\n",
    "|bar chart|목표 변수의 빈도 분석|PM10|\n",
    "|pie chart|목표 변수의 빈도 비율 분석|PM10|\n",
    "|histogram|설명 변수의 구간별 분포 현황과 패턴, 이상치 확인|설명 변수 12종|\n",
    "|box plot|설명 변수의 이상치 확인|목표변수 및 설명변수 총 13종|\n",
    "|scatter plot|목표 변수와 설명 변수간의 상관관계 확인|PM10과 설명 변수 관계 분석|\n",
    "|heatmap|설명 변수들 간의 상관관계 분석|-|\n",
    "|Trend Chart|측정 일자별 미세먼지 농도의 변화를 분석하여 계절별 차이가 있는 지 확인|MeasDate와 PM10 비교|\n",
    "\n",
    "* 상관 분석 : 목표변수와 어떤 설명 변수가 상관이 있을 지 개략적 확인\n",
    "        \n",
    "\n",
    "        \n",
    "### 3. 영향인자 분석  \n",
    "* 모델링\n",
    "    - LR : 다중 선형 회귀 분석(공선성 확인)\n",
    "    \n",
    "        * 설명 변수의 표준화 후 중요도 확인(잠재적 유의 인자 확인)\n",
    "        \n",
    "    - DT : 영향인자 확인 시에는 전체 data로 실행\n",
    "    \n",
    "        * 설명 변수의 표준화 후 중요도 확인(잠재적 유의 인자 확인)\n",
    "        \n",
    "    - RF\n",
    "    \n",
    "        * 설명 변수의 표준화 후 중요도 확인(잠재적 유의 인자 확인)\n",
    "        \n",
    "    - GB\n",
    "    \n",
    "        * 설명 변수의 표준화 후 중요도 확인(잠재적 유의 인자 확인)\n",
    "        \n",
    "\n",
    "\n",
    "### 4. 주요 영향인자 선정 및 해석\n",
    "\n",
    "* 4가지 모델에서 선정된 영향인자를 확인하여 기준에 맞추어 최종 영향인자 선정\n",
    "\n",
    "    - 측정하기 쉬운 인자를 선정하는 것이 간단한 모델을 만들고 사용할 수 있는 조건\n",
    "    \n",
    "\n",
    "\n",
    "### 5. 예측 모델 개발 및 평가  \n",
    "\n",
    "* 모델링 : data split을 이용한 test + 주요 영향인자들만 선별하여 모델링\n",
    "\n",
    "    - LR : \n",
    "    \n",
    "        - 공산성 확인 후, 제거한다면 이유?\n",
    "        \n",
    "        - 전체적으로 예측력이 약하다면 반수 파생 등의 과정을 통해 모델 개선작업이 필요하다.\n",
    "        \n",
    "    - DT \n",
    "    \n",
    "    - RF\n",
    "    \n",
    "    - GB\n",
    "    \n"
   ]
  },
  {
   "cell_type": "markdown",
   "id": "e2a37246",
   "metadata": {},
   "source": [
    "## 결론 : 모델 해석 및 업무 적용방안  \n",
    "### 1. 모델 해석\n",
    "* 해석력이 낮다면 그 이유는?  \n",
    "\n",
    "\n",
    "* 해결방안?  \n",
    "\n",
    "\n",
    "### 2. 업무 적용방안\n",
    "* 영향 인자를 근거로 국가적 / 개별적 해결 방안을 탐색"
   ]
  },
  {
   "cell_type": "markdown",
   "id": "03011a7d",
   "metadata": {},
   "source": [
    "# ※ 분석 시 사용된 코드"
   ]
  },
  {
   "cell_type": "markdown",
   "id": "6cfd874b",
   "metadata": {},
   "source": [
    "## 탐색적 분석"
   ]
  },
  {
   "cell_type": "code",
   "execution_count": 8,
   "id": "4c946af7",
   "metadata": {},
   "outputs": [
    {
     "name": "stdout",
     "output_type": "stream",
     "text": [
      "/usr/share/fonts: caching, new cache contents: 0 fonts, 6 dirs\n",
      "/usr/share/fonts/X11: caching, new cache contents: 0 fonts, 4 dirs\n",
      "/usr/share/fonts/X11/Type1: caching, new cache contents: 8 fonts, 0 dirs\n",
      "/usr/share/fonts/X11/encodings: caching, new cache contents: 0 fonts, 1 dirs\n",
      "/usr/share/fonts/X11/encodings/large: caching, new cache contents: 0 fonts, 0 dirs\n",
      "/usr/share/fonts/X11/misc: caching, new cache contents: 89 fonts, 0 dirs\n",
      "/usr/share/fonts/X11/util: caching, new cache contents: 0 fonts, 0 dirs\n",
      "/usr/share/fonts/cMap: caching, new cache contents: 0 fonts, 0 dirs\n",
      "/usr/share/fonts/cmap: caching, new cache contents: 0 fonts, 5 dirs\n",
      "/usr/share/fonts/cmap/adobe-cns1: caching, new cache contents: 0 fonts, 0 dirs\n",
      "/usr/share/fonts/cmap/adobe-gb1: caching, new cache contents: 0 fonts, 0 dirs\n",
      "/usr/share/fonts/cmap/adobe-japan1: caching, new cache contents: 0 fonts, 0 dirs\n",
      "/usr/share/fonts/cmap/adobe-japan2: caching, new cache contents: 0 fonts, 0 dirs\n",
      "/usr/share/fonts/cmap/adobe-korea1: caching, new cache contents: 0 fonts, 0 dirs\n",
      "/usr/share/fonts/opentype: caching, new cache contents: 0 fonts, 2 dirs\n",
      "/usr/share/fonts/opentype/malayalam: caching, new cache contents: 3 fonts, 0 dirs\n",
      "/usr/share/fonts/opentype/noto: caching, new cache contents: 73 fonts, 0 dirs\n",
      "/usr/share/fonts/truetype: caching, new cache contents: 0 fonts, 46 dirs\n",
      "/usr/share/fonts/truetype/Gargi: caching, new cache contents: 1 fonts, 0 dirs\n",
      "/usr/share/fonts/truetype/Gubbi: caching, new cache contents: 1 fonts, 0 dirs\n",
      "/usr/share/fonts/truetype/Nakula: caching, new cache contents: 1 fonts, 0 dirs\n",
      "/usr/share/fonts/truetype/Navilu: caching, new cache contents: 1 fonts, 0 dirs\n",
      "/usr/share/fonts/truetype/Sahadeva: caching, new cache contents: 1 fonts, 0 dirs\n",
      "/usr/share/fonts/truetype/Sarai: caching, new cache contents: 1 fonts, 0 dirs\n",
      "/usr/share/fonts/truetype/abyssinica: caching, new cache contents: 1 fonts, 0 dirs\n",
      "/usr/share/fonts/truetype/dejavu: caching, new cache contents: 6 fonts, 0 dirs\n",
      "/usr/share/fonts/truetype/droid: caching, new cache contents: 1 fonts, 0 dirs\n",
      "/usr/share/fonts/truetype/fonts-beng-extra: caching, new cache contents: 6 fonts, 0 dirs\n",
      "/usr/share/fonts/truetype/fonts-deva-extra: caching, new cache contents: 3 fonts, 0 dirs\n",
      "/usr/share/fonts/truetype/fonts-gujr-extra: caching, new cache contents: 5 fonts, 0 dirs\n",
      "/usr/share/fonts/truetype/fonts-guru-extra: caching, new cache contents: 1 fonts, 0 dirs\n",
      "/usr/share/fonts/truetype/fonts-kalapi: caching, new cache contents: 1 fonts, 0 dirs\n",
      "/usr/share/fonts/truetype/fonts-orya-extra: caching, new cache contents: 1 fonts, 0 dirs\n",
      "/usr/share/fonts/truetype/fonts-telu-extra: caching, new cache contents: 2 fonts, 0 dirs\n",
      "/usr/share/fonts/truetype/freefont: caching, new cache contents: 12 fonts, 0 dirs\n",
      "/usr/share/fonts/truetype/kacst: caching, new cache contents: 15 fonts, 0 dirs\n",
      "/usr/share/fonts/truetype/kacst-one: caching, new cache contents: 2 fonts, 0 dirs\n",
      "/usr/share/fonts/truetype/lao: caching, new cache contents: 1 fonts, 0 dirs\n",
      "/usr/share/fonts/truetype/liberation: caching, new cache contents: 16 fonts, 0 dirs\n",
      "/usr/share/fonts/truetype/liberation2: caching, new cache contents: 12 fonts, 0 dirs\n",
      "/usr/share/fonts/truetype/lohit-assamese: caching, new cache contents: 1 fonts, 0 dirs\n",
      "/usr/share/fonts/truetype/lohit-bengali: caching, new cache contents: 1 fonts, 0 dirs\n",
      "/usr/share/fonts/truetype/lohit-devanagari: caching, new cache contents: 1 fonts, 0 dirs\n",
      "/usr/share/fonts/truetype/lohit-gujarati: caching, new cache contents: 1 fonts, 0 dirs\n",
      "/usr/share/fonts/truetype/lohit-kannada: caching, new cache contents: 1 fonts, 0 dirs\n",
      "/usr/share/fonts/truetype/lohit-malayalam: caching, new cache contents: 1 fonts, 0 dirs\n",
      "/usr/share/fonts/truetype/lohit-oriya: caching, new cache contents: 1 fonts, 0 dirs\n",
      "/usr/share/fonts/truetype/lohit-punjabi: caching, new cache contents: 1 fonts, 0 dirs\n",
      "/usr/share/fonts/truetype/lohit-tamil: caching, new cache contents: 1 fonts, 0 dirs\n",
      "/usr/share/fonts/truetype/lohit-tamil-classical: caching, new cache contents: 1 fonts, 0 dirs\n",
      "/usr/share/fonts/truetype/lohit-telugu: caching, new cache contents: 1 fonts, 0 dirs\n",
      "/usr/share/fonts/truetype/malayalam: caching, new cache contents: 11 fonts, 0 dirs\n",
      "/usr/share/fonts/truetype/nanum: caching, new cache contents: 31 fonts, 0 dirs\n",
      "/usr/share/fonts/truetype/noto: caching, new cache contents: 2 fonts, 0 dirs\n",
      "/usr/share/fonts/truetype/openoffice: caching, new cache contents: 1 fonts, 0 dirs\n",
      "/usr/share/fonts/truetype/padauk: caching, new cache contents: 4 fonts, 0 dirs\n",
      "/usr/share/fonts/truetype/pagul: caching, new cache contents: 1 fonts, 0 dirs\n",
      "/usr/share/fonts/truetype/samyak: caching, new cache contents: 1 fonts, 0 dirs\n",
      "/usr/share/fonts/truetype/samyak-fonts: caching, new cache contents: 3 fonts, 0 dirs\n",
      "/usr/share/fonts/truetype/sinhala: caching, new cache contents: 1 fonts, 0 dirs\n",
      "/usr/share/fonts/truetype/tibetan-machine: caching, new cache contents: 1 fonts, 0 dirs\n",
      "/usr/share/fonts/truetype/tlwg: caching, new cache contents: 58 fonts, 0 dirs\n",
      "/usr/share/fonts/truetype/ttf-khmeros-core: caching, new cache contents: 2 fonts, 0 dirs\n",
      "/usr/share/fonts/truetype/ubuntu: caching, new cache contents: 13 fonts, 0 dirs\n",
      "/usr/share/fonts/type1: caching, new cache contents: 0 fonts, 1 dirs\n",
      "/usr/share/fonts/type1/gsfonts: caching, new cache contents: 35 fonts, 0 dirs\n",
      "/home/piai/anaconda3/fonts: caching, new cache contents: 30 fonts, 0 dirs\n",
      "/home/piai/.local/share/fonts: skipping, no such directory\n",
      "/home/piai/.fonts: skipping, no such directory\n",
      "/usr/share/fonts/X11: skipping, looped directory detected\n",
      "/usr/share/fonts/cMap: skipping, looped directory detected\n",
      "/usr/share/fonts/cmap: skipping, looped directory detected\n",
      "/usr/share/fonts/opentype: skipping, looped directory detected\n",
      "/usr/share/fonts/truetype: skipping, looped directory detected\n",
      "/usr/share/fonts/type1: skipping, looped directory detected\n",
      "/usr/share/fonts/X11/Type1: skipping, looped directory detected\n",
      "/usr/share/fonts/X11/encodings: skipping, looped directory detected\n",
      "/usr/share/fonts/X11/misc: skipping, looped directory detected\n",
      "/usr/share/fonts/X11/util: skipping, looped directory detected\n",
      "/usr/share/fonts/cmap/adobe-cns1: skipping, looped directory detected\n",
      "/usr/share/fonts/cmap/adobe-gb1: skipping, looped directory detected\n",
      "/usr/share/fonts/cmap/adobe-japan1: skipping, looped directory detected\n",
      "/usr/share/fonts/cmap/adobe-japan2: skipping, looped directory detected\n",
      "/usr/share/fonts/cmap/adobe-korea1: skipping, looped directory detected\n",
      "/usr/share/fonts/opentype/malayalam: skipping, looped directory detected\n",
      "/usr/share/fonts/opentype/noto: skipping, looped directory detected\n",
      "/usr/share/fonts/truetype/Gargi: skipping, looped directory detected\n",
      "/usr/share/fonts/truetype/Gubbi: skipping, looped directory detected\n",
      "/usr/share/fonts/truetype/Nakula: skipping, looped directory detected\n",
      "/usr/share/fonts/truetype/Navilu: skipping, looped directory detected\n",
      "/usr/share/fonts/truetype/Sahadeva: skipping, looped directory detected\n",
      "/usr/share/fonts/truetype/Sarai: skipping, looped directory detected\n",
      "/usr/share/fonts/truetype/abyssinica: skipping, looped directory detected\n",
      "/usr/share/fonts/truetype/dejavu: skipping, looped directory detected\n",
      "/usr/share/fonts/truetype/droid: skipping, looped directory detected\n",
      "/usr/share/fonts/truetype/fonts-beng-extra: skipping, looped directory detected\n",
      "/usr/share/fonts/truetype/fonts-deva-extra: skipping, looped directory detected\n",
      "/usr/share/fonts/truetype/fonts-gujr-extra: skipping, looped directory detected\n",
      "/usr/share/fonts/truetype/fonts-guru-extra: skipping, looped directory detected\n",
      "/usr/share/fonts/truetype/fonts-kalapi: skipping, looped directory detected\n",
      "/usr/share/fonts/truetype/fonts-orya-extra: skipping, looped directory detected\n",
      "/usr/share/fonts/truetype/fonts-telu-extra: skipping, looped directory detected\n",
      "/usr/share/fonts/truetype/freefont: skipping, looped directory detected\n",
      "/usr/share/fonts/truetype/kacst: skipping, looped directory detected\n",
      "/usr/share/fonts/truetype/kacst-one: skipping, looped directory detected\n",
      "/usr/share/fonts/truetype/lao: skipping, looped directory detected\n",
      "/usr/share/fonts/truetype/liberation: skipping, looped directory detected\n",
      "/usr/share/fonts/truetype/liberation2: skipping, looped directory detected\n",
      "/usr/share/fonts/truetype/lohit-assamese: skipping, looped directory detected\n",
      "/usr/share/fonts/truetype/lohit-bengali: skipping, looped directory detected\n",
      "/usr/share/fonts/truetype/lohit-devanagari: skipping, looped directory detected\n",
      "/usr/share/fonts/truetype/lohit-gujarati: skipping, looped directory detected\n",
      "/usr/share/fonts/truetype/lohit-kannada: skipping, looped directory detected\n",
      "/usr/share/fonts/truetype/lohit-malayalam: skipping, looped directory detected\n",
      "/usr/share/fonts/truetype/lohit-oriya: skipping, looped directory detected\n",
      "/usr/share/fonts/truetype/lohit-punjabi: skipping, looped directory detected\n",
      "/usr/share/fonts/truetype/lohit-tamil: skipping, looped directory detected\n",
      "/usr/share/fonts/truetype/lohit-tamil-classical: skipping, looped directory detected\n",
      "/usr/share/fonts/truetype/lohit-telugu: skipping, looped directory detected\n",
      "/usr/share/fonts/truetype/malayalam: skipping, looped directory detected\n",
      "/usr/share/fonts/truetype/nanum: skipping, looped directory detected\n",
      "/usr/share/fonts/truetype/noto: skipping, looped directory detected\n",
      "/usr/share/fonts/truetype/openoffice: skipping, looped directory detected\n",
      "/usr/share/fonts/truetype/padauk: skipping, looped directory detected\n",
      "/usr/share/fonts/truetype/pagul: skipping, looped directory detected\n",
      "/usr/share/fonts/truetype/samyak: skipping, looped directory detected\n",
      "/usr/share/fonts/truetype/samyak-fonts: skipping, looped directory detected\n",
      "/usr/share/fonts/truetype/sinhala: skipping, looped directory detected\n",
      "/usr/share/fonts/truetype/tibetan-machine: skipping, looped directory detected\n",
      "/usr/share/fonts/truetype/tlwg: skipping, looped directory detected\n",
      "/usr/share/fonts/truetype/ttf-khmeros-core: skipping, looped directory detected\n",
      "/usr/share/fonts/truetype/ubuntu: skipping, looped directory detected\n",
      "/usr/share/fonts/type1/gsfonts: skipping, looped directory detected\n",
      "/usr/share/fonts/X11/encodings/large: skipping, looped directory detected\n",
      "/home/piai/anaconda3/var/cache/fontconfig: cleaning cache directory\n",
      "/home/piai/.cache/fontconfig: cleaning cache directory\n",
      "/home/piai/.fontconfig: not cleaning non-existent cache directory\n"
     ]
    },
    {
     "name": "stdout",
     "output_type": "stream",
     "text": [
      "fc-cache: succeeded\r\n"
     ]
    }
   ],
   "source": [
    "# !conda install graphviz\n",
    "\n",
    "import pandas as pd\n",
    "import numpy as np\n",
    "import seaborn as sns\n",
    "\n",
    "# data 시각화\n",
    "import matplotlib as mpl\n",
    "import matplotlib.pyplot as plt\n",
    "%matplotlib inline\n",
    "import seaborn as sns\n",
    "\n",
    "# 나무 구조 생성 및 저장\n",
    "from sklearn.tree import export_graphviz\n",
    "import graphviz\n",
    "\n",
    "\n",
    "# data split\n",
    "from sklearn.model_selection import train_test_split\n",
    "# Linear Regression\n",
    "import statsmodels.formula.api as smf\n",
    "# Decision Tree\n",
    "from sklearn.tree import DecisionTreeRegressor\n",
    "# Random Forest\n",
    "from sklearn.ensemble import RandomForestRegressor\n",
    "# Gradient Boosting\n",
    "from sklearn.ensemble import GradientBoostingRegressor\n",
    "# Scale 변환\n",
    "from sklearn.preprocessing import StandardScaler\n",
    "# 평가 함수\n",
    "from sklearn.metrics import mean_squared_error\n",
    "from sklearn.metrics import mean_absolute_error\n",
    "# 경고문 제거\n",
    "import warnings\n",
    "warnings.filterwarnings('ignore')\n",
    "\n",
    "# 한글 폰트 설정\n",
    "# !ls -l /usr/share/fonts/truetype/\n",
    "!rm -rf ~/.cache/matplotlib/*\n",
    "!fc-cache -fv\n",
    "\n",
    "import matplotlib    \n",
    "import matplotlib.font_manager\n",
    "\n",
    "[f.name for f in matplotlib.font_manager.fontManager.ttflist if 'Nanum' in f.name]\n",
    "# 유니코드 깨짐현상 해결\n",
    "mpl.rcParams['axes.unicode_minus'] = False\n",
    "\n",
    "# 나눔고딕 폰트 전체 적용\n",
    "plt.rcParams[\"font.family\"] = 'NanumMyeongjo'"
   ]
  },
  {
   "cell_type": "code",
   "execution_count": 5,
   "id": "3c33c9ae",
   "metadata": {
    "collapsed": true
   },
   "outputs": [
    {
     "data": {
      "text/html": [
       "<div>\n",
       "<style scoped>\n",
       "    .dataframe tbody tr th:only-of-type {\n",
       "        vertical-align: middle;\n",
       "    }\n",
       "\n",
       "    .dataframe tbody tr th {\n",
       "        vertical-align: top;\n",
       "    }\n",
       "\n",
       "    .dataframe thead th {\n",
       "        text-align: right;\n",
       "    }\n",
       "</style>\n",
       "<table border=\"1\" class=\"dataframe\">\n",
       "  <thead>\n",
       "    <tr style=\"text-align: right;\">\n",
       "      <th></th>\n",
       "      <th>MeasDate</th>\n",
       "      <th>PM10</th>\n",
       "      <th>O3</th>\n",
       "      <th>NO2</th>\n",
       "      <th>CO</th>\n",
       "      <th>SO2</th>\n",
       "      <th>TEMP</th>\n",
       "      <th>RAIN</th>\n",
       "      <th>WIND</th>\n",
       "      <th>WIND_DIR</th>\n",
       "      <th>HUMIDITY</th>\n",
       "      <th>ATM_PRESS</th>\n",
       "      <th>SNOW</th>\n",
       "      <th>CLOUD</th>\n",
       "    </tr>\n",
       "  </thead>\n",
       "  <tbody>\n",
       "    <tr>\n",
       "      <th>0</th>\n",
       "      <td>2019-07-01</td>\n",
       "      <td>29.0</td>\n",
       "      <td>0.054</td>\n",
       "      <td>0.021</td>\n",
       "      <td>0.5</td>\n",
       "      <td>0.003</td>\n",
       "      <td>24.03</td>\n",
       "      <td>0.0</td>\n",
       "      <td>2.30</td>\n",
       "      <td>249</td>\n",
       "      <td>63.2</td>\n",
       "      <td>995.1</td>\n",
       "      <td>0.0</td>\n",
       "      <td>5.70</td>\n",
       "    </tr>\n",
       "    <tr>\n",
       "      <th>1</th>\n",
       "      <td>2019-07-02</td>\n",
       "      <td>26.0</td>\n",
       "      <td>0.053</td>\n",
       "      <td>0.020</td>\n",
       "      <td>0.5</td>\n",
       "      <td>0.003</td>\n",
       "      <td>24.29</td>\n",
       "      <td>0.0</td>\n",
       "      <td>2.26</td>\n",
       "      <td>265</td>\n",
       "      <td>63.2</td>\n",
       "      <td>998.6</td>\n",
       "      <td>0.0</td>\n",
       "      <td>3.83</td>\n",
       "    </tr>\n",
       "    <tr>\n",
       "      <th>2</th>\n",
       "      <td>2019-07-03</td>\n",
       "      <td>30.0</td>\n",
       "      <td>0.042</td>\n",
       "      <td>0.023</td>\n",
       "      <td>0.4</td>\n",
       "      <td>0.003</td>\n",
       "      <td>24.18</td>\n",
       "      <td>0.0</td>\n",
       "      <td>1.79</td>\n",
       "      <td>280</td>\n",
       "      <td>65.3</td>\n",
       "      <td>998.3</td>\n",
       "      <td>0.0</td>\n",
       "      <td>6.29</td>\n",
       "    </tr>\n",
       "    <tr>\n",
       "      <th>3</th>\n",
       "      <td>2019-07-04</td>\n",
       "      <td>28.0</td>\n",
       "      <td>0.034</td>\n",
       "      <td>0.026</td>\n",
       "      <td>0.4</td>\n",
       "      <td>0.003</td>\n",
       "      <td>25.35</td>\n",
       "      <td>0.0</td>\n",
       "      <td>2.04</td>\n",
       "      <td>263</td>\n",
       "      <td>58.6</td>\n",
       "      <td>996.6</td>\n",
       "      <td>0.0</td>\n",
       "      <td>2.54</td>\n",
       "    </tr>\n",
       "    <tr>\n",
       "      <th>4</th>\n",
       "      <td>2019-07-05</td>\n",
       "      <td>29.0</td>\n",
       "      <td>0.045</td>\n",
       "      <td>0.035</td>\n",
       "      <td>0.5</td>\n",
       "      <td>0.003</td>\n",
       "      <td>27.30</td>\n",
       "      <td>0.0</td>\n",
       "      <td>1.45</td>\n",
       "      <td>175</td>\n",
       "      <td>45.5</td>\n",
       "      <td>993.5</td>\n",
       "      <td>0.0</td>\n",
       "      <td>3.92</td>\n",
       "    </tr>\n",
       "  </tbody>\n",
       "</table>\n",
       "</div>"
      ],
      "text/plain": [
       "     MeasDate  PM10     O3    NO2   CO    SO2   TEMP  RAIN  WIND  WIND_DIR  \\\n",
       "0  2019-07-01  29.0  0.054  0.021  0.5  0.003  24.03   0.0  2.30       249   \n",
       "1  2019-07-02  26.0  0.053  0.020  0.5  0.003  24.29   0.0  2.26       265   \n",
       "2  2019-07-03  30.0  0.042  0.023  0.4  0.003  24.18   0.0  1.79       280   \n",
       "3  2019-07-04  28.0  0.034  0.026  0.4  0.003  25.35   0.0  2.04       263   \n",
       "4  2019-07-05  29.0  0.045  0.035  0.5  0.003  27.30   0.0  1.45       175   \n",
       "\n",
       "   HUMIDITY  ATM_PRESS  SNOW  CLOUD  \n",
       "0      63.2      995.1   0.0   5.70  \n",
       "1      63.2      998.6   0.0   3.83  \n",
       "2      65.3      998.3   0.0   6.29  \n",
       "3      58.6      996.6   0.0   2.54  \n",
       "4      45.5      993.5   0.0   3.92  "
      ]
     },
     "execution_count": 5,
     "metadata": {},
     "output_type": "execute_result"
    }
   ],
   "source": [
    "df = pd.read_csv('/home/piai/Bigdata 실습과제/2. Big Data 분석/AIR_POLLUTION.csv', encoding = 'euc-kr')\n",
    "df.head()"
   ]
  },
  {
   "cell_type": "markdown",
   "id": "24b634d1",
   "metadata": {},
   "source": [
    "## 모델 생성"
   ]
  },
  {
   "cell_type": "code",
   "execution_count": 6,
   "id": "4e927821",
   "metadata": {},
   "outputs": [],
   "source": [
    "df.drop([\"MeasDate\"], axis = 1, inplace = True)"
   ]
  },
  {
   "cell_type": "code",
   "execution_count": 7,
   "id": "8a0bf487",
   "metadata": {},
   "outputs": [],
   "source": [
    "df_y = df[\"PM10\"]\n",
    "df_x = df.drop([\"PM10\"], axis = 1, inplace = False)"
   ]
  },
  {
   "cell_type": "code",
   "execution_count": 7,
   "id": "53bdcf38",
   "metadata": {},
   "outputs": [],
   "source": [
    "# data split\n",
    "random_state = 1234\n",
    "test_size = 0.3\n",
    "df_train, df_test = train_test_split(df, test_size = test_size, random_state = random_state)\n",
    "df_train_x = df_train.drop([\"PM10\"], axis = 1, inplace = False)\n",
    "df_test_x = df_test.drop([\"PM10\"], axis = 1, inplace = False)\n",
    "df_train_y = df_train[\"PM10\"]\n",
    "df_test_y = df_test[\"PM10\"]"
   ]
  },
  {
   "cell_type": "markdown",
   "id": "78a085a5",
   "metadata": {},
   "source": [
    "### Linear Regression"
   ]
  },
  {
   "cell_type": "markdown",
   "id": "aff897fe",
   "metadata": {},
   "source": [
    "### Decision Tree"
   ]
  },
  {
   "cell_type": "markdown",
   "id": "df4fbc35",
   "metadata": {},
   "source": [
    "### Random Forest"
   ]
  },
  {
   "cell_type": "markdown",
   "id": "d2655687",
   "metadata": {},
   "source": [
    "### Gradient Boosting"
   ]
  },
  {
   "cell_type": "markdown",
   "id": "a04f042a",
   "metadata": {},
   "source": [
    "## 모델 평가"
   ]
  },
  {
   "cell_type": "code",
   "execution_count": 106,
   "id": "de97c008",
   "metadata": {},
   "outputs": [],
   "source": [
    "# 평가 함수 정의\n",
    "def root_mean_squared_error(y_true, y_pred):\n",
    "    return np.sqrt(mean_squared_error(y_true, y_pred))\n",
    "\n",
    "def mean_absolute_percentage_error(y_true, y_pred):\n",
    "    return np.mean(np.abs((y_true - y_pred)/y_true))*100"
   ]
  },
  {
   "cell_type": "markdown",
   "id": "f93b89dc",
   "metadata": {},
   "source": [
    "#### 예측 모델 생성"
   ]
  },
  {
   "cell_type": "code",
   "execution_count": 107,
   "id": "7e8414e9",
   "metadata": {
    "collapsed": true
   },
   "outputs": [
    {
     "data": {
      "text/plain": [
       "GradientBoostingRegressor(max_depth=4, min_samples_leaf=11,\n",
       "                          min_samples_split=22, n_estimators=30,\n",
       "                          random_state=1234)"
      ]
     },
     "execution_count": 107,
     "metadata": {},
     "output_type": "execute_result"
    }
   ],
   "source": [
    "# Linear Regression\n",
    "lr_model = smf.ols(formula = \"Y ~ AGE + GENDER + BMI + BP + CHOLESTEROL + LDL + HDL + TCH + LTG + GLUCOSE\", data = df_train)\n",
    "lr_result = lr_model.fit()\n",
    "# print(lr_result.summary())\n",
    "# Decision Tree\n",
    "dt_model = DecisionTreeRegressor(random_state = random_state, min_samples_leaf = 8, \n",
    "                                min_samples_split = 20, max_depth = 4)\n",
    "dt_model.fit(df_train_x, df_train_y)\n",
    "# Random Forest\n",
    "rf_model = RandomForestRegressor(random_state = random_state, min_samples_leaf = 6, \n",
    "                                min_samples_split = 14, max_depth = 4, n_estimators = 100)\n",
    "rf_model.fit(df_train_x, df_train_y)\n",
    "# Gradient Boosting\n",
    "gb_model = GradientBoostingRegressor(random_state = random_state, min_samples_leaf = 11, \n",
    "                                min_samples_split = 22, max_depth = 4, n_estimators = 30, learning_rate = 0.1)\n",
    "gb_model.fit(df_train_x, df_train_y)"
   ]
  },
  {
   "cell_type": "markdown",
   "id": "4caebfc3",
   "metadata": {},
   "source": [
    "#### 그래프 작성"
   ]
  },
  {
   "cell_type": "code",
   "execution_count": 108,
   "id": "f5b09b25",
   "metadata": {},
   "outputs": [],
   "source": [
    "models = [\"회귀분석\", \"의사결정나무\", \"랜덤 포레스트\", \"그래디언트 부스팅\"]\n",
    "mse, rmse, mae, mape = [],[],[],[]"
   ]
  },
  {
   "cell_type": "code",
   "execution_count": 109,
   "id": "93c3bf73",
   "metadata": {},
   "outputs": [],
   "source": [
    "# 회귀분석\n",
    "lr_y_pred = lr_result.predict(df_test)\n",
    "# 평가\n",
    "mse.append(mean_squared_error(df_test[\"Y\"], lr_y_pred))\n",
    "rmse.append(root_mean_squared_error(df_test[\"Y\"], lr_y_pred))\n",
    "mae.append(mean_absolute_error(df_test[\"Y\"], lr_y_pred))\n",
    "mape.append(mean_absolute_percentage_error(df_test[\"Y\"], lr_y_pred))"
   ]
  },
  {
   "cell_type": "code",
   "execution_count": 110,
   "id": "e2e19494",
   "metadata": {},
   "outputs": [],
   "source": [
    "# DT\n",
    "dt_y_pred = dt_model.predict(df_test_x)\n",
    "# 평가\n",
    "mse.append(mean_squared_error(df_test[\"Y\"], dt_y_pred))\n",
    "rmse.append(root_mean_squared_error(df_test[\"Y\"], dt_y_pred))\n",
    "mae.append(mean_absolute_error(df_test[\"Y\"], dt_y_pred))\n",
    "mape.append(mean_absolute_percentage_error(df_test[\"Y\"], dt_y_pred))"
   ]
  },
  {
   "cell_type": "code",
   "execution_count": 111,
   "id": "98630522",
   "metadata": {},
   "outputs": [],
   "source": [
    "# RF\n",
    "rf_y_pred = rf_model.predict(df_test_x)\n",
    "# 평가\n",
    "mse.append(mean_squared_error(df_test[\"Y\"], rf_y_pred))\n",
    "rmse.append(root_mean_squared_error(df_test[\"Y\"], rf_y_pred))\n",
    "mae.append(mean_absolute_error(df_test[\"Y\"], rf_y_pred))\n",
    "mape.append(mean_absolute_percentage_error(df_test[\"Y\"], rf_y_pred))"
   ]
  },
  {
   "cell_type": "code",
   "execution_count": 112,
   "id": "ff55ee44",
   "metadata": {},
   "outputs": [],
   "source": [
    "# GB\n",
    "gb_y_pred = gb_model.predict(df_test_x)\n",
    "# 평가\n",
    "mse.append(mean_squared_error(df_test[\"Y\"], gb_y_pred))\n",
    "rmse.append(root_mean_squared_error(df_test[\"Y\"], gb_y_pred))\n",
    "mae.append(mean_absolute_error(df_test[\"Y\"], gb_y_pred))\n",
    "mape.append(mean_absolute_percentage_error(df_test[\"Y\"], gb_y_pred))"
   ]
  },
  {
   "cell_type": "code",
   "execution_count": 114,
   "id": "5700a725",
   "metadata": {
    "collapsed": true
   },
   "outputs": [
    {
     "data": {
      "image/png": "[encoded data removed]",
      "text/plain": [
       "<Figure size 1300x1000 with 4 Axes>"
      ]
     },
     "metadata": {},
     "output_type": "display_data"
    }
   ],
   "source": [
    "# 시각화\n",
    "fig, ax = plt.subplots(2,2, figsize = (13,10))\n",
    "ax[0,0].bar(models, mse)\n",
    "ax[0,0].set_title(\"mse\").set_fontsize(15)\n",
    "\n",
    "ax[0,1].bar(models, rmse)\n",
    "ax[0,1].set_title(\"rmse\").set_fontsize(15)\n",
    "\n",
    "ax[1,0].bar(models, mae)\n",
    "ax[1,0].set_title(\"mae\").set_fontsize(15)\n",
    "\n",
    "ax[1,1].bar(models, mape)\n",
    "ax[1,1].set_title(\"mape\").set_fontsize(15)"
   ]
  }
 ],
 "metadata": {
  "kernelspec": {
   "display_name": "Python 3 (ipykernel)",
   "language": "python",
   "name": "python3"
  },
  "language_info": {
   "codemirror_mode": {
    "name": "ipython",
    "version": 3
   },
   "file_extension": ".py",
   "mimetype": "text/x-python",
   "name": "python",
   "nbconvert_exporter": "python",
   "pygments_lexer": "ipython3",
   "version": "3.9.13"
  }
 },
 "nbformat": 4,
 "nbformat_minor": 5
}
