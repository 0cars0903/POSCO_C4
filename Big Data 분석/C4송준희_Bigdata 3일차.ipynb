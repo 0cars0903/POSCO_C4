{
 "cells": [
  {
   "cell_type": "code",
   "execution_count": 3,
   "id": "6f16fbde",
   "metadata": {},
   "outputs": [],
   "source": [
    "import pandas as pd\n",
    "import numpy as np\n",
    "import seaborn as sns\n",
    "\n",
    "import matplotlib\n",
    "import matplotlib.pyplot as plt\n",
    "\n",
    "import scipy\n",
    "from scipy import stats\n",
    "from statsmodels.stats.proportion import proportions_ztest\n",
    "\n",
    "import seaborn as sns\n",
    "\n",
    "import warnings\n",
    "warnings.filterwarnings('ignore')"
   ]
  },
  {
   "cell_type": "code",
   "execution_count": 2,
   "id": "afe5e8c7",
   "metadata": {},
   "outputs": [
    {
     "name": "stdout",
     "output_type": "stream",
     "text": [
      "/usr/share/fonts: caching, new cache contents: 0 fonts, 6 dirs\n",
      "/usr/share/fonts/X11: caching, new cache contents: 0 fonts, 4 dirs\n",
      "/usr/share/fonts/X11/Type1: caching, new cache contents: 8 fonts, 0 dirs\n",
      "/usr/share/fonts/X11/encodings: caching, new cache contents: 0 fonts, 1 dirs\n",
      "/usr/share/fonts/X11/encodings/large: caching, new cache contents: 0 fonts, 0 dirs\n",
      "/usr/share/fonts/X11/misc: caching, new cache contents: 89 fonts, 0 dirs\n",
      "/usr/share/fonts/X11/util: caching, new cache contents: 0 fonts, 0 dirs\n",
      "/usr/share/fonts/cMap: caching, new cache contents: 0 fonts, 0 dirs\n",
      "/usr/share/fonts/cmap: caching, new cache contents: 0 fonts, 5 dirs\n",
      "/usr/share/fonts/cmap/adobe-cns1: caching, new cache contents: 0 fonts, 0 dirs\n",
      "/usr/share/fonts/cmap/adobe-gb1: caching, new cache contents: 0 fonts, 0 dirs\n",
      "/usr/share/fonts/cmap/adobe-japan1: caching, new cache contents: 0 fonts, 0 dirs\n",
      "/usr/share/fonts/cmap/adobe-japan2: caching, new cache contents: 0 fonts, 0 dirs\n",
      "/usr/share/fonts/cmap/adobe-korea1: caching, new cache contents: 0 fonts, 0 dirs\n",
      "/usr/share/fonts/opentype: caching, new cache contents: 0 fonts, 2 dirs\n",
      "/usr/share/fonts/opentype/malayalam: caching, new cache contents: 3 fonts, 0 dirs\n",
      "/usr/share/fonts/opentype/noto: caching, new cache contents: 73 fonts, 0 dirs\n",
      "/usr/share/fonts/truetype: caching, new cache contents: 0 fonts, 46 dirs\n",
      "/usr/share/fonts/truetype/Gargi: caching, new cache contents: 1 fonts, 0 dirs\n",
      "/usr/share/fonts/truetype/Gubbi: caching, new cache contents: 1 fonts, 0 dirs\n",
      "/usr/share/fonts/truetype/Nakula: caching, new cache contents: 1 fonts, 0 dirs\n",
      "/usr/share/fonts/truetype/Navilu: caching, new cache contents: 1 fonts, 0 dirs\n",
      "/usr/share/fonts/truetype/Sahadeva: caching, new cache contents: 1 fonts, 0 dirs\n",
      "/usr/share/fonts/truetype/Sarai: caching, new cache contents: 1 fonts, 0 dirs\n",
      "/usr/share/fonts/truetype/abyssinica: caching, new cache contents: 1 fonts, 0 dirs\n",
      "/usr/share/fonts/truetype/dejavu: caching, new cache contents: 6 fonts, 0 dirs\n",
      "/usr/share/fonts/truetype/droid: caching, new cache contents: 1 fonts, 0 dirs\n",
      "/usr/share/fonts/truetype/fonts-beng-extra: caching, new cache contents: 6 fonts, 0 dirs\n",
      "/usr/share/fonts/truetype/fonts-deva-extra: caching, new cache contents: 3 fonts, 0 dirs\n",
      "/usr/share/fonts/truetype/fonts-gujr-extra: caching, new cache contents: 5 fonts, 0 dirs\n",
      "/usr/share/fonts/truetype/fonts-guru-extra: caching, new cache contents: 1 fonts, 0 dirs\n",
      "/usr/share/fonts/truetype/fonts-kalapi: caching, new cache contents: 1 fonts, 0 dirs\n",
      "/usr/share/fonts/truetype/fonts-orya-extra: caching, new cache contents: 1 fonts, 0 dirs\n",
      "/usr/share/fonts/truetype/fonts-telu-extra: caching, new cache contents: 2 fonts, 0 dirs\n",
      "/usr/share/fonts/truetype/freefont: caching, new cache contents: 12 fonts, 0 dirs\n",
      "/usr/share/fonts/truetype/kacst: caching, new cache contents: 15 fonts, 0 dirs\n",
      "/usr/share/fonts/truetype/kacst-one: caching, new cache contents: 2 fonts, 0 dirs\n",
      "/usr/share/fonts/truetype/lao: caching, new cache contents: 1 fonts, 0 dirs\n",
      "/usr/share/fonts/truetype/liberation: caching, new cache contents: 16 fonts, 0 dirs\n",
      "/usr/share/fonts/truetype/liberation2: caching, new cache contents: 12 fonts, 0 dirs\n",
      "/usr/share/fonts/truetype/lohit-assamese: caching, new cache contents: 1 fonts, 0 dirs\n",
      "/usr/share/fonts/truetype/lohit-bengali: caching, new cache contents: 1 fonts, 0 dirs\n",
      "/usr/share/fonts/truetype/lohit-devanagari: caching, new cache contents: 1 fonts, 0 dirs\n",
      "/usr/share/fonts/truetype/lohit-gujarati: caching, new cache contents: 1 fonts, 0 dirs\n",
      "/usr/share/fonts/truetype/lohit-kannada: caching, new cache contents: 1 fonts, 0 dirs\n",
      "/usr/share/fonts/truetype/lohit-malayalam: caching, new cache contents: 1 fonts, 0 dirs\n",
      "/usr/share/fonts/truetype/lohit-oriya: caching, new cache contents: 1 fonts, 0 dirs\n",
      "/usr/share/fonts/truetype/lohit-punjabi: caching, new cache contents: 1 fonts, 0 dirs\n",
      "/usr/share/fonts/truetype/lohit-tamil: caching, new cache contents: 1 fonts, 0 dirs\n",
      "/usr/share/fonts/truetype/lohit-tamil-classical: caching, new cache contents: 1 fonts, 0 dirs\n",
      "/usr/share/fonts/truetype/lohit-telugu: caching, new cache contents: 1 fonts, 0 dirs\n",
      "/usr/share/fonts/truetype/malayalam: caching, new cache contents: 11 fonts, 0 dirs\n",
      "/usr/share/fonts/truetype/nanum: caching, new cache contents: 31 fonts, 0 dirs\n",
      "/usr/share/fonts/truetype/noto: caching, new cache contents: 2 fonts, 0 dirs\n",
      "/usr/share/fonts/truetype/openoffice: caching, new cache contents: 1 fonts, 0 dirs\n",
      "/usr/share/fonts/truetype/padauk: caching, new cache contents: 4 fonts, 0 dirs\n",
      "/usr/share/fonts/truetype/pagul: caching, new cache contents: 1 fonts, 0 dirs\n",
      "/usr/share/fonts/truetype/samyak: caching, new cache contents: 1 fonts, 0 dirs\n",
      "/usr/share/fonts/truetype/samyak-fonts: caching, new cache contents: 3 fonts, 0 dirs\n",
      "/usr/share/fonts/truetype/sinhala: caching, new cache contents: 1 fonts, 0 dirs\n",
      "/usr/share/fonts/truetype/tibetan-machine: caching, new cache contents: 1 fonts, 0 dirs\n",
      "/usr/share/fonts/truetype/tlwg: caching, new cache contents: 58 fonts, 0 dirs\n",
      "/usr/share/fonts/truetype/ttf-khmeros-core: caching, new cache contents: 2 fonts, 0 dirs\n",
      "/usr/share/fonts/truetype/ubuntu: caching, new cache contents: 13 fonts, 0 dirs\n",
      "/usr/share/fonts/type1: caching, new cache contents: 0 fonts, 1 dirs\n",
      "/usr/share/fonts/type1/gsfonts: caching, new cache contents: 35 fonts, 0 dirs\n",
      "/home/piai/anaconda3/fonts: skipping, no such directory\n",
      "/home/piai/.local/share/fonts: skipping, no such directory\n",
      "/home/piai/.fonts: skipping, no such directory\n",
      "/usr/share/fonts/X11: skipping, looped directory detected\n",
      "/usr/share/fonts/cMap: skipping, looped directory detected\n",
      "/usr/share/fonts/cmap: skipping, looped directory detected\n",
      "/usr/share/fonts/opentype: skipping, looped directory detected\n",
      "/usr/share/fonts/truetype: skipping, looped directory detected\n",
      "/usr/share/fonts/type1: skipping, looped directory detected\n",
      "/usr/share/fonts/X11/Type1: skipping, looped directory detected\n",
      "/usr/share/fonts/X11/encodings: skipping, looped directory detected\n",
      "/usr/share/fonts/X11/misc: skipping, looped directory detected\n",
      "/usr/share/fonts/X11/util: skipping, looped directory detected\n",
      "/usr/share/fonts/cmap/adobe-cns1: skipping, looped directory detected\n",
      "/usr/share/fonts/cmap/adobe-gb1: skipping, looped directory detected\n",
      "/usr/share/fonts/cmap/adobe-japan1: skipping, looped directory detected\n",
      "/usr/share/fonts/cmap/adobe-japan2: skipping, looped directory detected\n",
      "/usr/share/fonts/cmap/adobe-korea1: skipping, looped directory detected\n",
      "/usr/share/fonts/opentype/malayalam: skipping, looped directory detected\n",
      "/usr/share/fonts/opentype/noto: skipping, looped directory detected\n",
      "/usr/share/fonts/truetype/Gargi: skipping, looped directory detected\n",
      "/usr/share/fonts/truetype/Gubbi: skipping, looped directory detected\n",
      "/usr/share/fonts/truetype/Nakula: skipping, looped directory detected\n",
      "/usr/share/fonts/truetype/Navilu: skipping, looped directory detected\n",
      "/usr/share/fonts/truetype/Sahadeva: skipping, looped directory detected\n",
      "/usr/share/fonts/truetype/Sarai: skipping, looped directory detected\n",
      "/usr/share/fonts/truetype/abyssinica: skipping, looped directory detected\n",
      "/usr/share/fonts/truetype/dejavu: skipping, looped directory detected\n",
      "/usr/share/fonts/truetype/droid: skipping, looped directory detected\n",
      "/usr/share/fonts/truetype/fonts-beng-extra: skipping, looped directory detected\n",
      "/usr/share/fonts/truetype/fonts-deva-extra: skipping, looped directory detected\n",
      "/usr/share/fonts/truetype/fonts-gujr-extra: skipping, looped directory detected\n",
      "/usr/share/fonts/truetype/fonts-guru-extra: skipping, looped directory detected\n",
      "/usr/share/fonts/truetype/fonts-kalapi: skipping, looped directory detected\n",
      "/usr/share/fonts/truetype/fonts-orya-extra: skipping, looped directory detected\n",
      "/usr/share/fonts/truetype/fonts-telu-extra: skipping, looped directory detected\n",
      "/usr/share/fonts/truetype/freefont: skipping, looped directory detected\n",
      "/usr/share/fonts/truetype/kacst: skipping, looped directory detected\n",
      "/usr/share/fonts/truetype/kacst-one: skipping, looped directory detected\n",
      "/usr/share/fonts/truetype/lao: skipping, looped directory detected\n",
      "/usr/share/fonts/truetype/liberation: skipping, looped directory detected\n",
      "/usr/share/fonts/truetype/liberation2: skipping, looped directory detected\n",
      "/usr/share/fonts/truetype/lohit-assamese: skipping, looped directory detected\n",
      "/usr/share/fonts/truetype/lohit-bengali: skipping, looped directory detected\n",
      "/usr/share/fonts/truetype/lohit-devanagari: skipping, looped directory detected\n",
      "/usr/share/fonts/truetype/lohit-gujarati: skipping, looped directory detected\n",
      "/usr/share/fonts/truetype/lohit-kannada: skipping, looped directory detected\n",
      "/usr/share/fonts/truetype/lohit-malayalam: skipping, looped directory detected\n",
      "/usr/share/fonts/truetype/lohit-oriya: skipping, looped directory detected\n",
      "/usr/share/fonts/truetype/lohit-punjabi: skipping, looped directory detected\n",
      "/usr/share/fonts/truetype/lohit-tamil: skipping, looped directory detected\n",
      "/usr/share/fonts/truetype/lohit-tamil-classical: skipping, looped directory detected\n",
      "/usr/share/fonts/truetype/lohit-telugu: skipping, looped directory detected\n",
      "/usr/share/fonts/truetype/malayalam: skipping, looped directory detected\n",
      "/usr/share/fonts/truetype/nanum: skipping, looped directory detected\n",
      "/usr/share/fonts/truetype/noto: skipping, looped directory detected\n",
      "/usr/share/fonts/truetype/openoffice: skipping, looped directory detected\n",
      "/usr/share/fonts/truetype/padauk: skipping, looped directory detected\n",
      "/usr/share/fonts/truetype/pagul: skipping, looped directory detected\n",
      "/usr/share/fonts/truetype/samyak: skipping, looped directory detected\n",
      "/usr/share/fonts/truetype/samyak-fonts: skipping, looped directory detected\n",
      "/usr/share/fonts/truetype/sinhala: skipping, looped directory detected\n",
      "/usr/share/fonts/truetype/tibetan-machine: skipping, looped directory detected\n",
      "/usr/share/fonts/truetype/tlwg: skipping, looped directory detected\n",
      "/usr/share/fonts/truetype/ttf-khmeros-core: skipping, looped directory detected\n",
      "/usr/share/fonts/truetype/ubuntu: skipping, looped directory detected\n",
      "/usr/share/fonts/type1/gsfonts: skipping, looped directory detected\n",
      "/usr/share/fonts/X11/encodings/large: skipping, looped directory detected\n",
      "/home/piai/anaconda3/var/cache/fontconfig: cleaning cache directory\n",
      "/home/piai/.cache/fontconfig: cleaning cache directory\n",
      "/home/piai/.fontconfig: not cleaning non-existent cache directory\n"
     ]
    },
    {
     "name": "stdout",
     "output_type": "stream",
     "text": [
      "fc-cache: succeeded\r\n"
     ]
    },
    {
     "data": {
      "text/plain": [
       "['NanumMyeongjo',\n",
       " 'Nanum Brush Script',\n",
       " 'NanumGothic Eco',\n",
       " 'NanumMyeongjo Eco',\n",
       " 'NanumGothicCoding',\n",
       " 'NanumGothic Eco',\n",
       " 'NanumMyeongjo',\n",
       " 'NanumMyeongjo Eco',\n",
       " 'NanumBarunpen',\n",
       " 'NanumSquareRound',\n",
       " 'NanumSquareRound',\n",
       " 'NanumGothic',\n",
       " 'NanumBarunGothic',\n",
       " 'NanumGothic',\n",
       " 'NanumGothic Eco',\n",
       " 'NanumBarunGothic',\n",
       " 'NanumGothic',\n",
       " 'NanumSquareRound',\n",
       " 'NanumGothic',\n",
       " 'NanumBarunGothic',\n",
       " 'NanumSquare',\n",
       " 'NanumSquare',\n",
       " 'Nanum Pen Script',\n",
       " 'NanumMyeongjo Eco',\n",
       " 'NanumSquareRound',\n",
       " 'NanumGothicCoding',\n",
       " 'NanumSquare',\n",
       " 'NanumSquare',\n",
       " 'NanumBarunpen',\n",
       " 'NanumBarunGothic',\n",
       " 'NanumMyeongjo',\n",
       " 'NanumGothic',\n",
       " 'NanumSquare',\n",
       " 'NanumBarunpen',\n",
       " 'NanumMyeongjo',\n",
       " 'NanumMyeongjo Eco',\n",
       " 'NanumMyeongjo',\n",
       " 'NanumSquareRound',\n",
       " 'NanumSquareRound',\n",
       " 'NanumSquare',\n",
       " 'NanumBarunpen',\n",
       " 'NanumMyeongjo Eco',\n",
       " 'NanumGothic Eco',\n",
       " 'NanumSquareRound',\n",
       " 'NanumSquareRound',\n",
       " 'NanumSquare',\n",
       " 'NanumBarunGothic',\n",
       " 'NanumSquare',\n",
       " 'NanumGothicCoding',\n",
       " 'NanumBarunGothic',\n",
       " 'NanumMyeongjo',\n",
       " 'NanumGothic',\n",
       " 'NanumGothic',\n",
       " 'Nanum Pen Script',\n",
       " 'NanumBarunGothic',\n",
       " 'NanumBarunGothic',\n",
       " 'NanumGothicCoding',\n",
       " 'NanumGothic Eco',\n",
       " 'NanumMyeongjo Eco',\n",
       " 'NanumGothic Eco',\n",
       " 'Nanum Brush Script',\n",
       " 'NanumGothic']"
      ]
     },
     "execution_count": 2,
     "metadata": {},
     "output_type": "execute_result"
    }
   ],
   "source": [
    "# 한글 폰트 설정\n",
    "# !ls -l /usr/share/fonts/truetype/\n",
    "!rm -rf ~/.cache/matplotlib/*\n",
    "!fc-cache -fv\n",
    "\n",
    "import matplotlib    \n",
    "import matplotlib.font_manager\n",
    "\n",
    "[f.name for f in matplotlib.font_manager.fontManager.ttflist if 'Nanum' in f.name]"
   ]
  },
  {
   "cell_type": "code",
   "execution_count": 3,
   "id": "aab878a4",
   "metadata": {},
   "outputs": [],
   "source": [
    "import matplotlib as mpl\n",
    "import matplotlib.pyplot as plt\n",
    "\n",
    "# 유니코드 깨짐현상 해결\n",
    "mpl.rcParams['axes.unicode_minus'] = False\n",
    "\n",
    "# 나눔고딕 폰트 전체 적용\n",
    "plt.rcParams[\"font.family\"] = 'NanumMyeongjo'"
   ]
  },
  {
   "cell_type": "markdown",
   "id": "87736cee",
   "metadata": {},
   "source": [
    "## 실습과제 1 : 정규성 검정"
   ]
  },
  {
   "cell_type": "code",
   "execution_count": 59,
   "id": "9e99f55a",
   "metadata": {},
   "outputs": [
    {
     "data": {
      "text/html": [
       "<div>\n",
       "<style scoped>\n",
       "    .dataframe tbody tr th:only-of-type {\n",
       "        vertical-align: middle;\n",
       "    }\n",
       "\n",
       "    .dataframe tbody tr th {\n",
       "        vertical-align: top;\n",
       "    }\n",
       "\n",
       "    .dataframe thead th {\n",
       "        text-align: right;\n",
       "    }\n",
       "</style>\n",
       "<table border=\"1\" class=\"dataframe\">\n",
       "  <thead>\n",
       "    <tr style=\"text-align: right;\">\n",
       "      <th></th>\n",
       "      <th>Mat_A</th>\n",
       "      <th>Mat_B</th>\n",
       "      <th>Total</th>\n",
       "      <th>Sub</th>\n",
       "    </tr>\n",
       "  </thead>\n",
       "  <tbody>\n",
       "    <tr>\n",
       "      <th>15</th>\n",
       "      <td>NaN</td>\n",
       "      <td>NaN</td>\n",
       "      <td>72.7</td>\n",
       "      <td>2</td>\n",
       "    </tr>\n",
       "    <tr>\n",
       "      <th>16</th>\n",
       "      <td>NaN</td>\n",
       "      <td>NaN</td>\n",
       "      <td>66.9</td>\n",
       "      <td>2</td>\n",
       "    </tr>\n",
       "    <tr>\n",
       "      <th>17</th>\n",
       "      <td>NaN</td>\n",
       "      <td>NaN</td>\n",
       "      <td>70.2</td>\n",
       "      <td>2</td>\n",
       "    </tr>\n",
       "    <tr>\n",
       "      <th>18</th>\n",
       "      <td>NaN</td>\n",
       "      <td>NaN</td>\n",
       "      <td>74.4</td>\n",
       "      <td>2</td>\n",
       "    </tr>\n",
       "    <tr>\n",
       "      <th>19</th>\n",
       "      <td>NaN</td>\n",
       "      <td>NaN</td>\n",
       "      <td>70.1</td>\n",
       "      <td>2</td>\n",
       "    </tr>\n",
       "  </tbody>\n",
       "</table>\n",
       "</div>"
      ],
      "text/plain": [
       "    Mat_A  Mat_B  Total  Sub\n",
       "15    NaN    NaN   72.7    2\n",
       "16    NaN    NaN   66.9    2\n",
       "17    NaN    NaN   70.2    2\n",
       "18    NaN    NaN   74.4    2\n",
       "19    NaN    NaN   70.1    2"
      ]
     },
     "execution_count": 59,
     "metadata": {},
     "output_type": "execute_result"
    }
   ],
   "source": [
    "df_sample = pd.read_csv('/home/piai/Bigdata 실습과제/1 Big Data 분석 기초/2sample_t_test.csv', encoding = 'euc-kr')\n",
    "df_sample.tail()"
   ]
  },
  {
   "cell_type": "markdown",
   "id": "fbc87bf8",
   "metadata": {},
   "source": [
    "### 결측값 처리(1) : 평균으로 대체"
   ]
  },
  {
   "cell_type": "code",
   "execution_count": 5,
   "id": "e9332e93",
   "metadata": {},
   "outputs": [
    {
     "data": {
      "text/html": [
       "<div>\n",
       "<style scoped>\n",
       "    .dataframe tbody tr th:only-of-type {\n",
       "        vertical-align: middle;\n",
       "    }\n",
       "\n",
       "    .dataframe tbody tr th {\n",
       "        vertical-align: top;\n",
       "    }\n",
       "\n",
       "    .dataframe thead th {\n",
       "        text-align: right;\n",
       "    }\n",
       "</style>\n",
       "<table border=\"1\" class=\"dataframe\">\n",
       "  <thead>\n",
       "    <tr style=\"text-align: right;\">\n",
       "      <th></th>\n",
       "      <th>Mat_A</th>\n",
       "      <th>Mat_B</th>\n",
       "      <th>Total</th>\n",
       "      <th>Sub</th>\n",
       "    </tr>\n",
       "  </thead>\n",
       "  <tbody>\n",
       "    <tr>\n",
       "      <th>15</th>\n",
       "      <td>74.81</td>\n",
       "      <td>71.08</td>\n",
       "      <td>72.7</td>\n",
       "      <td>2</td>\n",
       "    </tr>\n",
       "    <tr>\n",
       "      <th>16</th>\n",
       "      <td>74.81</td>\n",
       "      <td>71.08</td>\n",
       "      <td>66.9</td>\n",
       "      <td>2</td>\n",
       "    </tr>\n",
       "    <tr>\n",
       "      <th>17</th>\n",
       "      <td>74.81</td>\n",
       "      <td>71.08</td>\n",
       "      <td>70.2</td>\n",
       "      <td>2</td>\n",
       "    </tr>\n",
       "    <tr>\n",
       "      <th>18</th>\n",
       "      <td>74.81</td>\n",
       "      <td>71.08</td>\n",
       "      <td>74.4</td>\n",
       "      <td>2</td>\n",
       "    </tr>\n",
       "    <tr>\n",
       "      <th>19</th>\n",
       "      <td>74.81</td>\n",
       "      <td>71.08</td>\n",
       "      <td>70.1</td>\n",
       "      <td>2</td>\n",
       "    </tr>\n",
       "  </tbody>\n",
       "</table>\n",
       "</div>"
      ],
      "text/plain": [
       "    Mat_A  Mat_B  Total  Sub\n",
       "15  74.81  71.08   72.7    2\n",
       "16  74.81  71.08   66.9    2\n",
       "17  74.81  71.08   70.2    2\n",
       "18  74.81  71.08   74.4    2\n",
       "19  74.81  71.08   70.1    2"
      ]
     },
     "execution_count": 5,
     "metadata": {},
     "output_type": "execute_result"
    }
   ],
   "source": [
    "mean_A = df_sample[\"Mat_A\"].mean()\n",
    "mean_B = df_sample[\"Mat_B\"].mean()\n",
    "df_sample[\"Mat_A\"].fillna(mean_A , inplace = True)\n",
    "df_sample[\"Mat_B\"].fillna(mean_B , inplace = True)\n",
    "df_sample.tail()"
   ]
  },
  {
   "cell_type": "code",
   "execution_count": 6,
   "id": "cfbea8a2",
   "metadata": {},
   "outputs": [],
   "source": [
    "data1 = df_sample[\"Mat_A\"]\n",
    "data2 = df_sample[\"Mat_B\"]\n",
    "data3 = df_sample[\"Total\"]"
   ]
  },
  {
   "cell_type": "code",
   "execution_count": 7,
   "id": "81e724c2",
   "metadata": {},
   "outputs": [],
   "source": [
    "# 정규성 검정\n",
    "shatistic1, p1 = stats.shapiro(data1)\n",
    "shatistic2, p2 = stats.shapiro(data2)\n",
    "shatistic3, p3 = stats.shapiro(data3)"
   ]
  },
  {
   "cell_type": "code",
   "execution_count": 8,
   "id": "fd230d3c",
   "metadata": {},
   "outputs": [
    {
     "name": "stdout",
     "output_type": "stream",
     "text": [
      "Mat_A의 정규성 검정결과, Shapiro-Wilk Test : statistic=0.89227294921875, p-value=0.029614390805363655\n"
     ]
    }
   ],
   "source": [
    "print(\"Mat_A의 정규성 검정결과, Shapiro-Wilk Test : statistic={0}, p-value={1}\".format(shatistic1, p1))"
   ]
  },
  {
   "cell_type": "markdown",
   "id": "b903e174",
   "metadata": {},
   "source": [
    "+ 정규성 검정결과(95% 신뢰수준 사용) P값이 0.05보다 낮기에, 해당 데이터는 정규성을 충족한다는 귀무가설을 기각 가능하다."
   ]
  },
  {
   "cell_type": "code",
   "execution_count": 9,
   "id": "027a5001",
   "metadata": {},
   "outputs": [
    {
     "name": "stdout",
     "output_type": "stream",
     "text": [
      "Mat_B의 정규성 검정결과, Shapiro-Wilk Test : statistic=0.8450576066970825, p-value=0.004409835673868656\n"
     ]
    }
   ],
   "source": [
    "print(\"Mat_B의 정규성 검정결과, Shapiro-Wilk Test : statistic={0}, p-value={1}\".format(shatistic2, p2))"
   ]
  },
  {
   "cell_type": "markdown",
   "id": "ac0852b4",
   "metadata": {},
   "source": [
    "+ 정규성 검정결과(95% 신뢰수준 사용) P값이 0.05보다 낮기에, 해당 데이터는 정규성을 충족한다는 귀무가설을 기각 가능하다."
   ]
  },
  {
   "cell_type": "markdown",
   "id": "541bf969",
   "metadata": {},
   "source": [
    "### 결측값 처리(2) : 제거"
   ]
  },
  {
   "cell_type": "code",
   "execution_count": 10,
   "id": "abf6f6ec",
   "metadata": {},
   "outputs": [
    {
     "data": {
      "text/html": [
       "<div>\n",
       "<style scoped>\n",
       "    .dataframe tbody tr th:only-of-type {\n",
       "        vertical-align: middle;\n",
       "    }\n",
       "\n",
       "    .dataframe tbody tr th {\n",
       "        vertical-align: top;\n",
       "    }\n",
       "\n",
       "    .dataframe thead th {\n",
       "        text-align: right;\n",
       "    }\n",
       "</style>\n",
       "<table border=\"1\" class=\"dataframe\">\n",
       "  <thead>\n",
       "    <tr style=\"text-align: right;\">\n",
       "      <th></th>\n",
       "      <th>Mat_A</th>\n",
       "      <th>Mat_B</th>\n",
       "      <th>Total</th>\n",
       "      <th>Sub</th>\n",
       "    </tr>\n",
       "  </thead>\n",
       "  <tbody>\n",
       "    <tr>\n",
       "      <th>15</th>\n",
       "      <td>NaN</td>\n",
       "      <td>NaN</td>\n",
       "      <td>72.7</td>\n",
       "      <td>2</td>\n",
       "    </tr>\n",
       "    <tr>\n",
       "      <th>16</th>\n",
       "      <td>NaN</td>\n",
       "      <td>NaN</td>\n",
       "      <td>66.9</td>\n",
       "      <td>2</td>\n",
       "    </tr>\n",
       "    <tr>\n",
       "      <th>17</th>\n",
       "      <td>NaN</td>\n",
       "      <td>NaN</td>\n",
       "      <td>70.2</td>\n",
       "      <td>2</td>\n",
       "    </tr>\n",
       "    <tr>\n",
       "      <th>18</th>\n",
       "      <td>NaN</td>\n",
       "      <td>NaN</td>\n",
       "      <td>74.4</td>\n",
       "      <td>2</td>\n",
       "    </tr>\n",
       "    <tr>\n",
       "      <th>19</th>\n",
       "      <td>NaN</td>\n",
       "      <td>NaN</td>\n",
       "      <td>70.1</td>\n",
       "      <td>2</td>\n",
       "    </tr>\n",
       "  </tbody>\n",
       "</table>\n",
       "</div>"
      ],
      "text/plain": [
       "    Mat_A  Mat_B  Total  Sub\n",
       "15    NaN    NaN   72.7    2\n",
       "16    NaN    NaN   66.9    2\n",
       "17    NaN    NaN   70.2    2\n",
       "18    NaN    NaN   74.4    2\n",
       "19    NaN    NaN   70.1    2"
      ]
     },
     "execution_count": 10,
     "metadata": {},
     "output_type": "execute_result"
    }
   ],
   "source": [
    "df_sample = pd.read_csv('/home/piai/Bigdata 실습과제/1 Big Data 분석 기초/2sample_t_test.csv', encoding = 'euc-kr')\n",
    "df_sample.tail()"
   ]
  },
  {
   "cell_type": "code",
   "execution_count": 11,
   "id": "7cdc82d1",
   "metadata": {},
   "outputs": [
    {
     "data": {
      "text/html": [
       "<div>\n",
       "<style scoped>\n",
       "    .dataframe tbody tr th:only-of-type {\n",
       "        vertical-align: middle;\n",
       "    }\n",
       "\n",
       "    .dataframe tbody tr th {\n",
       "        vertical-align: top;\n",
       "    }\n",
       "\n",
       "    .dataframe thead th {\n",
       "        text-align: right;\n",
       "    }\n",
       "</style>\n",
       "<table border=\"1\" class=\"dataframe\">\n",
       "  <thead>\n",
       "    <tr style=\"text-align: right;\">\n",
       "      <th></th>\n",
       "      <th>Mat_A</th>\n",
       "      <th>Mat_B</th>\n",
       "      <th>Total</th>\n",
       "      <th>Sub</th>\n",
       "    </tr>\n",
       "  </thead>\n",
       "  <tbody>\n",
       "    <tr>\n",
       "      <th>5</th>\n",
       "      <td>71.5</td>\n",
       "      <td>72.7</td>\n",
       "      <td>71.5</td>\n",
       "      <td>1</td>\n",
       "    </tr>\n",
       "    <tr>\n",
       "      <th>6</th>\n",
       "      <td>74.5</td>\n",
       "      <td>66.9</td>\n",
       "      <td>74.5</td>\n",
       "      <td>1</td>\n",
       "    </tr>\n",
       "    <tr>\n",
       "      <th>7</th>\n",
       "      <td>77.5</td>\n",
       "      <td>70.2</td>\n",
       "      <td>77.5</td>\n",
       "      <td>1</td>\n",
       "    </tr>\n",
       "    <tr>\n",
       "      <th>8</th>\n",
       "      <td>76.4</td>\n",
       "      <td>74.4</td>\n",
       "      <td>76.4</td>\n",
       "      <td>1</td>\n",
       "    </tr>\n",
       "    <tr>\n",
       "      <th>9</th>\n",
       "      <td>77.7</td>\n",
       "      <td>70.1</td>\n",
       "      <td>77.7</td>\n",
       "      <td>1</td>\n",
       "    </tr>\n",
       "  </tbody>\n",
       "</table>\n",
       "</div>"
      ],
      "text/plain": [
       "   Mat_A  Mat_B  Total  Sub\n",
       "5   71.5   72.7   71.5    1\n",
       "6   74.5   66.9   74.5    1\n",
       "7   77.5   70.2   77.5    1\n",
       "8   76.4   74.4   76.4    1\n",
       "9   77.7   70.1   77.7    1"
      ]
     },
     "execution_count": 11,
     "metadata": {},
     "output_type": "execute_result"
    }
   ],
   "source": [
    "df_sample.dropna(0 , inplace = True)\n",
    "df_sample.tail()"
   ]
  },
  {
   "cell_type": "code",
   "execution_count": 12,
   "id": "d0df64b2",
   "metadata": {},
   "outputs": [],
   "source": [
    "data1 = df_sample[\"Mat_A\"]\n",
    "data2 = df_sample[\"Mat_B\"]\n",
    "data3 = df_sample[\"Total\"]"
   ]
  },
  {
   "cell_type": "code",
   "execution_count": 13,
   "id": "00fc9638",
   "metadata": {},
   "outputs": [],
   "source": [
    "# 정규성 검정\n",
    "shatistic1, p1 = stats.shapiro(data1)\n",
    "shatistic2, p2 = stats.shapiro(data2)\n",
    "shatistic3, p3 = stats.shapiro(data3)"
   ]
  },
  {
   "cell_type": "code",
   "execution_count": 14,
   "id": "b3c790cc",
   "metadata": {},
   "outputs": [
    {
     "name": "stdout",
     "output_type": "stream",
     "text": [
      "Mat_A의 정규성 검정결과, Shapiro-Wilk Test : statistic=0.906264066696167, p-value=0.2563020884990692\n"
     ]
    }
   ],
   "source": [
    "print(\"Mat_A의 정규성 검정결과, Shapiro-Wilk Test : statistic={0}, p-value={1}\".format(shatistic1, p1))"
   ]
  },
  {
   "cell_type": "markdown",
   "id": "62514051",
   "metadata": {},
   "source": [
    "+ 정규성 검정결과(95% 신뢰수준 사용) P값이 0.05보다 높기 때문에, 해당 데이터는 정규성을 충족한다는 귀무가설을 기각하지 못한다."
   ]
  },
  {
   "cell_type": "code",
   "execution_count": 15,
   "id": "d6f5f674",
   "metadata": {},
   "outputs": [
    {
     "name": "stdout",
     "output_type": "stream",
     "text": [
      "Mat_B의 정규성 검정결과, Shapiro-Wilk Test : statistic=0.9729753732681274, p-value=0.9169775247573853\n"
     ]
    }
   ],
   "source": [
    "print(\"Mat_B의 정규성 검정결과, Shapiro-Wilk Test : statistic={0}, p-value={1}\".format(shatistic2, p2))"
   ]
  },
  {
   "cell_type": "markdown",
   "id": "596c70a8",
   "metadata": {},
   "source": [
    "+ 정규성 검정결과(95% 신뢰수준 사용) P값이 0.05보다 높기 때문에, 해당 데이터는 정규성을 충족한다는 귀무가설을 기각하지 못한다."
   ]
  },
  {
   "cell_type": "markdown",
   "id": "253d316c",
   "metadata": {},
   "source": [
    "### 결론"
   ]
  },
  {
   "cell_type": "markdown",
   "id": "68b4f524",
   "metadata": {},
   "source": [
    "> 결측값으로 제거할 경우 귀무가설이 타당하다.  \n",
    "> 그러나 데이터의 수가 너무 적기 때문에 가설의 검정 과정에서 유의미한 결과를 얻지 못할 것으로 판단된다.  \n",
    "> 따라서 결측값을 평균으로 처리하여 데이터의 수가 충분한 상태에서 통계적 추론을 실시할 것으로 결정하였다."
   ]
  },
  {
   "cell_type": "markdown",
   "id": "6b3ec8aa",
   "metadata": {},
   "source": [
    "## 실습과제 2 : 모평균 구간 추정"
   ]
  },
  {
   "cell_type": "code",
   "execution_count": 16,
   "id": "871b7e8f",
   "metadata": {},
   "outputs": [
    {
     "name": "stdout",
     "output_type": "stream",
     "text": [
      "신뢰구간 : [17.83], [21.17]\n"
     ]
    }
   ],
   "source": [
    "dic = {'sample' : [18,18,20,21,20,23,19,18,17,21,22,20,20,21,20,19,19,18,17,19]}\n",
    "df = pd.DataFrame(dic)\n",
    "lower, upper = stats.norm.interval(0.95, loc = np.mean(df), scale = 3.8/np.sqrt(20))\n",
    "print(\"신뢰구간 : {0}, {1}\".format(lower.round(2), upper.round(2)))"
   ]
  },
  {
   "cell_type": "markdown",
   "id": "e0a751ac",
   "metadata": {},
   "source": [
    "### 결론 "
   ]
  },
  {
   "cell_type": "markdown",
   "id": "e9cfcbdb",
   "metadata": {},
   "source": [
    "> 감자의 품종 개발이 성공했다고 판단할 수 있는 척도로 신뢰구간을 계산하였다.    \n",
    "> 약 18 ~ 21 사이의 감자 Box들이 품종 개발이 성공한 Box로 에상할 수 있다."
   ]
  },
  {
   "cell_type": "markdown",
   "id": "918fe79d",
   "metadata": {},
   "source": [
    "## 실습과제 3 : 모평균 구간 추정(모표준편차를 모르는 경우)"
   ]
  },
  {
   "cell_type": "code",
   "execution_count": 17,
   "id": "a08235c9",
   "metadata": {},
   "outputs": [
    {
     "name": "stdout",
     "output_type": "stream",
     "text": [
      "신뢰구간 : [70.6], [72.4]\n"
     ]
    }
   ],
   "source": [
    "dic = {'sample' : [73,71,74,69,70,73,70,68,75,72,70,72,73,70,70,72,71,70,75,72]}\n",
    "df = pd.DataFrame(dic)\n",
    "lower, upper = stats.t.interval(0.95, len(df)-1, loc = np.mean(df), scale = scipy.stats.sem(df))\n",
    "print(\"신뢰구간 : {0}, {1}\".format(lower.round(2), upper.round(2)))"
   ]
  },
  {
   "cell_type": "markdown",
   "id": "3069ca4a",
   "metadata": {},
   "source": [
    "### 결론"
   ]
  },
  {
   "cell_type": "markdown",
   "id": "3ed91529",
   "metadata": {},
   "source": [
    " > 새로 개발된 강종의 평균 인장강도를 70Kg/mm^2으로 기대하고 있다.  \n",
    " 표본의 신뢰구간 안에 기대치가 포함되어 있기 때문에 개발이 성공하였다고 예측할 수 있다."
   ]
  },
  {
   "cell_type": "markdown",
   "id": "d9fe9ddc",
   "metadata": {},
   "source": [
    "## 실습과제 4 : 평균 검정"
   ]
  },
  {
   "cell_type": "code",
   "execution_count": 45,
   "id": "bed81854",
   "metadata": {},
   "outputs": [
    {
     "data": {
      "text/plain": [
       "<AxesSubplot:>"
      ]
     },
     "execution_count": 45,
     "metadata": {},
     "output_type": "execute_result"
    }
   ],
   "source": [
    "u_before = 78.0\n",
    "dic_after = {\"sample\" : [85.0,79.0,79.1,79.9,81.6,78.6,85.4,83.4,78.1,79.2]}\n",
    "df_after = pd.DataFrame(dic)\n",
    "df.boxplot([\"sample\"])"
   ]
  },
  {
   "cell_type": "code",
   "execution_count": 19,
   "id": "e057422f",
   "metadata": {},
   "outputs": [
    {
     "name": "stdout",
     "output_type": "stream",
     "text": [
      "statistic=0.9470749497413635, p-value=0.32486021518707275\n"
     ]
    }
   ],
   "source": [
    "statistic, p = stats.shapiro(df['sample'])\n",
    "print(\"statistic={}, p-value={}\".format(statistic,p))"
   ]
  },
  {
   "cell_type": "code",
   "execution_count": 20,
   "id": "2636f78a",
   "metadata": {},
   "outputs": [],
   "source": [
    "t_result = stats.ttest_1samp(df,u_before)\n",
    "t, p = t_result.statistic.round(3), t_result.pvalue.round(3)"
   ]
  },
  {
   "cell_type": "code",
   "execution_count": 21,
   "id": "14bf7251",
   "metadata": {},
   "outputs": [
    {
     "name": "stdout",
     "output_type": "stream",
     "text": [
      "1-Sample t-test\n",
      "t 통계량 : [-15.038]\n",
      "p-value : [0.]\n"
     ]
    }
   ],
   "source": [
    "print(\"1-Sample t-test\")\n",
    "print(\"t 통계량 : {}\".format(t))\n",
    "print(\"p-value : {}\".format(p))"
   ]
  },
  {
   "cell_type": "markdown",
   "id": "6f7a8af6",
   "metadata": {},
   "source": [
    "+ 유의 수준 5%에서 검정결과 P값이 0.05보다 매우 작기 때문에 개선활동이 고객만족도를 변화시켰다고 할 수 있다."
   ]
  },
  {
   "cell_type": "markdown",
   "id": "88b75c9b",
   "metadata": {},
   "source": [
    "## 실습과제 5 : 평균 검정"
   ]
  },
  {
   "cell_type": "code",
   "execution_count": 4,
   "id": "13d2be51",
   "metadata": {},
   "outputs": [],
   "source": [
    "dic_supply = {\"sample_A\" : [1.883, 1.715, 1.799, 1.768, 1.711, 1.832, 1.427, 1.344],\n",
    "      \"sample_B\" : [1.435, 1.572, 1.486, 1.511, 1.457, 1.548, 1.404, 1.883]}\n",
    "df_supply = pd.DataFrame(dic_supply)"
   ]
  },
  {
   "cell_type": "markdown",
   "id": "57ecf234",
   "metadata": {},
   "source": [
    "#### 이상치 확인"
   ]
  },
  {
   "cell_type": "code",
   "execution_count": 26,
   "id": "89a075d7",
   "metadata": {},
   "outputs": [
    {
     "data": {
      "text/plain": [
       "<AxesSubplot:>"
      ]
     },
     "execution_count": 26,
     "metadata": {},
     "output_type": "execute_result"
    }
   ],
   "source": [
    "df_supply.boxplot([\"sample_A\",\"sample_B\"])"
   ]
  },
  {
   "cell_type": "markdown",
   "id": "943b9e5c",
   "metadata": {},
   "source": [
    "> 이상치로 인하여 정규분포를 따르지 못할 것으로 판단하였고  \n",
    "> 이상치를 제거 후 등분산을 판단하기로 결정하였다."
   ]
  },
  {
   "cell_type": "markdown",
   "id": "884775a3",
   "metadata": {},
   "source": [
    "#### 이상치 제거"
   ]
  },
  {
   "cell_type": "code",
   "execution_count": 19,
   "id": "b67279b6",
   "metadata": {},
   "outputs": [],
   "source": [
    "df_supply[\"sample_A\"].sort_index(ascending = False)\n",
    "df_supply[\"sample_B\"].sort_index()\n",
    "df_supply.drop(7, inplace = True)"
   ]
  },
  {
   "cell_type": "code",
   "execution_count": 20,
   "id": "11b22f93",
   "metadata": {},
   "outputs": [
    {
     "name": "stdout",
     "output_type": "stream",
     "text": [
      "statistic : 0.836285412311554, p-value : 0.09172070026397705\n"
     ]
    }
   ],
   "source": [
    "# 정규성 검정\n",
    "statistic_A, p_A = stats.shapiro(df_supply['sample_A'])\n",
    "print(\"statistic : {}, p-value : {}\".format(statistic_A, p_A))"
   ]
  },
  {
   "cell_type": "markdown",
   "id": "f75f5fb6",
   "metadata": {},
   "source": [
    "> sample A는 대략적으로 정규분포를 따른다고 할 수 있다."
   ]
  },
  {
   "cell_type": "code",
   "execution_count": 21,
   "id": "45dc13d9",
   "metadata": {},
   "outputs": [
    {
     "name": "stdout",
     "output_type": "stream",
     "text": [
      "statistic : 0.9755363464355469, p-value : 0.9352017641067505\n"
     ]
    }
   ],
   "source": [
    "statistic_B, p_B = stats.shapiro(df_supply['sample_B'])\n",
    "print(\"statistic : {}, p-value : {}\".format(statistic_B, p_B))"
   ]
  },
  {
   "cell_type": "markdown",
   "id": "5c3823f0",
   "metadata": {},
   "source": [
    "> sample B는 대략적으로 정규분포를 따른다고 할 수 있다."
   ]
  },
  {
   "cell_type": "code",
   "execution_count": 22,
   "id": "484fc538",
   "metadata": {},
   "outputs": [
    {
     "data": {
      "text/plain": [
       "BartlettResult(statistic=3.960394902992892, pvalue=0.04658277397613468)"
      ]
     },
     "execution_count": 22,
     "metadata": {},
     "output_type": "execute_result"
    }
   ],
   "source": [
    "# 등분산 검정\n",
    "stats.bartlett(df_supply['sample_A'],df_supply['sample_B'])"
   ]
  },
  {
   "cell_type": "code",
   "execution_count": 23,
   "id": "98a9e4a3",
   "metadata": {},
   "outputs": [],
   "source": [
    "# 두 집단의 평균 비교\n",
    "t_result = stats.ttest_ind(df_supply['sample_A'],df_supply['sample_B'])\n",
    "t, p = t_result.statistic.round(3), t_result.pvalue.round(3)"
   ]
  },
  {
   "cell_type": "code",
   "execution_count": 24,
   "id": "c4654a25",
   "metadata": {},
   "outputs": [
    {
     "name": "stdout",
     "output_type": "stream",
     "text": [
      "2-Sampel test\n",
      "t : 4.058\n",
      "p : 0.002\n"
     ]
    }
   ],
   "source": [
    "print(\"2-Sampel test\")\n",
    "print(\"t : {}\".format(t))\n",
    "print(\"p : {}\".format(p))"
   ]
  },
  {
   "cell_type": "markdown",
   "id": "a4bbe02c",
   "metadata": {},
   "source": [
    "### 결론"
   ]
  },
  {
   "cell_type": "markdown",
   "id": "32ecab88",
   "metadata": {},
   "source": [
    "> 유의수준 5%에서 검정결과 P값이 0.002이므로 공급자간에 제품의 차이가 있다고 할 수 있다."
   ]
  },
  {
   "cell_type": "markdown",
   "id": "f6cea6e6",
   "metadata": {},
   "source": [
    "## 실습 과제 6"
   ]
  },
  {
   "cell_type": "code",
   "execution_count": null,
   "id": "427a177d",
   "metadata": {},
   "outputs": [],
   "source": [
    "# Data set\n",
    "df_before = pd.DataFrame({\"before\" : [720,589,780,648,720,589,780,648,780,648]})\n",
    "df_after = pd.DataFrame({\"after\" : [710,580,787,712,750,600,782,670,790,680]})\n",
    "# Paired t-test\n",
    "t_result = stats.ttest_rel(df_before, df_after)\n",
    "# t, p \n",
    "t, p = t_result.statistic.round(5), t_result.pvalue.round(5)\n",
    "print(\"Paired test\")\n",
    "print(\"t : {}\".format(t))\n",
    "print(\"p : {}\".format(p))"
   ]
  },
  {
   "cell_type": "markdown",
   "id": "4a95cca4",
   "metadata": {},
   "source": [
    "### 결론"
   ]
  },
  {
   "cell_type": "markdown",
   "id": "bec815b0",
   "metadata": {},
   "source": [
    "> 유의수준 5% 차이에서 검정결과 P값이 0.4968 이므로 학원 수강 전후의 점수는 차이가 거의 없다고 할 수 있다."
   ]
  },
  {
   "cell_type": "markdown",
   "id": "80a32b7c",
   "metadata": {},
   "source": [
    "## 실습 과제 7"
   ]
  },
  {
   "cell_type": "markdown",
   "id": "713b5875",
   "metadata": {},
   "source": [
    "#### 가설의 수립\n",
    "* H_0 : p = 0.5\n",
    "* H_1 : p != 0.5\n",
    "* p = 40/60"
   ]
  },
  {
   "cell_type": "code",
   "execution_count": 31,
   "id": "e47ceb0b",
   "metadata": {},
   "outputs": [],
   "source": [
    "# 변수의 선언\n",
    "count_head = 40\n",
    "n_obs = 100\n",
    "value = 0.5\n",
    "# test \n",
    "stat, pval = proportions_ztest(count_head, n_obs, value)"
   ]
  },
  {
   "cell_type": "code",
   "execution_count": 32,
   "id": "09284455",
   "metadata": {},
   "outputs": [
    {
     "name": "stdout",
     "output_type": "stream",
     "text": [
      "1 Proportion test\n",
      "z: -2.041\n",
      "p: 0.041\n"
     ]
    }
   ],
   "source": [
    "# 결과 출력\n",
    "print(\"1 Proportion test\")\n",
    "print(\"z: {0:0.3f}\".format(stat))\n",
    "print(\"p: {0:0.3f}\".format(pval))"
   ]
  },
  {
   "cell_type": "markdown",
   "id": "ffdc51c4",
   "metadata": {},
   "source": [
    "### 결론"
   ]
  },
  {
   "cell_type": "markdown",
   "id": "bb5873a0",
   "metadata": {},
   "source": [
    "> 결과적으로 P값이 5%보다 적기 때문에 동전은 정상적이지 않다고 할 수 있다."
   ]
  },
  {
   "cell_type": "markdown",
   "id": "eb163fd4",
   "metadata": {},
   "source": [
    "## 실습 과제 8"
   ]
  },
  {
   "cell_type": "markdown",
   "id": "666d934a",
   "metadata": {},
   "source": [
    "#### 가설의 수립\n",
    "* H0 : p1 = p2\n",
    "* H1 : p1 != p2\n",
    "* p1_hat = 14 / 1200\n",
    "* p2_hat = 5 / 1200"
   ]
  },
  {
   "cell_type": "code",
   "execution_count": 33,
   "id": "423b890b",
   "metadata": {},
   "outputs": [],
   "source": [
    "# 변수 선언\n",
    "count = np.array([14,5])\n",
    "nobs = np.array([1200,1200])"
   ]
  },
  {
   "cell_type": "code",
   "execution_count": 34,
   "id": "3b629efc",
   "metadata": {},
   "outputs": [],
   "source": [
    "# test\n",
    "stat, pval = proportions_ztest(count, nobs)"
   ]
  },
  {
   "cell_type": "code",
   "execution_count": 35,
   "id": "b9739515",
   "metadata": {},
   "outputs": [
    {
     "name": "stdout",
     "output_type": "stream",
     "text": [
      "2 Proportion test\n",
      "z: 2.073\n",
      "p: 0.038\n"
     ]
    }
   ],
   "source": [
    "print(\"2 Proportion test\")\n",
    "print(\"z: {0:0.3f}\".format(stat))\n",
    "print(\"p: {0:0.3f}\".format(pval))"
   ]
  },
  {
   "cell_type": "markdown",
   "id": "e25e4ccd",
   "metadata": {},
   "source": [
    "### 결론"
   ]
  },
  {
   "cell_type": "markdown",
   "id": "bbc41be8",
   "metadata": {},
   "source": [
    "> P값이 5%보다 작기 때문에 두 공정의 불량률은 같다고 할 수 없다."
   ]
  },
  {
   "cell_type": "markdown",
   "id": "81e1f5fc",
   "metadata": {},
   "source": [
    "## 실습 과제 9 : 카이제곱 검정"
   ]
  },
  {
   "cell_type": "markdown",
   "id": "669752ab",
   "metadata": {},
   "source": [
    "## 실습 과제 10 : 카이제곱 검정 "
   ]
  },
  {
   "cell_type": "markdown",
   "id": "457a0ac1",
   "metadata": {},
   "source": [
    "## 실습 과제 11 : 카이제곱 검정"
   ]
  },
  {
   "cell_type": "code",
   "execution_count": null,
   "id": "512c4f10",
   "metadata": {},
   "outputs": [],
   "source": []
  }
 ],
 "metadata": {
  "kernelspec": {
   "display_name": "Python 3 (ipykernel)",
   "language": "python",
   "name": "python3"
  },
  "language_info": {
   "codemirror_mode": {
    "name": "ipython",
    "version": 3
   },
   "file_extension": ".py",
   "mimetype": "text/x-python",
   "name": "python",
   "nbconvert_exporter": "python",
   "pygments_lexer": "ipython3",
   "version": "3.9.13"
  }
 },
 "nbformat": 4,
 "nbformat_minor": 5
}
