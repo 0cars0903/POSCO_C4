{
 "cells": [
  {
   "cell_type": "code",
   "execution_count": 30,
   "id": "860456fd",
   "metadata": {},
   "outputs": [],
   "source": [
    "import numpy as np\n",
    "import random"
   ]
  },
  {
   "cell_type": "markdown",
   "id": "c3b5530b",
   "metadata": {},
   "source": [
    "# 실습"
   ]
  },
  {
   "cell_type": "code",
   "execution_count": 56,
   "id": "c45462c1",
   "metadata": {},
   "outputs": [
    {
     "name": "stdout",
     "output_type": "stream",
     "text": [
      "[[0. 0. 0. 0. 0.]\n",
      " [0. 1. 1. 1. 0.]\n",
      " [0. 1. 1. 1. 0.]\n",
      " [0. 1. 1. 1. 0.]\n",
      " [0. 0. 0. 0. 0.]]\n",
      "\n",
      "[[0. 0. 0. 0. 0.]\n",
      " [0. 1. 1. 1. 0.]\n",
      " [0. 1. 1. 1. 0.]\n",
      " [0. 1. 1. 1. 0.]\n",
      " [0. 0. 0. 0. 0.]]\n",
      "\n",
      "[[1. 1. 1. 1. 1.]\n",
      " [1. 0. 0. 0. 1.]\n",
      " [1. 0. 0. 0. 1.]\n",
      " [1. 0. 0. 0. 1.]\n",
      " [1. 1. 1. 1. 1.]]\n"
     ]
    }
   ],
   "source": [
    "x = np.zeros((5,5))\n",
    "x[1:-1,1:-1] = 1\n",
    "print(x)\n",
    "print()\n",
    "x = np.ones((3,3))\n",
    "x = np.pad(x, pad_width = 1, mode='constant', constant_values=0)\n",
    "print(x)\n",
    "print()\n",
    "x = np.ones((5,5))\n",
    "x[1:-1,1:-1] = 0\n",
    "print(x)"
   ]
  },
  {
   "cell_type": "markdown",
   "id": "4ceef35d",
   "metadata": {},
   "source": [
    "# 실습"
   ]
  },
  {
   "cell_type": "code",
   "execution_count": 54,
   "id": "a83fd005",
   "metadata": {},
   "outputs": [
    {
     "name": "stdout",
     "output_type": "stream",
     "text": [
      "[[0. 1. 0. 1. 0. 1. 0. 1.]\n",
      " [1. 0. 1. 0. 1. 0. 1. 0.]\n",
      " [0. 1. 0. 1. 0. 1. 0. 1.]\n",
      " [1. 0. 1. 0. 1. 0. 1. 0.]\n",
      " [0. 1. 0. 1. 0. 1. 0. 1.]\n",
      " [1. 0. 1. 0. 1. 0. 1. 0.]\n",
      " [0. 1. 0. 1. 0. 1. 0. 1.]\n",
      " [1. 0. 1. 0. 1. 0. 1. 0.]]\n"
     ]
    }
   ],
   "source": [
    "x = np.zeros((8,8))\n",
    "x[1::2,::2] = 1\n",
    "x[::2,1::2] = 1\n",
    "print(x)"
   ]
  },
  {
   "cell_type": "markdown",
   "id": "f26d3124",
   "metadata": {},
   "source": [
    "# 실습"
   ]
  },
  {
   "cell_type": "code",
   "execution_count": 64,
   "id": "1ac61464",
   "metadata": {},
   "outputs": [
    {
     "name": "stdout",
     "output_type": "stream",
     "text": [
      "[180  72 172  66 162  60 167  53 176  80 155  60 177  77 130  40]\n",
      "\n",
      "[[[180  72]\n",
      "  [172  66]\n",
      "  [162  60]\n",
      "  [167  53]]\n",
      "\n",
      " [[176  80]\n",
      "  [155  60]\n",
      "  [177  77]\n",
      "  [130  40]]]\n"
     ]
    }
   ],
   "source": [
    "data = np.array([180,72,172,66,162,60,167,53,176,80,155,60,177,77,130,40])\n",
    "print(data)\n",
    "print()\n",
    "batch = data.reshape(2,4,2)\n",
    "print(batch)"
   ]
  },
  {
   "cell_type": "markdown",
   "id": "7dae321d",
   "metadata": {},
   "source": [
    "# 실습"
   ]
  },
  {
   "cell_type": "code",
   "execution_count": 67,
   "id": "f608ef7e",
   "metadata": {},
   "outputs": [
    {
     "name": "stdout",
     "output_type": "stream",
     "text": [
      "[[10.]\n",
      " [ 5.]]\n"
     ]
    }
   ],
   "source": [
    "def linear_system_solver(ndarr, v):\n",
    "    # n차 정사각행렬의 역행렬과 상수항 행렬의 행렬곱\n",
    "    return np.linalg.inv(ndarr).dot(v)\n",
    "\n",
    "a = np.array([1,1,2,1]).reshape(2,2)\n",
    "b = np.array([15,25]).reshape(2,1)\n",
    "print(linear_system_solver(a,b))"
   ]
  },
  {
   "cell_type": "markdown",
   "id": "b6470136",
   "metadata": {},
   "source": [
    "# 실습"
   ]
  },
  {
   "cell_type": "code",
   "execution_count": 72,
   "id": "1e7c8b7f",
   "metadata": {},
   "outputs": [
    {
     "name": "stdout",
     "output_type": "stream",
     "text": [
      "[[0.5 0.7 0.9 0.2 0.2 0.5]\n",
      " [0.6 0.7 0.9 0.1 0.2 0.3]\n",
      " [0.2 0.8 0.7 0.  0.3 0.6]\n",
      " [0.9 0.9 0.2 0.8 0.1 0.7]]\n",
      "(4,)\n",
      "(4, 1)\n"
     ]
    }
   ],
   "source": [
    "data = np.random.random((4,6)).round(1)\n",
    "print(data)\n",
    "length = np.array([4,1,6,3])\n",
    "print(length.shape)\n",
    "length = np.expand_dims(length, 1)\n",
    "print(length.shape)"
   ]
  },
  {
   "cell_type": "code",
   "execution_count": 74,
   "id": "bab1141a",
   "metadata": {},
   "outputs": [
    {
     "name": "stdout",
     "output_type": "stream",
     "text": [
      "[[0 1 2 3 4 5]\n",
      " [0 1 2 3 4 5]\n",
      " [0 1 2 3 4 5]\n",
      " [0 1 2 3 4 5]]\n",
      "[[ True  True  True  True False False]\n",
      " [ True False False False False False]\n",
      " [ True  True  True  True  True  True]\n",
      " [ True  True  True False False False]]\n",
      "[[ 0.5  0.7  0.9  0.2 -inf -inf]\n",
      " [ 0.6 -inf -inf -inf -inf -inf]\n",
      " [ 0.2  0.8  0.7  0.   0.3  0.6]\n",
      " [ 0.9  0.9  0.2 -inf -inf -inf]]\n"
     ]
    }
   ],
   "source": [
    "maxlen = data.shape[1]\n",
    "idx = np.arange(maxlen)\n",
    "idx = np.tile(idx, (4,1))\n",
    "print(idx)\n",
    "mask = idx < length\n",
    "print(mask)\n",
    "data[~mask] = float('-inf')\n",
    "print(data)"
   ]
  },
  {
   "cell_type": "code",
   "execution_count": null,
   "id": "4abeacaa",
   "metadata": {},
   "outputs": [],
   "source": []
  }
 ],
 "metadata": {
  "kernelspec": {
   "display_name": "Python 3 (ipykernel)",
   "language": "python",
   "name": "python3"
  },
  "language_info": {
   "codemirror_mode": {
    "name": "ipython",
    "version": 3
   },
   "file_extension": ".py",
   "mimetype": "text/x-python",
   "name": "python",
   "nbconvert_exporter": "python",
   "pygments_lexer": "ipython3",
   "version": "3.9.13"
  },
  "toc": {
   "base_numbering": 1,
   "nav_menu": {},
   "number_sections": true,
   "sideBar": true,
   "skip_h1_title": false,
   "title_cell": "Table of Contents",
   "title_sidebar": "Contents",
   "toc_cell": false,
   "toc_position": {},
   "toc_section_display": true,
   "toc_window_display": false
  }
 },
 "nbformat": 4,
 "nbformat_minor": 5
}
