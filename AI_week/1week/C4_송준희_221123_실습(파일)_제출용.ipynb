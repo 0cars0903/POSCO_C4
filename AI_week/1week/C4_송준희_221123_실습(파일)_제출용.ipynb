{
 "cells": [
  {
   "cell_type": "markdown",
   "id": "53e08a70",
   "metadata": {},
   "source": [
    "# 실습"
   ]
  },
  {
   "cell_type": "code",
   "execution_count": 1,
   "id": "7d366409",
   "metadata": {},
   "outputs": [
    {
     "name": "stdout",
     "output_type": "stream",
     "text": [
      "line 3\n",
      "hello : 1\n",
      "third : 1\n",
      "first : 1\n",
      "line : 3\n",
      "second : 1\n",
      "world : 1\n"
     ]
    }
   ],
   "source": [
    "fr = open(\"test.txt\", \"r\")\n",
    "A = {}\n",
    "C = []\n",
    "lines = fr.readlines()\n",
    "for i in range(len(lines)):\n",
    "    A[i] = (lines[i].split())\n",
    "    C += A[i]\n",
    "    set_C = list(set(C))\n",
    "# line 수 계산\n",
    "print(\"line {0}\".format(len(A)))\n",
    "\n",
    "# 단어 수 계산\n",
    "for i in range(len(set_C)):\n",
    "    print(\"{0} : {1}\".format(set_C[i], C.count(set_C[i])))\n",
    "fr.close()"
   ]
  },
  {
   "cell_type": "markdown",
   "id": "986d9e9b",
   "metadata": {},
   "source": [
    "# 실습"
   ]
  },
  {
   "cell_type": "code",
   "execution_count": 2,
   "id": "1385c728",
   "metadata": {},
   "outputs": [
    {
     "name": "stdout",
     "output_type": "stream",
     "text": [
      "Enter a file name : test.txt\n",
      "FIRST LINE HELLO WORLD\n",
      "SECOND LINE\n",
      "THIRD LINE\n"
     ]
    }
   ],
   "source": [
    "import os\n",
    "\n",
    "file_name = input(\"Enter a file name : \")\n",
    "if os.path.exists(file_name) == False:\n",
    "    print(\"존재하지 않는 파일입니다.\")\n",
    "else:\n",
    "    fr = open(file_name, \"r\")\n",
    "    A = {}\n",
    "    C = []\n",
    "    lines = fr.readlines()\n",
    "    for i in range(len(lines)):\n",
    "        A[i] = (lines[i].split())\n",
    "    for value in A.values():\n",
    "        for i in range(len(value)):\n",
    "            value[i] = value[i].upper()\n",
    "        print(*value)"
   ]
  },
  {
   "cell_type": "markdown",
   "id": "becb108d",
   "metadata": {},
   "source": [
    "# 실습"
   ]
  },
  {
   "cell_type": "markdown",
   "id": "f7d2d4e4",
   "metadata": {},
   "source": [
    "# 실습"
   ]
  },
  {
   "cell_type": "code",
   "execution_count": 1,
   "id": "579a00ef",
   "metadata": {},
   "outputs": [],
   "source": [
    "fr = open(\"score.txt\", \"r\")\n",
    "A = {} # line을 읽을 때 사용할 dict\n",
    "C = [] # line의 문자 저장용 list\n",
    "lines = fr.readlines()\n",
    "for i in range(len(lines)):\n",
    "    A[i] = (lines[i].split())\n",
    "    # 학점 계산\n",
    "    score = (int(A[i][1])*0.4) + (int(A[i][2])*0.6)\n",
    "    # 등급 계산\n",
    "    if score >= 90:\n",
    "        score_grade = \"{}\".format(score) +'(A)'\n",
    "    elif score >= 80:\n",
    "        score_grade = \"{}\".format(score) +'(B)'\n",
    "    elif score >= 70:\n",
    "        score_grade = \"{}\".format(score) +'(C)'\n",
    "    elif score >= 60:\n",
    "        score_grade = \"{}\".format(score) +'(D)'\n",
    "    else:\n",
    "        score_grade = \"{}\".format(score) +'(F)'\n",
    "    # line에 학점 및 등급 추가 하기\n",
    "    C = A[i]\n",
    "    C.append(score_grade)\n",
    "    A[i] = C\n",
    "fr.close()"
   ]
  },
  {
   "cell_type": "code",
   "execution_count": 4,
   "id": "c82fa256",
   "metadata": {},
   "outputs": [],
   "source": [
    "fs = open(\"report.txt\", \"w\")\n",
    "for i in A.values():\n",
    "    data = \"{}\\n\".format(i)\n",
    "    fs.write(data)\n",
    "fs.close()"
   ]
  },
  {
   "cell_type": "code",
   "execution_count": null,
   "id": "3a0fd528",
   "metadata": {},
   "outputs": [],
   "source": []
  }
 ],
 "metadata": {
  "kernelspec": {
   "display_name": "Python 3 (ipykernel)",
   "language": "python",
   "name": "python3"
  },
  "language_info": {
   "codemirror_mode": {
    "name": "ipython",
    "version": 3
   },
   "file_extension": ".py",
   "mimetype": "text/x-python",
   "name": "python",
   "nbconvert_exporter": "python",
   "pygments_lexer": "ipython3",
   "version": "3.9.13"
  },
  "toc": {
   "base_numbering": 1,
   "nav_menu": {},
   "number_sections": true,
   "sideBar": true,
   "skip_h1_title": false,
   "title_cell": "Table of Contents",
   "title_sidebar": "Contents",
   "toc_cell": false,
   "toc_position": {},
   "toc_section_display": true,
   "toc_window_display": false
  }
 },
 "nbformat": 4,
 "nbformat_minor": 5
}
