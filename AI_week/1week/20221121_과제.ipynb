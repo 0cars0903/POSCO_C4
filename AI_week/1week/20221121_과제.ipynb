{
 "cells": [
  {
   "cell_type": "markdown",
   "id": "490e5e16",
   "metadata": {},
   "source": [
    "# 단일 은행 계좌 모델링"
   ]
  },
  {
   "cell_type": "code",
   "execution_count": 74,
   "id": "760ffdda",
   "metadata": {},
   "outputs": [],
   "source": [
    "balance = 0 \n",
    "def deposit(amount):\n",
    "    global balance\n",
    "    balance += amount\n",
    "    return balance\n",
    "\n",
    "def withdraw(amount):\n",
    "    global balance\n",
    "    balance -= amount\n",
    "    return balance"
   ]
  },
  {
   "cell_type": "code",
   "execution_count": 75,
   "id": "d2c58282",
   "metadata": {},
   "outputs": [
    {
     "name": "stdout",
     "output_type": "stream",
     "text": [
      "0\n",
      "500\n",
      "500\n",
      "200\n",
      "200\n"
     ]
    }
   ],
   "source": [
    "print(balance)\n",
    "print(deposit(500))\n",
    "print(balance)\n",
    "print(withdraw(300))\n",
    "print(balance)"
   ]
  },
  {
   "cell_type": "markdown",
   "id": "22ea4302",
   "metadata": {},
   "source": [
    "# 여러 은행 계좌 모델링"
   ]
  },
  {
   "cell_type": "code",
   "execution_count": 87,
   "id": "a14dd545",
   "metadata": {},
   "outputs": [],
   "source": [
    "balance = 0 \n",
    "def make_account():\n",
    "    return {'balance' : 0}\n",
    "\n",
    "def deposit(account, amount):\n",
    "    account['balance'] += amount\n",
    "    return account['balance']\n",
    "\n",
    "def withdraw(account, amount):\n",
    "    account['balance'] -= amount\n",
    "    return account['balance']"
   ]
  },
  {
   "cell_type": "code",
   "execution_count": 88,
   "id": "e0cdc330",
   "metadata": {},
   "outputs": [
    {
     "name": "stdout",
     "output_type": "stream",
     "text": [
      "0\n",
      "0\n",
      "1000\n",
      "2000\n"
     ]
    }
   ],
   "source": [
    "a = make_account()\n",
    "b = make_account()\n",
    "\n",
    "print(a['balance'])\n",
    "print(b['balance'])\n",
    "print(deposit(a, 1000))\n",
    "print(deposit(b, 2000))"
   ]
  },
  {
   "cell_type": "markdown",
   "id": "7d600719",
   "metadata": {},
   "source": [
    "# 객체 지향 프로그래밍(OOB)"
   ]
  },
  {
   "cell_type": "code",
   "execution_count": 29,
   "id": "7e41a868",
   "metadata": {},
   "outputs": [],
   "source": [
    "class Dog:\n",
    "    name = \"MongJa\"\n",
    "    def __init__(self, _name, _age):\n",
    "        self.naverm = _name\n",
    "        self.age = _age\n",
    "        \n",
    "    def print_name_age(self):\n",
    "        print(self.name, self.age)\n",
    "        \n",
    "    def bark(self):\n",
    "        return \"wal wal\""
   ]
  },
  {
   "cell_type": "code",
   "execution_count": 33,
   "id": "ac0b60e4",
   "metadata": {},
   "outputs": [
    {
     "name": "stdout",
     "output_type": "stream",
     "text": [
      "MongJa 2\n"
     ]
    }
   ],
   "source": [
    "dog1 = Dog(\"MongJa\", 2)\n",
    "dog1.print_name_age()"
   ]
  },
  {
   "cell_type": "code",
   "execution_count": 13,
   "id": "f06c92ea",
   "metadata": {},
   "outputs": [],
   "source": [
    "class Building:\n",
    "    def __init__(self, name = \"1동\", h = 3, elv = True):\n",
    "        self.name = name\n",
    "        self.h = h\n",
    "        self.elv = elv\n",
    "    \n",
    "    def get_info(self):\n",
    "        print(\"건물이름 : \", self.name)\n",
    "        print(\"건물높이 :\", self.h)\n",
    "        print(\"엘리베이터 여부 :\", self.elv)"
   ]
  },
  {
   "cell_type": "code",
   "execution_count": 14,
   "id": "acda1380",
   "metadata": {},
   "outputs": [],
   "source": [
    "a = Building()\n",
    "b = Building(\"2동\", 5, False)"
   ]
  },
  {
   "cell_type": "code",
   "execution_count": 16,
   "id": "349de4ff",
   "metadata": {},
   "outputs": [
    {
     "name": "stdout",
     "output_type": "stream",
     "text": [
      "건물이름 :  1동\n",
      "건물높이 : 3\n",
      "엘리베이터 여부 : True\n"
     ]
    }
   ],
   "source": [
    "a.get_info()"
   ]
  },
  {
   "cell_type": "code",
   "execution_count": 18,
   "id": "8a05c995",
   "metadata": {},
   "outputs": [
    {
     "name": "stdout",
     "output_type": "stream",
     "text": [
      "건물이름 :  2동\n",
      "건물높이 : 5\n",
      "엘리베이터 여부 : False\n"
     ]
    }
   ],
   "source": [
    "b.get_info()"
   ]
  },
  {
   "cell_type": "markdown",
   "id": "8fc5f450",
   "metadata": {},
   "source": [
    "# 실습(Class)"
   ]
  },
  {
   "cell_type": "code",
   "execution_count": 63,
   "id": "148b411d",
   "metadata": {},
   "outputs": [],
   "source": [
    "class Pearson:\n",
    "    # 인스턴스 생성시 자동으로 호출되는 메서드\n",
    "    def __init__(self, name = \"홍길동\", age = 20, \n",
    "                 height = 180, weight = 70):\n",
    "        self.name = name\n",
    "        self.age = age\n",
    "        self.height = height\n",
    "        self.weight = weight\n",
    "    \n",
    "    # 나이 1 증가\n",
    "    def Age(self):\n",
    "        self.age += 1\n",
    "    \n",
    "    # 키 변화\n",
    "    def Height(self, h):\n",
    "        self.height += h\n",
    "    \n",
    "    # 몸무게 변화  \n",
    "    def Weight(self, w):\n",
    "        self.weight += w\n",
    "    \n",
    "    # 특성 출력\n",
    "    def Get_Info(self):\n",
    "        print(self.name)\n",
    "        print(self.age)\n",
    "        print(self.height)\n",
    "        print(self.weight)"
   ]
  },
  {
   "cell_type": "code",
   "execution_count": 64,
   "id": "73ca957e",
   "metadata": {},
   "outputs": [],
   "source": [
    "# 홍길동, 본인 인스턴스 생성\n",
    "p1 = Pearson()\n",
    "p2 = Pearson(\"송준희\", 20, 170, 60)"
   ]
  },
  {
   "cell_type": "code",
   "execution_count": 169,
   "id": "b5f35ce8",
   "metadata": {},
   "outputs": [
    {
     "name": "stdout",
     "output_type": "stream",
     "text": [
      "홍길동\n",
      "20\n",
      "180\n",
      "70\n"
     ]
    }
   ],
   "source": [
    "# 홍길동 특성 출력\n",
    "p1.Get_Info()"
   ]
  },
  {
   "cell_type": "code",
   "execution_count": 66,
   "id": "7d0389c4",
   "metadata": {},
   "outputs": [
    {
     "name": "stdout",
     "output_type": "stream",
     "text": [
      "송준희\n",
      "20\n",
      "170\n",
      "60\n",
      "\n",
      "송준희\n",
      "21\n",
      "180\n",
      "55\n"
     ]
    }
   ],
   "source": [
    "# 본인 특성 출력\n",
    "p2.Get_Info()\n",
    "print()\n",
    "\n",
    "# 나이 2증가, 키 10증가, 몸무게 5감소\n",
    "p2.Age()\n",
    "p2.Height(10)\n",
    "p2.Weight(-5)\n",
    "p2.Get_Info()"
   ]
  },
  {
   "cell_type": "markdown",
   "id": "e5abdabd",
   "metadata": {},
   "source": [
    "# 실습(은행계좌 1)"
   ]
  },
  {
   "cell_type": "code",
   "execution_count": 2,
   "id": "14dfd005",
   "metadata": {},
   "outputs": [],
   "source": [
    "class BankAccount:\n",
    "# 인스턴스 생성시 자동으로 호출되는 메서드\n",
    "    def __init__(self, balance = 0, name = 'none'):\n",
    "        self.balance = balance\n",
    "        self.name = name\n",
    "\n",
    "# 입금\n",
    "    def deposit(self, amount):\n",
    "        self.amout = amount\n",
    "        self.balance = self.balance + amount\n",
    "\n",
    "# 출금\n",
    "    def withdraw(self, amount):\n",
    "        self.amout = amount\n",
    "        if self.balance - amount >= 0:\n",
    "            self.balance = self.balance - amount\n",
    "        else:\n",
    "            print(\"잔액 부족\")\n",
    "\n",
    "# 정보 출력\n",
    "    def get_info(self):\n",
    "        print(\"이름 :\", self.name)\n",
    "        print(\"잔고 :\", self.balance)"
   ]
  },
  {
   "cell_type": "code",
   "execution_count": 3,
   "id": "c60f78d1",
   "metadata": {},
   "outputs": [
    {
     "name": "stdout",
     "output_type": "stream",
     "text": [
      "잔액 부족\n",
      "이름 : Song\n",
      "잔고 : 500\n"
     ]
    }
   ],
   "source": [
    "a = BankAccount(100, \"Song\")\n",
    "# 400원 입금\n",
    "a.deposit(400)\n",
    "# 600원 출금\n",
    "a.withdraw(600)\n",
    "# 정보 출력\n",
    "a.get_info()"
   ]
  },
  {
   "cell_type": "code",
   "execution_count": 4,
   "id": "c1032754",
   "metadata": {},
   "outputs": [
    {
     "name": "stdout",
     "output_type": "stream",
     "text": [
      "이름 : Song\n",
      "잔고 : 100\n"
     ]
    }
   ],
   "source": [
    "a = BankAccount(0, \"Song\")\n",
    "# 1000원 입금\n",
    "a.deposit(1000)\n",
    "# 900원 출금\n",
    "a.withdraw(900)\n",
    "# 정보 출력\n",
    "a.get_info()"
   ]
  },
  {
   "cell_type": "markdown",
   "id": "8c2bd2e9",
   "metadata": {},
   "source": [
    "# 실습(은행계좌 2)"
   ]
  },
  {
   "cell_type": "code",
   "execution_count": 21,
   "id": "6c3a26f5",
   "metadata": {},
   "outputs": [],
   "source": [
    "class MinimumBalanceAccount(BankAccount):\n",
    "    def __init__(self, balance=0, name='none', min_bal=0):\n",
    "        super().__init__(balance, name)\n",
    "        self.min_bal = min_bal\n",
    "    \n",
    "    def deposit(self, x):\n",
    "        self.balance += x\n",
    "    \n",
    "    def withdraw(self, amount):\n",
    "        if self.balance - amount >= self.min_bal:\n",
    "            super().withdraw(amount)\n",
    "        else:\n",
    "            print(\"최소 잔액 유지\")\n",
    "    \n",
    "    def get_info(self):\n",
    "        super().get_info()\n",
    "        print(\"최소잔액 :\", self.min_bal)\n",
    "        "
   ]
  },
  {
   "cell_type": "code",
   "execution_count": 22,
   "id": "debf68b7",
   "metadata": {},
   "outputs": [
    {
     "name": "stdout",
     "output_type": "stream",
     "text": [
      "최소 잔액 유지\n",
      "이름 : Kim\n",
      "잔고 : 1500\n",
      "최소잔액 : 1000\n"
     ]
    }
   ],
   "source": [
    "# 잔고 : 500, 최소 금액 : 1000\n",
    "acc = MinimumBalanceAccount(500, \"Kim\", 1000)\n",
    "# 입금 1000 => 잔액 : 1500\n",
    "acc.deposit(1000)\n",
    "# 출금 600 => 잔액 : 900, 출금되지 않는다.\n",
    "acc.withdraw(600)\n",
    "acc.get_info()"
   ]
  },
  {
   "cell_type": "markdown",
   "id": "23fb49a6",
   "metadata": {},
   "source": [
    "# 과제 : set 만들기"
   ]
  },
  {
   "cell_type": "code",
   "execution_count": 1066,
   "id": "6c32a07d",
   "metadata": {},
   "outputs": [],
   "source": [
    "class Set:\n",
    "# 인스턴스 생성시 자동으로 호출되는 메서드\n",
    "    def __init__(self, n = []):\n",
    "        self.n = n\n",
    "\n",
    "# 출력 구문\n",
    "    def __str__(self):\n",
    "        return \"{\"+\"{0}\".format(str(self.n)[1:-1])+\"}\"\n",
    "    \n",
    "# getitems\n",
    "    def __getitem__(self, idx):\n",
    "        return self.n[idx]\n",
    "        \n",
    "# 길이\n",
    "    def __len__(self):\n",
    "        return len(self.n)\n",
    "\n",
    "# 원소 찾기\n",
    "    def __contains__(self, x):\n",
    "        if x in self.n:\n",
    "            return True\n",
    "        else:\n",
    "            return False\n",
    "\n",
    "# 원소 추가\n",
    "    def add(self, x):\n",
    "        self.x = x\n",
    "        if self.x not in self.n:\n",
    "            self.n.append(self.x)\n",
    "            \n",
    "# 원소 제거\n",
    "    def discard(self, x):\n",
    "        self.x = x\n",
    "        if self.x in self.n:\n",
    "            self.n.remove(self.x)\n",
    "            \n",
    "# 초기화\n",
    "    def clear(self):\n",
    "        self.n = []\n",
    "\n",
    "    def __or__(self, other):\n",
    "        self.other = other\n",
    "        return str(self.other)\n",
    "\n",
    "# 교집합\n",
    "    def __and__(self, other):\n",
    "        C = [] # 교집합\n",
    "        D = [] # 차집합\n",
    "        for i in range(len(self.n)):\n",
    "            c1 = self.n[i]\n",
    "            for j in range(len(other)):\n",
    "                c2 = other[j]\n",
    "                if c1 == c2:\n",
    "                    C.append(c2)\n",
    "            if c1 not in C:\n",
    "                D.append(c1)\n",
    "        return Set(C)\n",
    "\n",
    "# 차집합\n",
    "    def __sub__(self, other):\n",
    "        C = [] # 교집합\n",
    "        D = [] # 차집합\n",
    "        for i in range(len(self.n)):\n",
    "            c1 = self.n[i]\n",
    "            for j in range(len(other)):\n",
    "                c2 = other[j]\n",
    "                if c1 == c2:\n",
    "                    C.append(c2)\n",
    "            if c1 not in C:\n",
    "                D.append(c1)\n",
    "        return Set(D)\n",
    "        \n",
    "\n",
    "# 합집합\n",
    "    def __or__(self, other):\n",
    "        self.other = other\n",
    "        B = []\n",
    "        A = []\n",
    "        for i in range(len(self.n)):\n",
    "            c1 = self.n[i]\n",
    "            B.append(c1)\n",
    "        for j in range(len(self.other)):\n",
    "            c2 = self.other[j]\n",
    "            B.append(c2)\n",
    "        for k in B:\n",
    "            if k not in A:\n",
    "                A.append(k)\n",
    "        return Set(A)"
   ]
  },
  {
   "cell_type": "code",
   "execution_count": 1067,
   "id": "a480d554",
   "metadata": {},
   "outputs": [
    {
     "name": "stdout",
     "output_type": "stream",
     "text": [
      "{1, 2, 3, 4}\n",
      "{1, 2, 3, 4}\n",
      "\n",
      "{1, 2, 3}\n",
      "{2, 3, 4}\n",
      "\n",
      "3\n",
      "True\n",
      "False\n",
      "\n"
     ]
    }
   ],
   "source": [
    "a = Set([1,2,3,4])\n",
    "b = Set([1,2,3,4])\n",
    "\n",
    "print(a)\n",
    "print(b)\n",
    "print()\n",
    "\n",
    "a.discard(4)\n",
    "b.discard(1)\n",
    "print(a)\n",
    "print(b)\n",
    "print()\n",
    "\n",
    "print(len(a))\n",
    "print(1 in a)\n",
    "print(1 in b)\n",
    "print()"
   ]
  },
  {
   "cell_type": "code",
   "execution_count": 1068,
   "id": "c833ac75",
   "metadata": {},
   "outputs": [
    {
     "name": "stdout",
     "output_type": "stream",
     "text": [
      "{2, 3}\n"
     ]
    }
   ],
   "source": [
    "print(a & b)"
   ]
  },
  {
   "cell_type": "code",
   "execution_count": 1069,
   "id": "d0cc570a",
   "metadata": {},
   "outputs": [
    {
     "name": "stdout",
     "output_type": "stream",
     "text": [
      "{1}\n"
     ]
    }
   ],
   "source": [
    "print(a-b)"
   ]
  },
  {
   "cell_type": "code",
   "execution_count": 1070,
   "id": "0ab347e3",
   "metadata": {},
   "outputs": [
    {
     "name": "stdout",
     "output_type": "stream",
     "text": [
      "{1, 2, 3, 4}\n"
     ]
    }
   ],
   "source": [
    "print(a | b)"
   ]
  },
  {
   "cell_type": "code",
   "execution_count": 1071,
   "id": "30b03278",
   "metadata": {},
   "outputs": [
    {
     "data": {
      "text/plain": [
       "1"
      ]
     },
     "execution_count": 1071,
     "metadata": {},
     "output_type": "execute_result"
    }
   ],
   "source": [
    "a[0]"
   ]
  },
  {
   "cell_type": "code",
   "execution_count": null,
   "id": "4a6964ec",
   "metadata": {},
   "outputs": [],
   "source": []
  }
 ],
 "metadata": {
  "kernelspec": {
   "display_name": "Python 3 (ipykernel)",
   "language": "python",
   "name": "python3"
  },
  "language_info": {
   "codemirror_mode": {
    "name": "ipython",
    "version": 3
   },
   "file_extension": ".py",
   "mimetype": "text/x-python",
   "name": "python",
   "nbconvert_exporter": "python",
   "pygments_lexer": "ipython3",
   "version": "3.9.13"
  },
  "toc": {
   "base_numbering": 1,
   "nav_menu": {},
   "number_sections": true,
   "sideBar": true,
   "skip_h1_title": false,
   "title_cell": "Table of Contents",
   "title_sidebar": "Contents",
   "toc_cell": false,
   "toc_position": {
    "height": "calc(100% - 180px)",
    "left": "10px",
    "top": "150px",
    "width": "185.391px"
   },
   "toc_section_display": true,
   "toc_window_display": true
  }
 },
 "nbformat": 4,
 "nbformat_minor": 5
}
