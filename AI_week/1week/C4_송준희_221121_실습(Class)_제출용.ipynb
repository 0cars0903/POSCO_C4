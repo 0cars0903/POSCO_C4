{
 "cells": [
  {
   "cell_type": "markdown",
   "id": "cc7812a2",
   "metadata": {},
   "source": [
    "# 실습 : len 구현"
   ]
  },
  {
   "cell_type": "code",
   "execution_count": 5,
   "id": "6f27a735",
   "metadata": {},
   "outputs": [
    {
     "name": "stdout",
     "output_type": "stream",
     "text": [
      "6 14\n",
      "6 14\n"
     ]
    }
   ],
   "source": [
    "def my_len(x):\n",
    "    length = 0\n",
    "    for i in x:\n",
    "        length = length + 1\n",
    "    return length\n",
    "\n",
    "a = [5,5,6,7,8,3]\n",
    "b = 'Life is short.'\n",
    "print(len(a), len(b)) # 내장 함수 len()\n",
    "print(my_len(a), my_len(b)) # my_len()"
   ]
  },
  {
   "cell_type": "markdown",
   "id": "8544acb8",
   "metadata": {},
   "source": [
    "# 실습 : 양의 정수를 전달받아곱해서 반환"
   ]
  },
  {
   "cell_type": "code",
   "execution_count": 25,
   "id": "a9ee0270",
   "metadata": {},
   "outputs": [
    {
     "data": {
      "text/plain": [
       "120"
      ]
     },
     "execution_count": 25,
     "metadata": {},
     "output_type": "execute_result"
    }
   ],
   "source": [
    "def mult(a, b):\n",
    "    mult = 1\n",
    "    while a <= b:\n",
    "        mult = a*mult\n",
    "        a = a + 1\n",
    "    return mult\n",
    "\n",
    "mult(1, 3)\n",
    "\n",
    "mult(2, 5)"
   ]
  },
  {
   "cell_type": "markdown",
   "id": "b84e84aa",
   "metadata": {},
   "source": [
    "# 실습 : 리스트에서 양수 값을 더한 결과와 음수 값을 더한 결과를 반환"
   ]
  },
  {
   "cell_type": "code",
   "execution_count": 26,
   "id": "67088a80",
   "metadata": {},
   "outputs": [
    {
     "name": "stdout",
     "output_type": "stream",
     "text": [
      "7 -9\n",
      "1 -1\n"
     ]
    }
   ],
   "source": [
    "def sum_pos_neg(l):\n",
    "    possum = 0\n",
    "    negsum = 0\n",
    "    for i in l:\n",
    "        if i < 0:\n",
    "            negsum += i\n",
    "        else:\n",
    "            possum += i\n",
    "    return (possum, negsum)\n",
    "\n",
    "possum,negsum = sum_pos_neg([3,4,-6,-3])\n",
    "print(possum,negsum) # 7 -9\n",
    "mylist=[0,0,0,0,0,0,0,0,0,1,-1]\n",
    "possum2,negsum2 = sum_pos_neg(mylist)\n",
    "print(possum2,negsum2) # 1 -1"
   ]
  },
  {
   "cell_type": "markdown",
   "id": "b5d8b3b2",
   "metadata": {},
   "source": [
    "# 실습 : 벡터들의 합을 구하여 반환"
   ]
  },
  {
   "cell_type": "code",
   "execution_count": 27,
   "id": "5f7662a4",
   "metadata": {},
   "outputs": [
    {
     "name": "stdout",
     "output_type": "stream",
     "text": [
      "[1.5, 1.5] [7.5, 5.5] [4.140000000000001, 2.72]\n"
     ]
    }
   ],
   "source": [
    "def vector_sum(vector, *vectors):\n",
    "    sum_vectors = [int(0),int(0)]\n",
    "    total = [int(0),int(0)]\n",
    "    for x,y in vectors:\n",
    "        sum_vectors[0] += x\n",
    "        sum_vectors[1] += y\n",
    "    total[0] = vector[0] + sum_vectors[0]\n",
    "    total[1] = vector[1] + sum_vectors[1]\n",
    "    return total\n",
    "\n",
    "v1=[0, 1]\n",
    "v2=[0.5, 0.5]\n",
    "v3=[1, 0]\n",
    "v4=[6, 4]\n",
    "v5=[3.14, 2.72]\n",
    "m1 = vector_sum(v1, v2, v3)\n",
    "m2 = vector_sum(v1, v2, v3, v4)\n",
    "m3 = vector_sum(v3, v5)\n",
    "print(m1,m2,m3)\n",
    "# [1.5, 1.5], [7.5, 5.5], [4.14, 2.72]"
   ]
  },
  {
   "cell_type": "markdown",
   "id": "f27850f1",
   "metadata": {},
   "source": [
    "# 실습 : 이 두 리스트를 합친 후에 정렬한 새로운 리스트를 반환"
   ]
  },
  {
   "cell_type": "code",
   "execution_count": 28,
   "id": "5203fbbe",
   "metadata": {},
   "outputs": [
    {
     "name": "stdout",
     "output_type": "stream",
     "text": [
      "[1, 1, 2, 2, 3, 5, 9]\n",
      "[0, 4, 6, 9]\n",
      "[0, 0]\n"
     ]
    }
   ],
   "source": [
    "def merge_list(x=[0], y=[0]):\n",
    "    list_merge = x + y\n",
    "    list_merge.sort(reverse=False)\n",
    "    return list_merge\n",
    "\n",
    "l = [3, 5, 9, 1, 2]\n",
    "ml1 = merge_list(l,[2,1])\n",
    "ml2 = merge_list([6,9,4])\n",
    "ml3 = merge_list()\n",
    "print(ml1) # [1, 1, 2, 2, 3, 5, 9]\n",
    "print(ml2) # [0, 4, 6, 9]\n",
    "print(ml3) # [0, 0]"
   ]
  },
  {
   "cell_type": "markdown",
   "id": "664bfd39",
   "metadata": {},
   "source": [
    "# 실습 : 로또 번호 자동 기입 프로그램"
   ]
  },
  {
   "cell_type": "code",
   "execution_count": 29,
   "id": "b76a3138",
   "metadata": {},
   "outputs": [
    {
     "name": "stdout",
     "output_type": "stream",
     "text": [
      "** 로또 번호 자동 기입을 시작합니다 **\n",
      "1번째 자동 기입 ==> 26 10 8 25 12 1\n",
      "2번째 자동 기입 ==> 8 31 17 27 13 45\n",
      "3번째 자동 기입 ==> 27 1 30 33 22 26\n",
      "4번째 자동 기입 ==> 19 32 27 13 20 1\n",
      "5번째 자동 기입 ==> 15 7 41 35 20 1\n"
     ]
    }
   ],
   "source": [
    "import random\n",
    "\n",
    "lotto_number = [i for i in range(1,46)]\n",
    "print(\"** 로또 번호 자동 기입을 시작합니다 **\")\n",
    "for i in range(1,6):\n",
    "    lotto_count = random.sample(lotto_number, 6)\n",
    "    print(\"{0}번째 자동 기입 ==>\".format(i), end =\" \")\n",
    "    print(*lotto_count)"
   ]
  },
  {
   "cell_type": "markdown",
   "id": "90b65e0f",
   "metadata": {},
   "source": [
    "# 실습 : 최댓값, 최솟값을 반환하고, 두수를 리스트에서 제거"
   ]
  },
  {
   "cell_type": "code",
   "execution_count": 17,
   "id": "01a4dbf8",
   "metadata": {},
   "outputs": [
    {
     "name": "stdout",
     "output_type": "stream",
     "text": [
      "1\n",
      "9\n",
      "[3, 5, 2]\n"
     ]
    }
   ],
   "source": [
    "def get_min_max(_l):\n",
    "    A, B = min(l), max(l)\n",
    "    l.remove(min(l))\n",
    "    l.remove(max(l))\n",
    "    return A, B\n",
    "\n",
    "l = [3, 5, 9, 1, 2]\n",
    "min_val, max_val = get_min_max(l)\n",
    "print(min_val) # 1\n",
    "print(max_val) # 9\n",
    "\n",
    "print(l) # 3 5 2"
   ]
  },
  {
   "cell_type": "markdown",
   "id": "d3b2a410",
   "metadata": {},
   "source": [
    "# 실습 : 각 딕셔너리에 등장한 값을 모두 더한 새로운 딕셔너리를 반환"
   ]
  },
  {
   "cell_type": "code",
   "execution_count": 30,
   "id": "51982ec0",
   "metadata": {},
   "outputs": [
    {
     "name": "stdout",
     "output_type": "stream",
     "text": [
      "{'a': 2, 'b': 3, 'c': 4, 'd': 7, 'e': 9}\n"
     ]
    }
   ],
   "source": [
    "def comb_dict(d1, d2):\n",
    "    dictionary = {}\n",
    "    for i in d1:\n",
    "        dictionary[i] = d1[i]\n",
    "        for j in d2:\n",
    "            dictionary[j] = d2[j]\n",
    "            if i == j:\n",
    "                dictionary[j] = d1.get(i) + d2.get(j)\n",
    "    dictionary = dict(sorted(dictionary.items()))\n",
    "    return dictionary\n",
    "\n",
    "d1 = {'a': 1, 'b': 3, 'd': 7, 'e': 8}\n",
    "d1_keys = d1.keys()\n",
    "d2 = {'a': 2, 'c': 4, 'e': 1}\n",
    "d2_keys = d2.keys()\n",
    "d3 = comb_dict(d1, d2)\n",
    "print(d3)\n",
    "# {'a': 3, 'b': 3,'c': 4, 'd': 7,'e': 9}"
   ]
  },
  {
   "cell_type": "markdown",
   "id": "837299f0",
   "metadata": {},
   "source": [
    "## 알파벳 입력 시, 갯수 반환 딕셔너리"
   ]
  },
  {
   "cell_type": "markdown",
   "id": "d5e8b06c",
   "metadata": {},
   "source": [
    "### 알려주신 코드"
   ]
  },
  {
   "cell_type": "code",
   "execution_count": 20,
   "id": "776034ad",
   "metadata": {},
   "outputs": [
    {
     "name": "stdout",
     "output_type": "stream",
     "text": [
      "문장입력 : \n",
      "{}\n"
     ]
    }
   ],
   "source": [
    "sen = input(\"문장입력 : \").lower()\n",
    "d= {}\n",
    "for ch in sen:\n",
    "    if ch in d:\n",
    "        d[ch] += 1\n",
    "    else:\n",
    "        d[ch] = 1\n",
    "print(d)"
   ]
  },
  {
   "cell_type": "markdown",
   "id": "f5ebf399",
   "metadata": {},
   "source": [
    "### 내가 만든 코드"
   ]
  },
  {
   "cell_type": "code",
   "execution_count": 21,
   "id": "67c4a645",
   "metadata": {},
   "outputs": [
    {
     "name": "stdout",
     "output_type": "stream",
     "text": [
      "문장입력 : \n",
      "{}\n"
     ]
    }
   ],
   "source": [
    "sen = input(\"문장입력 : \").lower()\n",
    "d = {}\n",
    "aList = [chr(i) for i in range(ord('a'),ord('z')+1)]\n",
    "for i in aList:\n",
    "    if i in sen:\n",
    "        d[i] = sen.count(i)\n",
    "if '!' in sen:\n",
    "    d['!'] = sen.count('!')\n",
    "print(d)"
   ]
  },
  {
   "cell_type": "markdown",
   "id": "4181d33c",
   "metadata": {},
   "source": [
    "# 실습 : 최댓값과 최솟값의 차를 반환"
   ]
  },
  {
   "cell_type": "code",
   "execution_count": 23,
   "id": "1e77ae18",
   "metadata": {},
   "outputs": [],
   "source": [
    "def diff(*n):\n",
    "    if len(n) == 1:\n",
    "        cal = print(\"\")\n",
    "    else:\n",
    "        cal = max(n) - min(n)\n",
    "    return cal\n",
    "\n",
    "print(diff(1,2,3,4,5)) # 4\n",
    "print(diff(-100, 200)) # 300\n",
    "diff(1) # 오류발생!"
   ]
  }
 ],
 "metadata": {
  "kernelspec": {
   "display_name": "Python 3 (ipykernel)",
   "language": "python",
   "name": "python3"
  },
  "language_info": {
   "codemirror_mode": {
    "name": "ipython",
    "version": 3
   },
   "file_extension": ".py",
   "mimetype": "text/x-python",
   "name": "python",
   "nbconvert_exporter": "python",
   "pygments_lexer": "ipython3",
   "version": "3.9.13"
  },
  "toc": {
   "base_numbering": 1,
   "nav_menu": {},
   "number_sections": true,
   "sideBar": true,
   "skip_h1_title": false,
   "title_cell": "Table of Contents",
   "title_sidebar": "Contents",
   "toc_cell": false,
   "toc_position": {},
   "toc_section_display": true,
   "toc_window_display": false
  }
 },
 "nbformat": 4,
 "nbformat_minor": 5
}
