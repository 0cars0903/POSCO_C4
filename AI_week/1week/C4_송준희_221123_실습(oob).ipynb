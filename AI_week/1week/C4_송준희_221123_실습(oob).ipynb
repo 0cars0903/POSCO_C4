{
 "cells": [
  {
   "cell_type": "code",
   "execution_count": 7,
   "id": "42d4146d",
   "metadata": {},
   "outputs": [],
   "source": [
    "fw = open(\"new.txt\", \"w\")\n",
    "\n",
    "for i in range(1,6):\n",
    "    data = \"%d line\\n\" % i\n",
    "    fw.write(data)\n",
    "    \n",
    "fw.close()"
   ]
  },
  {
   "cell_type": "code",
   "execution_count": 33,
   "id": "c1046217",
   "metadata": {},
   "outputs": [
    {
     "name": "stdout",
     "output_type": "stream",
     "text": [
      "1 line\n",
      "2 line\n",
      "3 line\n",
      "4 line\n",
      "5 line\n",
      "6 line\n",
      "7 line"
     ]
    }
   ],
   "source": [
    "fr = open(\"new.txt\", \"r\")\n",
    "while True:\n",
    "    line = fr.readline()\n",
    "    if line == '':\n",
    "        break\n",
    "    print(line, end=\"\")\n",
    "\n",
    "fr.close()"
   ]
  },
  {
   "cell_type": "code",
   "execution_count": 35,
   "id": "e1f3e0c4",
   "metadata": {},
   "outputs": [
    {
     "name": "stdout",
     "output_type": "stream",
     "text": [
      "['1 line\\n', '2 line\\n', '3 line\\n', '4 line\\n', '5 line\\n', '6 line\\n', '7 line']"
     ]
    }
   ],
   "source": [
    "fr = open(\"new.txt\", \"r\")\n",
    "lines = fr.readlines() # List 형태로 출력\n",
    "print(lines)\n",
    "\n",
    "fr.close()"
   ]
  },
  {
   "cell_type": "code",
   "execution_count": 39,
   "id": "c68c38ac",
   "metadata": {},
   "outputs": [
    {
     "name": "stdout",
     "output_type": "stream",
     "text": [
      "1 line\n",
      "2 line\n",
      "3 line\n",
      "4 line\n",
      "5 line\n",
      "6 line\n",
      "7 line"
     ]
    }
   ],
   "source": [
    "fr = open(\"new.txt\", \"r\")\n",
    "data = fr.read()\n",
    "print(data, end=\"\")\n",
    "fr.close()"
   ]
  },
  {
   "cell_type": "code",
   "execution_count": 40,
   "id": "db593fe9",
   "metadata": {},
   "outputs": [
    {
     "name": "stdout",
     "output_type": "stream",
     "text": [
      "1 line\n",
      "2 line\n",
      "3 line\n",
      "4 line\n",
      "5 line\n",
      "6 line\n",
      "7 line"
     ]
    }
   ],
   "source": [
    "fr = open(\"new.txt\", \"r\")\n",
    "for line in fr:\n",
    "    print(line, end=\"\")\n",
    "fr.close()"
   ]
  },
  {
   "cell_type": "markdown",
   "id": "53e08a70",
   "metadata": {},
   "source": [
    "# 실습"
   ]
  },
  {
   "cell_type": "code",
   "execution_count": 105,
   "id": "7d366409",
   "metadata": {},
   "outputs": [
    {
     "name": "stdout",
     "output_type": "stream",
     "text": [
      "line 3\n",
      "first : 1\n",
      "hello : 1\n",
      "world : 1\n",
      "second : 1\n",
      "third : 1\n",
      "line : 3\n"
     ]
    }
   ],
   "source": [
    "fr = open(\"test.txt\", \"r\")\n",
    "A = {}\n",
    "C = []\n",
    "lines = fr.readlines()\n",
    "for i in range(len(lines)):\n",
    "    A[i] = (lines[i].split())\n",
    "    C += A[i]\n",
    "    set_C = list(set(C))\n",
    "# line 수 계산\n",
    "print(\"line {0}\".format(len(A)))\n",
    "\n",
    "# 단어 수 계산\n",
    "for i in range(len(set_C)):\n",
    "    print(\"{0} : {1}\".format(set_C[i], C.count(set_C[i])))\n",
    "fr.close()"
   ]
  },
  {
   "cell_type": "markdown",
   "id": "986d9e9b",
   "metadata": {},
   "source": [
    "# 실습"
   ]
  },
  {
   "cell_type": "code",
   "execution_count": 44,
   "id": "1385c728",
   "metadata": {},
   "outputs": [],
   "source": [
    "import os"
   ]
  },
  {
   "cell_type": "code",
   "execution_count": 131,
   "id": "3142dbcf",
   "metadata": {},
   "outputs": [
    {
     "name": "stdout",
     "output_type": "stream",
     "text": [
      "Enter a file name : new.txt\n",
      "FIRST LINE HELLO WORLD\n",
      "SECOND LINE\n",
      "THIRD LINE\n"
     ]
    }
   ],
   "source": [
    "file_name = input(\"Enter a file name : \")\n",
    "if os.path.exists(file_name) == False:\n",
    "    print(\"존재하지 않는 파일입니다.\")\n",
    "else:\n",
    "    fr = open(\"test.txt\", \"r\")\n",
    "    A = {}\n",
    "    C = []\n",
    "    lines = fr.readlines()\n",
    "    for i in range(len(lines)):\n",
    "        A[i] = (lines[i].split())\n",
    "    for value in A.values():\n",
    "        for i in range(len(value)):\n",
    "            value[i] = value[i].upper()\n",
    "        print(*value)"
   ]
  },
  {
   "cell_type": "code",
   "execution_count": null,
   "id": "090d2f09",
   "metadata": {},
   "outputs": [],
   "source": []
  }
 ],
 "metadata": {
  "kernelspec": {
   "display_name": "Python 3 (ipykernel)",
   "language": "python",
   "name": "python3"
  },
  "language_info": {
   "codemirror_mode": {
    "name": "ipython",
    "version": 3
   },
   "file_extension": ".py",
   "mimetype": "text/x-python",
   "name": "python",
   "nbconvert_exporter": "python",
   "pygments_lexer": "ipython3",
   "version": "3.9.13"
  },
  "toc": {
   "base_numbering": 1,
   "nav_menu": {},
   "number_sections": true,
   "sideBar": true,
   "skip_h1_title": false,
   "title_cell": "Table of Contents",
   "title_sidebar": "Contents",
   "toc_cell": false,
   "toc_position": {},
   "toc_section_display": true,
   "toc_window_display": false
  }
 },
 "nbformat": 4,
 "nbformat_minor": 5
}
