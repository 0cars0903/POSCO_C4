{
 "cells": [
  {
   "cell_type": "markdown",
   "metadata": {},
   "source": [
    "# 1. Keras tutorial\n",
    "\n",
    "- 1.1 Keras Basic(y=3x Regression) - ANN(단층 레이어)\n",
    "- 1.2 Keras MNIST - ANN(단층 레이어)\n",
    "- 1.3 Keras MNIST - DNN(다층 레이어)\n",
    "- 1.4 Keras MNIST - 나만의 모델 만들기"
   ]
  },
  {
   "cell_type": "code",
   "execution_count": 4,
   "metadata": {},
   "outputs": [],
   "source": [
    "# Import Libraries\n",
    "from tensorflow import keras\n",
    "import numpy as np\n",
    "import matplotlib.pyplot as plt\n",
    "%matplotlib inline"
   ]
  },
  {
   "cell_type": "markdown",
   "metadata": {},
   "source": [
    "## 1.1 Keras Basic Y = 3X ANN Regression\n",
    "- 이번 실습에서는 Keras를 이용하여 1차함수를 예측하는 학습 모델을 만들고, 성능을 평가한다."
   ]
  },
  {
   "cell_type": "markdown",
   "metadata": {},
   "source": [
    "### (1) 데이터셋 준비"
   ]
  },
  {
   "cell_type": "code",
   "execution_count": 6,
   "metadata": {},
   "outputs": [
    {
     "data": {
      "image/png": "[encoded data removed]",
      "text/plain": [
       "<Figure size 640x480 with 1 Axes>"
      ]
     },
     "metadata": {},
     "output_type": "display_data"
    }
   ],
   "source": [
    "# Training Data\n",
    "x = np.arange(20) # 0, 1, 2, 3, ...., 19\n",
    "y = x * 3 # 0, 3, 6, 9, ..., 57\n",
    "plt.plot(x,y)\n",
    "\n",
    "# Testing Data \n",
    "x_test = np.arange(50,70) # 50, 51, 52, ..., 69\n",
    "y_test = x_test*3 # 150, 153, 156, ..., 207\n",
    "\n",
    "# Dimension of input and output\n",
    "n_in = 1\n",
    "n_out = 1"
   ]
  },
  {
   "cell_type": "markdown",
   "metadata": {},
   "source": [
    "### (2) Keras 모델링\n",
    "\n",
    "- keras.layers : 모델을 구성하기 위한 layer들이 구현되어 있는 모듈\n",
    "\n",
    "- keras.models : layer들을 묶어 모델을 정의하고 학습, 평가, 예측 등의 기능을 구현한 모듈"
   ]
  },
  {
   "cell_type": "code",
   "execution_count": null,
   "metadata": {},
   "outputs": [],
   "source": [
    "from tensorflow.keras import layers, models"
   ]
  },
  {
   "cell_type": "markdown",
   "metadata": {},
   "source": [
    "Keras에서는 크게 Functional, Sequential 방식으로 모델을 구현\n",
    "\n",
    "- Sequential : 모델에 필요한 layer들을 순차적으로 더해가는 방식으로 구현\n",
    "- Function : 모델을 수식처럼 구현 "
   ]
  },
  {
   "cell_type": "markdown",
   "metadata": {},
   "source": [
    "<Sequential에 사용되는 Layer>\n",
    "\n",
    "- Dense : Fully Connected Layer (https://keras.io/layers/core/#dense)"
   ]
  },
  {
   "cell_type": "markdown",
   "metadata": {},
   "source": [
    "### Sequential Modeling"
   ]
  },
  {
   "cell_type": "code",
   "execution_count": null,
   "metadata": {},
   "outputs": [],
   "source": [
    "def modeling_sequential(n_in, n_out):\n",
    "    model = models.Sequential()\n",
    "    model.add(layers.Dense(units =n_out, input_shape=(n_in,)))\n",
    "    return model"
   ]
  },
  {
   "cell_type": "code",
   "execution_count": null,
   "metadata": {},
   "outputs": [],
   "source": [
    "class modeling_sequential_class(models.Sequential):\n",
    "    def __init__(self, n_in, n_out):\n",
    "        \n",
    "        #멤버 변수로 모델에 사용할 변수 선언\n",
    "        self.n_in = n_in\n",
    "        self.n_out = n_out\n",
    "        \n",
    "        #상속받은 Sequential 클래스 초기화 후 레이어 추가\n",
    "        super().__init__()\n",
    "        self.add(layers.Dense(units =n_out, input_shape=(n_in,)))"
   ]
  },
  {
   "cell_type": "markdown",
   "metadata": {},
   "source": [
    "<Functional에 사용되는 Layer>\n",
    "\n",
    "- Input : 모델에 입력되는 데이터의 batch size를 제외한 shape을 결정\n",
    "\n",
    "- Dense : Fully Connected Layer (https://keras.io/layers/core/#dense)"
   ]
  },
  {
   "cell_type": "markdown",
   "metadata": {},
   "source": [
    "### Functional Modeling"
   ]
  },
  {
   "cell_type": "code",
   "execution_count": null,
   "metadata": {},
   "outputs": [],
   "source": [
    "def modeling_functional(n_in, n_out):\n",
    "    input = layers.Input(shpe=(n_in,))\n",
    "    y = layers.Dense(n_out)(input)\n",
    "    model = models.Model(inputs = input, outputs = y)\n",
    "    return model"
   ]
  },
  {
   "cell_type": "code",
   "execution_count": null,
   "metadata": {},
   "outputs": [],
   "source": [
    "class modeling_functional_class(models.Model):\n",
    "    def __init__(self, n_in, n_out):\n",
    "        \n",
    "        #멤버 변수로 모델에 사용할 변수 및 레이어 선언\n",
    "        self.n_in = n_in\n",
    "        self.n_out = n_out\n",
    "        input = layers.Input(shape=(n_in,))\n",
    "        output = layers.Dense(n_out)\n",
    "        \n",
    "        # layer 연결\n",
    "        x = input\n",
    "        y = output(x)\n",
    "\n",
    "        #상속받은 Model 클래스 초기화\n",
    "        super().__init__(x, y)"
   ]
  },
  {
   "cell_type": "markdown",
   "metadata": {
    "tags": []
   },
   "source": [
    "### (2)-2 모델 시각화\n",
    "\n",
    "model.summary()나 plot_model(model) 활용"
   ]
  },
  {
   "cell_type": "code",
   "execution_count": null,
   "metadata": {},
   "outputs": [],
   "source": [
    "model =  modeling_sequential(n_in, n_out)\n",
    "model.summary()"
   ]
  },
  {
   "cell_type": "code",
   "execution_count": null,
   "metadata": {},
   "outputs": [],
   "source": [
    "model =  modeling_sequential_class(n_in, n_out)\n",
    "model.summary()"
   ]
  },
  {
   "cell_type": "code",
   "execution_count": null,
   "metadata": {},
   "outputs": [],
   "source": [
    "model =  modeling_functional(n_in, n_out)\n",
    "model.summary()"
   ]
  },
  {
   "cell_type": "code",
   "execution_count": null,
   "metadata": {},
   "outputs": [],
   "source": [
    "model = modeling_functional_class(n_in, n_out)\n",
    "model.summary()"
   ]
  },
  {
   "cell_type": "code",
   "execution_count": null,
   "metadata": {},
   "outputs": [],
   "source": [
    "from tensorflow.keras.utils import plot_model\n",
    "plot_model(model, show_shapes=True)"
   ]
  },
  {
   "cell_type": "markdown",
   "metadata": {},
   "source": [
    "### (3) 모델의 학습과정 설정(model.compile)\n",
    "- model.compile(loss, optimizer, metrics)\n",
    "- optimizer(str) : optimizer instance\n",
    "- loss(str) : loss function\n",
    "- metrics(str) : list of metrics to be evaluated by the model during training and testing\n",
    "(https://www.tensorflow.org/api_docs/python/tf/keras/Model)"
   ]
  },
  {
   "cell_type": "code",
   "execution_count": null,
   "metadata": {},
   "outputs": [],
   "source": [
    "# Coding Time\n",
    "model.compile(loss ='mse', optimizer='sgd')"
   ]
  },
  {
   "cell_type": "markdown",
   "metadata": {
    "tags": []
   },
   "source": [
    "### (4) 모델 학습시키기(model.fit)\n",
    "\n",
    " - x : Input data\n",
    " - y : Label of training input data\n",
    " - batch_szie(int) : Number of samples per gradient update\n",
    " - steps_per_epoch(int) : Total number of steps (batches of samples) before declaring one epoch finished and starting the next epoch\n",
    " - epochs(int) : Number of epochs to train the model\n",
    " - verbose : 0 = silent, 1 = progress bar, 2 = one line per epoch\n",
    " - callbacks : List of callback instances\n",
    " - validation_split(float) : Fraction of the training data to be used as validation data\n",
    " - validation_data : (x_val, y_val)\n",
    " - shuffle(bool) : Whether to shuffle the training data before each epoch\n",
    " - history : 학습과정이 담겨있는 데이터 송출\n",
    " (https://www.tensorflow.org/api_docs/python/tf/keras/Model)"
   ]
  },
  {
   "cell_type": "code",
   "execution_count": null,
   "metadata": {
    "scrolled": true,
    "tags": []
   },
   "outputs": [],
   "source": [
    "# Coding Time\n",
    "history = model.fit(x, y, batch_size = 5, epochs=100, validation_split = 0.2)"
   ]
  },
  {
   "cell_type": "markdown",
   "metadata": {
    "tags": []
   },
   "source": [
    "### (5) 모델 평가하기\n",
    "모델 객체의 evaluate 함수로 test 데이터에 대한 모델의 성능을 평가\n",
    " - x : Input data\n",
    " - y : Label of testing input data\n",
    " - batch_size(int) : Number of samples per batch of computation\n",
    " - steps(int) : Total number of steps (batches of samples) before declaring the evaluation round finished\n",
    " - verbose : 0 = silent, 1 = progress bar, 2 = one line per epoch"
   ]
  },
  {
   "cell_type": "code",
   "execution_count": null,
   "metadata": {
    "tags": []
   },
   "outputs": [],
   "source": [
    "# Coding Time\n",
    "loss = model.evaluate(x_test, y_test, batch_size=20)\n",
    "print('loss : %.4f' %(loss))"
   ]
  },
  {
   "cell_type": "markdown",
   "metadata": {},
   "source": [
    "## (6) 모델 사용하기\n",
    "모델 객체의 predict 함수로 input 데이터에 대한 모델의 예측결과를 반환\n",
    " - x : Input data\n",
    " - batch_size(int) : Number of samples per batch\n",
    " - steps(int) : Total number of steps (batches of samples) before declaring the prediction round finished\n",
    " - verbose : 0 = silent(recommend), 1 = progress bar, 2 = one line per epoch"
   ]
  },
  {
   "cell_type": "code",
   "execution_count": null,
   "metadata": {},
   "outputs": [],
   "source": [
    "new_x = np.arange(100,120)\n",
    "true_y = new_x*3\n",
    "\n",
    "pred_y = model.predict(new_x, batch_size=20, verbose = 0)\n",
    "pred_y = np.reshape(pred_y,(-1,))\n",
    "for y in zip(new_x, true_y, pred_y):\n",
    "    print(\"x: %.2f,  y : %.2f,  y_predict : %.2f\"%(y[0], y[1], y[2]))"
   ]
  },
  {
   "cell_type": "markdown",
   "metadata": {},
   "source": [
    "## 1.2 MNIST Classification with Linear Classifier\n",
    "이번 실습에서는 keras로 linear 모델을 생성하고, MNIST dataset을 학습하여 성능을 평가한다."
   ]
  },
  {
   "cell_type": "code",
   "execution_count": 7,
   "metadata": {},
   "outputs": [],
   "source": [
    "import tensorflow.keras.utils as utils\n",
    "from tensorflow.keras import datasets\n",
    "from tensorflow.keras.models import Sequential, Model\n",
    "from tensorflow.keras.layers import Input, Dense, Activation\n",
    "\n",
    "import numpy as np\n",
    "import matplotlib.pyplot as plt"
   ]
  },
  {
   "cell_type": "markdown",
   "metadata": {},
   "source": [
    "### (1) 데이터셋 다운로드\n",
    "### Download the MNIST dataset\n",
    "MNIST dataset은 28x28 사이즈의 이미지들로 0~9까지의 숫자 10개의 손글씨 이미지로 이루어져있다.\n",
    "\n",
    "60,000장이 training에 사용되고 10,000장이 test에 사용된다."
   ]
  },
  {
   "cell_type": "code",
   "execution_count": 8,
   "metadata": {},
   "outputs": [
    {
     "name": "stdout",
     "output_type": "stream",
     "text": [
      "(60000, 28, 28) (60000,)\n"
     ]
    }
   ],
   "source": [
    "# Coding Time\n",
    "(x_train, y_train),(x_test, y_test) = datasets.mnist.load_data()\n",
    "print(x_train.shape, y_train.shape)"
   ]
  },
  {
   "cell_type": "code",
   "execution_count": 9,
   "metadata": {},
   "outputs": [
    {
     "name": "stdout",
     "output_type": "stream",
     "text": [
      "label :  5\n"
     ]
    },
    {
     "data": {
      "text/plain": [
       "<matplotlib.image.AxesImage at 0x7f469bc01a30>"
      ]
     },
     "execution_count": 9,
     "metadata": {},
     "output_type": "execute_result"
    },
    {
     "data": {
      "image/png": "[encoded data removed]",
      "text/plain": [
       "<Figure size 640x480 with 1 Axes>"
      ]
     },
     "metadata": {},
     "output_type": "display_data"
    }
   ],
   "source": [
    "print('label : ',y_train[0])\n",
    "plt.imshow(x_train[0], cmap='gray')"
   ]
  },
  {
   "cell_type": "code",
   "execution_count": 10,
   "metadata": {},
   "outputs": [
    {
     "name": "stdout",
     "output_type": "stream",
     "text": [
      "[[0. 0. 0. ... 0. 0. 0.]\n",
      " [1. 0. 0. ... 0. 0. 0.]\n",
      " [0. 0. 0. ... 0. 0. 0.]\n",
      " ...\n",
      " [0. 0. 0. ... 0. 0. 0.]\n",
      " [0. 0. 0. ... 0. 0. 0.]\n",
      " [0. 0. 0. ... 0. 1. 0.]]\n",
      "(60000, 784) (60000, 10)\n"
     ]
    }
   ],
   "source": [
    "# Coding Time\n",
    "# Flatten and Normalization\n",
    "x_train_flat = x_train.reshape(60000, 28*28).astype('float32')/255.0\n",
    "x_test_flat = x_test.reshape(10000, 28*28).astype('float32')/255.0\n",
    "\n",
    "# One-hot Encoding(label)\n",
    "y_train_onehot = utils.to_categorical(y_train)\n",
    "y_test_onehot = utils.to_categorical(y_test)\n",
    "\n",
    "print(y_train_onehot)\n",
    "print(x_train_flat.shape, y_train_onehot.shape)"
   ]
  },
  {
   "cell_type": "markdown",
   "metadata": {},
   "source": [
    "### (2) Keras 모델링"
   ]
  },
  {
   "cell_type": "markdown",
   "metadata": {},
   "source": [
    "<사용되는 Layer>\n",
    "\n",
    "- Input : 모델에 입력되는 데이터의 batch size를 제외한 shape을 결정(https://keras.io/layers/core/#input)\n",
    "\n",
    "- Dense : Fully Connected Layer(https://keras.io/layers/core/#dense)\n",
    "\n",
    "- Activation : Activation Function을 정의, 문자열로 입력(https://keras.io/layers/core/#activation)"
   ]
  },
  {
   "cell_type": "code",
   "execution_count": null,
   "metadata": {},
   "outputs": [],
   "source": [
    "n_in = 28*28   #784\n",
    "n_out = np.shape(y_test_onehot)[1] # 10"
   ]
  },
  {
   "cell_type": "markdown",
   "metadata": {},
   "source": [
    "### Sequential Modeling"
   ]
  },
  {
   "cell_type": "code",
   "execution_count": null,
   "metadata": {},
   "outputs": [],
   "source": [
    "def linear_model_seq(n_in, n_out):\n",
    "    # Coding Time\n",
    "    model = Sequential()\n",
    "    model.add(Dense(units = n_out, input_shape=(n_in,), activation='softmax'))\n",
    "    return model"
   ]
  },
  {
   "cell_type": "markdown",
   "metadata": {},
   "source": [
    "### Functional Modeling"
   ]
  },
  {
   "cell_type": "code",
   "execution_count": null,
   "metadata": {},
   "outputs": [],
   "source": [
    "def linear_model_func(n_in, n_out):\n",
    "    # Coding Time\n",
    "    input = Input(shape=(n_in,))\n",
    "    h = layers.Dense(n_out)(input)\n",
    "    y = Activation('softmax')(h)\n",
    "    model = models.Model(inputs = input, outputs = y)\n",
    "    return model"
   ]
  },
  {
   "cell_type": "code",
   "execution_count": null,
   "metadata": {},
   "outputs": [],
   "source": [
    "model = linear_model_func(n_in, n_out)\n",
    "model.summary()"
   ]
  },
  {
   "cell_type": "code",
   "execution_count": null,
   "metadata": {},
   "outputs": [],
   "source": [
    "plot_model(model, show_shapes=True)"
   ]
  },
  {
   "cell_type": "markdown",
   "metadata": {},
   "source": [
    "## (3) 모델의 학습과정 설정\n",
    "accuracy를 측정할 수 있는 문제라면 metric에 accuracy를 설정 (https://keras.io/models/model/)"
   ]
  },
  {
   "cell_type": "code",
   "execution_count": null,
   "metadata": {},
   "outputs": [],
   "source": [
    "# Coding Time\n",
    "model.compile(loss='categorical_crossentropy', optimizer='sgd', metrics=['accuracy'])"
   ]
  },
  {
   "cell_type": "markdown",
   "metadata": {},
   "source": [
    "## (4) 모델 학습시키기"
   ]
  },
  {
   "cell_type": "code",
   "execution_count": null,
   "metadata": {
    "scrolled": true
   },
   "outputs": [],
   "source": [
    "# Coding Time\n",
    "history = model.fit(x_test_flat, y_test_onehot, validation_split=0.2, batch_size = 128, epochs=20)"
   ]
  },
  {
   "cell_type": "markdown",
   "metadata": {},
   "source": [
    "## (5) 모델 평가하기"
   ]
  },
  {
   "cell_type": "code",
   "execution_count": null,
   "metadata": {},
   "outputs": [],
   "source": [
    "# Coding Time\n",
    "loss_and_accuracy = model.evaluate(x_test_flat, y_test_onehot, batch_size = 128)\n",
    "print('loss : %.4f, accuracy : %.4f' %(loss_and_accuracy[0], loss_and_accuracy[1]))"
   ]
  },
  {
   "cell_type": "markdown",
   "metadata": {},
   "source": [
    "## (6) 모델 사용하기"
   ]
  },
  {
   "cell_type": "code",
   "execution_count": null,
   "metadata": {},
   "outputs": [],
   "source": [
    "# Coding Time\n",
    "test_data = x_test[-1].reshape(1,28*28)\n",
    "pred_y = model.predict(test_data)\n",
    "pred_y = pred_y.argmax()\n",
    "\n",
    "print('real_label : {}, predict_label : {}'.format(y_test[-1], pred_y))\n",
    "plt.imshow(x_test[-1], cmap='gray')"
   ]
  },
  {
   "cell_type": "markdown",
   "metadata": {},
   "source": [
    "# 1.3 MNIST Classification with DNN (To Do)\n",
    "\n",
    "모델의 설명을 보고 DNN 코드를 만들어보자"
   ]
  },
  {
   "cell_type": "markdown",
   "metadata": {},
   "source": [
    "## (2) Keras 모델링"
   ]
  },
  {
   "attachments": {
    "image.png": {
     "image/png": "[encoded data removed]"
    }
   },
   "cell_type": "markdown",
   "metadata": {},
   "source": [
    "![image.png](attachment:image.png)\n",
    "\n",
    "<맨 마지막 activation은 softmax로 하고 이외의 activation은 relu를 사용>"
   ]
  },
  {
   "cell_type": "code",
   "execution_count": null,
   "metadata": {},
   "outputs": [],
   "source": [
    "def DNN_seq(n_in, n_out):\n",
    "    model = Sequential()\n",
    "    model.add(Dense(units = 256, input_shape=(n_in,), activation='relu'))\n",
    "    model.add(Dense(units = 128, input_shape=(256,), activation='relu'))\n",
    "    model.add(Dense(units = 64, input_shape=(128,), activation='relu'))\n",
    "    model.add(Dense(units = 32, input_shape=(64,), activation='relu'))\n",
    "    model.add(Dense(units = n_out, input_shape=(32,), activation='softmax'))\n",
    "    return model\n",
    "\n",
    "def DNN_func(n_in, n_out):\n",
    "    input = Input(shape=(n_in,))\n",
    "    x = Dense(256)(input)\n",
    "    x = Activation('relu')(x)\n",
    "    x = Dense(128)(input)\n",
    "    x = Activation('relu')(x)\n",
    "    x = Dense(64)(input)\n",
    "    x = Activation('relu')(x)\n",
    "    x = Dense(32)(input)\n",
    "    x = Activation('relu')(x)\n",
    "    x = Dense(n_out)(input)\n",
    "    y = Activation('softmax')(x)\n",
    "    model = model(inputs = input, outputs = y)\n",
    "    return model\n",
    "\n",
    "model = DNN_seq(n_in, n_out)\n",
    "model.summary()"
   ]
  },
  {
   "cell_type": "markdown",
   "metadata": {},
   "source": [
    "## (3) 모델의 학습과정 설정\n",
    "<optimizer를 adam으로 설정>"
   ]
  },
  {
   "cell_type": "code",
   "execution_count": null,
   "metadata": {},
   "outputs": [],
   "source": [
    "model.compile(loss='categorical_crossentropy', optimizer='adam', metrics=['accuracy'])"
   ]
  },
  {
   "cell_type": "markdown",
   "metadata": {},
   "source": [
    "## (4) 모델 학습시키기\n",
    "<batch size를 256, epoch을 30, train 데이터 중 30%를 validation 데이터로 사용, verbose 모드는 2>"
   ]
  },
  {
   "cell_type": "code",
   "execution_count": null,
   "metadata": {},
   "outputs": [],
   "source": [
    "history = model.fit(x_test_flat, y_test_onehot, validation_split=0.3, batch_size = 256, epochs=30, verbose=2)"
   ]
  },
  {
   "cell_type": "markdown",
   "metadata": {},
   "source": [
    "## (5) 모델 평가하기"
   ]
  },
  {
   "cell_type": "code",
   "execution_count": null,
   "metadata": {},
   "outputs": [],
   "source": [
    "loss_and_accuracy = model.evaluate(x_test_flat, y_test_onehot, batch_size = 256)\n",
    "print('loss : %.4f, accuracy : %.4f' %(loss_and_accuracy[0], loss_and_accuracy[1]))"
   ]
  },
  {
   "cell_type": "markdown",
   "metadata": {},
   "source": [
    "## (6) 모델 사용하기"
   ]
  },
  {
   "cell_type": "code",
   "execution_count": null,
   "metadata": {
    "tags": []
   },
   "outputs": [],
   "source": [
    "# Coding Time\n",
    "test_data = x_test[-1].reshape(1,28*28)\n",
    "pred_y = model.predict(test_data)\n",
    "pred_y = pred_y.argmax()\n",
    "\n",
    "print('real_label : {}, predict_label : {}'.format(y_test[-1], pred_y))\n",
    "plt.imshow(x_test[-1], cmap='gray')"
   ]
  },
  {
   "cell_type": "markdown",
   "metadata": {},
   "source": [
    "## (7) 모델 저장하고 불러오기\n",
    "\n",
    "저장하기 : model 객체의 내부 함수인 save() .h5 형식으로 저장할 수 있음 [1.모델의 구조, 2.학습된 파라미터, 3.complie() 설정]"
   ]
  },
  {
   "cell_type": "code",
   "execution_count": null,
   "metadata": {},
   "outputs": [],
   "source": [
    "# Coding Time\n",
    "model.save('lastest_model.h5')"
   ]
  },
  {
   "cell_type": "markdown",
   "metadata": {},
   "source": [
    "불러오기 : load_model 함수로 .h5 파일에서 모델을 불러올 수 있음"
   ]
  },
  {
   "cell_type": "code",
   "execution_count": null,
   "metadata": {},
   "outputs": [],
   "source": [
    "# Coding Time\n",
    "from tensorflow.keras.models import load_model\n",
    "model = load_model('lastest_model.h5')\n",
    "model.fit(x_train_flat, y_train_onehot, batch_size=256, epochs=3, validation_split=0.3)"
   ]
  },
  {
   "cell_type": "markdown",
   "metadata": {},
   "source": [
    "# ======================================================"
   ]
  },
  {
   "cell_type": "markdown",
   "metadata": {},
   "source": [
    "# 1.4 Keras MNIST - 모델의 성능을 직접 높혀보자\n",
    " - DNN의 구조를 바꾸어 나만의 모델을 만들어보자\n",
    " - 목표 정확도: 평가 셋에 대해 98.5% 만들기\n",
    " - 바꿀 수 있는 하이퍼 파라미터: Learning Rate, Batch size, Epochs, Optimizer, Activation Function, 모델 레이어 구조 등"
   ]
  },
  {
   "cell_type": "markdown",
   "metadata": {},
   "source": [
    "## (2) Keras 모델링"
   ]
  },
  {
   "cell_type": "code",
   "execution_count": 25,
   "metadata": {
    "tags": []
   },
   "outputs": [
    {
     "name": "stdout",
     "output_type": "stream",
     "text": [
      "Model: \"sequential_1\"\n",
      "_________________________________________________________________\n",
      "Layer (type)                 Output Shape              Param #   \n",
      "=================================================================\n",
      "dense_6 (Dense)              (None, 256)               200960    \n",
      "_________________________________________________________________\n",
      "dense_7 (Dense)              (None, 128)               32896     \n",
      "_________________________________________________________________\n",
      "dense_8 (Dense)              (None, 64)                8256      \n",
      "_________________________________________________________________\n",
      "dense_9 (Dense)              (None, 32)                2080      \n",
      "_________________________________________________________________\n",
      "dense_10 (Dense)             (None, 16)                528       \n",
      "_________________________________________________________________\n",
      "dense_11 (Dense)             (None, 10)                170       \n",
      "=================================================================\n",
      "Total params: 244,890\n",
      "Trainable params: 244,890\n",
      "Non-trainable params: 0\n",
      "_________________________________________________________________\n"
     ]
    }
   ],
   "source": [
    "n_in = 28*28\n",
    "n_out = np.shape(y_test_onehot)[1] # 10\n",
    "def DNN_seq(n_in, n_out):\n",
    "    model = Sequential()\n",
    "    model.add(Dense(units = 256, input_shape=(n_in,), activation='relu'))\n",
    "    model.add(Dense(units = 128, input_shape=(256,), activation='relu'))\n",
    "    model.add(Dense(units = 64, input_shape=(128,), activation='relu'))\n",
    "    model.add(Dense(units = 32, input_shape=(64,), activation='relu'))\n",
    "    model.add(Dense(units = 16, input_shape=(32,), activation='relu'))\n",
    "    model.add(Dense(units = n_out, input_shape=(16,), activation='softmax'))\n",
    "    return model\n",
    "\n",
    "model = DNN_seq(n_in, n_out)\n",
    "model.summary()"
   ]
  },
  {
   "cell_type": "markdown",
   "metadata": {},
   "source": [
    "## (3) 모델의 학습과정 설정"
   ]
  },
  {
   "cell_type": "code",
   "execution_count": 18,
   "metadata": {},
   "outputs": [],
   "source": [
    "import tensorflow as tf\n",
    "adam_tuning = tf.keras.optimizers.Adam(\n",
    "    learning_rate=1e-6,\n",
    "    beta_1=0.9,\n",
    "    beta_2=0.999,\n",
    "    epsilon=1e-07,\n",
    "    amsgrad=False,\n",
    "    name=\"Adam\",)"
   ]
  },
  {
   "cell_type": "code",
   "execution_count": 26,
   "metadata": {},
   "outputs": [],
   "source": [
    "model.compile(loss='categorical_crossentropy', optimizer=adam_tuning, metrics=['accuracy'])"
   ]
  },
  {
   "cell_type": "markdown",
   "metadata": {
    "tags": []
   },
   "source": [
    "## (4) 모델 학습시키기"
   ]
  },
  {
   "cell_type": "code",
   "execution_count": 29,
   "metadata": {},
   "outputs": [
    {
     "name": "stdout",
     "output_type": "stream",
     "text": [
      "Epoch 1/60\n",
      "141/141 - 1s - loss: 1.0310e-05 - accuracy: 1.0000 - val_loss: 0.1845 - val_accuracy: 0.9758\n",
      "Epoch 2/60\n",
      "141/141 - 1s - loss: 9.5641e-06 - accuracy: 1.0000 - val_loss: 0.1853 - val_accuracy: 0.9757\n",
      "Epoch 3/60\n",
      "141/141 - 1s - loss: 8.9248e-06 - accuracy: 1.0000 - val_loss: 0.1868 - val_accuracy: 0.9757\n",
      "Epoch 4/60\n",
      "141/141 - 1s - loss: 8.2671e-06 - accuracy: 1.0000 - val_loss: 0.1877 - val_accuracy: 0.9758\n",
      "Epoch 5/60\n",
      "141/141 - 1s - loss: 7.6439e-06 - accuracy: 1.0000 - val_loss: 0.1891 - val_accuracy: 0.9756\n",
      "Epoch 6/60\n",
      "141/141 - 1s - loss: 7.0646e-06 - accuracy: 1.0000 - val_loss: 0.1901 - val_accuracy: 0.9756\n",
      "Epoch 7/60\n",
      "141/141 - 1s - loss: 6.5328e-06 - accuracy: 1.0000 - val_loss: 0.1917 - val_accuracy: 0.9756\n",
      "Epoch 8/60\n",
      "141/141 - 1s - loss: 6.0330e-06 - accuracy: 1.0000 - val_loss: 0.1925 - val_accuracy: 0.9757\n",
      "Epoch 9/60\n",
      "141/141 - 1s - loss: 5.6112e-06 - accuracy: 1.0000 - val_loss: 0.1939 - val_accuracy: 0.9758\n",
      "Epoch 10/60\n",
      "141/141 - 1s - loss: 5.1706e-06 - accuracy: 1.0000 - val_loss: 0.1949 - val_accuracy: 0.9758\n",
      "Epoch 11/60\n",
      "141/141 - 1s - loss: 4.7877e-06 - accuracy: 1.0000 - val_loss: 0.1961 - val_accuracy: 0.9757\n",
      "Epoch 12/60\n",
      "141/141 - 1s - loss: 4.4093e-06 - accuracy: 1.0000 - val_loss: 0.1978 - val_accuracy: 0.9758\n",
      "Epoch 13/60\n",
      "141/141 - 1s - loss: 4.0550e-06 - accuracy: 1.0000 - val_loss: 0.1992 - val_accuracy: 0.9759\n",
      "Epoch 14/60\n",
      "141/141 - 1s - loss: 3.7368e-06 - accuracy: 1.0000 - val_loss: 0.2003 - val_accuracy: 0.9759\n",
      "Epoch 15/60\n",
      "141/141 - 1s - loss: 3.4387e-06 - accuracy: 1.0000 - val_loss: 0.2018 - val_accuracy: 0.9758\n",
      "Epoch 16/60\n",
      "141/141 - 1s - loss: 3.1702e-06 - accuracy: 1.0000 - val_loss: 0.2027 - val_accuracy: 0.9758\n",
      "Epoch 17/60\n",
      "141/141 - 1s - loss: 2.9388e-06 - accuracy: 1.0000 - val_loss: 0.2039 - val_accuracy: 0.9761\n",
      "Epoch 18/60\n",
      "141/141 - 1s - loss: 2.7004e-06 - accuracy: 1.0000 - val_loss: 0.2046 - val_accuracy: 0.9760\n",
      "Epoch 19/60\n",
      "141/141 - 1s - loss: 2.5020e-06 - accuracy: 1.0000 - val_loss: 0.2066 - val_accuracy: 0.9760\n",
      "Epoch 20/60\n",
      "141/141 - 1s - loss: 2.3314e-06 - accuracy: 1.0000 - val_loss: 0.2074 - val_accuracy: 0.9760\n",
      "Epoch 21/60\n",
      "141/141 - 1s - loss: 2.1355e-06 - accuracy: 1.0000 - val_loss: 0.2086 - val_accuracy: 0.9760\n",
      "Epoch 22/60\n",
      "141/141 - 1s - loss: 1.9766e-06 - accuracy: 1.0000 - val_loss: 0.2103 - val_accuracy: 0.9759\n",
      "Epoch 23/60\n",
      "141/141 - 1s - loss: 1.8294e-06 - accuracy: 1.0000 - val_loss: 0.2113 - val_accuracy: 0.9758\n",
      "Epoch 24/60\n",
      "141/141 - 1s - loss: 1.6968e-06 - accuracy: 1.0000 - val_loss: 0.2126 - val_accuracy: 0.9756\n",
      "Epoch 25/60\n",
      "141/141 - 1s - loss: 1.5640e-06 - accuracy: 1.0000 - val_loss: 0.2144 - val_accuracy: 0.9756\n",
      "Epoch 26/60\n",
      "141/141 - 1s - loss: 1.4473e-06 - accuracy: 1.0000 - val_loss: 0.2150 - val_accuracy: 0.9756\n",
      "Epoch 27/60\n",
      "141/141 - 1s - loss: 1.3432e-06 - accuracy: 1.0000 - val_loss: 0.2169 - val_accuracy: 0.9755\n",
      "Epoch 28/60\n",
      "141/141 - 1s - loss: 1.2447e-06 - accuracy: 1.0000 - val_loss: 0.2178 - val_accuracy: 0.9756\n",
      "Epoch 29/60\n",
      "141/141 - 1s - loss: 1.1481e-06 - accuracy: 1.0000 - val_loss: 0.2190 - val_accuracy: 0.9757\n",
      "Epoch 30/60\n",
      "141/141 - 1s - loss: 1.0647e-06 - accuracy: 1.0000 - val_loss: 0.2202 - val_accuracy: 0.9759\n",
      "Epoch 31/60\n",
      "141/141 - 1s - loss: 9.8911e-07 - accuracy: 1.0000 - val_loss: 0.2213 - val_accuracy: 0.9758\n",
      "Epoch 32/60\n",
      "141/141 - 1s - loss: 9.1601e-07 - accuracy: 1.0000 - val_loss: 0.2227 - val_accuracy: 0.9755\n",
      "Epoch 33/60\n",
      "141/141 - 1s - loss: 8.4548e-07 - accuracy: 1.0000 - val_loss: 0.2236 - val_accuracy: 0.9757\n",
      "Epoch 34/60\n",
      "141/141 - 1s - loss: 7.8474e-07 - accuracy: 1.0000 - val_loss: 0.2256 - val_accuracy: 0.9756\n",
      "Epoch 35/60\n",
      "141/141 - 1s - loss: 7.2850e-07 - accuracy: 1.0000 - val_loss: 0.2259 - val_accuracy: 0.9758\n",
      "Epoch 36/60\n",
      "141/141 - 1s - loss: 6.7355e-07 - accuracy: 1.0000 - val_loss: 0.2274 - val_accuracy: 0.9759\n",
      "Epoch 37/60\n",
      "141/141 - 1s - loss: 6.2249e-07 - accuracy: 1.0000 - val_loss: 0.2291 - val_accuracy: 0.9755\n",
      "Epoch 38/60\n",
      "141/141 - 1s - loss: 5.7715e-07 - accuracy: 1.0000 - val_loss: 0.2306 - val_accuracy: 0.9757\n",
      "Epoch 39/60\n",
      "141/141 - 1s - loss: 5.3795e-07 - accuracy: 1.0000 - val_loss: 0.2315 - val_accuracy: 0.9757\n",
      "Epoch 40/60\n",
      "141/141 - 1s - loss: 4.9794e-07 - accuracy: 1.0000 - val_loss: 0.2329 - val_accuracy: 0.9756\n",
      "Epoch 41/60\n",
      "141/141 - 1s - loss: 4.5981e-07 - accuracy: 1.0000 - val_loss: 0.2333 - val_accuracy: 0.9759\n",
      "Epoch 42/60\n",
      "141/141 - 1s - loss: 4.2699e-07 - accuracy: 1.0000 - val_loss: 0.2352 - val_accuracy: 0.9755\n",
      "Epoch 43/60\n",
      "141/141 - 1s - loss: 3.9442e-07 - accuracy: 1.0000 - val_loss: 0.2365 - val_accuracy: 0.9757\n",
      "Epoch 44/60\n",
      "141/141 - 1s - loss: 3.6503e-07 - accuracy: 1.0000 - val_loss: 0.2378 - val_accuracy: 0.9756\n",
      "Epoch 45/60\n",
      "141/141 - 1s - loss: 3.3986e-07 - accuracy: 1.0000 - val_loss: 0.2386 - val_accuracy: 0.9756\n",
      "Epoch 46/60\n",
      "141/141 - 1s - loss: 3.1405e-07 - accuracy: 1.0000 - val_loss: 0.2397 - val_accuracy: 0.9757\n",
      "Epoch 47/60\n",
      "141/141 - 1s - loss: 2.9295e-07 - accuracy: 1.0000 - val_loss: 0.2413 - val_accuracy: 0.9756\n",
      "Epoch 48/60\n",
      "141/141 - 1s - loss: 2.6935e-07 - accuracy: 1.0000 - val_loss: 0.2427 - val_accuracy: 0.9758\n",
      "Epoch 49/60\n",
      "141/141 - 1s - loss: 2.4942e-07 - accuracy: 1.0000 - val_loss: 0.2440 - val_accuracy: 0.9755\n",
      "Epoch 50/60\n",
      "141/141 - 1s - loss: 2.3016e-07 - accuracy: 1.0000 - val_loss: 0.2446 - val_accuracy: 0.9757\n",
      "Epoch 51/60\n",
      "141/141 - 1s - loss: 2.1315e-07 - accuracy: 1.0000 - val_loss: 0.2468 - val_accuracy: 0.9756\n",
      "Epoch 52/60\n",
      "141/141 - 1s - loss: 1.9643e-07 - accuracy: 1.0000 - val_loss: 0.2479 - val_accuracy: 0.9758\n",
      "Epoch 53/60\n",
      "141/141 - 1s - loss: 1.8457e-07 - accuracy: 1.0000 - val_loss: 0.2486 - val_accuracy: 0.9755\n",
      "Epoch 54/60\n",
      "141/141 - 1s - loss: 1.6937e-07 - accuracy: 1.0000 - val_loss: 0.2505 - val_accuracy: 0.9753\n",
      "Epoch 55/60\n",
      "141/141 - 1s - loss: 1.5769e-07 - accuracy: 1.0000 - val_loss: 0.2521 - val_accuracy: 0.9753\n",
      "Epoch 56/60\n",
      "141/141 - 1s - loss: 1.4513e-07 - accuracy: 1.0000 - val_loss: 0.2524 - val_accuracy: 0.9756\n",
      "Epoch 57/60\n",
      "141/141 - 1s - loss: 1.3594e-07 - accuracy: 1.0000 - val_loss: 0.2537 - val_accuracy: 0.9757\n",
      "Epoch 58/60\n",
      "141/141 - 1s - loss: 1.2464e-07 - accuracy: 1.0000 - val_loss: 0.2549 - val_accuracy: 0.9756\n",
      "Epoch 59/60\n",
      "141/141 - 1s - loss: 1.1610e-07 - accuracy: 1.0000 - val_loss: 0.2556 - val_accuracy: 0.9758\n",
      "Epoch 60/60\n",
      "141/141 - 1s - loss: 1.0752e-07 - accuracy: 1.0000 - val_loss: 0.2567 - val_accuracy: 0.9756\n"
     ]
    }
   ],
   "source": [
    "history = model.fit(x_train_flat, y_train_onehot, validation_split=0.4, batch_size = 256, epochs=60, verbose=2)"
   ]
  },
  {
   "cell_type": "markdown",
   "metadata": {},
   "source": [
    "## (5) 모델 평가하기"
   ]
  },
  {
   "cell_type": "code",
   "execution_count": 30,
   "metadata": {},
   "outputs": [
    {
     "name": "stdout",
     "output_type": "stream",
     "text": [
      "40/40 [==============================] - 0s 3ms/step - loss: 0.1906 - accuracy: 0.9791\n",
      "loss : 0.1906, accuracy : 0.9791\n"
     ]
    }
   ],
   "source": [
    "loss_and_accuracy = model.evaluate(x_test_flat, y_test_onehot, batch_size = 256)\n",
    "print('loss : %.4f, accuracy : %.4f' %(loss_and_accuracy[0], loss_and_accuracy[1]))"
   ]
  },
  {
   "cell_type": "code",
   "execution_count": null,
   "metadata": {},
   "outputs": [],
   "source": [
    "# Coding Time\n",
    "test_data = x_test[1].reshape(1,28*28)\n",
    "pred_y = model.predict(test_data)\n",
    "pred_y = pred_y.argmax()\n",
    "\n",
    "print('real_label : {}, predict_label : {}'.format(y_test[-1], pred_y))\n",
    "plt.imshow(x_test[-1], cmap='gray')"
   ]
  },
  {
   "cell_type": "code",
   "execution_count": null,
   "metadata": {},
   "outputs": [],
   "source": []
  }
 ],
 "metadata": {
  "kernelspec": {
   "display_name": "mldl",
   "language": "python",
   "name": "mldl"
  },
  "language_info": {
   "codemirror_mode": {
    "name": "ipython",
    "version": 3
   },
   "file_extension": ".py",
   "mimetype": "text/x-python",
   "name": "python",
   "nbconvert_exporter": "python",
   "pygments_lexer": "ipython3",
   "version": "3.8.15"
  },
  "toc": {
   "base_numbering": 1,
   "nav_menu": {},
   "number_sections": true,
   "sideBar": true,
   "skip_h1_title": false,
   "title_cell": "Table of Contents",
   "title_sidebar": "Contents",
   "toc_cell": false,
   "toc_position": {},
   "toc_section_display": true,
   "toc_window_display": false
  }
 },
 "nbformat": 4,
 "nbformat_minor": 4
}
